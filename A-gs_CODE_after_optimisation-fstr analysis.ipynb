{
 "cells": [
  {
   "cell_type": "markdown",
   "id": "a2978442-0a0a-42b2-ac0f-8e6b685580d8",
   "metadata": {},
   "source": [
    "# A-gs model and implementation (simulation CO2 and H2O flux)"
   ]
  },
  {
   "cell_type": "markdown",
   "id": "c5053646-e207-4e8c-a62e-2a7f70ad0887",
   "metadata": {},
   "source": [
    "## Initialize data and model"
   ]
  },
  {
   "cell_type": "markdown",
   "id": "467470b3-2427-4ada-b14f-9ff26922d8ec",
   "metadata": {},
   "source": [
    "### Setup and fetch data"
   ]
  },
  {
   "cell_type": "code",
   "execution_count": null,
   "id": "515abf18",
   "metadata": {},
   "outputs": [],
   "source": [
    "# Settings\n",
    "Username   = 'Beheerder'\n",
    "years      = range(2008,2019)    #(1997,2021) # Set years to download"
   ]
  },
  {
   "cell_type": "code",
   "execution_count": null,
   "id": "fdb7f756",
   "metadata": {},
   "outputs": [],
   "source": [
    "import os\n",
    "datapath = os.path.join('../')\n",
    "#print('datapath is set to %s'%datapath)\n",
    "\n",
    "# !pip install numpy\n",
    "# !pip install pandas\n",
    "# !pip install matplotlib\n",
    "# !pip install plotly \n",
    "# !pip install cufflinks\n",
    "#!pip install colorspacious\n",
    "#!pip install seaborn\n",
    "\n",
    "import numpy as np\n",
    "import pandas as pd\n",
    "import matplotlib.pyplot as plt\n",
    "#import plotly.express as px\n",
    "#import cufflinks as cf\n",
    "import matplotlib.dates as mdate\n",
    "import matplotlib.ticker as ticker\n",
    "from matplotlib import cm\n",
    "#from colorspacious import cspace_converter\n",
    "import scipy.stats as stats\n",
    "#cf.go_offline()\n",
    "#cf.set_config_file(offline=False, world_readable=True)\n",
    "\n",
    "from datetime import datetime, timedelta\n",
    "import sys\n",
    "sys.path.insert(0, os.path.join(datapath,'PythonScripts'))\n",
    "from Loobos_Toolbox import dateparse, dateparse_Gapfilled, Read_LoobosEddFinal, Read_LooStor, Read_LoodatGapfill, Read_Loobos_halfhourly, Read_Loobos_meteo, Read_Loobos_soil, Read_Loobos_profile\n",
    "from Ags_model import runAgs, calc_LE"
   ]
  },
  {
   "cell_type": "code",
   "execution_count": null,
   "id": "244e6ea2",
   "metadata": {},
   "outputs": [],
   "source": [
    "#these next two lines are to prevent re-loading the data. If you want to re-load data, instead comment them out\n",
    "if not 'progress' in globals(): progress = list()\n",
    "if not 'dataloaded' in progress:\n",
    "  # Read files\n",
    "    df_EC           = Read_LoobosEddFinal    (years,datapath)\n",
    "    df_Stor         = Read_LooStor           (years,datapath)\n",
    "    df_Comb         = Read_LoodatGapfill     (years,datapath)\n",
    "    df_NEE          = Read_Loobos_halfhourly (years,datapath)\n",
    "    df_meteo        = Read_Loobos_meteo      (years,datapath)\n",
    "    df_soil         = Read_Loobos_soil       (years,datapath) \n",
    "    df_profile      = Read_Loobos_profile    (years,datapath)\n",
    "    progress.append('dataloaded')"
   ]
  },
  {
   "cell_type": "code",
   "execution_count": null,
   "id": "3e66087c",
   "metadata": {},
   "outputs": [],
   "source": [
    "# Make filter for GPP orginial data and not gapfilled\n",
    "#General filters\n",
    "I = ((df_Comb['GPP_fqc']==0)&(df_meteo['PAR']>0))\n",
    "#t = df_profile.index                                          \n",
    "#time = (t < np.datetime64('2013-05-08')) | (t > np.datetime64('2013-06-01'))\n",
    "\n",
    "# Filter for CO2 data\n",
    "CO2 = (df_profile['CO2level1'] > 300)\n",
    "\n",
    "# Filter for L(o)corr data\n",
    "Locorr= (df_meteo['L(o)corr']>0) \n",
    "\n",
    "# Filter for VPD data\n",
    "VPD = (df_Comb['VPD']>=0)\n",
    "\n",
    "# Filter for U-star\n",
    "Ustar = (df_EC['U-star']>=0)\n",
    "\n",
    "# Combine all filters\n",
    "filter = I & CO2 & Locorr & VPD & Ustar\n",
    "\n",
    "#Column 'CO2' is input from df_profile\n",
    "#df_profile_CO2 = df_profile[CO2]\n",
    "#df_profile_filter = df_profile_CO2[I]\n",
    "df_profile_filter = df_profile[filter]\n",
    "\n",
    "#Column 'L(o)corr' and 'PAR' are inputs from df_meteo\n",
    "#df_meteo_CO2 = df_meteo[CO2]\n",
    "#df_meteo_filter = df_meteo_CO2[I]\n",
    "df_meteo_filter = df_meteo[filter]\n",
    "\n",
    "#Columns 'VPD' and 'Tair' are inputs from df_Comb\n",
    "#df_Comb_CO2 = df_Comb[CO2]\n",
    "#df_Comb_filter = df_Comb_CO2[I]\n",
    "df_Comb_filter = df_Comb[filter]\n",
    "\n",
    "# Columns 'Mea_Windsp' and 'U-star' are inputs from df_EC\n",
    "#df_EC_CO2 = df_EC[CO2]\n",
    "#df_EC_filter = df_EC_CO2[I]\n",
    "df_EC_filter = df_EC[filter]"
   ]
  },
  {
   "cell_type": "markdown",
   "id": "c1996767-09d3-441d-b711-cea73a750854",
   "metadata": {},
   "source": [
    "### Run A-gs model"
   ]
  },
  {
   "cell_type": "code",
   "execution_count": null,
   "id": "801ede28",
   "metadata": {},
   "outputs": [],
   "source": [
    "# Run A-gs model\n",
    "\n",
    "an_final,an_umol,rs, ra = runAgs(df_profile_filter,df_Comb_filter,df_meteo_filter,df_EC_filter,fstr=0.8)"
   ]
  },
  {
   "cell_type": "code",
   "execution_count": null,
   "id": "b88471dd-4b77-4e9c-bf7e-106c559ed508",
   "metadata": {},
   "outputs": [],
   "source": [
    "GPP_sim=an_umol.resample(\"M\").mean()\n",
    "GPP_sim.plot(label=\"fstr=0.8\",legend='yes',title=\"Monthly average GPP model output\",ylabel=\"umolm-2s-1\")\n",
    "GPP_meas=df_Comb_filter['GPP_f'].resample(\"M\").mean()\n",
    "GPP_meas.plot(c='black', linestyle='dashed',label='measured',legend='yes')"
   ]
  },
  {
   "cell_type": "code",
   "execution_count": null,
   "id": "89b8125f-d88e-4a15-a2fe-1ad0c7dda4a4",
   "metadata": {},
   "outputs": [],
   "source": [
    "#rs.resample(\"M\").mean().plot()"
   ]
  },
  {
   "cell_type": "markdown",
   "id": "cb0753ef-8f5b-4b55-83db-ad31419a0e53",
   "metadata": {},
   "source": [
    "## Calcuate ET"
   ]
  },
  {
   "cell_type": "markdown",
   "id": "ac78d717-ea63-477c-9c43-8a29262f3143",
   "metadata": {},
   "source": [
    "### Assemble dataframe 'df_ET' that will hold output and fill with inputs"
   ]
  },
  {
   "cell_type": "code",
   "execution_count": null,
   "id": "1065217e-ea3f-4cfc-97af-76ad200b8c08",
   "metadata": {},
   "outputs": [],
   "source": [
    "def init_ETframe(rs_series):\n",
    "    df_ET = pd.concat([df_meteo['L(o)'],df_meteo['Te-L(o)'],df_profile['Pressure'],df_Comb['VPD'],df_Comb['rH'],df_meteo['P(mast)']],axis=1,sort=False)\n",
    "    #convert Pressure from hPa to kPa \n",
    "    df_ET['p_kPa']=df_ET['Pressure']/10\n",
    "    df_ET['VPD_adj']=df_ET['VPD'].loc[df_ET['VPD']>0] #some outlier values for VPD are negative, remove from dataset\n",
    "    df_ET['VPD_adj']=df_ET['VPD_adj']/10  # VPD from df_Comb is in hPa, I need kPa, so hPa/10 = kPa\n",
    "    df_ET['rs']=rs_series.to_frame(name=\"rs\")\n",
    "    df_ET['ra']=ra.to_frame(name=\"ra\")\n",
    "    return df_ET"
   ]
  },
  {
   "cell_type": "code",
   "execution_count": null,
   "id": "7cf1ead7-7694-4619-8496-bd27e4ece452",
   "metadata": {},
   "outputs": [],
   "source": [
    "df_ET=init_ETframe(rs)"
   ]
  },
  {
   "cell_type": "code",
   "execution_count": null,
   "id": "77211664-888c-4840-ba39-a1dde1890967",
   "metadata": {},
   "outputs": [],
   "source": [
    "df_ET=calc_LE(df_ET)"
   ]
  },
  {
   "cell_type": "code",
   "execution_count": null,
   "id": "d036f7d7-8b44-4236-ae20-e0dc562809c1",
   "metadata": {},
   "outputs": [],
   "source": [
    "df_ET_meas=df_Comb_filter.copy()\n",
    "df_ET_meas=df_ET_meas.loc[df_ET_meas['LE']>=0]\n",
    "df_ET_meas=df_ET_meas.resample(\"M\").mean()\n",
    "#df_ET_meas['LE'].plot()"
   ]
  },
  {
   "cell_type": "code",
   "execution_count": null,
   "id": "f9ad2944-35f7-4b04-a752-826932787056",
   "metadata": {},
   "outputs": [],
   "source": [
    "df_ET['ET_VPD'].resample('M').mean().plot(label=\"fstr=0.8\",legend='yes',title=\"Monthly average LE model output\",ylabel=\"Wm-2\")\n",
    "df_ET_meas['LE'].resample('M').mean().plot(c='black', linestyle='dashed',label='measured',legend='yes')"
   ]
  },
  {
   "cell_type": "markdown",
   "id": "a7f94f14-69d7-4d8a-a720-5531d86ec058",
   "metadata": {},
   "source": [
    "### calculate ET"
   ]
  },
  {
   "cell_type": "code",
   "execution_count": null,
   "id": "88ebcd7d-3cd0-4a95-ac6f-992f9e3e82fa",
   "metadata": {},
   "outputs": [],
   "source": [
    "#df_ET_10['ET_VPD'].resample(\"M\").mean().plot()\n",
    "#measured_data=df_Comb['LE'].loc[df_Comb['LE']>0].resample('M').mean()\n",
    "#measured_data.plot(legend=\"measured\")\n",
    "\n",
    "#I_filter = ((df_Comb['GPP_fqc']==0)&(df_Comb['LE']>0)&(df_Comb['VPD'] > 0))\n",
    "\n",
    "#VPD_filter = (df_Comb['VPD'] > 0)\n",
    "#df_test=df_Comb[I_filter]\n",
    "\n",
    "#df_test['LE'].resample('M').mean().plot()\n",
    "#df_Comb['LE'].resample('M').mean().plot()"
   ]
  },
  {
   "cell_type": "markdown",
   "id": "3e8859bf-ea71-409e-85b1-ab61bcd87d6e",
   "metadata": {},
   "source": [
    "### CO2 flux"
   ]
  },
  {
   "cell_type": "code",
   "execution_count": null,
   "id": "c2211734-c58e-4cf5-a18d-e726977c33ac",
   "metadata": {},
   "outputs": [],
   "source": [
    "start='2008-05-01 00:00'\n",
    "end='2018-09-30 00:00'\n",
    "sim_data=an_umol.loc[start:end].resample('3H').mean()#.between_time(\"11:00\", \"18:00\")\n",
    "sim_data=sim_data.dropna() #eliminate NaN entries created by the .loc slice\n",
    "measured_data=df_Comb['GPP_f'].loc[df_Comb['GPP_f']>0].loc[start:end].resample('3H').mean()#.between_time(\"11:00\", \"18:00\")\n",
    "measured_data=measured_data.dropna()\n",
    "\n",
    "df_tmp = pd.DataFrame()\n",
    "df_tmp['sim_data']=sim_data\n",
    "\n",
    "df_tmp=df_tmp.merge(measured_data, how='inner',left_index=True, right_index=True)\n",
    "\n",
    "slope, intercept, r_value, p_value, std_err = stats.linregress(df_tmp['GPP_f'], df_tmp['sim_data'])  #linregres x, y . note r_value is Pearson's coefficient. R^2 is r_value**2\n",
    "print('R2: ',r_value**2)\n",
    "print('slope, intercept:', slope, intercept)\n",
    "\n",
    "fig,ax = plt.subplots()\n",
    "p1=ax.scatter(df_tmp['GPP_f'],df_tmp['sim_data'],c=df_tmp.index.hour,cmap='viridis') #scatter(x,y)\n",
    "ax.axline((0.0,intercept),slope=slope,c='r',label='slope')\n",
    "ax.axline ((0.0,0.0), slope=1, c='r',linestyle='dashed',label='1:1')\n",
    "ax.set_ylim(-5,40)\n",
    "ax.set_xlim(-5,40)\n",
    "ax.set_xlabel(r'measured data An (GPP_f) [$\\mu molm^{-2}s^{-1}$]')\n",
    "ax.set_ylabel(r'simulated data An (A-gs) [$\\mu molm^{-2}s^{-1}$]')\n",
    "fig.suptitle('Correlation of simulated to measured An, May 2017, (3hour mean, 00:00-23:59) \\n intercept = {:.3f}, slope = {:.3f}, R2 = {:.3f}'.format(intercept,slope,r_value**2))\n",
    "ax.legend(loc='upper left')\n",
    "cbar=plt.colorbar(p1,ax=ax)\n",
    "cbar.ax.set_ylabel('Hour')"
   ]
  },
  {
   "cell_type": "markdown",
   "id": "4ddc463c-0db0-4905-8e14-acc8f405d020",
   "metadata": {},
   "source": [
    "### H2O flux"
   ]
  },
  {
   "cell_type": "code",
   "execution_count": null,
   "id": "cf194f7b-9be7-494e-9ed2-6bfd232baf08",
   "metadata": {},
   "outputs": [],
   "source": [
    "# Add in precipitation last 3h and 24 hour values so it can be used for filtering\n",
    "df_ET['last3day_prec']=df_ET['P(mast)'].rolling('72H').sum()"
   ]
  },
  {
   "cell_type": "code",
   "execution_count": null,
   "id": "7eaf1845-c2b6-4da2-99e1-4e0604933eba",
   "metadata": {},
   "outputs": [],
   "source": [
    "#re-draw better correlation plot (longer dataset)\n",
    "#start='2017-04-01 00:00'\n",
    "#end='2017-07-30 00:00'\n",
    "start='2008-05-01 00:00'\n",
    "end='2018-09-30 00:00'\n",
    "months=[4,5,6,7,8,9]\n",
    "\n",
    "#new filter\n",
    "sim_data = df_ET.loc[start:end,('ET_VPD','last3day_prec','T_sfc_C')]\n",
    "sim_data = sim_data.loc[sim_data['last3day_prec']==0]\n",
    "#sim_data = sim_data.loc[sim_data.index.month>=4]\n",
    "#sim_data = sim_data.loc[sim_data.index.month<=9]\n",
    "sim_data = sim_data.loc[sim_data.index.month.isin(months)]\n",
    "sim_data= sim_data.resample('3H').mean()#.between_time(\"9:00\", \"15:00\")\n",
    "sim_data=sim_data.dropna()\n",
    "\n",
    "measured_data=df_Comb['LE'].loc[df_Comb['LE']>0].loc[start:end].resample('3H').mean()#.between_time(\"9:00\", \"15:00\")\n",
    "measured_data = measured_data.loc[measured_data.index.month.isin(months)]\n",
    "#measured_data = measured_data.loc[measured_data.index.month<=9]\n",
    "measured_data=measured_data.dropna()\n",
    "\n",
    "df_tmp=sim_data.copy()\n",
    "df_tmp=df_tmp.merge(measured_data, how='inner',left_index=True, right_index=True)\n",
    "\n",
    "slope, intercept, r_value, p_value, std_err = stats.linregress(df_tmp['LE'], df_tmp['ET_VPD'])  #linregres x, y . note r_value is Pearson's coefficient. R^2 is r_value**2\n",
    "print('R2: ',r_value**2)\n",
    "print('slope, intercept:', slope, intercept)\n",
    "\n",
    "fig,ax = plt.subplots()\n",
    "p1=ax.scatter(df_tmp['LE'],df_tmp['ET_VPD'],c=df_tmp.index.month,cmap='viridis') #scatter(x,y)\n",
    "ax.axline((0.0,intercept),slope=slope,c='r',label='slope')\n",
    "ax.axline ((0.0,0.0), slope=1, c='r',linestyle='dashed',label='1:1')\n",
    "#ax.set_ylim(-10,300)\n",
    "#ax.set_xlim(-10,300)\n",
    "ax.set_xlabel(r'measured data LE (EC) [Wm$^{-2}$]')\n",
    "ax.set_ylabel(r'simulated data LE (A-gs) [Wm$^{-2}$]')\n",
    "fig.suptitle('Correlation of simulated to measured LE. April-Sept 2008-2018, (1hour mean, 00:00-23:59) \\n intercept = {:.3f}, slope = {:.3f}, R2 = {:.3f}'.format(intercept,slope,r_value**2))\n",
    "ax.set_title('(Only days on which daily  sum of Precip. is 0)')\n",
    "ax.legend(loc='upper left')\n",
    "cbar=plt.colorbar(p1,ax=ax)\n",
    "cbar.ax.set_ylabel('Month')"
   ]
  },
  {
   "cell_type": "markdown",
   "id": "39eb7b8a-ba39-4a3f-9c85-895bac837881",
   "metadata": {},
   "source": [
    "## fstr analysis"
   ]
  },
  {
   "cell_type": "markdown",
   "id": "35632b77-b273-4033-a4d1-c144dedfb3a7",
   "metadata": {},
   "source": [
    "## plot timeseries"
   ]
  },
  {
   "cell_type": "code",
   "execution_count": null,
   "id": "58520a03-507d-43bc-bba9-a4150c833a55",
   "metadata": {},
   "outputs": [],
   "source": [
    "1#re-draw better correlation plot (longer dataset)\n",
    "#start='2017-04-01 00:00'\n",
    "#end='2017-07-30 00:00'\n",
    "start='2008-05-01 00:00'\n",
    "end='2018-09-30 00:00'\n",
    "months=[6,7,8]\n",
    "\n",
    "#new filter\n",
    "sim_data = df_ET.loc[start:end,('ET_VPD','last3day_prec')]\n",
    "sim_data = sim_data.loc[sim_data['last3day_prec']==0]\n",
    "sim_data = sim_data.loc[sim_data.index.month.isin(months)]\n",
    "sim_data= sim_data.resample('3H').mean()#.between_time(\"9:00\", \"15:00\")\n",
    "sim_data=sim_data.dropna()\n",
    "\n",
    "measured_data=df_Comb['LE'].loc[df_Comb['LE']>0].loc[start:end].resample('3H').mean()#.between_time(\"9:00\", \"15:00\")\n",
    "measured_data = measured_data.loc[measured_data.index.month.isin(months)]\n",
    "measured_data=measured_data.dropna()\n",
    "\n",
    "df_tmp=sim_data.copy()\n",
    "df_tmp=df_tmp.merge(measured_data, how='inner',left_index=True, right_index=True)\n"
   ]
  },
  {
   "cell_type": "markdown",
   "id": "e50522d5-aff2-45e7-b1f3-a89020b8856a",
   "metadata": {},
   "source": [
    "## extract LE max"
   ]
  },
  {
   "cell_type": "code",
   "execution_count": null,
   "id": "3df53279-cb21-4708-9b6d-7f87abb4864e",
   "metadata": {},
   "outputs": [],
   "source": [
    "df_max=pd.DataFrame()\n",
    "\n",
    "df_max['ET_max']=df_tmp['ET_VPD'].resample('1D').max()\n",
    "df_max['LE_max']=df_tmp['LE'].resample('1D').max()\n",
    "\n",
    "df_max['maxdiff_ET-LE']=df_max['ET_max']-df_max['LE_max']\n",
    "\n",
    "df_max['maxdiff_ET-LE'].plot()\n",
    "\n",
    "#problem: I can't get df_max['ET_idx']=df_tmp['ET_VPD'].resample('1D').idxmax() to work. abandon for now\n"
   ]
  },
  {
   "cell_type": "code",
   "execution_count": null,
   "id": "e9561b4d-8474-40bd-8c37-f389a9c5c74a",
   "metadata": {},
   "outputs": [],
   "source": [
    "#re-draw better correlation plot (longer dataset)\n",
    "#start='2017-04-01 00:00'\n",
    "#end='2017-07-30 00:00'\n",
    "start='2008-05-01 00:00'\n",
    "end='2018-09-30 00:00'\n",
    "months=[4,5,6,7,8]\n",
    "\n",
    "#new filter\n",
    "sim_data = pd.DataFrame(df_max['ET_max'])\n",
    "#sim_data = sim_data.loc[sim_data.index.month.isin(months)]\n",
    "sim_data=sim_data.dropna()\n",
    "\n",
    "measured_data=pd.DataFrame(df_max['LE_max'])\n",
    "#measured_data = measured_data.loc[measured_data.index.month.isin(months)]\n",
    "measured_data=measured_data.dropna()\n",
    "\n",
    "df_tmp=sim_data.copy()\n",
    "df_tmp=df_tmp.merge(measured_data, how='inner',left_index=True, right_index=True)\n",
    "\n",
    "slope, intercept, r_value, p_value, std_err = stats.linregress(df_tmp['LE_max'], df_tmp['ET_max'])  #linregres x, y . note r_value is Pearson's coefficient. R^2 is r_value**2\n",
    "print('R2: ',r_value**2)\n",
    "print('slope, intercept:', slope, intercept)\n",
    "\n",
    "fig,ax = plt.subplots()\n",
    "p1=ax.scatter(df_tmp['LE_max'],df_tmp['ET_max'],c=df_tmp.index.month,cmap='viridis') #scatter(x,y)\n",
    "ax.axline((0.0,intercept),slope=slope,c='r',label='slope')\n",
    "ax.axline ((0.0,0.0), slope=1, c='r',linestyle='dashed',label='1:1')\n",
    "#ax.set_ylim(-10,300)\n",
    "#ax.set_xlim(-10,300)\n",
    "#ax.set_xlabel(r'measured data LE (EC) [Wm$^{-2}$]')\n",
    "#ax.set_ylabel(r'simulated data LE (A-gs) [Wm$^{-2}$]')\n",
    "#fig.suptitle('Correlation of simulated to measured LE. April-Sept 2008-2018, (1hour mean, 00:00-23:59) \\n intercept = {:.3f}, slope = {:.3f}, R2 = {:.3f}'.format(intercept,slope,r_value**2))\n",
    "#ax.set_title('(Only days on which daily  sum of Precip. is 0)')\n",
    "ax.legend(loc='upper left')\n",
    "cbar=plt.colorbar(p1,ax=ax)\n",
    "cbar.ax.set_ylabel('Month')"
   ]
  },
  {
   "cell_type": "code",
   "execution_count": null,
   "id": "3efeb292-a5cf-4ad3-a8bf-50ba8f167b5c",
   "metadata": {},
   "outputs": [],
   "source": [
    "#re-draw better correlation plot (longer dataset)\n",
    "#start='2017-04-01 00:00'\n",
    "#end='2017-07-30 00:00'\n",
    "start='2008-05-01 00:00'\n",
    "end='2018-09-30 00:00'\n",
    "months=[4,5,6,7,8]\n",
    "\n",
    "#new filter\n",
    "sim_data = pd.DataFrame(df_max['maxdiff_ET-LE'])\n",
    "#sim_data = sim_data.loc[sim_data.index.month.isin(months)]\n",
    "sim_data=sim_data.dropna()\n",
    "\n",
    "measured_data=pd.DataFrame(df_Comb_filter['VPD'])\n",
    "#measured_data = measured_data.loc[measured_data.index.month.isin(months)]\n",
    "measured_data=measured_data.dropna()\n",
    "\n",
    "df_tmp=sim_data.copy()\n",
    "df_tmp=df_tmp.merge(measured_data, how='inner',left_index=True, right_index=True)\n",
    "\n",
    "#slope, intercept, r_value, p_value, std_err = stats.linregress(df_tmp['VPD'], df_tmp['maxdiff_ET-LE'])  #linregres x, y . note r_value is Pearson's coefficient. R^2 is r_value**2\n",
    "#print('R2: ',r_value**2)\n",
    "#print('slope, intercept:', slope, intercept)\n",
    "\n",
    "fig,ax = plt.subplots()\n",
    "p1=ax.scatter(df_tmp['VPD'],df_tmp['maxdiff_ET-LE'],c=df_tmp.index.month,cmap='viridis') #scatter(x,y)\n",
    "#ax.axline((0.0,intercept),slope=slope,c='r',label='slope')\n",
    "#ax.axline ((0.0,0.0), slope=1, c='r',linestyle='dashed',label='1:1')\n",
    "#ax.set_ylim(-10,300)\n",
    "#ax.set_xlim(-10,300)\n",
    "ax.set_xlabel(r'VPD')\n",
    "ax.set_ylabel(r'difference in max measured - simulated LE')\n",
    "fig.suptitle('Difference in max daily value LE_measured - max daily value LE_simulated, over VPD \\n jun-aug 2008-2018, intercept = {:.3f}, slope = {:.3f}, R2 = {:.3f}'.format(intercept,slope,r_value**2))\n",
    "#ax.set_title('(Only days on which daily  sum of Precip. is 0)')\n",
    "ax.legend(loc='upper left')\n",
    "cbar=plt.colorbar(p1,ax=ax)\n",
    "cbar.ax.set_ylabel('Month')"
   ]
  },
  {
   "cell_type": "code",
   "execution_count": null,
   "id": "cb772d2a-cbbc-4b97-ac92-947cea6e5a3f",
   "metadata": {},
   "outputs": [],
   "source": [
    "gs=1/rs"
   ]
  },
  {
   "cell_type": "code",
   "execution_count": null,
   "id": "53b60de9-a875-4f4e-8538-e712b4117cd6",
   "metadata": {},
   "outputs": [],
   "source": [
    "df_gs=pd.DataFrame()\n",
    "df_gs['rs']=rs\n",
    "df_gs['gs']=1/rs\n",
    "df_gsmax=pd.DataFrame()\n",
    "df_gsmax['gs_max']=df_gs['gs'].resample('1D').max()\n",
    "df_gsmax['rs_min']=df_gs['rs'].resample('1D').min()\n",
    "df_gsmax['rs_min'].plot()"
   ]
  },
  {
   "cell_type": "code",
   "execution_count": null,
   "id": "4f2534c3-ca06-44ce-8e55-f0508dad3276",
   "metadata": {},
   "outputs": [],
   "source": [
    "df_gs['gs'].loc['2010-01-01 00:00':'2010-02-01 00:00'].plot()"
   ]
  },
  {
   "cell_type": "code",
   "execution_count": null,
   "id": "adf106cb-cddd-42fc-a1e1-3d899f7667f4",
   "metadata": {},
   "outputs": [],
   "source": [
    "df_gs['rs'].loc['2010-01-01 00:00':'2010-02-01 00:00'].plot()"
   ]
  },
  {
   "cell_type": "code",
   "execution_count": null,
   "id": "f353e64d-748a-4990-9896-68249948d777",
   "metadata": {},
   "outputs": [],
   "source": [
    "#new correlation for fstr\n",
    "#start='2017-04-01 00:00'\n",
    "#end='2017-07-30 00:00'\n",
    "start='2008-05-01 00:00'\n",
    "end='2018-09-30 00:00'\n",
    "months=[4,5,6,7,8]\n",
    "\n",
    "#new filter\n",
    "sim_data = pd.DataFrame(df_max['ET_max'])\n",
    "#sim_data = sim_data.loc[sim_data.index.month.isin(months)]\n",
    "sim_data=sim_data.dropna()\n",
    "\n",
    "measured_data=pd.DataFrame(df_gsmax['gs_max'])\n",
    "#measured_data = measured_data.loc[measured_data.index.month.isin(months)]\n",
    "measured_data=measured_data.dropna()\n",
    "\n",
    "df_tmp=sim_data.copy()\n",
    "df_tmp=df_tmp.merge(measured_data, how='inner',left_index=True, right_index=True)\n",
    "\n",
    "slope, intercept, r_value, p_value, std_err = stats.linregress(df_tmp['ET_max'], df_tmp['gs_max'])  #linregres x, y . note r_value is Pearson's coefficient. R^2 is r_value**2\n",
    "print('R2: ',r_value**2)\n",
    "print('slope, intercept:', slope, intercept)\n",
    "\n",
    "fig,ax = plt.subplots()\n",
    "p1=ax.scatter(df_tmp['ET_max'],df_tmp['gs_max'],c=df_tmp.index.month,cmap='viridis') #scatter(x,y)\n",
    "ax.axline((0.0,intercept),slope=slope,c='r',label='slope')\n",
    "ax.axline ((0.0,0.0), slope=1, c='r',linestyle='dashed',label='1:1')\n",
    "#ax.set_ylim(-10,300)\n",
    "#ax.set_xlim(-10,300)\n",
    "#ax.set_xlabel(r'measured data LE (EC) [Wm$^{-2}$]')\n",
    "#ax.set_ylabel(r'simulated data LE (A-gs) [Wm$^{-2}$]')\n",
    "#fig.suptitle('Correlation of simulated to measured LE. April-Sept 2008-2018, (1hour mean, 00:00-23:59) \\n intercept = {:.3f}, slope = {:.3f}, R2 = {:.3f}'.format(intercept,slope,r_value**2))\n",
    "#ax.set_title('(Only days on which daily  sum of Precip. is 0)')\n",
    "ax.legend(loc='upper left')\n",
    "cbar=plt.colorbar(p1,ax=ax) \n",
    "cbar.ax.set_ylabel('Month')"
   ]
  },
  {
   "cell_type": "code",
   "execution_count": null,
   "id": "090d6b7f-c0f3-49b0-b0c3-3dba4c2b8ef4",
   "metadata": {},
   "outputs": [],
   "source": [
    "#re-draw better correlation plot (longer dataset)\n",
    "#start='2017-04-01 00:00'\n",
    "#end='2017-07-30 00:00'\n",
    "start='2008-05-01 00:00'\n",
    "end='2018-09-30 00:00'\n",
    "months=[4,5,6,7,8,9]\n",
    "3\n",
    "#new filter\n",
    "sim_data = df_ET.loc[start:end,('ET_VPD','last3day_prec','T_sfc_C')]\n",
    "sim_data = sim_data.loc[sim_data['last3day_prec']==0]\n",
    "#sim_data = sim_data.loc[sim_data.index.month>=4]\n",
    "#sim_data = sim_data.loc[sim_data.index.month<=9]\n",
    "sim_data = sim_data.loc[sim_data.index.month.isin(months)]\n",
    "sim_data= sim_data.resample('3H').mean()#.between_time(\"9:00\", \"15:00\")\n",
    "sim_data=sim_data.dropna()\n",
    "\n",
    "measured_data=df_Comb['LE'].loc[df_Comb['LE']>0].loc[start:end].resample('3H').mean()#.between_time(\"9:00\", \"15:00\")\n",
    "measured_data = measured_data.loc[measured_data.index.month.isin(months)]\n",
    "#measured_data = measured_data.loc[measured_data.index.month<=9]\n",
    "measured_data=measured_data.dropna()\n",
    "\n",
    "df_tmp=sim_data.copy()\n",
    "df_tmp=df_tmp.merge(measured_data, how='inner',left_index=True, right_index=True)\n",
    "\n",
    "slope, intercept, r_value, p_value, std_err = stats.linregress(df_tmp['LE'], df_tmp['ET_VPD'])  #linregres x, y . note r_value is Pearson's coefficient. R^2 is r_value**2\n",
    "print('R2: ',r_value**2)\n",
    "print('slope, intercept:', slope, intercept)\n",
    "\n",
    "fig,ax = plt.subplots()\n",
    "p1=ax.scatter(df_tmp['LE'],df_tmp['ET_VPD'],c=df_tmp.index.month,cmap='viridis') #scatter(x,y)\n",
    "ax.axline((0.0,intercept),slope=slope,c='r',label='slope')\n",
    "ax.axline ((0.0,0.0), slope=1, c='r',linestyle='dashed',label='1:1')\n",
    "#ax.set_ylim(-10,300)\n",
    "#ax.set_xlim(-10,300)\n",
    "ax.set_xlabel(r'measured data LE (EC) [Wm$^{-2}$]')\n",
    "ax.set_ylabel(r'simulated data LE (A-gs) [Wm$^{-2}$]')\n",
    "fig.suptitle('Correlation of simulated to measured LE. April-Sept 2008-2018, (1hour mean, 00:00-23:59) \\n intercept = {:.3f}, slope = {:.3f}, R2 = {:.3f}'.format(intercept,slope,r_value**2))\n",
    "ax.set_title('(Only days on which daily  sum of Precip. is 0)')\n",
    "ax.legend(loc='upper left')\n",
    "cbar=plt.colorbar(p1,ax=ax)\n",
    "cbar.ax.set_ylabel('Month')"
   ]
  },
  {
   "cell_type": "markdown",
   "id": "042ddc05-bba0-4f73-8a26-a3fea721928e",
   "metadata": {},
   "source": [
    "## extract calc diff gpp max and just regular diff"
   ]
  },
  {
   "cell_type": "markdown",
   "id": "6f0f1ca7-a4b0-4dc5-b7be-7335548dbda2",
   "metadata": {},
   "source": [
    "## plot diff_gpp max "
   ]
  },
  {
   "cell_type": "markdown",
   "id": "bbce76d4-c59f-4b66-a64b-539dffd9b8b3",
   "metadata": {},
   "source": [
    "## hourly averages section (hour as bins) (TODO: can I prove that in general the shape of the curve is consistent ie. I only need max?)"
   ]
  },
  {
   "cell_type": "code",
   "execution_count": null,
   "id": "dd8d760c-e3d3-4ac7-83f7-afd028858afe",
   "metadata": {},
   "outputs": [],
   "source": [
    "#draw binned An\n",
    "#start='2017-04-01 00:00'\n",
    "#end='2017-08-30 00:00'\n",
    "start='2008-04-01 00:00'\n",
    "end='2018-08-30 00:00'\n",
    "\n",
    "sim_data=an_umol.loc[an_umol>0].loc[start:end].resample('1H').mean()#.between_time(\"11:00\", \"18:00\")\n",
    "sim_data = sim_data.loc[(sim_data.index.month>=5) & (sim_data.index.month<=8)]\n",
    "sim_data=sim_data.dropna() #eliminate NaN entries created by the .loc slice\n",
    "measured_data=df_Comb['GPP_f'].loc[start:end].resample('1H').mean()#.between_time(\"11:00\", \"18:00\")\n",
    "measured_data=measured_data.dropna()\n",
    "\n",
    "#new filter\n",
    "#sim_data = df_ET_1.loc[start:end,('ET_VPD2','last24h_prec')]\n",
    "#sim_data = sim_data.loc[sim_data['last24h_prec']<=0.5]\n",
    "\n",
    "#df_tmp = pd.DataFrame()\n",
    "df_tmp=pd.DataFrame(sim_data)\n",
    "df_tmp=df_tmp.merge(measured_data, how='inner',left_index=True, right_index=True)\n",
    "\n",
    "#slope, intercept, r_value, p_value, std_err = stats.linregress(df_tmp['GPP_f'], df_tmp['sim_data'])  #linregres x, y . note r_value is Pearson's coefficient. R^2 is r_value**2\n",
    "#print('R2: ',r_value**2)\n",
    "#print('slope, intercept:', slope, intercept)\n",
    "\n",
    "hours_list=[0, 1, 2, 3, 4, 5, 6, 7, 8, 9, 10, 11, 12, 13, 14, 15, 16, 17, 18, 19, 20, 21, 22, 23]\n",
    "\n",
    "d={}\n",
    "d['meas_avg'] = [df_tmp.loc[df_tmp.index.hour==i,'GPP_f'].mean() for i in hours_list]\n",
    "d['meas_q1'] = [df_tmp.loc[df_tmp.index.hour==i,'GPP_f'].quantile(q=0.25) for i in hours_list]\n",
    "d['meas_q3'] = [df_tmp.loc[df_tmp.index.hour==i,'GPP_f'].quantile(q=0.75) for i in hours_list]\n",
    "d['sim_avg'] = [df_tmp.loc[df_tmp.index.hour==i,0].mean() for i in hours_list]\n",
    "d['sim_q1'] = [df_tmp.loc[df_tmp.index.hour==i,0].quantile(q=0.25) for i in hours_list]\n",
    "d['sim_q3'] = [df_tmp.loc[df_tmp.index.hour==i,0].quantile(q=0.75) for i in hours_list]\n",
    "\n",
    "df_avg=pd.DataFrame(d)\n",
    "\n",
    "fig,ax = plt.subplots()\n",
    "p1=ax.plot(df_avg['meas_avg'],marker='o',label='mean measured An')\n",
    "ax.fill_between(hours_list,df_avg['meas_q1'],df_avg['meas_q3'],alpha=0.1,label='IQR')\n",
    "p2=ax.plot(df_avg['sim_avg'],marker='s',label='mean simulated An')\n",
    "ax.fill_between(hours_list,df_avg['sim_q1'],df_avg['sim_q3'],alpha=0.1,label='IQR')\n",
    "\n",
    "#ax.set_ylim(-5,40)\n",
    "#ax.set_xlim(-5,40)\n",
    "plt.xticks(hours_list) \n",
    "ax.set_xlabel('hour')\n",
    "ax.set_ylabel(r'An [$\\mu molm^{-2}s^{-1}$]')\n",
    "fig.suptitle('Simulated and measured Assimilation by hour for 2008-2018, \\n for months May-Oct, (1hour mean)')\n",
    "ax.legend(loc='upper left')\n"
   ]
  },
  {
   "cell_type": "code",
   "execution_count": null,
   "id": "cf81b16d-3418-49bc-9fb5-34d2f23bf906",
   "metadata": {},
   "outputs": [],
   "source": [
    "#draw binned LE\n",
    "start='2008-04-01 00:00'\n",
    "end='2008-08-30 00:00'\n",
    "\n",
    "sim_data = df_ET.loc[start:end,('ET_VPD','last3day_prec')]\n",
    "sim_data = sim_data.loc[(sim_data.index.month>=5) & (sim_data.index.month<=8)]\n",
    "sim_data = sim_data.loc[sim_data['last3day_prec']==0.0]\n",
    "print(sim_data.size)\n",
    "sim_data=sim_data.resample('1H').mean()\n",
    "sim_data=sim_data.dropna() #eliminate NaN entries created by the .loc slice\n",
    "measured_data=df_Comb_filter.loc[start:end,'LE']#.resample('1H').mean()#.between_time(\"11:00\", \"18:00\")\n",
    "measured_data=measured_data.loc[measured_data>0]\n",
    "measured_data=measured_data.resample('1H').mean()\n",
    "measured_data=measured_data.dropna()\n",
    "\n",
    "#df_tmp = pd.DataFrame()\n",
    "df_tmp=pd.DataFrame(sim_data)\n",
    "df_tmp=df_tmp.merge(measured_data, how='inner',left_index=True, right_index=True)\n",
    "\n",
    "hours_list=[0, 1, 2, 3, 4, 5, 6, 7, 8, 9, 10, 11, 12, 13, 14, 15, 16, 17, 18, 19, 20, 21, 22, 23]\n",
    "\n",
    "d={}\n",
    "d['meas_avg'] = [df_tmp.loc[df_tmp.index.hour==i,'LE'].mean() for i in hours_list]\n",
    "d['meas_q1'] = [df_tmp.loc[df_tmp.index.hour==i,'LE'].quantile(q=0.25) for i in hours_list]\n",
    "d['meas_q3'] = [df_tmp.loc[df_tmp.index.hour==i,'LE'].quantile(q=0.75) for i in hours_list]\n",
    "d['sim_avg'] = [df_tmp.loc[df_tmp.index.hour==i,'ET_VPD'].mean() for i in hours_list]\n",
    "d['sim_q1'] = [df_tmp.loc[df_tmp.index.hour==i,'ET_VPD'].quantile(q=0.25) for i in hours_list]\n",
    "d['sim_q3'] = [df_tmp.loc[df_tmp.index.hour==i,'ET_VPD'].quantile(q=0.75) for i in hours_list]\n",
    "\n",
    "df_avg=pd.DataFrame(d)\n",
    "\n",
    "fig,ax = plt.subplots()\n",
    "p1=ax.plot(df_avg['meas_avg'],marker='o',label='mean observed LE')\n",
    "ax.fill_between(hours_list,df_avg['meas_q1'],df_avg['meas_q3'],alpha=0.1,label='IQR')\n",
    "p2=ax.plot(df_avg['sim_avg'],marker='s',label='mean simulated LE')\n",
    "ax.fill_between(hours_list,df_avg['sim_q1'],df_avg['sim_q3'],alpha=0.1,label='IQR')\n",
    "\n",
    "#ax.set_ylim(-5,40)\n",
    "#ax.set_xlim(-5,40)\n",
    "plt.xticks(hours_list) \n",
    "ax.set_xlabel('hour')\n",
    "ax.set_ylabel(r'LE [$Wm^{-2}s^{-1}$]')\n",
    "fig.suptitle('Simulated and observed Latent Heat flux by hour for 2008-2018, \\n for months May-Oct, (1hour mean)')\n",
    "ax.legend(loc='upper left')\n"
   ]
  },
  {
   "cell_type": "code",
   "execution_count": null,
   "id": "9c7977d4-035a-4fbf-8445-0dc64879e2c1",
   "metadata": {},
   "outputs": [],
   "source": [
    "#draw binned LE\n",
    "start='2008-04-01 00:00'\n",
    "end='2018-08-30 00:00'\n",
    "\n",
    "sim_data = df_ET.loc[start:end,('ET_VPD','last3day_prec')]\n",
    "sim_data = sim_data.loc[(sim_data.index.month>=5) & (sim_data.index.month<=8)]\n",
    "sim_data = sim_data.loc[sim_data['last3day_prec']==0.0]\n",
    "print(sim_data.size)\n",
    "sim_data=sim_data.resample('1H').mean()\n",
    "sim_data=sim_data.dropna() #eliminate NaN entries created by the .loc slice\n",
    "measured_data=df_Comb_filter.loc[start:end,'LE']#.resample('1H').mean()#.between_time(\"11:00\", \"18:00\")\n",
    "measured_data=measured_data.loc[measured_data>0]\n",
    "measured_data=measured_data.resample('1H').mean()\n",
    "measured_data=measured_data.dropna()\n",
    "\n",
    "#df_tmp = pd.DataFrame()\n",
    "df_tmp=pd.DataFrame(sim_data)\n",
    "df_tmp=df_tmp.merge(measured_data, how='inner',left_index=True, right_index=True)\n",
    "\n",
    "hours_list=[0, 1, 2, 3, 4, 5, 6, 7, 8, 9, 10, 11, 12, 13, 14, 15, 16, 17, 18, 19, 20, 21, 22, 23]\n",
    "\n",
    "d={}\n",
    "d['meas_avg'] = [df_tmp.loc[df_tmp.index.hour==i,'LE'].mean() for i in hours_list]\n",
    "d['meas_q1'] = [df_tmp.loc[df_tmp.index.hour==i,'LE'].quantile(q=0.25) for i in hours_list]\n",
    "d['meas_q3'] = [df_tmp.loc[df_tmp.index.hour==i,'LE'].quantile(q=0.75) for i in hours_list]\n",
    "d['sim_avg'] = [df_tmp.loc[df_tmp.index.hour==i,'ET_VPD'].mean() for i in hours_list]\n",
    "d['sim_q1'] = [df_tmp.loc[df_tmp.index.hour==i,'ET_VPD'].quantile(q=0.25) for i in hours_list]\n",
    "d['sim_q3'] = [df_tmp.loc[df_tmp.index.hour==i,'ET_VPD'].quantile(q=0.75) for i in hours_list]\n",
    "\n",
    "df_avg=pd.DataFrame(d)\n",
    "\n",
    "fig,ax = plt.subplots()\n",
    "p1=ax.plot(df_avg['meas_avg'],marker='o',label='mean measured LE')\n",
    "ax.fill_between(hours_list,df_avg['meas_q1'],df_avg['meas_q3'],alpha=0.1,label='IQR')\n",
    "p2=ax.plot(df_avg['sim_avg'],marker='s',label='mean simulated LE')\n",
    "ax.fill_between(hours_list,df_avg['sim_q1'],df_avg['sim_q3'],alpha=0.1,label='IQR')\n",
    "\n",
    "#ax.set_ylim(-5,40)\n",
    "#ax.set_xlim(-5,40)\n",
    "plt.xticks(hours_list) \n",
    "ax.set_xlabel('hour')\n",
    "ax.set_ylabel(r'LE [$Wm^{-2}s^{-1}$]')\n",
    "fig.suptitle('Simulated and measured Latent Heat flux by hour for 2008-2018, \\n for months May-Oct, (1hour mean)')\n",
    "ax.legend(loc='upper left')"
   ]
  },
  {
   "cell_type": "markdown",
   "id": "36aea404-37b0-4371-a550-b91ee1ec616e",
   "metadata": {},
   "source": [
    "## fstr analysis"
   ]
  },
  {
   "cell_type": "markdown",
   "id": "f14f9eab-aba1-4ea4-b01a-38e33def51b9",
   "metadata": {},
   "source": [
    "### diff between LE sim and Calc"
   ]
  },
  {
   "cell_type": "code",
   "execution_count": null,
   "id": "474234d7-5f0b-430f-b35d-cfd28ddaf5de",
   "metadata": {},
   "outputs": [],
   "source": [
    "#d['LE-ET_VPD', 'ET_VPD-LE', 'meas_avg', 'meas_q1', 'meas_q3']\n",
    "d['LE-ET_VPD']"
   ]
  },
  {
   "cell_type": "code",
   "execution_count": null,
   "id": "0b805493-ca01-40a6-94c8-13fe44d02e5f",
   "metadata": {},
   "outputs": [],
   "source": [
    "#draw binned LE\n",
    "start='2008-04-01 00:00'\n",
    "end='2018-08-30 00:00'\n",
    "\n",
    "sim_data = df_ET.loc[start:end,('ET_VPD','last3day_prec')]\n",
    "sim_data = sim_data.loc[(sim_data.index.month>=5) & (sim_data.index.month<=8)]\n",
    "sim_data = sim_data.loc[sim_data['last3day_prec']==0.0]\n",
    "\n",
    "sim_data=sim_data.resample('3H').mean()\n",
    "sim_data=sim_data.dropna() #eliminate NaN entries created by the .loc slice\n",
    "measured_data=df_Comb_filter.loc[start:end,'LE']#.resample('1H').mean()#.between_time(\"11:00\", \"18:00\")\n",
    "measured_data=measured_data.loc[measured_data>0]\n",
    "measured_data=measured_data.resample('3H').mean()\n",
    "measured_data=measured_data.dropna()\n",
    "\n",
    "#df_tmp = pd.DataFrame()\n",
    "df_tmp=pd.DataFrame(sim_data)\n",
    "df_tmp=df_tmp.merge(measured_data, how='inner',left_index=True, right_index=True)\n",
    "df_tmp['ET_VPD-LE'] = df_tmp['ET_VPD']-df_tmp['LE']\n",
    "\n",
    "hours_list=[0, 3, 6, 9, 12, 15, 18, 21]\n",
    "\n",
    "d={}\n",
    "d['meas_avg'] = [df_tmp.loc[df_tmp.index.hour==i,'LE'].mean() for i in hours_list]\n",
    "d['meas_q1'] = [df_tmp.loc[df_tmp.index.hour==i,'LE'].quantile(q=0.25) for i in hours_list]\n",
    "d['meas_q3'] = [df_tmp.loc[df_tmp.index.hour==i,'LE'].quantile(q=0.75) for i in hours_list]\n",
    "d['diff_avg'] = [df_tmp.loc[df_tmp.index.hour==i,'ET_VPD-LE'].mean() for i in hours_list]\n",
    "\n",
    "df_avg=pd.DataFrame(d)\n",
    "\n",
    "\n",
    "fig,ax = plt.subplots()\n",
    "p1=ax.plot(df_avg['diff_avg'],marker='o',label='mean measured LE')\n",
    "#ax.fill_between(hours_list,df_avg['meas_q1'],df_avg['meas_q3'],alpha=0.1,label='IQR')\n",
    "\n",
    "#ax.set_ylim(-5,40)\n",
    "#ax.set_xlim(-5,40)\n",
    "#plt.xticks(hours_list) \n",
    "ax.set_xlabel('hour')\n",
    "ax.set_ylabel(r'LE [$Wm^{-2}s^{-1}$]')\n",
    "fig.suptitle('Simulated and measured Latent Heat flux by hour for 2008-2018, \\n for months May-Oct, (1hour mean)')\n",
    "ax.legend(loc='upper left')\n"
   ]
  },
  {
   "cell_type": "code",
   "execution_count": null,
   "id": "ca2ac576-a747-45e0-9b77-c58b24113234",
   "metadata": {},
   "outputs": [],
   "source": [
    "df_diff"
   ]
  },
  {
   "cell_type": "code",
   "execution_count": null,
   "id": "93575c1b-b49d-4149-8300-974ca8af37b1",
   "metadata": {},
   "outputs": [],
   "source": [
    "df_soil['SM-Lit'].loc['2017-01-01':'2017-12-30'].plot()\n",
    "df_soil['SM-003'].loc['2017-01-01':'2017-12-30'].plot()\n",
    "df_soil['SM-020'].loc['2017-01-01':'2017-12-30'].plot()\n",
    "df_soil['SM-050'].loc['2017-01-01':'2017-12-30'].plot()\n",
    "df_soil['SM-100'].loc['2017-01-01':'2017-12-30'].plot()"
   ]
  },
  {
   "cell_type": "code",
   "execution_count": null,
   "id": "641a4030-ab17-4aeb-b65a-5a06f8279fbd",
   "metadata": {},
   "outputs": [],
   "source": [
    "df_soil['SM-Lit'].loc['2017-04-17':'2017-04-22'].plot()\n",
    "df_soil['SM-003'].loc['2017-04-17':'2017-04-22'].plot()\n",
    "df_soil['SM-020'].loc['2017-04-17':'2017-04-22'].plot()\n",
    "df_soil['SM-050'].loc['2017-04-17':'2017-04-22'].plot()\n",
    "df_soil['SM-100'].loc['2017-04-17':'2017-04-22'].plot()"
   ]
  },
  {
   "cell_type": "code",
   "execution_count": null,
   "id": "86a6de6f-efd7-470f-9644-d540f30d41b0",
   "metadata": {},
   "outputs": [],
   "source": [
    "st='2015-04-01'\n",
    "ed='2018-09-30'\n",
    "#df_meteo.loc[st:ed,'L(o)corr'].loc[df_meteo['L(o)corr']>0].plot()\n",
    "#df_meteo['L(o)corr'].loc[df_meteo['L(o)corr']>0].plot()\n",
    "\n",
    "#df_meteo.loc[st:ed,'PAR'].plot()\n",
    "#df_meteo['PAR'].plot()\n",
    "\n",
    "#df_Comb.loc[st:ed,'VPD'].loc[df_Comb['VPD']>=0].plot()\n",
    "#df_Comb['VPD'].loc[df_Comb['VPD']>=0].plot()\n",
    "\n",
    "#df_profile.loc[st:ed,'CO2level1'].loc[df_profile['CO2level1']>=10].plot()\n",
    "#df_meteo.columns\n",
    "\n",
    "#df_Comb.loc[st:ed,'GPP_f'].loc[df_Comb['GPP_f']>=0].loc[df_Comb['GPP_f']<150].plot()\n",
    "#df_Comb['GPP_f'].loc[df_Comb['GPP_f']>=0].loc[df_Comb['GPP_f']<150].plot()\n",
    "\n",
    "#df_Comb.loc[st:ed,'LE'].loc[df_Comb['LE']>=0].plot()\n",
    "#df_Comb['LE'].loc[df_Comb['LE']>=0].plot()\n",
    "\n",
    "\n",
    "df_EC['U-star'].min()"
   ]
  },
  {
   "cell_type": "code",
   "execution_count": null,
   "id": "d5a3fae7-0fce-4004-a8e2-52d38174e69a",
   "metadata": {},
   "outputs": [],
   "source": [
    "pd.DataFrame(an_umol).loc[st:ed].plot()"
   ]
  },
  {
   "cell_type": "code",
   "execution_count": null,
   "id": "505a7d76-8ace-43d6-be00-58c793de8370",
   "metadata": {},
   "outputs": [],
   "source": [
    "an_umol.plot()"
   ]
  },
  {
   "cell_type": "code",
   "execution_count": null,
   "id": "fbab4558-ac1d-4506-94ec-043e5f11bba2",
   "metadata": {},
   "outputs": [],
   "source": []
  }
 ],
 "metadata": {
  "kernelspec": {
   "display_name": "Python 3 (ipykernel)",
   "language": "python",
   "name": "python3"
  },
  "language_info": {
   "codemirror_mode": {
    "name": "ipython",
    "version": 3
   },
   "file_extension": ".py",
   "mimetype": "text/x-python",
   "name": "python",
   "nbconvert_exporter": "python",
   "pygments_lexer": "ipython3",
   "version": "3.11.5"
  },
  "varInspector": {
   "cols": {
    "lenName": 16,
    "lenType": 16,
    "lenVar": 40
   },
   "kernels_config": {
    "python": {
     "delete_cmd_postfix": "",
     "delete_cmd_prefix": "del ",
     "library": "var_list.py",
     "varRefreshCmd": "print(var_dic_list())"
    },
    "r": {
     "delete_cmd_postfix": ") ",
     "delete_cmd_prefix": "rm(",
     "library": "var_list.r",
     "varRefreshCmd": "cat(var_dic_list()) "
    }
   },
   "oldHeight": 471.85,
   "position": {
    "height": "493.844px",
    "left": "1539.19px",
    "right": "20px",
    "top": "105px",
    "width": "344px"
   },
   "types_to_exclude": [
    "module",
    "function",
    "builtin_function_or_method",
    "instance",
    "_Feature"
   ],
   "varInspector_section_display": "block",
   "window_display": true
  }
 },
 "nbformat": 4,
 "nbformat_minor": 5
}
