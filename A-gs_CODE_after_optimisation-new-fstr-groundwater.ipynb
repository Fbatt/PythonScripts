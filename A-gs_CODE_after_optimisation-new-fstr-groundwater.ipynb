{
 "cells": [
  {
   "cell_type": "markdown",
   "id": "a2978442-0a0a-42b2-ac0f-8e6b685580d8",
   "metadata": {},
   "source": [
    "# A-gs model and implementation (simulation CO2 and H2O flux)"
   ]
  },
  {
   "cell_type": "markdown",
   "id": "c5053646-e207-4e8c-a62e-2a7f70ad0887",
   "metadata": {},
   "source": [
    "## Initialize data and model"
   ]
  },
  {
   "cell_type": "markdown",
   "id": "467470b3-2427-4ada-b14f-9ff26922d8ec",
   "metadata": {},
   "source": [
    "### Setup and fetch data"
   ]
  },
  {
   "cell_type": "code",
   "execution_count": null,
   "id": "515abf18",
   "metadata": {},
   "outputs": [],
   "source": [
    "# Settings\n",
    "Username   = 'Beheerder'\n",
    "years      = range(2001,2021)    #(1997,2021) # Set years to download"
   ]
  },
  {
   "cell_type": "code",
   "execution_count": null,
   "id": "fdb7f756",
   "metadata": {},
   "outputs": [],
   "source": [
    "import os\n",
    "datapath = os.path.join('../')\n",
    "#print('datapath is set to %s'%datapath)\n",
    "\n",
    "import numpy as np\n",
    "import pandas as pd\n",
    "import matplotlib.pyplot as plt\n",
    "#import plotly.express as px\n",
    "#import cufflinks as cf\n",
    "import matplotlib.dates as mdate\n",
    "import matplotlib.ticker as ticker\n",
    "from matplotlib import cm\n",
    "#from colorspacious import cspace_converter\n",
    "import scipy.stats as stats\n",
    "#cf.go_offline()\n",
    "#cf.set_config_file(offline=False, world_readable=True)\n",
    "\n",
    "from datetime import datetime, timedelta\n",
    "import sys\n",
    "sys.path.insert(0, os.path.join(datapath,'PythonScripts'))\n",
    "from Loobos_Toolbox import dateparse, dateparse_Gapfilled, Read_LoobosEddFinal, Read_LooStor, Read_LoodatGapfill, Read_Loobos_halfhourly, Read_Loobos_meteo, Read_Loobos_soil, Read_Loobos_profile\n",
    "from Ags_model import runAgs, calc_LE"
   ]
  },
  {
   "cell_type": "code",
   "execution_count": null,
   "id": "6ecd4fbe-bb75-4187-85d1-6728a7da3996",
   "metadata": {},
   "outputs": [],
   "source": [
    "import matplotlib.dates as mdates"
   ]
  },
  {
   "cell_type": "code",
   "execution_count": null,
   "id": "244e6ea2",
   "metadata": {},
   "outputs": [],
   "source": [
    "#these next two lines are to prevent re-loading the data. If you want to re-load data, instead comment them out\n",
    "if not 'progress' in globals(): progress = list()\n",
    "if not 'dataloaded' in progress:\n",
    "  # Read files\n",
    "    df_EC           = Read_LoobosEddFinal    (years,datapath)\n",
    "    df_Stor         = Read_LooStor           (years,datapath)\n",
    "    df_Comb         = Read_LoodatGapfill     (years,datapath)\n",
    "    df_NEE          = Read_Loobos_halfhourly (years,datapath)\n",
    "    df_meteo        = Read_Loobos_meteo      (years,datapath)\n",
    "    df_soil         = Read_Loobos_soil       (years,datapath) \n",
    "    df_profile      = Read_Loobos_profile    (years,datapath)\n",
    "    progress.append('dataloaded')"
   ]
  },
  {
   "cell_type": "code",
   "execution_count": null,
   "id": "3e66087c",
   "metadata": {},
   "outputs": [],
   "source": [
    "# Make filter for GPP orginial data and not gapfilled\n",
    "#General filters\n",
    "I = ((df_Comb['GPP_fqc']==0)&(df_meteo['PAR']>0))\n",
    "#t = df_profile.index                                          \n",
    "#time = (t < np.datetime64('2013-05-08')) | (t > np.datetime64('2013-06-01'))\n",
    "\n",
    "# Filter for CO2 data\n",
    "CO2_filt = (df_profile['CO2level1'] > 300)\n",
    "\n",
    "# Filter for L(o)corr data\n",
    "Locorr_filt = (df_meteo['L(o)corr']>0) \n",
    "\n",
    "# Filter for VPD data\n",
    "VPD_filt = (df_Comb['VPD']>=0)\n",
    "\n",
    "# Filter for U-star\n",
    "Ustar_filt = (df_EC['U-star']>=0)\n",
    "\n",
    "# Combine all filters\n",
    "filter = I & CO2_filt & Locorr_filt & VPD_filt & Ustar_filt\n",
    "\n",
    "#Column 'CO2' is input from df_profile\n",
    "df_profile_filter = df_profile[filter]\n",
    "\n",
    "#Column 'L(o)corr' and 'PAR' are inputs from df_meteo\n",
    "df_meteo_filter = df_meteo[filter]\n",
    "\n",
    "#Columns 'VPD' and 'Tair' are inputs from df_Comb\n",
    "df_Comb_filter = df_Comb[filter]\n",
    "\n",
    "# Columns 'Mea_Windsp' and 'U-star' are inputs from df_EC\n",
    "df_EC_filter = df_EC[filter]"
   ]
  },
  {
   "cell_type": "code",
   "execution_count": null,
   "id": "8e80a6f4-7d1f-4790-bfb2-abf3a2e81c81",
   "metadata": {},
   "outputs": [],
   "source": [
    "from FilterData import Filter_wrap\n",
    "CO2,Locorr,VPD,Ustar,df_profile_filter,df_meteo_filter,df_Comb_filter,df_EC_filter=Filter_wrap(df_Comb,df_profile,df_meteo,df_EC,filterversion='default')\n",
    "#NOTE: df_Stor is NOT FILTERED"
   ]
  },
  {
   "cell_type": "markdown",
   "id": "3567e641-42ef-4df8-aba7-99fd604bf7f6",
   "metadata": {},
   "source": [
    "## import rain"
   ]
  },
  {
   "cell_type": "code",
   "execution_count": null,
   "id": "0b5590bc-8a73-43f1-b170-8a5f04608453",
   "metadata": {},
   "outputs": [],
   "source": [
    "#datapath = os.path.join('../KNMI_regen')\n",
    "#print(datapath)\n",
    "knmi_regen=pd.read_csv('../KNMI_regen/neerslaggeg_KOOTWIJK-RADIO_567.txt',sep=',',header=17)\n",
    "knmi_regen=knmi_regen.iloc[28000:] #remove dataset before ~november 2007\n",
    "#knmi_regen=knmi_regen.iloc[31000:] #remove dataset before ~november 2007\n",
    "knmi_regen['date']=pd.to_datetime(knmi_regen['YYYYMMDD'],yearfirst=True,format='%Y%m%d')\n",
    "knmi_regen.index=knmi_regen['date']\n",
    "knmi_regen=knmi_regen.rename(columns={\"   RD\": \"RD\", \"   SX\": \"SX\"}) #for some reason there's spaces in some of the column names, removing them.\n",
    "knmi_regen=knmi_regen.astype({\"RD\": np.intc})\n",
    "knmi_regen['RD'].plot() #Column RD is is rain daily sum, SX is code related to snow. If unnamed contains 4 spaces it's also a code for snow. STN is station ID.\n",
    "df_rain=knmi_regen.loc[:,['RD']].resample('3H').ffill()\n",
    "#df_rain"
   ]
  },
  {
   "cell_type": "markdown",
   "id": "d023e582-c432-4b12-82de-a5adb6bfe773",
   "metadata": {},
   "source": [
    "## import fstr"
   ]
  },
  {
   "cell_type": "code",
   "execution_count": null,
   "id": "5c01970c-ea5f-4d2f-8079-f9fce74fbf4d",
   "metadata": {},
   "outputs": [],
   "source": [
    "## import fstr\n",
    "df_fstr = pd.read_csv('./fstrOutput/fstr_1D_norainydays.csv')\n",
    "#df_fstr = pd.read_csv('./fstrOutput/fstr_30m_norainydays.csv')\n",
    "#df_fstr = pd.read_csv('./fstrOutput/fstr_3H_norainydays.csv')\n",
    "#df_fstr = pd.read_csv('./fstrOutput/fstr_7D_norainydays.csv')"
   ]
  },
  {
   "cell_type": "code",
   "execution_count": null,
   "id": "8796124a-f377-4d0b-a144-da2281340648",
   "metadata": {},
   "outputs": [],
   "source": [
    "if df_fstr.index.name != 'dateindex':\n",
    "    df_fstr.rename(columns={'Unnamed: 0':'dateindex'},inplace=True)\n",
    "    df_fstr['dateindex']=pd.to_datetime(df_fstr['dateindex'])\n",
    "    df_fstr.index=df_fstr['dateindex']\n",
    "    df_fstr.drop(columns=['dateindex'], inplace=True)\n",
    "#df_fstr"
   ]
  },
  {
   "cell_type": "markdown",
   "id": "c1996767-09d3-441d-b711-cea73a750854",
   "metadata": {
    "jp-MarkdownHeadingCollapsed": true
   },
   "source": [
    "### Run A-gs model"
   ]
  },
  {
   "cell_type": "code",
   "execution_count": null,
   "id": "801ede28",
   "metadata": {},
   "outputs": [],
   "source": [
    "# Run A-gs model\n",
    "\n",
    "an_final,an_umol,rs, ra = runAgs(df_profile_filter,df_Comb_filter,df_meteo_filter,df_EC_filter,fstr=1.0)"
   ]
  },
  {
   "cell_type": "markdown",
   "id": "cb0753ef-8f5b-4b55-83db-ad31419a0e53",
   "metadata": {
    "jp-MarkdownHeadingCollapsed": true
   },
   "source": [
    "## Calcuate ET"
   ]
  },
  {
   "cell_type": "markdown",
   "id": "ac78d717-ea63-477c-9c43-8a29262f3143",
   "metadata": {},
   "source": [
    "### Assemble dataframe 'df_ET' that will hold output and fill with inputs"
   ]
  },
  {
   "cell_type": "code",
   "execution_count": null,
   "id": "1065217e-ea3f-4cfc-97af-76ad200b8c08",
   "metadata": {},
   "outputs": [],
   "source": [
    "def init_ETframe(rs_series):\n",
    "    df_ET = pd.concat([df_meteo['L(o)'],df_meteo['Te-L(o)'],df_profile['Pressure'],df_Comb['VPD'],df_Comb['rH'],df_meteo['P(mast)']],axis=1,sort=False)\n",
    "    #convert Pressure from hPa to kPa \n",
    "    df_ET['p_kPa']=df_ET['Pressure']/10\n",
    "    df_ET['VPD_adj']=df_ET['VPD'].loc[df_ET['VPD']>0] #some outlier values for VPD are negative, remove from dataset\n",
    "    df_ET['VPD_adj']=df_ET['VPD_adj']/10  # VPD from df_Comb is in hPa, I need kPa, so hPa/10 = kPa\n",
    "    df_ET['rs']=rs_series.to_frame(name=\"rs\")\n",
    "    df_ET['ra']=ra.to_frame(name=\"ra\")\n",
    "    return df_ET"
   ]
  },
  {
   "cell_type": "code",
   "execution_count": null,
   "id": "7cf1ead7-7694-4619-8496-bd27e4ece452",
   "metadata": {},
   "outputs": [],
   "source": [
    "df_ET=init_ETframe(rs)"
   ]
  },
  {
   "cell_type": "code",
   "execution_count": null,
   "id": "77211664-888c-4840-ba39-a1dde1890967",
   "metadata": {},
   "outputs": [],
   "source": [
    "df_ET=calc_LE(df_ET)"
   ]
  },
  {
   "cell_type": "code",
   "execution_count": null,
   "id": "d036f7d7-8b44-4236-ae20-e0dc562809c1",
   "metadata": {},
   "outputs": [],
   "source": [
    "df_ET_meas=df_Comb_filter.copy()\n",
    "df_ET_meas=df_ET_meas.loc[df_ET_meas['LE']>=0]\n",
    "#df_ET_meas=df_ET_meas.resample(\"M\").mean()\n",
    "#df_ET_meas['LE'].plot()"
   ]
  },
  {
   "cell_type": "markdown",
   "id": "a7f94f14-69d7-4d8a-a720-5531d86ec058",
   "metadata": {},
   "source": [
    "### calculate ET"
   ]
  },
  {
   "cell_type": "markdown",
   "id": "4ddc463c-0db0-4905-8e14-acc8f405d020",
   "metadata": {},
   "source": [
    "### H2O flux"
   ]
  },
  {
   "cell_type": "code",
   "execution_count": null,
   "id": "cf194f7b-9be7-494e-9ed2-6bfd232baf08",
   "metadata": {},
   "outputs": [],
   "source": [
    "# Add in precipitation last 3h and 24 hour values so it can be used for filtering\n",
    "df_ET['last3day_prec']=df_ET['P(mast)'].rolling('72H').sum()"
   ]
  },
  {
   "cell_type": "markdown",
   "id": "39eb7b8a-ba39-4a3f-9c85-895bac837881",
   "metadata": {
    "jp-MarkdownHeadingCollapsed": true
   },
   "source": [
    "## fstr analysis"
   ]
  },
  {
   "cell_type": "markdown",
   "id": "cc2233c0-6976-4dfd-bc5e-41fdd9cb240f",
   "metadata": {},
   "source": [
    "### step 1 assemble dataframe and chop up according to each week"
   ]
  },
  {
   "cell_type": "code",
   "execution_count": null,
   "id": "9bb806dd-b72a-4b01-8c75-cbc4bf0cc74e",
   "metadata": {},
   "outputs": [],
   "source": [
    "    #st=\"2017-06-01\" \n",
    "    #ed=\"2017-12-30\"\n",
    "#df_meteo['L(o)corr'].loc[df_meteo['L(o)corr']>0].plot()\n",
    "#df_meteo.loc[st:ed,'L(o)corr'].plot()\n",
    "    #df_meteo['L(o)corr'].plot()"
   ]
  },
  {
   "cell_type": "code",
   "execution_count": null,
   "id": "5d99e5fa-4315-4c62-a720-ade8c2964def",
   "metadata": {},
   "outputs": [],
   "source": [
    "df_tmp30m=pd.DataFrame()\n",
    "df_tmp30m['ET']=df_ET['ET_VPD']\n",
    "df_tmp30m['P(mast)']=df_ET['P(mast)']\n",
    "df_tmp30m=df_tmp30m.dropna()"
   ]
  },
  {
   "cell_type": "code",
   "execution_count": null,
   "id": "8a3720e5-1fcf-4b97-b67c-d61e4b66a7e8",
   "metadata": {},
   "outputs": [],
   "source": [
    "df_tmp30m=pd.DataFrame()\n",
    "df_tmp30m['ET']=df_ET['ET_VPD']\n",
    "df_tmp30m['P(mast)']=df_ET['P(mast)']\n",
    "df_tmp30m=df_tmp30m.dropna()\n",
    "\n",
    "df_LE=df_Comb['LE'].loc[df_Comb['LE']>=0]\n",
    "df_tmp30m=df_tmp30m.merge(df_LE, how='inner',left_index=True, right_index=True)\n",
    "\n",
    "#df_tmp30['ET/LE']=df_tmp30['ET']/df_tmp30['LE']\n",
    "#df_tmp30m['LE/ET']=df_tmp30m['LE']/df_tmp30m['ET'] #<- this is the one we want, observations/model. If obs/model = fstr, then model*fstr= model(obs/model) = obs\n",
    "\n",
    "df_tmp30m['P_3day']=df_tmp30m['P(mast)'].rolling('72H').sum()\n",
    "#df_tmp30m=df_tmp30m.loc[df_tmp30m['P_3day']==0]\n",
    "\n",
    "df_tmp3h=df_tmp30m.resample('3H').mean()#.between_time(\"09:00\", \"15:00\")\n",
    "df_tmp3h['P(mast)']=df_tmp30m['P(mast)'].resample('3H').sum() #overwrite the averaged pmast with sum pmast\n",
    "df_tmp3h['P_3day']=df_tmp3h['P(mast)'].rolling('72H').sum() #overwrite the correct P_3day\n",
    "\n",
    "#remove rainy days through knmi data\n",
    "df_tmp3h['RD']=df_rain['RD']\n",
    "df_tmp3h['RD']=df_tmp3h['RD']/10 #convert from tenths of mm to mm\n",
    "df_tmp3h=df_tmp3h.loc[df_tmp3h['RD']==0]\n",
    "\n",
    "#remove rainy days through Pmast\n",
    "df_rain3h_dailymax=df_tmp3h['P(mast)'].resample('1D').sum().resample('3H').ffill()\n",
    "df_rain3h_dailymax=df_rain3h_dailymax[:-1] #remove last entry because all 3h frames end on 21:00 not 00:00\n",
    "df_rain3h_dailymax=df_rain3h_dailymax.rename('P(mast)Dmax')\n",
    "df_tmp3h['P(mast)Dmax']=df_rain3h_dailymax\n",
    "df_tmp3h=df_tmp3h.loc[df_tmp3h['P(mast)Dmax']==0]\n",
    "\n",
    "#manual filter remove bad days\n",
    "listofdates =  ['2008-08-24',\n",
    "                '2010-05-11',\n",
    "                '2010-08-04',\n",
    "                '2012-06-13',\n",
    "                '2013-05-10',\n",
    "                '2013-05-19',\n",
    "                '2014-06-16',\n",
    "                '2017-04-22']\n",
    "\n",
    "#for date in listofdates:\n",
    "#    df_tmp3h.loc[date+' 00:00':date+' 21:00','ET'] = np.nan\n",
    "#    df_tmp3h.loc[date+' 00:00':date+' 21:00','LE'] = np.nan\n",
    "\n",
    "#remove hours outside of 9:00 and 15:00\n",
    "df_tmp3h=df_tmp3h.between_time(\"09:00\", \"15:00\")\n",
    "\n",
    "#resample to daily\n",
    "df_tmp1d=df_tmp3h.resample('1D').mean()\n",
    "df_tmp1d['doy']=df_tmp1d.index.dayofyear\n",
    "df_tmp1d['P(mast)sum']=df_tmp3h['P(mast)'].resample('1D').sum()\n",
    "df_tmp1d['LE/ET']=df_tmp1d['LE']/df_tmp1d['ET']\n",
    "\n",
    "#resample to weekly (7 days)\n",
    "df_tmp7d=df_tmp3h.resample('7D').mean()\n",
    "df_tmp7d['LE/ET']=df_tmp7d['LE']/df_tmp7d['ET']"
   ]
  },
  {
   "cell_type": "markdown",
   "id": "bc0c0ed3-4ef4-4129-835e-34b035a95ea6",
   "metadata": {
    "jp-MarkdownHeadingCollapsed": true
   },
   "source": [
    "## plotting weekly fstr"
   ]
  },
  {
   "cell_type": "code",
   "execution_count": null,
   "id": "eacd77ed-32ef-4bf0-a51c-0510777e1286",
   "metadata": {},
   "outputs": [],
   "source": [
    "#plt.rcParams[\"figure.figsize\"] = plt.rcParamsDefault\n",
    "#plt.rcParams.update(plt.rcParamsDefault)\n",
    "plt.rcParams[\"figure.figsize\"] = (20,6)\n",
    "\n",
    "#remove non-growthseason values\n",
    "df_tmp7d=df_tmp7d.loc[(df_tmp7d.index.month>=4) & (df_tmp7d.index.month<=9)]\n",
    "\n",
    "df_tmp7d['weeknr']=df_tmp7d.index.isocalendar().week\n",
    "\n",
    "#df_tmp7d=df_tmp7d.loc[df_tmp7d['LE/ET']<=1.0]\n",
    "\n",
    "#df_tmp\n",
    "\n",
    "#df_tmp['ET/LE'].plot(ylim=(0,15))\n",
    "\n",
    "fig,ax = plt.subplots()\n",
    "ax.set_ylim(0,1.5)\n",
    "ax.set_ylabel('fstr (=LEobs/LEsim)')\n",
    "ax.set_xlabel('weeknr')\n",
    "\n",
    "plt.xticks([x for x in range(14,41)]) #this sets the xticks for the main x-axis with the weeknr\n",
    "locs, labels=plt.xticks() #this same function with no argument gets the position and labels and stores them for later\n",
    "\n",
    "ax2 = ax.twiny()\n",
    "fig.subplots_adjust(bottom=0.2)\n",
    "\n",
    "# Move twinned axis ticks and label from top to bottom\n",
    "ax2.xaxis.set_ticks_position(\"bottom\")\n",
    "ax2.xaxis.set_label_position(\"bottom\")\n",
    "\n",
    "# Offset the twin axis below the host\n",
    "ax2.spines[\"bottom\"].set_position((\"axes\", -0.15))\n",
    "\n",
    "# Turn on the frame for the twin axis, but then hide all \n",
    "# but the bottom spine\n",
    "ax2.set_frame_on(True)\n",
    "ax2.patch.set_visible(False)\n",
    "\n",
    "ax2.set_xlabel('approx month')\n",
    "ax2.set_xlim(13,41)\n",
    "ax2.set_xticks([14, 18, 22, 26,  30, 34, 39])\n",
    "ax2.set_xticklabels(['Apr', 'May', 'Jun', 'Jul', 'Aug', 'Sep', 'Oct'])\n",
    "\n",
    "colored_years={'2003':'green','2006':'orange','2011':'#b62020','2013':'purple','2018':'blue'}\n",
    "\n",
    "for year in ['2001','2002','2003','2004','2005','2006','2007','2008','2009','2010','2011','2012','2013','2014','2015','2017','2018','2019']:\n",
    "    start=year+'-01-01 01:00'\n",
    "    end=year+'-12-23 23:00'\n",
    "    if year in colored_years.keys():\n",
    "        color=colored_years[year]\n",
    "        marker='^'\n",
    "    else:\n",
    "        color='grey'\n",
    "        marker=''\n",
    "    #marker={'2008':'^','2009':'^','2010':'^','2011':'^','2012':'o','2013':'^','2014':'o','2015':'^','2016':'o','2017':'o','2018':'^'}\n",
    "    #colors={'2008':'#b62020','2009':'#cb2424','2010':'^','2011':'^','2012':'o','2013':'^','2014':'o','2015':'^','2016':'o','2017':'o','2018':'^'}\n",
    "    #df_tmp.loc[start:end,'ET/LE'].plot(x=df_tmp.loc[start:end,'weeknr'],ylim=(0,15))\n",
    "    ax.plot(df_tmp7d.loc[start:end,'weeknr'],df_tmp7d.loc[start:end,'LE/ET'], marker=marker,color=color ,label=year) #marker=marker[year]\n",
    "ax.legend(loc=(\"upper left\"))\n",
    "fig.suptitle('fstr (=LEobs/LEsim) on week-basis for april t/m sept, 09:00-15:00, rainy days removed')\n",
    "ax.set_title('fstr=0: witing point , fstr=1: no water stress')\n",
    "ax.grid()"
   ]
  },
  {
   "cell_type": "code",
   "execution_count": null,
   "id": "da98fbf3-4cc5-4db4-a712-d4171f3c7f23",
   "metadata": {},
   "outputs": [],
   "source": [
    "st=\"2014-04-22\"\n",
    "ed=\"2014-06-28\"\n",
    "#df_tmp30.loc[st:ed,'ET'].plot()\n",
    "#df_tmp30.loc[st:ed,'LE'].plot()\n",
    "#df_ET.loc[st:ed,'P(mast)'].plot()\n",
    "\n",
    "#df_tmp.loc[st:ed]\n",
    "#df_ET.loc[st:ed,'P(mast)'].plot()"
   ]
  },
  {
   "cell_type": "code",
   "execution_count": null,
   "id": "e0d8a608-8b70-4e12-9268-c631cc9978c1",
   "metadata": {},
   "outputs": [],
   "source": [
    "df_tmp30['fstr_over1']=df_tmp30['LE/ET']>1\n",
    "\n",
    "print(df_tmp30['fstr_over1'].sum())\n",
    "print(df_tmp30.size)\n",
    "print(df_tmp30['fstr_over1'].sum()/df_tmp30.size)\n",
    "\n",
    "#df_tmp30#=df_tmp30.resample('3H').mean()#.between_time(\"09:00\", \"15:00\")\n"
   ]
  },
  {
   "cell_type": "code",
   "execution_count": null,
   "id": "7d439da5-1533-42ce-8aff-10173c4c5cd7",
   "metadata": {},
   "outputs": [],
   "source": [
    "df_tmp30['LE/ET'].plot(kind=)"
   ]
  },
  {
   "cell_type": "markdown",
   "id": "36aea404-37b0-4371-a550-b91ee1ec616e",
   "metadata": {},
   "source": [
    "# Groundwater"
   ]
  },
  {
   "cell_type": "markdown",
   "id": "ef00602d-c608-40e3-af1c-7f01e26ac3c2",
   "metadata": {},
   "source": [
    "## Import Groundwater data"
   ]
  },
  {
   "cell_type": "code",
   "execution_count": null,
   "id": "f823fc7e-c14b-495a-ade2-940033632422",
   "metadata": {},
   "outputs": [],
   "source": [
    "df_GWS = pd.read_csv('./GWS_daily.csv')"
   ]
  },
  {
   "cell_type": "code",
   "execution_count": null,
   "id": "3f4b1ec4-233a-429e-b362-9faa447dfdbd",
   "metadata": {},
   "outputs": [],
   "source": [
    "if df_GWS.index.name != 'datetime':\n",
    "    df_GWS['datetime']=pd.to_datetime(df_GWS['datetime'])\n",
    "    df_GWS.index=df_GWS['datetime']\n",
    "    df_GWS.drop(columns=['datetime'], inplace=True)"
   ]
  },
  {
   "cell_type": "code",
   "execution_count": null,
   "id": "4137b3b5-2641-432c-b392-abee94eff6ee",
   "metadata": {},
   "outputs": [],
   "source": [
    "df_GWS_multi = pd.read_csv('./GWS_multi_daily.csv')"
   ]
  },
  {
   "cell_type": "code",
   "execution_count": null,
   "id": "d451192a-65b1-4702-bb18-112f1f6783bc",
   "metadata": {},
   "outputs": [],
   "source": [
    "if df_GWS_multi.index.name != 'dateindex':\n",
    "    df_GWS_multi.rename(columns={'Unnamed: 0':'dateindex'},inplace=True)\n",
    "    df_GWS_multi['dateindex']=pd.to_datetime(df_GWS_multi['dateindex'])\n",
    "    df_GWS_multi.index=df_GWS_multi['dateindex']\n",
    "    df_GWS_multi.drop(columns=['dateindex'], inplace=True)"
   ]
  },
  {
   "cell_type": "code",
   "execution_count": null,
   "id": "177653b6-d557-4b3c-b579-e407a316d70d",
   "metadata": {},
   "outputs": [],
   "source": [
    "df_GWS"
   ]
  },
  {
   "cell_type": "code",
   "execution_count": null,
   "id": "32c7fc86-c786-466c-9bf6-61db6702ba14",
   "metadata": {},
   "outputs": [],
   "source": [
    "df_GWS_multi"
   ]
  },
  {
   "cell_type": "markdown",
   "id": "e3462189-9b48-4f4c-99f0-ead16d9b4990",
   "metadata": {},
   "source": [
    "## Plot fstr over GWS change since april"
   ]
  },
  {
   "cell_type": "code",
   "execution_count": null,
   "id": "6492d2d5-8700-413f-8244-b63ef8849454",
   "metadata": {},
   "outputs": [],
   "source": [
    "plt.rcParams[\"figure.figsize\"] = (6.4, 4.8)\n",
    "\n",
    "#parallel processing\n",
    "\n",
    "#df_GWS_multi7d=df_GWS_multi.iloc[:,2:].resample('7D').mean()\n",
    "\n",
    "df_1d=pd.DataFrame()\n",
    "\n",
    "df_1d=df_tmp3h.resample('1D').mean()\n",
    "\n",
    "#df_1d=df_tmp30m.resample('1D').mean()\n",
    "#df_1d['P(mast)']=df_tmp30m['P(mast)'].resample('1D').sum() #precip needs to be sum, not mean.\n",
    "\n",
    "df_1d=df_1d.loc[df_1d['P(mast)']==0.0]\n",
    "df_1d=df_1d.loc[df_1d['RD']==0.0] #knmi rain data\n",
    "\n",
    "df_1d['LE/ET']=df_1d['LE']/df_1d['ET']\n",
    "df_1d=df_1d.loc[df_1d['LE/ET']<1.2]\n",
    "\n",
    "#df_1d=df_1d.merge(df_GWS_multi['GWS_2003_diff'], how='inner',left_index=True, right_index=True)\n",
    "#df_1d=df_1d.merge(dfGWS['anom'], how='inner',left_index=True, right_index=True)\n",
    "\n",
    "fig, ax = plt.subplots()\n",
    "\n",
    "for year in range(2001,2020):\n",
    "    \n",
    "    st=str(year)+\"-04-01\"\n",
    "    ed=str(year)+\"-09-30\"\n",
    "    st2=\"2000-04-01\" #due to df_GWS_multi being indexed to the year 2000, we need extra set of st and ed\n",
    "    ed2=\"2000-09-30\"\n",
    "    GWS_key='GWS_'+str(year)+'_diff' #the column name to ask for\n",
    "    df_tmp=pd.DataFrame()\n",
    "    df_tmp[GWS_key]=df_GWS_multi.loc[st2:ed2,[GWS_key]]\n",
    "    df_tmp['rel_date'] = df_tmp.index.strftime(date_format=str(year)+'-%m-%d')\n",
    "    df_tmp['rel_date'] = pd.to_datetime(df_tmp['rel_date'],format='%Y-%m-%d')\n",
    "    df_tmp.index=df_tmp['rel_date']\n",
    "    #print(df_tmp.index)\n",
    "\n",
    "    df_tmp=df_tmp.merge(df_1d.loc[st:ed,['LE/ET']], how='inner',left_index=True, right_index=True)\n",
    "    ax.scatter(df_tmp[GWS_key],df_tmp['LE/ET'],color='b',s=5)\n",
    "    ax.set_xlabel('GW delta')\n",
    "    ax.set_ylabel('fstr')\n",
    "    #ax.set_xlim(-5,90)\n",
    "    #ax.set_ylim(0,1.2)\n",
    "    ax.set_title('fstr over groundwater level change since april, \\n ')\n",
    "\n",
    "    #plt.show()\n",
    "\n",
    "#df_GWS_multi7d"
   ]
  },
  {
   "cell_type": "code",
   "execution_count": null,
   "id": "570c9f05-7ab0-4f28-a2c8-49ba740e724f",
   "metadata": {},
   "outputs": [],
   "source": [
    "plt.rcParams[\"figure.figsize\"] = (6.4, 4.8)\n",
    "\n",
    "#sequential processing of GWS diff\n",
    "#df_GWS_multi7d=df_GWS_multi.iloc[:,2:].resample('7D').mean()\n",
    "\n",
    "df_1d=pd.DataFrame()\n",
    "\n",
    "df_1d=df_tmp3h.resample('1D').mean()\n",
    "\n",
    "#df_1d=df_tmp30m.resample('1D').mean()\n",
    "#df_1d['P(mast)']=df_tmp30m['P(mast)'].resample('1D').sum() #precip needs to be sum, not mean.\n",
    "\n",
    "df_1d=df_1d.loc[df_1d['P(mast)']==0.0]\n",
    "df_1d=df_1d.loc[df_1d['RD']==0.0] #knmi rain data\n",
    "\n",
    "df_1d['LE/ET']=df_1d['LE']/df_1d['ET']\n",
    "df_1d=df_1d.loc[df_1d['LE/ET']<1.0]\n",
    "\n",
    "df_1d_seq=pd.DataFrame() #sequential dataframe\n",
    "\n",
    "for year in range(2001,2020):\n",
    "    \n",
    "    st=str(year)+\"-04-01\"\n",
    "    ed=str(year)+\"-09-30\"\n",
    "    st2=\"2000-04-01\" #due to df_GWS_multi being indexed to the year 2000, we need extra set of st and ed\n",
    "    ed2=\"2000-09-30\"\n",
    "    GWS_key='GWS_'+str(year)+'_diff' #the column name to ask for\n",
    "    df_tmp=pd.DataFrame()\n",
    "    df_tmp[GWS_key]=df_GWS_multi.loc[st2:ed2,[GWS_key]]\n",
    "    df_tmp['rel_date'] = df_tmp.index.strftime(date_format=str(year)+'-%m-%d')\n",
    "    df_tmp['rel_date'] = pd.to_datetime(df_tmp['rel_date'],format='%Y-%m-%d')\n",
    "    df_tmp.index=df_tmp['rel_date']\n",
    "    df_tmp=df_tmp.merge(df_1d.loc[st:ed,['LE/ET']], how='inner',left_index=True, right_index=True)\n",
    "    #after this merge is done we can rename the GWS column\n",
    "    df_tmp.rename(columns={GWS_key:'GWS_diff'},inplace=True)\n",
    "    #print(df_tmp.columns)\n",
    "    df_1d_seq = pd.concat([df_1d_seq,df_tmp],axis='index') #vertical join, along index\n",
    "    df_1d_seq = df_1d_seq.dropna() #remove entries where there are at least one nan\n",
    "\n",
    "df_1d_seq=df_1d_seq.resample('7D').mean()\n",
    "df_1d_seq=df_1d_seq.dropna()\n",
    "\n",
    "fig, ax = plt.subplots()\n",
    "ax.scatter(df_1d_seq['GWS_diff'],df_1d_seq['LE/ET'],color='b',s=5)\n",
    "\n",
    "slope, intercept, r_value, p_value, std_err = stats.linregress(df_1d_seq['GWS_diff'],df_1d_seq['LE/ET'])  #linregres x, y . note r_value is Pearson's coefficient. R^2 is r_value**2\n",
    "print('R2: ',r_value**2)\n",
    "print('slope, intercept:', slope, intercept)\n",
    "ax.axline((0.0,intercept),slope=slope,c='r',label='slope')\n",
    "#ax.axline ((0.0,0.0), slope=1, c='r',linestyle='dashed',label='1:1')\n",
    "\n",
    "ax.set_xlabel('GW change since april 1st of that year [cm]')\n",
    "ax.set_ylabel('fstr [-]')\n",
    "#ax.set_xlim(-5,90)\n",
    "#ax.set_ylim(0,1.2)\n",
    "fig.suptitle('fstr over groundwater change since april 1st (weekly average)')\n",
    "ax.set_title('intercept = {:.3f}, slope = {:.3f}, R2 = {:.3f}'.format(intercept,slope,r_value**2))\n",
    "ax.legend(loc='upper right')\n",
    "\n",
    "plt.show()\n",
    "#df_1d_seq.head(50)\n",
    "\n",
    "#df_GWS_multi7d"
   ]
  },
  {
   "cell_type": "markdown",
   "id": "12d03422-3c94-4622-ad52-4dd2a0e5a596",
   "metadata": {},
   "source": [
    "## end of Plot fstr over GWS change since april"
   ]
  },
  {
   "cell_type": "markdown",
   "id": "30e1c6a8-159e-49dd-8db0-91788fdb9688",
   "metadata": {},
   "source": [
    "## Plot fstr over GWS anom"
   ]
  },
  {
   "cell_type": "code",
   "execution_count": null,
   "id": "0bb8de16-27e8-434d-8de7-a449ae7144ff",
   "metadata": {},
   "outputs": [],
   "source": [
    "#proof of concept snippet\n",
    "e=df_tmp30m.loc['2003-01-01':'2003-01-15',['P(mast)']]\n",
    "e=e.resample('3H').sum()\n",
    "#e['event']=e.any(e['P(mast)']!=0.0)\n",
    "\n",
    "e['time_since']=np.nan\n",
    "counter=0\n",
    "\n",
    "for index, row in e.iterrows():\n",
    "    if row['P(mast)']==0.0:\n",
    "        counter=counter+1\n",
    "        e.loc[index,'time_since']=counter\n",
    "    else:\n",
    "        counter=0\n",
    "        e.loc[index,'time_since']=counter\n",
    "\n",
    "#e.head(40)"
   ]
  },
  {
   "cell_type": "code",
   "execution_count": null,
   "id": "fbab4558-ac1d-4506-94ec-043e5f11bba2",
   "metadata": {},
   "outputs": [],
   "source": [
    "#old method\n",
    "#new location put 88\n",
    "dir = '../Dinoloket_2024-01-20/Grondwaterstanden_Put/B32F0088001_1_edit.csv'\n",
    "df_GWS=pd.read_csv(dir,sep=\",\",index_col=False)\n",
    "df_GWS=df_GWS.drop(['Locatie','Filternummer','Bijzonderheid','Opmerking'], axis=1)\n",
    "#df_GWS['Peildatum']=df_GWS['Peildatum']+\" 12:00\"\n",
    "df_GWS['datetime']=pd.to_datetime(df_GWS['Peildatum'], dayfirst=True, format='mixed')\n",
    "df_GWS.index = df_GWS['datetime']\n",
    "df_GWS=df_GWS.drop(['Peildatum','datetime'], axis=1)\n",
    "st=\"2001-01-01\"\n",
    "ed=\"2019-12-30\"\n",
    "df_GWS=df_GWS.loc[st:ed]\n",
    "avg_GWS = df_GWS['Stand (cm t.o.v. MV)'].mean()\n",
    "df_GWS['anom'] = df_GWS.loc[st:ed,'Stand (cm t.o.v. MV)']-avg_GWS\n",
    "\n",
    "df_GWS_7d=df_GWS.resample('7D').interpolate()\n",
    "avg_GWS_7d = df_GWS_7d['Stand (cm t.o.v. MV)'].mean()\n",
    "df_GWS_7d['anom']=df_GWS_7d.loc[st:ed,'Stand (cm t.o.v. MV)']-avg_GWS_7d\n",
    "df_GWS_7d.index=df_GWS_7d.index.astype('datetime64[s]')"
   ]
  },
  {
   "cell_type": "code",
   "execution_count": null,
   "id": "abb16af5-c0b9-4443-97d7-ceb46ef6e700",
   "metadata": {},
   "outputs": [],
   "source": [
    "#old plot\n",
    "df_tmp30m=pd.DataFrame()\n",
    "df_tmp30m['ET']=df_ET['ET_VPD']\n",
    "df_tmp30m=df_tmp30m.dropna()\n",
    "\n",
    "df_LE=df_Comb['LE'].loc[df_Comb['LE']>=0]\n",
    "df_tmp30m=df_tmp30m.merge(df_LE, how='inner',left_index=True, right_index=True)\n",
    "df_1d=df_tmp30m.resample('1D').sum()\n",
    "\n",
    "df_1d['LE/ET']=df_1d['LE']/df_1d['ET']\n",
    "df_1d=df_1d.loc[df_1d['LE/ET']<1.0]\n",
    "\n",
    "fig,ax = plt.subplots()\n",
    "\n",
    "st=\"2011-04-01\"\n",
    "ed=\"2011-09-30\"\n",
    "\n",
    "\n",
    "df_1d=df_1d.merge(df_GWS['anom'], how='inner',left_index=True, right_index=True)\n",
    "#df_1d=df_1d.merge(dfGWS['anom'], how='inner',left_index=True, right_index=True)\n",
    "\n",
    "ax.scatter(df_1d['anom'],df_1d['LE/ET'])"
   ]
  },
  {
   "cell_type": "code",
   "execution_count": null,
   "id": "27276818-dfba-4efb-87ff-8eef8d28f6b0",
   "metadata": {},
   "outputs": [],
   "source": [
    "#plt.rcParams[\"figure.figsize\"] = plt.rcParamsDefault\n",
    "#plt.rcParams.update(plt.rcParamsDefault)\n",
    "plt.rcParams[\"figure.figsize\"] = (6,6)\n",
    "\n",
    "#df_tmp7d_1=df_tmp7d.copy()\n",
    "#df_tmp1d_1=df_tmp1d_1.loc[df_tmp1d_1['LE/ET']<1.0]\n",
    "\n",
    "fig,ax = plt.subplots()\n",
    "\n",
    "#st=\"2011-04-01\"\n",
    "#ed=\"2011-09-30\"\n",
    "\n",
    "#df_GWS_7d['Stand (cm t.o.v. MV)']\n",
    "df_tmp7d_1=pd.merge_asof(df_tmp7d,df_GWS_7d['anom'],left_index=True, right_index=True,direction='backward')\n",
    "#df_1d=df_1d.merge(dfGWS['anom'], how='inner',left_index=True, right_index=True)\n",
    "\n",
    "ax.scatter(df_tmp7d_1['anom'],df_tmp7d_1['LE/ET'])\n",
    "\n",
    "ax.set_ylim(0,1)\n",
    "ax.set_title('weekly average fstr (only 9:00-15:00, no rainy days) over groundwater anomaly')\n",
    "#fstr over groundwater change since april 1st (weekly average)'\n",
    "ax.set_ylabel('fstr 7day mean')\n",
    "ax.set_xlabel('groundwater anomaly (cm) (positive value means deeper)')\n",
    "\n",
    "import scipy.stats as stats\n",
    "\n",
    "df_tmp7d_1=df_tmp7d_1.dropna()\n",
    "\n",
    "slope, intercept, r_value, p_value, std_err = stats.linregress(df_tmp7d_1['anom'], df_tmp7d_1['LE/ET']) #linregres x, y . note r_value is Pearson's coefficient. R^2 is r_value**2\n",
    "print('R2: ',r_value**2)\n",
    "print('slope, intercept:', slope, intercept)\n",
    "ax.axline((0.0,intercept),slope=slope,c='r',label='slope')\n",
    "#ax.axline ((0.0,0.0), slope=1, c='r',linestyle='dashed',label='1:1')"
   ]
  },
  {
   "cell_type": "code",
   "execution_count": null,
   "id": "87b250ad-6392-4fee-9da1-5d7cb623489a",
   "metadata": {},
   "outputs": [],
   "source": [
    "#plt.rcParams[\"figure.figsize\"] = plt.rcParamsDefault\n",
    "#plt.rcParams.update(plt.rcParamsDefault)\n",
    "plt.rcParams[\"figure.figsize\"] = (6,6)\n",
    "\n",
    "#df_tmp7d_1=df_tmp7d.copy()\n",
    "#df_tmp1d_1=df_tmp1d_1.loc[df_tmp1d_1['LE/ET']<1.0]\n",
    "\n",
    "fig,ax = plt.subplots()\n",
    "\n",
    "#st=\"2011-04-01\"\n",
    "#ed=\"2011-09-30\"\n",
    "\n",
    "#df_GWS_7d['Stand (cm t.o.v. MV)']\n",
    "df_tmp7d_1=pd.merge_asof(df_tmp7d,df_GWS_7d['Stand (cm t.o.v. MV)'],left_index=True, right_index=True,direction='backward')\n",
    "#df_1d=df_1d.merge(dfGWS['anom'], how='inner',left_index=True, right_index=True)\n",
    "\n",
    "ax.scatter(df_tmp7d_1['Stand (cm t.o.v. MV)'],df_tmp7d_1['LE/ET'])\n",
    "\n",
    "ax.set_ylim(0,1)\n",
    "ax.set_title('7-day average fstr (only 9:00-15:00, no rainy days) over groundwater depth')\n",
    "ax.set_ylabel('fstr 7day mean')\n",
    "ax.set_xlabel('groundwater depth (cm) (positive value means deeper)')\n",
    "\n",
    "import scipy.stats as stats\n",
    "\n",
    "slope, intercept, r_value, p_value, std_err = stats.linregress(df_tmp7d_1['Stand (cm t.o.v. MV)'], df_tmp7d_1['LE/ET']) #linregres x, y . note r_value is Pearson's coefficient. R^2 is r_value**2\n",
    "print('R2: ',r_value**2)\n",
    "print('slope, intercept:', slope, intercept)\n",
    "ax.axline((0.0,intercept),slope=slope,c='r',label='slope')\n",
    "#ax.axline ((0.0,0.0), slope=1, c='r',linestyle='dashed',label='1:1')"
   ]
  },
  {
   "cell_type": "code",
   "execution_count": null,
   "id": "673a410e-8c7d-400b-9e01-a34f66d0e213",
   "metadata": {},
   "outputs": [],
   "source": [
    "df_soil_7d_sm3_mean=df_soil_7d['SM-003'].mean()\n",
    "df_soil_7d_lit_mean=df_soil_7d['SM-Lit'].mean()\n",
    "df_soil_7d['SM-003_anom']=df_soil_7d['SM-003']-df_soil_7d_sm3_mean\n",
    "df_soil_7d['SM-Lit_anom']=df_soil_7d['SM-Lit']-df_soil_7d_lit_mean"
   ]
  },
  {
   "cell_type": "code",
   "execution_count": null,
   "id": "7769e828-92fe-4e27-b682-de587d45771e",
   "metadata": {},
   "outputs": [],
   "source": []
  },
  {
   "cell_type": "markdown",
   "id": "a5ef6017-4936-44fe-a765-d058da0bbaf7",
   "metadata": {},
   "source": [
    "## Plot fstr over GWS anom"
   ]
  }
 ],
 "metadata": {
  "kernelspec": {
   "display_name": "Python 3 (ipykernel)",
   "language": "python",
   "name": "python3"
  },
  "language_info": {
   "codemirror_mode": {
    "name": "ipython",
    "version": 3
   },
   "file_extension": ".py",
   "mimetype": "text/x-python",
   "name": "python",
   "nbconvert_exporter": "python",
   "pygments_lexer": "ipython3",
   "version": "3.11.5"
  },
  "varInspector": {
   "cols": {
    "lenName": 16,
    "lenType": 16,
    "lenVar": 40
   },
   "kernels_config": {
    "python": {
     "delete_cmd_postfix": "",
     "delete_cmd_prefix": "del ",
     "library": "var_list.py",
     "varRefreshCmd": "print(var_dic_list())"
    },
    "r": {
     "delete_cmd_postfix": ") ",
     "delete_cmd_prefix": "rm(",
     "library": "var_list.r",
     "varRefreshCmd": "cat(var_dic_list()) "
    }
   },
   "oldHeight": 471.85,
   "position": {
    "height": "493.844px",
    "left": "1539.19px",
    "right": "20px",
    "top": "105px",
    "width": "344px"
   },
   "types_to_exclude": [
    "module",
    "function",
    "builtin_function_or_method",
    "instance",
    "_Feature"
   ],
   "varInspector_section_display": "block",
   "window_display": true
  }
 },
 "nbformat": 4,
 "nbformat_minor": 5
}
