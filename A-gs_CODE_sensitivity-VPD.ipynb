{
 "cells": [
  {
   "cell_type": "markdown",
   "id": "a2978442-0a0a-42b2-ac0f-8e6b685580d8",
   "metadata": {},
   "source": [
    "# A-gs model and implementation (simulation CO2 and H2O flux)"
   ]
  },
  {
   "cell_type": "markdown",
   "id": "c5053646-e207-4e8c-a62e-2a7f70ad0887",
   "metadata": {},
   "source": [
    "## Initialize data and model"
   ]
  },
  {
   "cell_type": "markdown",
   "id": "467470b3-2427-4ada-b14f-9ff26922d8ec",
   "metadata": {},
   "source": [
    "### Setup and fetch data"
   ]
  },
  {
   "cell_type": "code",
   "execution_count": null,
   "id": "515abf18",
   "metadata": {},
   "outputs": [],
   "source": [
    "# Settings\n",
    "Username   = 'Beheerder'\n",
    "years      = range(2008,2018)    #(1997,2021) # Set years to download"
   ]
  },
  {
   "cell_type": "code",
   "execution_count": null,
   "id": "fdb7f756",
   "metadata": {},
   "outputs": [],
   "source": [
    "import os\n",
    "datapath   = os.path.join('../')\n",
    "print('datapath is set to %s'%datapath)\n",
    "\n",
    "# !pip install numpy\n",
    "# !pip install pandas\n",
    "# !pip install matplotlib\n",
    "# !pip install plotly \n",
    "# !pip install cufflinks\n",
    "#!pip install colorspacious\n",
    "#!pip install seaborn\n",
    "\n",
    "import numpy as np\n",
    "import pandas as pd\n",
    "import matplotlib.pyplot as plt\n",
    "#import plotly.express as px\n",
    "#import cufflinks as cf\n",
    "import matplotlib.dates as mdate\n",
    "import matplotlib.ticker as ticker\n",
    "from matplotlib import cm\n",
    "#from colorspacious import cspace_converter\n",
    "import scipy.stats as stats\n",
    "#cf.go_offline()\n",
    "# cf.set_config_file(offline=False, world_readable=True)\n",
    "\n",
    "from datetime import datetime, timedelta\n",
    "import sys\n",
    "sys.path.insert(0, os.path.join(datapath,'PythonScripts'))\n",
    "from Loobos_Toolbox import dateparse, dateparse_Gapfilled, Read_LoobosEddFinal, Read_LooStor, Read_LoodatGapfill, Read_Loobos_halfhourly, Read_Loobos_meteo, Read_Loobos_soil, Read_Loobos_profile\n",
    "\n",
    "from Ags_model import runAgs, calc_LE"
   ]
  },
  {
   "cell_type": "code",
   "execution_count": null,
   "id": "244e6ea2",
   "metadata": {},
   "outputs": [],
   "source": [
    "#these next two lines are to prevent re-loading the data. If you want to re-load data, instead comment them out\n",
    "if not 'progress' in globals(): progress = list()\n",
    "if not 'dataloaded' in progress:\n",
    "  # Read files\n",
    "    df_EC           = Read_LoobosEddFinal    (years,datapath)\n",
    "    df_Stor         = Read_LooStor           (years,datapath)\n",
    "    df_Comb         = Read_LoodatGapfill     (years,datapath)\n",
    "    df_NEE          = Read_Loobos_halfhourly (years,datapath)\n",
    "    df_meteo        = Read_Loobos_meteo      (years,datapath)\n",
    "    df_soil         = Read_Loobos_soil       (years,datapath) \n",
    "    df_profile      = Read_Loobos_profile    (years,datapath)\n",
    "    progress.append('dataloaded')"
   ]
  },
  {
   "cell_type": "code",
   "execution_count": null,
   "id": "9a0da4d2-80c1-4123-b9b2-59f8804fad0f",
   "metadata": {},
   "outputs": [],
   "source": [
    "from FilterData import Filter_wrap\n",
    "CO2,Locorr,VPD,Ustar,df_profile_filter,df_meteo_filter,df_Comb_filter,df_EC_filter=Filter_wrap(df_Comb,df_profile,df_meteo,df_EC,filterversion='default')"
   ]
  },
  {
   "cell_type": "markdown",
   "id": "c1996767-09d3-441d-b711-cea73a750854",
   "metadata": {},
   "source": [
    "### Run A-gs model"
   ]
  },
  {
   "cell_type": "code",
   "execution_count": null,
   "id": "801ede28",
   "metadata": {},
   "outputs": [],
   "source": [
    "# Run A-gs model\n",
    "\n",
    "an_final_10,an_umol_10,rs_10, ra = runAgs(df_profile_filter,df_Comb_filter,df_meteo_filter,df_EC_filter,fstr=1.0)\n",
    "an_final_8,an_umol_8,rs_8, ra = runAgs(df_profile_filter,df_Comb_filter,df_meteo_filter,df_EC_filter,fstr=0.8)\n",
    "\n",
    "df_Comb_filter2 = df_Comb_filter.copy()\n",
    "df_Comb_filter2['VPD']=df_Comb_filter2['VPD']*1.1\n",
    "\n",
    "an_final_10a,an_umol_10a,rs_10a, ra_a = runAgs(df_profile_filter,df_Comb_filter2,df_meteo_filter,df_EC_filter,fstr=1.0)\n",
    "an_final_8a,an_umol_8a,rs_8a, ra_a = runAgs(df_profile_filter,df_Comb_filter2,df_meteo_filter,df_EC_filter,fstr=0.8)\n",
    "\n",
    "df_Comb_filter3 = df_Comb_filter.copy()\n",
    "df_Comb_filter3['VPD']= df_Comb_filter3['VPD']*0.2\n",
    "\n",
    "an_final_10b,an_umol_10b,rs_10b, ra_b = runAgs(df_profile_filter,df_Comb_filter3,df_meteo_filter,df_EC_filter,fstr=1.0)\n",
    "an_final_8b,an_umol_8b,rs_8b, ra_b = runAgs(df_profile_filter,df_Comb_filter3,df_meteo_filter,df_EC_filter,fstr=0.8)\n",
    "\n",
    "\n",
    "\n",
    "#an_final_10,an_umol_10,rs_10, ra = runAgs(df_profile_filter,df_Comb_filter,df_meteo_filter,df_EC_filter,fstr=1.0)\n",
    "#an_final_8,an_umol_8,rs_8, ra = runAgs(df_profile_filter,df_Comb_filter,df_meteo_filter,df_EC_filter,fstr=0.8)\n",
    "#an_final_6,an_umol_6,rs_6, ra = runAgs(df_profile_filter,df_Comb_filter,df_meteo_filter,df_EC_filter,fstr=0.6)\n",
    "#an_final_4,an_umol_4,rs_4, ra = runAgs(df_profile_filter,df_Comb_filter,df_meteo_filter,df_EC_filter,fstr=0.4)\n",
    "#an_final_2,an_umol_2,rs_2, ra = runAgs(df_profile_filter,df_Comb_filter,df_meteo_filter,df_EC_filter,fstr=0.2)\n"
   ]
  },
  {
   "cell_type": "code",
   "execution_count": null,
   "id": "e5e463bc-e9c2-4f15-b32d-10cf218323ac",
   "metadata": {},
   "outputs": [],
   "source": [
    "df_Comb_filter.resample(\"M\").mean()['VPD'].plot()\n",
    "df_Comb_filter2.resample(\"M\").mean()['VPD'].plot()\n",
    "df_Comb_filter3.resample(\"M\").mean()['VPD'].plot()"
   ]
  },
  {
   "cell_type": "code",
   "execution_count": null,
   "id": "f0e29326-97e2-4b0f-bb31-2e0d9e442438",
   "metadata": {},
   "outputs": [],
   "source": [
    "an_umol_8.resample(\"M\").mean().plot()\n",
    "an_umol_8a.resample(\"M\").mean().plot()\n",
    "an_umol_8b.resample(\"M\").mean().plot()"
   ]
  },
  {
   "cell_type": "markdown",
   "id": "cb0753ef-8f5b-4b55-83db-ad31419a0e53",
   "metadata": {},
   "source": [
    "## Calcuate ET"
   ]
  },
  {
   "cell_type": "markdown",
   "id": "ac78d717-ea63-477c-9c43-8a29262f3143",
   "metadata": {},
   "source": [
    "### Assemble dataframe 'df_ET' that will hold output and fill with inputs"
   ]
  },
  {
   "cell_type": "code",
   "execution_count": null,
   "id": "1065217e-ea3f-4cfc-97af-76ad200b8c08",
   "metadata": {},
   "outputs": [],
   "source": [
    "def init_ETframe(rs_series):\n",
    "    df_ET = pd.concat([df_meteo['L(o)'],df_meteo['Te-L(o)'],df_profile['Pressure'],df_Comb['VPD'],df_Comb['rH'],df_meteo['P(mast)']],axis=1,sort=False)\n",
    "    #convert Pressure from hPa to kPa \n",
    "    df_ET['p_kPa']=df_ET['Pressure']/10\n",
    "    df_ET['VPD_adj']=df_ET['VPD'].loc[df_ET['VPD']>0] #some outlier values for VPD are negative, remove from dataset\n",
    "    df_ET['VPD_adj']=df_ET['VPD_adj']/10  # VPD from df_Comb is in hPa, I need kPa, so hPa/10 = kPa\n",
    "    df_ET['rs']=rs_series.to_frame(name=\"rs\")\n",
    "    df_ET['ra']=ra.to_frame(name=\"ra\")\n",
    "    return df_ET"
   ]
  },
  {
   "cell_type": "code",
   "execution_count": null,
   "id": "7cf1ead7-7694-4619-8496-bd27e4ece452",
   "metadata": {},
   "outputs": [],
   "source": [
    "df_ET_10=init_ETframe(rs_10)\n",
    "df_ET_8=init_ETframe(rs_8)\n",
    "#df_ET_6=init_ETframe(rs_6)\n",
    "#df_ET_4=init_ETframe(rs_4)\n",
    "#df_ET_2=init_ETframe(rs_2)"
   ]
  },
  {
   "cell_type": "code",
   "execution_count": null,
   "id": "77211664-888c-4840-ba39-a1dde1890967",
   "metadata": {},
   "outputs": [],
   "source": [
    "df_ET_10=calc_LE(df_ET_10)\n",
    "df_ET_8=calc_LE(df_ET_8)\n",
    "#df_ET_6=calc_LE(df_ET_6)\n",
    "#df_ET_4=calc_LE(df_ET_4)\n",
    "#df_ET_2=calc_LE(df_ET_2)"
   ]
  },
  {
   "cell_type": "code",
   "execution_count": null,
   "id": "524ceff3-228c-4391-891d-3ffce61d5821",
   "metadata": {},
   "outputs": [],
   "source": [
    "#df_ET_10['L(o)_corr'].resample('M').mean().plot(label='mine',legend='y')\n",
    "#df_meteo_filter['L(o)corr'].resample('M').mean().plot(label='dataset',legend='y')"
   ]
  },
  {
   "cell_type": "code",
   "execution_count": null,
   "id": "f9ad2944-35f7-4b04-a752-826932787056",
   "metadata": {},
   "outputs": [],
   "source": [
    "df_ET_10['ET_VPD'].resample('M').mean().plot(label=\"1.0\",legend='yes')\n",
    "df_ET_8['ET_VPD'].resample('M').mean().plot(label=\"0.8\",legend='yes')\n",
    "#df_ET_6['ET_VPD'].resample('M').mean().plot(label=\"0.6\",legend='yes')\n",
    "#df_ET_4['ET_VPD'].resample('M').mean().plot(label=\"0.4\",legend='yes')\n",
    "#df_ET_2['ET_VPD'].resample('M').mean().plot(label=\"0.2\",legend='yes')\n",
    "#df_test['LE'].resample('M').mean().plot(label='measured',legend='yes')"
   ]
  },
  {
   "cell_type": "markdown",
   "id": "a7f94f14-69d7-4d8a-a720-5531d86ec058",
   "metadata": {},
   "source": [
    "### calculate ET"
   ]
  },
  {
   "cell_type": "code",
   "execution_count": null,
   "id": "377b44ff-e849-4e28-83fa-40add5c2f790",
   "metadata": {},
   "outputs": [],
   "source": [
    "#df_ET_10=calc_LE(df_ET,rs_10,ra_10)\n",
    "#df_ET_8=calc_LE(df_ET,rs_8,ra_8)\n",
    "#df_ET_6=calc_LE(df_ET,rs_6,ra_6) \n",
    "#df_ET_4=calc_LE(df_ET,rs_4,ra_4)\n",
    "#df_ET_2=calc_LE(df_ET,rs_2,ra_2)"
   ]
  },
  {
   "cell_type": "code",
   "execution_count": null,
   "id": "88ebcd7d-3cd0-4a95-ac6f-992f9e3e82fa",
   "metadata": {},
   "outputs": [],
   "source": [
    "#df_ET_10['ET_VPD'].resample(\"M\").mean().plot()\n",
    "#measured_data=df_Comb['LE'].loc[df_Comb['LE']>0].resample('M').mean()\n",
    "#measured_data.plot(legend=\"measured\")\n",
    "\n",
    "I_filter = ((df_Comb['GPP_fqc']==0)&(df_Comb['LE']>0)&(df_Comb['VPD'] > 0))\n",
    "\n",
    "#VPD_filter = (df_Comb['VPD'] > 0)\n",
    "df_test=df_Comb[I_filter]\n",
    "\n",
    "#df_test['LE'].resample('M').mean().plot()\n",
    "#df_Comb['LE'].resample('M').mean().plot()"
   ]
  },
  {
   "cell_type": "markdown",
   "id": "2868d56d-8dbe-44fd-a44d-a92bcfdc2c98",
   "metadata": {},
   "source": [
    "## Correlation plots"
   ]
  },
  {
   "cell_type": "code",
   "execution_count": null,
   "id": "4ee663f9-3941-4597-baf0-f823346b46ca",
   "metadata": {},
   "outputs": [],
   "source": [
    "#df_Comb_filter['GPP_f'].plot()"
   ]
  },
  {
   "cell_type": "markdown",
   "id": "9b23c893-b0f8-4a18-84ad-4d7c9853cdf9",
   "metadata": {},
   "source": [
    "### sens analsis"
   ]
  },
  {
   "cell_type": "code",
   "execution_count": null,
   "id": "81e98453-8726-4522-a5ef-dcd80d15035d",
   "metadata": {},
   "outputs": [],
   "source": [
    "start='2008-05-01 00:00'\n",
    "end='2018-08-30 00:00'\n",
    "\n",
    "sim_data_1=an_umol_8.loc[start:end].resample('3H').mean()#.between_time(\"11:00\", \"18:00\")\n",
    "sim_data_1=sim_data_1.dropna() #eliminate NaN entries created by the .loc slice\n",
    "sim_data_2=an_umol_8a.loc[start:end].resample('3H').mean()#.between_time(\"11:00\", \"18:00\")\n",
    "sim_data_2=sim_data_2.dropna() #eliminate NaN entries created by the .loc slice\n",
    "sim_data_2=sim_data_2.rename('sim_data_2') #turn into a named series so it works with df.merge() properly\n",
    "\n",
    "#measured_data=df_Comb_filter['GPP_f'].loc[start:end].resample('3H').mean()#.between_time(\"11:00\", \"18:00\")\n",
    "#measured_data=measured_data.dropna()\n",
    "\n",
    "df_tmp1 = pd.DataFrame()\n",
    "df_tmp1['sim_data_1']=sim_data_1\n",
    "df_tmp1=df_tmp1.merge(sim_data_2, how='inner',left_index=True, right_index=True)\n",
    "\n",
    "df_tmp1\n",
    "\n",
    "slope1, intercept1, r_value1, p_value1, std_err1 = stats.linregress(df_tmp1['sim_data_1'], df_tmp1['sim_data_2'])  #linregres x, y . note r_value is Pearson's coefficient. R^2 is r_value**2\n",
    "print('slope, intercept, R2:', slope1, intercept1, r_value1**2)\n",
    "\n",
    "fig,ax = plt.subplots()\n",
    "#p1=ax.scatter(df_tmp1['GPP_f'],df_tmp1['sim_data_1'],c=df_tmp1.index.hour,cmap='viridis') #scatter(x,y)\n",
    "p1=ax.scatter(df_tmp1['sim_data_1'],df_tmp1['sim_data_2'],marker='o',c=df_tmp1.index.hour,cmap='viridis') #scatter(x,y)\n",
    "ax.axline((0.0,intercept1),slope=slope1,c='black',label='reference')\n",
    "ax.axline ((0.0,0.0), slope=1, c='r',linestyle='dashed',label='1:1')\n",
    "ax.set_ylim(0,40)\n",
    "ax.set_xlim(0,40)\n",
    "ax.set_xlabel(r'An (reference run) [$\\mu molm^{-2}s^{-1}$]')\n",
    "ax.set_ylabel(r'An (VPD 110% run) [$\\mu molm^{-2}s^{-1}$]')\n",
    "fig.suptitle('Correlation of increased VPD to reference run for An, \\n (2008-2017 during growth seasons May-Oct.)')\n",
    "ax.set_title('intercept = {:.3f}, slope = {:.3f}, R2 = {:.3f}'.format(intercept1,slope1,r_value1**2))\n",
    "ax.legend(loc='upper left')\n",
    "fig.subplots_adjust(top=0.87) #fix the top margin text overlap  \n",
    "cbar=plt.colorbar(p1,ax=ax)\n",
    "cbar.ax.set_ylabel('Hour')"
   ]
  },
  {
   "cell_type": "code",
   "execution_count": null,
   "id": "dc21eb6f-65c6-441b-939c-233d3ef3ec34",
   "metadata": {},
   "outputs": [],
   "source": [
    "start='2017-05-01 00:00'\n",
    "end='2017-08-30 00:00'\n",
    "\n",
    "sim_data_1=an_umol_8.loc[start:end].resample('3H').mean()#.between_time(\"11:00\", \"18:00\")\n",
    "sim_data_1=sim_data_1.dropna() #eliminate NaN entries created by the .loc slice\n",
    "sim_data_2=an_umol_8b.loc[start:end].resample('3H').mean()#.between_time(\"11:00\", \"18:00\")\n",
    "sim_data_2=sim_data_2.dropna() #eliminate NaN entries created by the .loc slice\n",
    "sim_data_2=sim_data_2.rename('sim_data_2') #turn into a named series so it works with df.merge() properly\n",
    "\n",
    "#measured_data=df_Comb_filter['GPP_f'].loc[start:end].resample('3H').mean()#.between_time(\"11:00\", \"18:00\")\n",
    "#measured_data=measured_data.dropna()\n",
    "\n",
    "df_tmp1 = pd.DataFrame()\n",
    "df_tmp1['sim_data_1']=sim_data_1\n",
    "df_tmp1=df_tmp1.merge(sim_data_2, how='inner',left_index=True, right_index=True)\n",
    "\n",
    "df_tmp1\n",
    "\n",
    "slope1, intercept1, r_value1, p_value1, std_err1 = stats.linregress(df_tmp1['sim_data_1'], df_tmp1['sim_data_2'])  #linregres x, y . note r_value is Pearson's coefficient. R^2 is r_value**2\n",
    "print('slope, intercept, R2:', slope1, intercept1, r_value1**2)\n",
    "\n",
    "fig,ax = plt.subplots()\n",
    "#p1=ax.scatter(df_tmp1['GPP_f'],df_tmp1['sim_data_1'],c=df_tmp1.index.hour,cmap='viridis') #scatter(x,y)\n",
    "p1=ax.scatter(df_tmp1['sim_data_1'],df_tmp1['sim_data_2'],marker='o',c=df_tmp1.index.hour,cmap='viridis') #scatter(x,y)\n",
    "ax.axline((0.0,intercept1),slope=slope1,c='black',label='reference')\n",
    "ax.axline ((0.0,0.0), slope=1, c='r',linestyle='dashed',label='1:1')\n",
    "ax.set_ylim(0,40)\n",
    "ax.set_xlim(0,40)\n",
    "ax.set_xlabel(r'measured data An (GPP_f) [$\\mu molm^{-2}s^{-1}$]')\n",
    "ax.set_ylabel(r'simulated data An (A-gs) [$\\mu molm^{-2}s^{-1}$]')\n",
    "fig.suptitle('Correlation of simulated to measured An, May-Oct 2017, (3hour mean, fstr=1.0)')\n",
    "ax.set_title('reference intercept = {:.3f}, slope = {:.3f}, R2 = {:.3f}'.format(intercept1,slope1,r_value1**2))\n",
    "ax.legend(loc='upper left')\n",
    "fig.subplots_adjust(top=0.87) #fix the top margin text overlap  \n",
    "cbar=plt.colorbar(p1,ax=ax)\n",
    "cbar.ax.set_ylabel('Hour')"
   ]
  },
  {
   "cell_type": "markdown",
   "id": "267a90f5-4eaa-4724-a3b4-4a128b9a0485",
   "metadata": {},
   "source": [
    "### Old version (wrong)"
   ]
  },
  {
   "cell_type": "code",
   "execution_count": null,
   "id": "05efb371-c21d-48d4-9e76-223a65337eb3",
   "metadata": {},
   "outputs": [],
   "source": [
    "start='2017-05-01 00:00'\n",
    "end='2017-08-30 00:00'\n",
    "\n",
    "sim_data_1=an_umol_10.loc[start:end].resample('3H').mean()#.between_time(\"11:00\", \"18:00\")\n",
    "sim_data_1=sim_data_1.dropna() #eliminate NaN entries created by the .loc slice\n",
    "sim_data_2=an_umol_10b.loc[start:end].resample('3H').mean()#.between_time(\"11:00\", \"18:00\")\n",
    "sim_data_2=sim_data_2.dropna() #eliminate NaN entries created by the .loc slice\n",
    "\n",
    "measured_data=df_Comb_filter['GPP_f'].loc[start:end].resample('3H').mean()#.between_time(\"11:00\", \"18:00\")\n",
    "measured_data=measured_data.dropna()\n",
    "\n",
    "df_tmp1 = pd.DataFrame()\n",
    "df_tmp1['sim_data_1']=sim_data_1\n",
    "df_tmp1=df_tmp1.merge(measured_data, how='inner',left_index=True, right_index=True)\n",
    "\n",
    "slope1, intercept1, r_value1, p_value1, std_err1 = stats.linregress(df_tmp1['GPP_f'], df_tmp1['sim_data_1'])  #linregres x, y . note r_value is Pearson's coefficient. R^2 is r_value**2\n",
    "print('slope, intercept, R2:', slope1, intercept1, r_value1**2)\n",
    "\n",
    "df_tmp2 = pd.DataFrame()\n",
    "df_tmp2['sim_data_2']=sim_data_2\n",
    "df_tmp2=df_tmp2.merge(measured_data, how='inner',left_index=True, right_index=True)\n",
    "\n",
    "slope2, intercept2, r_value2, p_value2, std_err2 = stats.linregress(df_tmp2['GPP_f'], df_tmp2['sim_data_2'])  #linregres x, y . note r_value is Pearson's coefficient. R^2 is r_value**2\n",
    "print('slope, intercept, R2:', slope2, intercept2, r_value2**2)\n",
    "\n",
    "fig,ax = plt.subplots()\n",
    "#p1=ax.scatter(df_tmp1['GPP_f'],df_tmp1['sim_data_1'],c=df_tmp1.index.hour,cmap='viridis') #scatter(x,y)\n",
    "p1=ax.scatter(df_tmp1['GPP_f'],df_tmp1['sim_data_1'],marker='+') #scatter(x,y)\n",
    "p2=ax.scatter(df_tmp2['GPP_f'],df_tmp2['sim_data_2'],marker='x') #scatter(x,y)\n",
    "ax.axline((0.0,intercept1),slope=slope1,c='black',label='reference')\n",
    "ax.axline((0.0,intercept2),slope=slope2,c='black',linestyle='dashed',label='120% PAR')\n",
    "ax.axline ((0.0,0.0), slope=1, c='r',linestyle='dashed',label='1:1')\n",
    "ax.set_ylim(-5,40)\n",
    "ax.set_xlim(-5,40)\n",
    "ax.set_xlabel(r'measured data An (GPP_f) [$\\mu molm^{-2}s^{-1}$]')\n",
    "ax.set_ylabel(r'simulated data An (A-gs) [$\\mu molm^{-2}s^{-1}$]')\n",
    "fig.suptitle('Correlation of simulated to measured An, May-Oct 2017, (3hour mean, fstr=1.0)')\n",
    "ax.set_title('reference intercept = {:.3f}, slope = {:.3f}, R2 = {:.3f}'.format(intercept1,slope1,r_value1**2)+' \\n 120%PAR intercept = {:.3f}, slope = {:.3f}, R2 = {:.3f}'.format(intercept2,slope2,r_value2**2))\n",
    "ax.legend(loc='upper left')\n",
    "fig.subplots_adjust(top=0.87) #fix the top margin text overlap\n",
    "#cbar=plt.colorbar(p1,ax=ax)\n",
    "#cbar.ax.set_ylabel('Hour')"
   ]
  },
  {
   "cell_type": "code",
   "execution_count": null,
   "id": "7b9ede45-5b1f-425a-bce1-63ba76a5fa56",
   "metadata": {},
   "outputs": [],
   "source": [
    "#check what the R2 value is month-wise for certain years\n",
    "\n",
    "for year in [2017, 2018]:\n",
    "    for month in [4,5,6,7,8]:\n",
    "        \n",
    "        start='{}-0{}-01 00:00'.format(year, month)\n",
    "        end='{}-0{}-01 00:00'.format(year, month+1)\n",
    "        \n",
    "        sim_data=an_umol.loc[an_umol>0].loc[start:end].resample('3H').mean()#.between_time(\"11:00\", \"18:00\")\n",
    "        sim_data=sim_data.dropna() #eliminate NaN entries created by the .loc slice\n",
    "        measured_data=df_Comb['GPP_f'].loc[start:end].resample('3H').mean()#.between_time(\"11:00\", \"18:00\")\n",
    "        measured_data=measured_data.dropna()\n",
    "        \n",
    "        df_tmp = pd.DataFrame()\n",
    "        df_tmp['sim_data']=sim_data\n",
    "        \n",
    "        df_tmp=df_tmp.merge(measured_data, how='inner',left_index=True, right_index=True)\n",
    "        \n",
    "        slope, intercept, r_value, p_value, std_err = stats.linregress(df_tmp['GPP_f'], df_tmp['sim_data'])  #linregres x, y . note r_value is Pearson's coefficient. R^2 is r_value**2\n",
    "        print('{}-0{}-01 -'.format(year, month),'{}-0{}-01'.format(year, month+1),' R2: {:.3f}'.format(r_value**2))\n"
   ]
  },
  {
   "cell_type": "code",
   "execution_count": null,
   "id": "ca4975a4-4f67-4791-bec3-69061fd4ee52",
   "metadata": {},
   "outputs": [],
   "source": [
    "#def p_dailysum(df):\n",
    "#    for idx,row in df.iterrows():\n",
    "#        #calc precipitation sum from 00:00 to 23:59\n",
    "#        start_day=np.datetime64(str(idx.date())+ ' 00:00')\n",
    "#        end_day=np.datetime64(str(idx.date())+ ' 23:30')\n",
    "#        df.loc[idx,'daily_prec']=df.loc[start_day:end_day ,'P(mast)'].sum() #iloc[row, column]\n",
    "#return df"
   ]
  },
  {
   "cell_type": "code",
   "execution_count": null,
   "id": "7afdc8eb-9d91-4d63-be16-a3181941937b",
   "metadata": {},
   "outputs": [],
   "source": [
    "#old way, deprecated (takes long due to .iterrows() )\n",
    "#df_ET_1=p_dailysum(df_ET)"
   ]
  },
  {
   "cell_type": "code",
   "execution_count": null,
   "id": "cf194f7b-9be7-494e-9ed2-6bfd232baf08",
   "metadata": {},
   "outputs": [],
   "source": [
    "# Add in precipitation last 3h and 24 hour values so it can be used for filtering\n",
    "df_ET_1=df_ET.copy()\n",
    "df_tmp=df_ET_1.groupby(pd.Grouper(freq='D'))[['P(mast)']].sum()\n",
    "df_ET_1['daily_prec']=df_tmp.resample('30min').ffill()\n",
    "df_ET_1['last3h_prec']=df_ET_1['P(mast)'].rolling('3H').sum()\n",
    "df_ET_1['last24h_prec']=df_ET_1['P(mast)'].rolling('24H').sum()\n",
    "df_ET_1['last2day_prec']=df_ET_1['P(mast)'].rolling('48H').sum()\n",
    "df_ET_1['last3day_prec']=df_ET_1['P(mast)'].rolling('72H').sum()\n",
    "#testing\n",
    "df_ET_1.loc['2017-04-15 00:00':'2017-04-30 00:00','daily_prec'].plot()\n",
    "df_ET_1.loc['2017-04-15 00:00':'2017-04-30 00:00','last3h_prec'].plot()\n",
    "df_ET_1.loc['2017-04-15 00:00':'2017-04-30 00:00','last24h_prec'].plot()\n",
    "df_ET_1.loc['2017-04-15 00:00':'2017-04-30 00:00','last3day_prec'].plot()"
   ]
  },
  {
   "cell_type": "code",
   "execution_count": null,
   "id": "7eaf1845-c2b6-4da2-99e1-4e0604933eba",
   "metadata": {},
   "outputs": [],
   "source": [
    "#re-draw better correlation plot (longer dataset)\n",
    "start='2017-04-01 00:00'\n",
    "end='2017-07-30 00:00'\n",
    "\n",
    "#new filter\n",
    "sim_data = df_ET_1.loc[start:end,('ET_VPD','last24h_prec','last3day_prec')]\n",
    "sim_data = sim_data.loc[sim_data['last3day_prec']==0]\n",
    "sim_data= sim_data.resample('1H').mean()\n",
    "sim_data=sim_data.dropna()\n",
    "\n",
    "measured_data=df_Comb['LE'].loc[df_Comb['LE']>0].loc[start:end].resample('1H').mean()#.between_time(\"6:00\", \"9:00\")\n",
    "measured_data=measured_data.dropna()\n",
    "   \n",
    "df_tmp=sim_data.copy()\n",
    "df_tmp=df_tmp.merge(measured_data, how='inner',left_index=True, right_index=True)\n",
    "\n",
    "slope, intercept, r_value, p_value, std_err = stats.linregress(df_tmp['LE'], df_tmp['ET_VPD'])  #linregres x, y . note r_value is Pearson's coefficient. R^2 is r_value**2\n",
    "print('R2: ',r_value**2)\n",
    "print('slope, intercept:', slope, intercept)\n",
    "\n",
    "fig,ax = plt.subplots()\n",
    "p1=ax.scatter(df_tmp['LE'],df_tmp['ET_VPD'],c=df_tmp.index.hour,cmap='viridis') #scatter(x,y)\n",
    "ax.axline((0.0,intercept),slope=slope,c='r',label='slope')\n",
    "ax.axline ((0.0,0.0), slope=1, c='r',linestyle='dashed',label='1:1')\n",
    "ax.set_ylim(-10,175)\n",
    "ax.set_xlim(-10,175)\n",
    "ax.set_xlabel(r'measured data LE (EC) [Wm$^{-2}$]')\n",
    "ax.set_ylabel(r'simulated data LE (A-gs) [Wm$^{-2}$]')\n",
    "fig.suptitle('Correlation of simulated to measured LE. April-Oct 2017, (1hour mean, 00:00-23:59) \\n intercept = {:.3f}, slope = {:.3f}, R2 = {:.3f}'.format(intercept,slope,r_value**2))\n",
    "ax.set_title('(Only days on which daily  sum of Precip. is 0)')\n",
    "ax.legend(loc='upper left')\n",
    "cbar=plt.colorbar(p1,ax=ax)\n",
    "cbar.ax.set_ylabel('Hour')"
   ]
  },
  {
   "cell_type": "code",
   "execution_count": null,
   "id": "f8852ef8-a658-4aa3-86a0-8e196f7006cf",
   "metadata": {},
   "outputs": [],
   "source": [
    "#re-draw better correlation plot (plot leaf temperature)\n",
    "start='2017-04-14 00:00'\n",
    "end='2017-08-30 00:00'\n",
    "\n",
    "#new filter\n",
    "sim_data = df_ET_1.loc[start:end,('ET_VPD','last3day_prec','T_sfc_C')]\n",
    "sim_data = sim_data.loc[sim_data['last3day_prec']==0.0]\n",
    "sim_data= sim_data.resample('3H').mean()\n",
    "sim_data=sim_data.dropna() #eliminate NaN entries created by the .loc slice\n",
    "measured_data=df_Comb['LE'].loc[df_Comb['LE']>0].loc[start:end].resample('3H').mean()\n",
    "measured_data=measured_data.dropna()\n",
    "\n",
    "#df_tmp = pd.DataFrame()\n",
    "df_tmp=sim_data.copy()\n",
    "df_tmp=df_tmp.merge(measured_data, how='inner',left_index=True, right_index=True)\n",
    "\n",
    "slope, intercept, r_value, p_value, std_err = stats.linregress(df_tmp['LE'], df_tmp['ET_VPD'])  #linregres x, y . note r_value is Pearson's coefficient. R^2 is r_value**2\n",
    "print('R2: ',r_value**2)\n",
    "print('slope, intercept:', slope, intercept)\n",
    "\n",
    "fig,ax = plt.subplots()\n",
    "p1=ax.scatter(df_tmp['LE'],df_tmp['ET_VPD'],c=df_tmp['T_sfc_C'],cmap='viridis') #scatter(x,y)\n",
    "ax.axline((0.0,intercept),slope=slope,c='r',label='slope')\n",
    "ax.axline ((0.0,0.0), slope=1, c='r',linestyle='dashed',label='1:1')\n",
    "ax.set_ylim(-10,175)\n",
    "ax.set_xlim(-10,175)\n",
    "ax.set_xlabel(r'measured data LE (EC) [Wm$^{-2}$]')\n",
    "ax.set_ylabel(r'simulated data LE (A-gs) [Wm$^{-2}$]')\n",
    "fig.suptitle('Correlation of simulated to measured LE. April-Oct 2017, (3hour mean, 00:00-23:59) \\n intercept = {:.3f}, slope = {:.3f}, R2 = {:.3f}'.format(intercept,slope,r_value**2))\n",
    "ax.set_title('(Only days on which daily  sum of Precip. is 0)')\n",
    "ax.legend(loc='upper left')\n",
    "cbar=plt.colorbar(p1,ax=ax)\n",
    "cbar.ax.set_ylabel('Temp [oC]')"
   ]
  },
  {
   "cell_type": "markdown",
   "id": "d973cd92-a97c-415d-a33b-983cecc72dfb",
   "metadata": {},
   "source": [
    "#### quick check R2 for different months"
   ]
  },
  {
   "cell_type": "code",
   "execution_count": null,
   "id": "b342c4ce-2a5e-46ec-a443-55f9b4ee1681",
   "metadata": {},
   "outputs": [],
   "source": [
    "#check what the R2 value is month-wise for certain years\n",
    "#USING THE NEW FUNCTION p_dailysum\n",
    "\n",
    "for year in [2017, 2018]:\n",
    "    for month in [4,5,6,7,8]:\n",
    "         \n",
    "        start='{}-0{}-01 00:00'.format(year, month)\n",
    "        end='{}-0{}-01 00:00'.format(year, month+1)\n",
    "\n",
    "        \n",
    "        sim_data = df_ET_1.loc[start:end,('ET_VPD','last3day_prec')]\n",
    "        sim_data = sim_data.loc[sim_data['last3day_prec']==0.0]\n",
    "        sim_data= sim_data.resample('3H').mean()#.between_time(\"11:00\", \"18:00\")\n",
    "        sim_data=sim_data.dropna() #eliminate NaN entries created by the .loc slice\n",
    "        measured_data=df_Comb['LE'].loc[df_Comb['LE']>0].loc[start:end].resample('3H').mean()#.between_time(\"11:00\", \"18:00\")\n",
    "        measured_data=measured_data.dropna()\n",
    "        \n",
    "        #df_tmp = pd.DataFrame()\n",
    "        df_tmp=sim_data.copy()\n",
    "        df_tmp=df_tmp.merge(measured_data, how='inner',left_index=True, right_index=True)\n",
    "        #print(df_tmp)\n",
    "        slope, intercept, r_value, p_value, std_err = stats.linregress(df_tmp['LE'], df_tmp['ET_VPD'])  #linregres x, y . note r_value is Pearson's coefficient. R^2 is r_value**2\n",
    "        print('{}-0{}-01 -'.format(year, month),'{}-0{}-01'.format(year, month+1),'Slope:{:.3f} R2: {:.3f}'.format(slope,r_value**2))\n"
   ]
  }
 ],
 "metadata": {
  "kernelspec": {
   "display_name": "Python 3 (ipykernel)",
   "language": "python",
   "name": "python3"
  },
  "language_info": {
   "codemirror_mode": {
    "name": "ipython",
    "version": 3
   },
   "file_extension": ".py",
   "mimetype": "text/x-python",
   "name": "python",
   "nbconvert_exporter": "python",
   "pygments_lexer": "ipython3",
   "version": "3.11.5"
  },
  "varInspector": {
   "cols": {
    "lenName": 16,
    "lenType": 16,
    "lenVar": 40
   },
   "kernels_config": {
    "python": {
     "delete_cmd_postfix": "",
     "delete_cmd_prefix": "del ",
     "library": "var_list.py",
     "varRefreshCmd": "print(var_dic_list())"
    },
    "r": {
     "delete_cmd_postfix": ") ",
     "delete_cmd_prefix": "rm(",
     "library": "var_list.r",
     "varRefreshCmd": "cat(var_dic_list()) "
    }
   },
   "oldHeight": 471.85,
   "position": {
    "height": "493.844px",
    "left": "1539.19px",
    "right": "20px",
    "top": "105px",
    "width": "344px"
   },
   "types_to_exclude": [
    "module",
    "function",
    "builtin_function_or_method",
    "instance",
    "_Feature"
   ],
   "varInspector_section_display": "block",
   "window_display": true
  }
 },
 "nbformat": 4,
 "nbformat_minor": 5
}
