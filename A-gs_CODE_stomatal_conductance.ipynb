{
 "cells": [
  {
   "cell_type": "markdown",
   "id": "a2978442-0a0a-42b2-ac0f-8e6b685580d8",
   "metadata": {},
   "source": [
    "# A-gs model and implementation (simulation CO2 and H2O flux)"
   ]
  },
  {
   "cell_type": "markdown",
   "id": "c5053646-e207-4e8c-a62e-2a7f70ad0887",
   "metadata": {},
   "source": [
    "## Initialize data and model"
   ]
  },
  {
   "cell_type": "markdown",
   "id": "467470b3-2427-4ada-b14f-9ff26922d8ec",
   "metadata": {},
   "source": [
    "### Setup and fetch data"
   ]
  },
  {
   "cell_type": "code",
   "execution_count": null,
   "id": "515abf18",
   "metadata": {},
   "outputs": [],
   "source": [
    "# Settings\n",
    "Username   = 'Beheerder'\n",
    "years      = range(2008,2019)    #(1997,2021) # Set years to download"
   ]
  },
  {
   "cell_type": "code",
   "execution_count": null,
   "id": "fdb7f756",
   "metadata": {},
   "outputs": [],
   "source": [
    "import os\n",
    "datapath   = os.path.join('../')\n",
    "print('datapath is set to %s'%datapath)\n",
    "\n",
    "# !pip install numpy\n",
    "# !pip install pandas\n",
    "# !pip install matplotlib\n",
    "# !pip install plotly \n",
    "# !pip install cufflinks\n",
    "#!pip install colorspacious\n",
    "#!pip install seaborn\n",
    "\n",
    "import numpy as np\n",
    "import pandas as pd\n",
    "import matplotlib.pyplot as plt\n",
    "#import plotly.express as px\n",
    "#import cufflinks as cf\n",
    "import matplotlib.dates as mdate\n",
    "import matplotlib.ticker as ticker\n",
    "from matplotlib import cm\n",
    "#from colorspacious import cspace_converter\n",
    "import scipy.stats as stats\n",
    "#cf.go_offline()\n",
    "# cf.set_config_file(offline=False, world_readable=True)\n",
    "\n",
    "from datetime import datetime, timedelta\n",
    "import sys\n",
    "sys.path.insert(0, os.path.join(datapath,'PythonScripts'))\n",
    "from Loobos_Toolbox import dateparse, dateparse_Gapfilled, Read_LoobosEddFinal, Read_LooStor, Read_LoodatGapfill, Read_Loobos_halfhourly, Read_Loobos_meteo, Read_Loobos_soil, Read_Loobos_profile\n",
    "\n",
    "from Ags_model import runAgs, calc_LE"
   ]
  },
  {
   "cell_type": "code",
   "execution_count": null,
   "id": "244e6ea2",
   "metadata": {},
   "outputs": [],
   "source": [
    "#these next two lines are to prevent re-loading the data. If you want to re-load data, instead comment them out\n",
    "if not 'progress' in globals(): progress = list()\n",
    "if not 'dataloaded' in progress:\n",
    "  # Read files\n",
    "    df_EC           = Read_LoobosEddFinal    (years,datapath)\n",
    "    df_Stor         = Read_LooStor           (years,datapath)\n",
    "    df_Comb         = Read_LoodatGapfill     (years,datapath)\n",
    "    df_NEE          = Read_Loobos_halfhourly (years,datapath)\n",
    "    df_meteo        = Read_Loobos_meteo      (years,datapath)\n",
    "    df_soil         = Read_Loobos_soil       (years,datapath) \n",
    "    df_profile      = Read_Loobos_profile    (years,datapath)\n",
    "    progress.append('dataloaded')"
   ]
  },
  {
   "cell_type": "code",
   "execution_count": null,
   "id": "3e66087c",
   "metadata": {},
   "outputs": [],
   "source": [
    "#OLD filters\n",
    "# Make filter for GPP orginial data and not gabfilled\n",
    "#I = ((df_Comb['GPP_fqc']==0)&(df_meteo['PAR']>0))\n",
    "\n",
    "# Filter for CO2 data\n",
    "#t = df_profile.index                                          \n",
    "#time = (t < np.datetime64('2013-05-08')) | (t > np.datetime64('2013-06-01'))\n",
    "#CO2 = (df_profile['CO2level1'] > 300)\n",
    "\n",
    "#General filter\n",
    "#I = ((df_Comb['GPP_fqc']==0)&(df_meteo['PAR']>0))\n",
    "\n",
    "#df_meteo_CO2 = df_meteo[time][CO2]\n",
    "#df_meteo_filter = df_meteo_CO2[I]\n",
    "\n",
    "#df_Comb_CO2 = df_Comb[time][CO2]\n",
    "#df_Comb_filter = df_Comb_CO2[I]\n",
    "\n",
    "#df_profile_CO2 = df_profile[time][CO2]\n",
    "#df_profile_filter = df_profile_CO2[I]\n",
    "\n",
    "#df_EC_CO2 = df_EC[time][CO2]\n",
    "#df_EC_filter = df_EC_CO2[I]"
   ]
  },
  {
   "cell_type": "code",
   "execution_count": null,
   "id": "cd171eb5-2fb2-404d-b0a9-45c35068b91b",
   "metadata": {},
   "outputs": [],
   "source": [
    "# Make filter for GPP orginial data and not gapfilled\n",
    "#General filters\n",
    "I = ((df_Comb['GPP_fqc']==0)&(df_meteo['PAR']>0))\n",
    "#t = df_profile.index                                          \n",
    "#time = (t < np.datetime64('2013-05-08')) | (t > np.datetime64('2013-06-01'))\n",
    "\n",
    "# Filter for CO2 data\n",
    "CO2 = (df_profile['CO2level1'] > 300)\n",
    "\n",
    "# Filter for L(o)corr data\n",
    "Locorr= (df_meteo['L(o)corr']>0) \n",
    "\n",
    "# Filter for VPD data\n",
    "VPD = (df_Comb['VPD']>=0)\n",
    "\n",
    "# Filter for U-star\n",
    "Ustar = (df_EC['U-star']>=0)\n",
    "\n",
    "# Combine all filters\n",
    "filter = I & CO2 & Locorr & VPD & Ustar\n",
    "\n",
    "#Column 'CO2' is input from df_profile\n",
    "#df_profile_CO2 = df_profile[CO2]\n",
    "#df_profile_filter = df_profile_CO2[I]\n",
    "df_profile_filter = df_profile[filter]\n",
    "\n",
    "#Column 'L(o)corr' and 'PAR' are inputs from df_meteo\n",
    "#df_meteo_CO2 = df_meteo[CO2]\n",
    "#df_meteo_filter = df_meteo_CO2[I]\n",
    "df_meteo_filter = df_meteo[filter]\n",
    "\n",
    "#Columns 'VPD' and 'Tair' are inputs from df_Comb\n",
    "#df_Comb_CO2 = df_Comb[CO2]\n",
    "#df_Comb_filter = df_Comb_CO2[I]\n",
    "df_Comb_filter = df_Comb[filter]\n",
    "\n",
    "# Columns 'Mea_Windsp' and 'U-star' are inputs from df_EC\n",
    "#df_EC_CO2 = df_EC[CO2]\n",
    "#df_EC_filter = df_EC_CO2[I]\n",
    "df_EC_filter = df_EC[filter]"
   ]
  },
  {
   "cell_type": "markdown",
   "id": "c1996767-09d3-441d-b711-cea73a750854",
   "metadata": {},
   "source": [
    "### Run A-gs model"
   ]
  },
  {
   "cell_type": "code",
   "execution_count": null,
   "id": "801ede28",
   "metadata": {},
   "outputs": [],
   "source": [
    "# Run A-gs model\n",
    "#fstr=1.0\n",
    "#an_final,an_umol,rs, ra = runAgs(df_profile_filter,df_Comb_filter,df_meteo_filter,df_EC_filter,fstr)\n",
    "\n",
    "# Run A-gs model for different fstr values\n",
    "\n",
    "an_final_10,an_umol_10,rs_10, ra = runAgs(df_profile_filter,df_Comb_filter,df_meteo_filter,df_EC_filter,fstr=1.0)\n",
    "an_final_8,an_umol_8,rs_8, ra = runAgs(df_profile_filter,df_Comb_filter,df_meteo_filter,df_EC_filter,fstr=0.8)\n",
    "an_final_6,an_umol_6,rs_6, ra = runAgs(df_profile_filter,df_Comb_filter,df_meteo_filter,df_EC_filter,fstr=0.6)\n",
    "an_final_4,an_umol_4,rs_4, ra = runAgs(df_profile_filter,df_Comb_filter,df_meteo_filter,df_EC_filter,fstr=0.4)\n",
    "an_final_2,an_umol_2,rs_2, ra = runAgs(df_profile_filter,df_Comb_filter,df_meteo_filter,df_EC_filter,fstr=0.2)\n"
   ]
  },
  {
   "cell_type": "markdown",
   "id": "ac78d717-ea63-477c-9c43-8a29262f3143",
   "metadata": {},
   "source": [
    "### Assemble dataframe 'df_ET' for simulated LE"
   ]
  },
  {
   "cell_type": "code",
   "execution_count": null,
   "id": "1065217e-ea3f-4cfc-97af-76ad200b8c08",
   "metadata": {},
   "outputs": [],
   "source": [
    "df_ET = pd.concat([df_meteo['L(o)'],df_meteo['Te-L(o)'],df_profile['Pressure'],df_Comb['VPD'],df_Comb['rH'],df_meteo['P(mast)']],axis=1,sort=False)\n",
    "#convert Pressure from hPa to kPa \n",
    "df_ET['p_kPa']=df_ET['Pressure']/10\n",
    "df_ET['VPD_adj']=df_ET['VPD'].loc[df_ET['VPD']>0] #some outlier values for VPD are negative, remove from dataset\n",
    "df_ET['VPD_adj']=df_ET['VPD_adj']/10  # VPD from df_Comb is in hPa, I need kPa, so hPa/10 = kPa"
   ]
  },
  {
   "cell_type": "code",
   "execution_count": null,
   "id": "a48ae8f1-cfb9-4e46-a768-2f8d8d181da3",
   "metadata": {},
   "outputs": [],
   "source": [
    "def init_ETframe(rs_series):\n",
    "    df_ET = pd.concat([df_meteo['L(o)'],df_meteo['Te-L(o)'],df_profile['Pressure'],df_Comb['VPD'],df_Comb['rH'],df_meteo['P(mast)']],axis=1,sort=False)\n",
    "    #convert Pressure from hPa to kPa \n",
    "    df_ET['p_kPa']=df_ET['Pressure']/10\n",
    "    df_ET['VPD_adj']=df_ET['VPD'].loc[df_ET['VPD']>0] #some outlier values for VPD are negative, remove from dataset\n",
    "    df_ET['VPD_adj']=df_ET['VPD_adj']/10  # VPD from df_Comb is in hPa, I need kPa, so hPa/10 = kPa\n",
    "    df_ET['rs']=rs_series.to_frame(name=\"rs\")\n",
    "    df_ET['ra']=ra.to_frame(name=\"ra\")\n",
    "    return df_ET"
   ]
  },
  {
   "cell_type": "code",
   "execution_count": null,
   "id": "299328f4-23c5-4db4-b4ea-7334e1afe1c7",
   "metadata": {},
   "outputs": [],
   "source": [
    "df_ET_10=init_ETframe(rs_10)\n",
    "df_ET_8=init_ETframe(rs_8)\n",
    "df_ET_6=init_ETframe(rs_6)\n",
    "df_ET_4=init_ETframe(rs_4)\n",
    "df_ET_2=init_ETframe(rs_2)"
   ]
  },
  {
   "cell_type": "markdown",
   "id": "a7f94f14-69d7-4d8a-a720-5531d86ec058",
   "metadata": {},
   "source": [
    "### calculate ET"
   ]
  },
  {
   "cell_type": "code",
   "execution_count": null,
   "id": "377b44ff-e849-4e28-83fa-40add5c2f790",
   "metadata": {},
   "outputs": [],
   "source": [
    "df_ET=calc_LE(df_ET,rs,ra)"
   ]
  },
  {
   "cell_type": "code",
   "execution_count": null,
   "id": "e0503267-3c10-4cd3-ab29-0f0468b1aed7",
   "metadata": {},
   "outputs": [],
   "source": [
    "df_ET_10=calc_LE(df_ET_10)\n",
    "df_ET_8=calc_LE(df_ET_8)\n",
    "df_ET_6=calc_LE(df_ET_6)\n",
    "df_ET_4=calc_LE(df_ET_4)\n",
    "df_ET_2=calc_LE(df_ET_2)"
   ]
  },
  {
   "cell_type": "markdown",
   "id": "bbce76d4-c59f-4b66-a64b-539dffd9b8b3",
   "metadata": {},
   "source": [
    "### Calculate gs from Penman-Monteith"
   ]
  },
  {
   "cell_type": "code",
   "execution_count": null,
   "id": "7c41b4fd-f90a-4a75-a275-b5c79aaaecc7",
   "metadata": {},
   "outputs": [],
   "source": [
    "start='2017-04-14 00:00'\n",
    "end='2017-04-30 00:00'\n",
    "\n",
    "rs=rs_8\n",
    "\n",
    "df_ra=pd.DataFrame({'ra':ra})\n",
    "df_rs=pd.DataFrame({'rs':rs})\n",
    "#calculate inverse of aerodynamic resistance, aero conductance\n",
    "df_ra['ga'] = 1. / df_ra['ra']\n",
    "#and stomatal conductance\n",
    "df_rs['gs'] = 1. / df_rs['rs']\n",
    "df_ra=df_ra.resample(\"1H\").mean()\n",
    "df_rs=df_rs.resample(\"1H\").mean()\n",
    "\n",
    "df_gs=pd.concat([df_profile_filter['Pressure'],df_Comb_filter['LE'],df_Comb_filter['rH'],df_Comb_filter['Tair'],df_Comb_filter['VPD'],df_meteo_filter['P(mast)'],df_meteo_filter['R(net)'],df_meteo_filter['G1']],axis=1,sort=False)\n",
    "df_gs['Tair_K']=df_gs['Tair']+273.15\n",
    "df_gs['p_kPa']=df_gs['Pressure']/10\n",
    "df_gs['p_kPa']=df_gs['p_kPa'].loc[df_gs['p_kPa']>1]\n",
    "df_gs['LE']=df_gs['LE'].loc[df_gs['LE']>-5]\n",
    "df_gs['VPD_adj']=df_gs['VPD'].loc[df_gs['VPD']>0] #some outlier values for VPD are negative, remove from dataset\n",
    "df_gs['VPD_adj']=df_gs['VPD_adj']/10  # VPD from df_Comb is in hPa, I need kPa, so hPa/10 = kPa\n",
    "\n",
    "df_gs['last3day_prec']=df_gs['P(mast)'].rolling('72H').sum()\n",
    "df_gs=df_gs.loc[df_gs['last3day_prec']==0]\n",
    "\n",
    "\n",
    "#df_gs=df_gs.resample(\"M\").mean()\n",
    "\n",
    "#df_gs=df_gs.loc[df_gs['rH']<95.0]\n",
    "#df_gs['Tair'].plot()\n",
    "#df_rs['gs'].plot()"
   ]
  },
  {
   "cell_type": "code",
   "execution_count": null,
   "id": "e4553586-fb7d-4c53-b433-2aab4a154641",
   "metadata": {},
   "outputs": [],
   "source": [
    "#calculating q and cp\n",
    "\n",
    "    #constants:\n",
    "e_sat_0 = 0.6107 # e_sat_0 = 0.6107 kPa or 610.7 Pa\n",
    "a = 7.5\n",
    "b = 237.3 # oC (geen typo)\n",
    "df_gs['e_sat'] = e_sat_0 * 10**(a*df_gs['Tair'] / (b+df_gs['Tair'])) #  T_sfc_C in oC\n",
    "Rd = 287 # J/kg K\n",
    "Rv = 462 # J/kg K\n",
    "df_gs['q_sat'] = Rd/Rv * df_gs['e_sat']/df_gs['p_kPa'] #q = Rd/Rv * e/p -> q_sat = Rd/Rv * e_sat/p\n",
    "df_gs['e_act'] = df_gs['e_sat'] - df_gs['VPD_adj'] #VPD = e_sat - e_act -> e_act = e_sat - VPD\n",
    "df_gs['q_act'] = Rd/Rv * df_gs['e_act']/df_gs['p_kPa'] #q = Rd/Rv * e/p . output is in g/kg (order of magnitude 0.005-0.015)\n",
    "#now from q calculate cp\n",
    "cpd=1004.67 #J/kg/K\n",
    "df_gs['cp_calc']=cpd*(1+0.84*df_gs['q_act']) #q in g/kg?\n",
    "\n",
    "\n",
    "#df_gs['cp_calc'].plot()\n"
   ]
  },
  {
   "cell_type": "code",
   "execution_count": null,
   "id": "d4b84125-755e-40e8-9736-b4105b6daeb8",
   "metadata": {},
   "outputs": [],
   "source": [
    "#gs sim vs gs calculated plot\n",
    "#like in research paper by eline floor houwen\n",
    "\n",
    "#df_gs=df_gs.resample('3H').mean()\n",
    "#df_gs=df_gs.between_time('9:00','15:00')\n",
    "\n",
    "rho=1.2  \n",
    "#cpd=1004.67 #J/kg/K\n",
    "#cp=cpd*(1+0.84q) #q in g/kg?\n",
    "cp=1006  #J/kg/K , approximation\n",
    "Lv=2.26 #MJ/kg, based on 2260000 J/kg \n",
    "cp_calc=df_gs['cp_calc']\n",
    "\n",
    "df_gs['gamma'] = (cp * df_gs['p_kPa']*1000) / (0.622 * Lv*1000000) #cp in J/kg/K , P in Pa, Lv in J/kg\n",
    "df_gs['gamma_1'] = (cp_calc * df_gs['p_kPa']*1000) / (0.622 * Lv*1000000) #cp in J/kg/K , P in Pa, Lv in J/kg\n",
    "\n",
    "#example value for psychometric constant is 0.054 kPa/°C or 50Pa/°C \n",
    "\n",
    "df_gs['delta'] = 4098 * (0.6108 * np.exp((17.27*df_gs['Tair'])/(df_gs['Tair']+237.3))) / ((df_gs['Tair']+237.3)**2)  # T in C,\n",
    "\n",
    "#df_gs['gamma'].plot()\n",
    "#df_gs['gamma_1'].plot()"
   ]
  },
  {
   "cell_type": "code",
   "execution_count": null,
   "id": "d98acd0e-98d8-41d0-a21d-66f63c4d110f",
   "metadata": {},
   "outputs": [],
   "source": [
    "LE=df_gs['LE'] # in the order of 50Wm-2, ranges 16-94\n",
    "gamma=df_gs['gamma_1'] #in the order of 72 Pa/K or 0.072, ranges 71.51-72.8 #BUT THE EQUATION EXPECTS kPa/K!\n",
    "ga=df_ra['ga'] # in the order of 0.14, ranges 0.104-0.266\n",
    "delta=df_gs['delta'] #in the order of 0.10 ranges 0.04-0.15\n",
    "Rnet=df_gs['R(net)'] #in the order of 100, ranges 3-222\n",
    "G=df_gs['G1'] #in the order of 0.1, ranges -3 to +3 # SUSPECT value, however R(net)-G1 ranges from 6.28-219.69 so never becomes negative\n",
    "#cp=df_gs['cp']\n",
    "VPD=df_gs['VPD_adj'] #in order of  0.60, ranges 0.059-1.33\n",
    "\n",
    "first_term = df_gs['LE']*(df_gs['gamma_1']/1000)*df_ra['ga']\n",
    "second_term=delta*(Rnet-G)\n",
    "third_term=rho*cp_calc*ga*VPD\n",
    "fourth_term=LE*(delta+(df_gs['gamma_1']/1000))\n",
    "\n",
    "df_gs['gs'] = (first_term) / ( (second_term) + (third_term) - (fourth_term) )\n",
    "df_gs['lower_half']= (second_term) + (third_term) - (fourth_term)\n",
    "\n",
    "#df_gs['gs'].plot()\n",
    "#df_gs['gs'] = (LE*gamma*ga) / ( (delta*(Rnet-G)) + (rho*cp*ga*VPD) - (LE*(delta+gamma)) )\n",
    "\n",
    "#df_gs['gs'] = (df_gs['LE'] * df_gs['gamma'] * df_ra['ga']) /(df_gs['delta']*(df_gs['R(net)']-df_gs['G1']) + rho*df_gs['cp']*df_ra['ga']*df_gs['VPD_adj'] - df_gs['LE']*(df_gs['delta']+df_gs['gamma']))\n",
    "\n",
    "df_gs['gs'].plot(label=\"simulated gs for fstr=1.0\",legend=\"yes\",title=\"simulated and observed gs\",ylabel=\"m/s\")\n",
    "df_rs['gs'].plot(label=\"observed gs from LE\",legend=\"yes\")\n",
    "#df_gs['P(mast)'].plot()\n",
    "#first_term.plot()\n",
    "#second_term.plot()\n",
    "#third_term.plot()\n",
    "#fourth_term.plot()\n",
    "#((second_term) + (third_term)).plot()\n",
    "#plotting"
   ]
  },
  {
   "cell_type": "code",
   "execution_count": null,
   "id": "641a9f42-a289-4bf6-8a4b-8be4be805c5b",
   "metadata": {},
   "outputs": [],
   "source": [
    "#draw binned gs\n",
    "start='2008-04-01 00:00'\n",
    "end='2018-08-30 00:00'\n",
    "\n",
    "sim_data=df_gs.loc[start:end,['gs','P(mast)']].resample('1H').mean()#.between_time(\"11:00\", \"18:00\")\n",
    "sim_data['last3day_prec']=sim_data['P(mast)'].rolling('72H').sum()\n",
    "sim_data=sim_data.loc[sim_data['last3day_prec']==0.0]\n",
    "\n",
    "sim_data = sim_data.loc[(sim_data.index.month>=5) & (sim_data.index.month<=8)]\n",
    "\n",
    "sim_data=sim_data.dropna() #eliminate NaN entries created by the .loc slice\n",
    "measured_data=df_rs['gs'].loc[start:end].resample('1H').mean()#.between_time(\"11:00\", \"18:00\")\n",
    "measured_data=measured_data.dropna()\n",
    "\n",
    "#sim_data.rename(\"gs_sim\")\n",
    "#measured_data.rename(\"gs_meas\")\n",
    "\n",
    "df_tmp=pd.DataFrame(sim_data)\n",
    "df_tmp=df_tmp.merge(measured_data, how='inner',left_index=True, right_index=True)\n",
    "\n",
    "hours_list=[ 9, 10, 11, 12, 13, 14, 15]\n",
    "\n",
    "d={}\n",
    "d['meas_avg'] = [df_tmp.loc[df_tmp.index.hour==i,'gs_y'].median() for i in hours_list]\n",
    "d['meas_q1'] = [df_tmp.loc[df_tmp.index.hour==i,'gs_y'].quantile(q=0.25) for i in hours_list]\n",
    "d['meas_q3'] = [df_tmp.loc[df_tmp.index.hour==i,'gs_y'].quantile(q=0.75) for i in hours_list]\n",
    "d['sim_avg'] = [df_tmp.loc[df_tmp.index.hour==i,'gs_x'].median() for i in hours_list]\n",
    "d['sim_q1'] = [df_tmp.loc[df_tmp.index.hour==i,'gs_x'].quantile(q=0.25) for i in hours_list]\n",
    "d['sim_q3'] = [df_tmp.loc[df_tmp.index.hour==i,'gs_x'].quantile(q=0.75) for i in hours_list]\n",
    "\n",
    "df_avg=pd.DataFrame(d)\n",
    "\n",
    "fig,ax = plt.subplots()\n",
    "p1=ax.plot(hours_list,df_avg['meas_avg'],marker='o',label=r'median measured (\"big-leaf\") $g_{s_{H_{2}O}}$')\n",
    "ax.fill_between(hours_list,df_avg['meas_q1'],df_avg['meas_q3'],alpha=0.1,label='IQR')\n",
    "p2=ax.plot(hours_list,df_avg['sim_avg'],marker='s',label=r'median simulated (A-gs) $g_{s_{H_{2}O}}$')\n",
    "ax.fill_between(hours_list,df_avg['sim_q1'],df_avg['sim_q3'],alpha=0.1,label='IQR')\n",
    "\n",
    "ax.set_ylim(0.004,0.02)\n",
    "#ax.set_xlim(-5,40)\n",
    "plt.xticks(hours_list) \n",
    "ax.set_xlabel('hour')\n",
    "ax.set_ylabel(r'$g_{s_{H_{2}O}} [m s^{-1}]$')\n",
    "fig.suptitle('Hourly median values for stomatal conductance of water vapor \\n (2008-2018 during growth season months: May-Oct, for precip 3day sum = 0)')\n",
    "ax.legend(loc='upper right')\n"
   ]
  },
  {
   "cell_type": "code",
   "execution_count": null,
   "id": "abbc942e-5063-4b31-815d-05b1070e5126",
   "metadata": {},
   "outputs": [],
   "source": [
    "#draw binned gs\n",
    "start='2008-04-01 00:00'\n",
    "end='2018-08-30 00:00'\n",
    "\n",
    "sim_data=df_gs.loc[start:end,['gs','P(mast)']].resample('1H').mean()#.between_time(\"11:00\", \"18:00\")\n",
    "sim_data['last3day_prec']=sim_data['P(mast)'].rolling('72H').sum()\n",
    "sim_data=sim_data.loc[sim_data['last3day_prec']==0.0]\n",
    "\n",
    "sim_data = sim_data.loc[(sim_data.index.month>=5) & (sim_data.index.month<=8)]\n",
    "\n",
    "sim_data=sim_data.dropna() #eliminate NaN entries created by the .loc slice\n",
    "measured_data=df_rs['gs'].loc[start:end].resample('1H').mean()#.between_time(\"11:00\", \"18:00\")\n",
    "measured_data=measured_data.dropna()\n",
    "\n",
    "#sim_data.rename(\"gs_sim\")\n",
    "#measured_data.rename(\"gs_meas\")\n",
    "\n",
    "df_tmp=pd.DataFrame(sim_data)\n",
    "df_tmp=df_tmp.merge(measured_data, how='inner',left_index=True, right_index=True)\n",
    "\n",
    "hours_list=[ 9, 10, 11, 12, 13, 14, 15]\n",
    "\n",
    "d={}\n",
    "d['meas_avg'] = [df_tmp.loc[df_tmp.index.hour==i,'gs_y'].mean() for i in hours_list]\n",
    "d['meas_q1'] = [df_tmp.loc[df_tmp.index.hour==i,'gs_y'].quantile(q=0.25) for i in hours_list]\n",
    "d['meas_q3'] = [df_tmp.loc[df_tmp.index.hour==i,'gs_y'].quantile(q=0.75) for i in hours_list]\n",
    "d['sim_avg'] = [df_tmp.loc[df_tmp.index.hour==i,'gs_x'].mean() for i in hours_list]\n",
    "d['sim_q1'] = [df_tmp.loc[df_tmp.index.hour==i,'gs_x'].quantile(q=0.25) for i in hours_list]\n",
    "d['sim_q3'] = [df_tmp.loc[df_tmp.index.hour==i,'gs_x'].quantile(q=0.75) for i in hours_list]\n",
    "\n",
    "df_avg=pd.DataFrame(d)\n",
    "\n",
    "fig,ax = plt.subplots()\n",
    "p1=ax.plot(hours_list,df_avg['meas_avg'],marker='o',label=r'median measured $g_{s_{H_{2}O}}$')\n",
    "ax.fill_between(hours_list,df_avg['meas_q1'],df_avg['meas_q3'],alpha=0.1,label='IQR')\n",
    "p2=ax.plot(hours_list,df_avg['sim_avg'],marker='s',label=r'median simulated $g_{s_{H_{2}O}}$')\n",
    "ax.fill_between(hours_list,df_avg['sim_q1'],df_avg['sim_q3'],alpha=0.1,label='IQR')\n",
    "\n",
    "ax.set_ylim(0.004,0.02)\n",
    "#ax.set_xlim(-5,40)\n",
    "plt.xticks(hours_list) \n",
    "ax.set_xlabel('hour')\n",
    "ax.set_ylabel(r'$g_{s_{H_{2}O}} [m s^{-1}]$')\n",
    "fig.suptitle('Hourly mean values for stomatal conductance of water vapor \\n (2008-2018 during growth season months: May-Oct)')\n",
    "ax.legend(loc='upper right')\n",
    "df_avg\n"
   ]
  },
  {
   "cell_type": "code",
   "execution_count": null,
   "id": "89ea566b-0d11-4b63-8900-0e043b845844",
   "metadata": {},
   "outputs": [],
   "source": [
    "df_tmp.loc[df_tmp.index.hour==10,'gs_x'].plot(kind=\"hist\")\n"
   ]
  },
  {
   "cell_type": "code",
   "execution_count": null,
   "id": "b8d42d96-51f1-43cf-9c9f-48d68922b297",
   "metadata": {},
   "outputs": [],
   "source": [
    "df_gs['first_term'] = df_gs['LE']*(df_gs['gamma_1']/1000)*df_ra['ga']\n",
    "df_gs['second_term'] = delta*(Rnet-G)\n",
    "df_gs['third_term'] = rho*cp_calc*ga*VPD\n",
    "df_gs['fourth_term'] = LE*(delta+(df_gs['gamma_1']/1000))"
   ]
  },
  {
   "cell_type": "code",
   "execution_count": null,
   "id": "56942c65-1ec1-49fe-8875-3d05befeadc7",
   "metadata": {},
   "outputs": [],
   "source": [
    "start='2017-11-30'\n",
    "end='2018-02-28'\n",
    "df_gs.loc[start:end]"
   ]
  },
  {
   "cell_type": "code",
   "execution_count": null,
   "id": "c9db0103-cd26-4156-9c51-000e07288510",
   "metadata": {},
   "outputs": [],
   "source": [
    "#df_gs['lower_half'].plot()\n",
    "df_gs.columns\n",
    "#df_ra.loc[start:end,'ga']"
   ]
  },
  {
   "cell_type": "code",
   "execution_count": null,
   "id": "93575c1b-b49d-4149-8300-974ca8af37b1",
   "metadata": {},
   "outputs": [],
   "source": [
    "df_soil['SM-Lit'].loc['2017-01-01':'2017-12-30'].plot()\n",
    "df_soil['SM-003'].loc['2017-01-01':'2017-12-30'].plot()\n",
    "df_soil['SM-020'].loc['2017-01-01':'2017-12-30'].plot()\n",
    "df_soil['SM-050'].loc['2017-01-01':'2017-12-30'].plot()\n",
    "df_soil['SM-100'].loc['2017-01-01':'2017-12-30'].plot()"
   ]
  },
  {
   "cell_type": "code",
   "execution_count": null,
   "id": "641a4030-ab17-4aeb-b65a-5a06f8279fbd",
   "metadata": {},
   "outputs": [],
   "source": [
    "df_soil['SM-Lit'].loc['2017-04-17':'2017-04-22'].plot()\n",
    "df_soil['SM-003'].loc['2017-04-17':'2017-04-22'].plot()\n",
    "df_soil['SM-020'].loc['2017-04-17':'2017-04-22'].plot()\n",
    "df_soil['SM-050'].loc['2017-04-17':'2017-04-22'].plot()\n",
    "df_soil['SM-100'].loc['2017-04-17':'2017-04-22'].plot()"
   ]
  }
 ],
 "metadata": {
  "kernelspec": {
   "display_name": "Python 3 (ipykernel)",
   "language": "python",
   "name": "python3"
  },
  "language_info": {
   "codemirror_mode": {
    "name": "ipython",
    "version": 3
   },
   "file_extension": ".py",
   "mimetype": "text/x-python",
   "name": "python",
   "nbconvert_exporter": "python",
   "pygments_lexer": "ipython3",
   "version": "3.11.5"
  },
  "varInspector": {
   "cols": {
    "lenName": 16,
    "lenType": 16,
    "lenVar": 40
   },
   "kernels_config": {
    "python": {
     "delete_cmd_postfix": "",
     "delete_cmd_prefix": "del ",
     "library": "var_list.py",
     "varRefreshCmd": "print(var_dic_list())"
    },
    "r": {
     "delete_cmd_postfix": ") ",
     "delete_cmd_prefix": "rm(",
     "library": "var_list.r",
     "varRefreshCmd": "cat(var_dic_list()) "
    }
   },
   "oldHeight": 471.85,
   "position": {
    "height": "493.844px",
    "left": "1539.19px",
    "right": "20px",
    "top": "105px",
    "width": "344px"
   },
   "types_to_exclude": [
    "module",
    "function",
    "builtin_function_or_method",
    "instance",
    "_Feature"
   ],
   "varInspector_section_display": "block",
   "window_display": true
  }
 },
 "nbformat": 4,
 "nbformat_minor": 5
}
