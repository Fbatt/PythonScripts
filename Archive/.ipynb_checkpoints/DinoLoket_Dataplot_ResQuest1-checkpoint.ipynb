{
 "cells": [
  {
   "cell_type": "markdown",
   "metadata": {},
   "source": [
    "# Read and plot dinoloket groundwater data"
   ]
  },
  {
   "cell_type": "code",
   "execution_count": null,
   "metadata": {},
   "outputs": [],
   "source": [
    "# import statemenets and working directory assignment\n",
    "import pandas as pd\n",
    "import matplotlib.pyplot as plt\n",
    "#import os # use functions os.getcwd() and os.listdir(directory) as needed\n",
    "dir = '../Dinoloket_2023-09-05/Groundwater-data/Grondwaterstanden_Put/B26H0166001_1.csv'\n",
    "dir2 = '../Dinoloket_2023-09-05/Groundwater-data/Grondwaterstanden_Put/B33A0066002_1_edit.csv'\n",
    "#the closest well files are B33A0068001_0 B33A0068001_1 B33A0068002_0 B33A0068002_1 but for some reason this well record starts in 1927 and ends in 1972 so I cant use it.\n",
    "#for the files ending in _0, use header=7, for files ending in _1, use header = 11"
   ]
  },
  {
   "cell_type": "code",
   "execution_count": null,
   "metadata": {},
   "outputs": [],
   "source": [
    "%matplotlib inline\n",
    "%pylab inline"
   ]
  },
  {
   "cell_type": "code",
   "execution_count": null,
   "metadata": {},
   "outputs": [],
   "source": [
    "#%pyplot inline\n",
    "#import os\n",
    "#os.listdir('..')"
   ]
  },
  {
   "cell_type": "code",
   "execution_count": null,
   "metadata": {},
   "outputs": [],
   "source": [
    "df=pd.read_csv(dir2,sep=\",\",index_col=False)\n",
    "#df.index=df['Filternummer'] #the column names are wrong but leave it for now\n",
    "df"
   ]
  },
  {
   "cell_type": "code",
   "execution_count": null,
   "metadata": {},
   "outputs": [],
   "source": [
    "df.shape"
   ]
  },
  {
   "cell_type": "code",
   "execution_count": null,
   "metadata": {},
   "outputs": [],
   "source": [
    "plt.rcParams[\"figure.figsize\"] = (20,3)"
   ]
  },
  {
   "cell_type": "code",
   "execution_count": null,
   "metadata": {},
   "outputs": [],
   "source": [
    "df_GWS=pd.concat([df['Peildatum'],df['Stand (cm t.o.v. MV)']],axis=1,sort=False)\n",
    "df_GWS['datetime']=pd.to_datetime(df['Peildatum']) #format='%d-%m-%Y'\n",
    "df_GWS.index = df_GWS['datetime']\n",
    "df_GWS"
   ]
  },
  {
   "cell_type": "code",
   "execution_count": null,
   "metadata": {},
   "outputs": [],
   "source": [
    "series=df_GWS['Stand (cm t.o.v. MV)']\n",
    "series"
   ]
  },
  {
   "cell_type": "code",
   "execution_count": null,
   "metadata": {},
   "outputs": [],
   "source": [
    "#fig,ax=plt.subplots()\n",
    "#from datetime import datetime, timedelta\n",
    "\n",
    "#ax.plot(df_tmp['Bowen_R'])\n",
    "#ax.plot(df_GWS['Stand (cm t.o.v. MV)'])\n",
    "series.plot()"
   ]
  },
  {
   "cell_type": "code",
   "execution_count": null,
   "metadata": {},
   "outputs": [],
   "source": [
    "series_two = series.loc['1997-01-01':'2019-01-01']\n",
    "series_two.plot()"
   ]
  },
  {
   "cell_type": "code",
   "execution_count": null,
   "metadata": {},
   "outputs": [],
   "source": []
  }
 ],
 "metadata": {
  "kernelspec": {
   "display_name": "Python 3 (ipykernel)",
   "language": "python",
   "name": "python3"
  },
  "language_info": {
   "codemirror_mode": {
    "name": "ipython",
    "version": 3
   },
   "file_extension": ".py",
   "mimetype": "text/x-python",
   "name": "python",
   "nbconvert_exporter": "python",
   "pygments_lexer": "ipython3",
   "version": "3.11.5"
  }
 },
 "nbformat": 4,
 "nbformat_minor": 4
}
