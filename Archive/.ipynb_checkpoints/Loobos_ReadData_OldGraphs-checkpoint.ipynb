{
 "cells": [
  {
   "cell_type": "markdown",
   "metadata": {},
   "source": [
    "# A. There are different ways to access the files:\n",
    "\n",
    "## 1.\tMap network drive\n",
    "You can map this new sharepoint site in a similar way as the old one:\n",
    "Do this only once:\n",
    "-\tLog in to https://wageningenur4.sharepoint.com/sites/LoobosTeamsite with InternetExplorer (the old one, this step does not work with other browsers)\n",
    "-\tGo to settings (gearbox top right) --> Internet Options --> Security tab --> and add https://wageningenur4.sharepoint.com to the list of trusted sites\n",
    "-\tGo to Windows Explorer --> Home (menu bar) --> Easy Access --> Map as Drive --> Select an unused drive letter (e.g. L:\\. At least >= D, as A,B,C are reserved for floppy disks and hard disks), copy in to https://wageningenur4.sharepoint.com/sites/LoobosTeamsite into ‘Folder’ and click Finish\n",
    "-\tThe Sharepoint should now be available via the drive letter you selected.\n",
    "\n",
    "Do this each time you want to use the drive letter:\n",
    "-\tLog in in to https://wageningenur4.sharepoint.com/sites/LoobosTeamsite with InternetExplorer (the old one, this step does not work with other browsers)\n",
    "-\tIn Windows Explorer, select the drive letter to connect again.\n",
    "\n",
    "## 2.\tShortcut via OneDrive\n",
    "-\tOpen https://wageningenur4.sharepoint.com/sites/LoobosTeamsite in any browser\n",
    "-\tSelect ‘Add shortcut to OneDrive’\n",
    "-\tIn your OneDrive (either via the browser or WindowsExplorer), the sharepoint is now accessible. In my case it was via C:\\Users\\molen050\\OneDrive – WageningenUR\\Documents.\n",
    "-\tYou can either use that path as the datapath or assign OneDrive a special drive letter:\n",
    "-\tHit the windows key and type ‘cmd’ to open a dos command window. Type: subst L: \"c:\\Users\\molen050\\OneDrive – WageningenUR\\Documents\\\"\n",
    "-\tThe Sharepoint will now be accessible via O:\\\n",
    "\n",
    "## 3.\tDownload the data to your own drive\n",
    "-\tSimple, reliable, but you will not get updates on the data.\n",
    "\n",
    "\n",
    "\n",
    "# B.\tReading the data in Python\n",
    "In the Folder DataShare/PythonScripts/ there are two files:\n",
    "- a python script Loobos_ReadData.py and \n",
    "- a Jupyter Notebook Loobos_ReadData.ipynb. \n",
    "They contain the same set of commands as an example of how to read the data and make a figure using the python package pandas.\n",
    "\n",
    "Let me know if you have remarks or questions.\n",
    "Michiel"
   ]
  },
  {
   "cell_type": "code",
   "execution_count": null,
   "metadata": {},
   "outputs": [],
   "source": [
    "# Settings\n",
    "Username   = 'molen050'\n",
    "years      = range(1997,2021)    #(1997,2021) # Set years to download"
   ]
  },
  {
   "cell_type": "code",
   "execution_count": null,
   "metadata": {},
   "outputs": [],
   "source": [
    "import os\n",
    "datapath   = \"..\\\\\"\n",
    "print('datapath is set to %s'%datapath)"
   ]
  },
  {
   "cell_type": "code",
   "execution_count": null,
   "metadata": {},
   "outputs": [],
   "source": [
    "import numpy as np\n",
    "import pandas as pd\n",
    "import matplotlib.pyplot as plt\n",
    "#import cufflinks as cf\n",
    "from datetime import datetime, timedelta\n",
    "#import plotly.express as px\n",
    "#import cufflinks as cf\n",
    "#cf.go_offline()\n",
    "#cf.set_config_file(offline=False, world_readable=True)\n",
    "\n",
    "import sys\n",
    "sys.path.insert(0, os.path.join(datapath,'PythonScripts'))\n",
    "from Loobos_Toolbox import Read_LoobosEddFinal, Read_LooStor, Read_LoodatGapfill, Read_Loobos_halfhourly, Read_Loobos_meteo, Read_Loobos_soil, Read_Loobos_profile"
   ]
  },
  {
   "cell_type": "code",
   "execution_count": null,
   "metadata": {},
   "outputs": [],
   "source": [
    "#my own functions\n",
    "from Loobos_Toolbox_Dendro_Grwater import Read_Dendrometers,notmatch"
   ]
  },
  {
   "cell_type": "code",
   "execution_count": null,
   "metadata": {},
   "outputs": [],
   "source": [
    "# Read files\n",
    "df_EC           = Read_LoobosEddFinal    (years,datapath)\n",
    "df_Stor         = Read_LooStor           (years,datapath)\n",
    "df_Comb         = Read_LoodatGapfill     (years,datapath)\n",
    "df_NEE          = Read_Loobos_halfhourly (years,datapath)\n",
    "df_meteo        = Read_Loobos_meteo      (years,datapath)\n",
    "df_soil         = Read_Loobos_soil       (years,datapath)\n",
    "df_profile      = Read_Loobos_profile    (years,datapath)\n"
   ]
  },
  {
   "cell_type": "markdown",
   "metadata": {},
   "source": [
    "## Import the dinoloket data (location B32F0088)"
   ]
  },
  {
   "cell_type": "code",
   "execution_count": null,
   "metadata": {},
   "outputs": [],
   "source": [
    "#new location put 88\n",
    "dir = '../Dinoloket_2024-01-20/Grondwaterstanden_Put/B32F0088001_1_edit.csv'\n",
    "df_GWS=pd.read_csv(dir,sep=\",\",index_col=False)\n",
    "df_GWS=df_GWS.drop(['Locatie','Filternummer','Bijzonderheid','Opmerking'], axis=1)\n",
    "df_GWS['Peildatum']=df_GWS['Peildatum']+\" 12:00\"\n",
    "df_GWS['datetime']=pd.to_datetime(df_GWS['Peildatum'], dayfirst=True, format='mixed')\n",
    "df_GWS.index = df_GWS['datetime']\n",
    "df_GWS=df_GWS.drop(['Peildatum'], axis=1)\n",
    "#df_GWS"
   ]
  },
  {
   "cell_type": "markdown",
   "metadata": {
    "jp-MarkdownHeadingCollapsed": true
   },
   "source": [
    "## Import dendrometer data (old)"
   ]
  },
  {
   "cell_type": "markdown",
   "metadata": {},
   "source": [
    "#Loobos_dendrometers\n",
    "dir = '..\\Loobos_dendrometers\\I5.csv'\n",
    "df_dendro=pd.read_csv(dir,sep=\",\",index_col=False)\n",
    "df_dendro['date2018']=\"2018\" #this is a bit of a goofy way to add te year to groeiseizoen but it should work\n",
    "df_dendro['date2017']=\"2017\"\n",
    "df_dendro['date2018']=df_dendro['date2018'].str.cat(df_dendro['groeiseizoen'], join='left', sep='-')\n",
    "df_dendro['date2017']=df_dendro['date2017'].str.cat(df_dendro['groeiseizoen'], join='left', sep='-')\n",
    "\n",
    "df_dendro['date2018']=pd.to_datetime(df_dendro['date2018'],dayfirst=False, format='%Y-%m-%d %H:%M') #format='%d-%m-%Y'\n",
    "df_dendro['date2017']=pd.to_datetime(df_dendro['date2017'],dayfirst=False, format='%Y-%m-%d %H:%M') #format='%d-%m-%Y'\n",
    "\n",
    "df_dendro2018=pd.concat([df_dendro['date2018'],df_dendro['jr2018']],axis=1,sort=False)\n",
    "df_dendro2017=pd.concat([df_dendro['date2017'],df_dendro['jr2017']],axis=1,sort=False)\n",
    "\n",
    "df_dendro2018.index = df_dendro2018['date2018']\n",
    "df_dendro2017.index = df_dendro2017['date2017']\n",
    "\n",
    "df_dendro2018['jr2018']"
   ]
  },
  {
   "cell_type": "markdown",
   "metadata": {},
   "source": [
    "## Import dendrometer data (using function)"
   ]
  },
  {
   "cell_type": "code",
   "execution_count": null,
   "metadata": {},
   "outputs": [],
   "source": [
    "## function to import all dendro data and append it to the other data\n",
    "df_dendro = Read_Dendrometers(datapath)"
   ]
  },
  {
   "cell_type": "code",
   "execution_count": null,
   "metadata": {},
   "outputs": [],
   "source": [
    "#testing the function (known dry years are 2003 2013 2018. KNMI when looking at droogtemonitor looks at april-sep (months 4-9)\n",
    "vis_wrapper_drought(time_start=\"2009-04-01 00:00\",\n",
    "            time_end=\"2009-09-01 00:00\",\n",
    "            plot_variables=[\"Stand (cm t.o.v. MV)\",\"Bowen_R\",\"dendro_growth_I5\",\"WaterUseEff\"],\n",
    "            yaxis_min_maxes=[[0,0],[0,0],[0,0],[0,0]],\n",
    "            yaxes_auto=True,\n",
    "            data=data,\n",
    "            savefig=False,\n",
    "            resample=\"D\")\n",
    "#for resample, \"\" is no resampling \"D\" for day.\n",
    "\n",
    "#df_GWS['Stand (cm t.o.v. MV)']"
   ]
  },
  {
   "cell_type": "code",
   "execution_count": null,
   "metadata": {},
   "outputs": [],
   "source": [
    "#testing the function (known dry years are 2003 2013 2018. KNMI when looking at droogtemonitor looks at april-sep (months 4-9)\n",
    "vis_wrapper_drought(time_start=\"2013-04-01 00:00\",\n",
    "            time_end=\"2013-09-01 00:00\",\n",
    "            plot_variables=[\"Stand (cm t.o.v. MV)\",\"Bowen_R\",\"dendro_growth_I5\",\"WaterUseEff\"],\n",
    "            yaxis_min_maxes=[[0,0],[0,0],[0,0],[0,0]],\n",
    "            yaxes_auto=True,\n",
    "            data=data,\n",
    "            savefig=False,\n",
    "            resample=\"D\")\n",
    "#for resample, \"\" is no resampling \"D\" for day.\n",
    "\n",
    "#df_GWS['Stand (cm t.o.v. MV)']"
   ]
  },
  {
   "cell_type": "code",
   "execution_count": null,
   "metadata": {},
   "outputs": [],
   "source": [
    "#testing the function (known dry years are 2003 2013 2018. KNMI when looking at droogtemonitor looks at april-sep (months 4-9)\n",
    "vis_wrapper_drought(time_start=\"2014-04-01 00:00\",\n",
    "            time_end=\"2014-09-01 00:00\",\n",
    "            plot_variables=[\"Stand (cm t.o.v. MV)\",\"Bowen_R\",\"dendro_growth_I5\",\"WaterUseEff\"],\n",
    "            yaxis_min_maxes=[[0,0],[0,0],[0,0],[0,0]],\n",
    "            yaxes_auto=True,\n",
    "            data=data,\n",
    "            savefig=False,\n",
    "            resample=\"D\")\n",
    "#for resample, \"\" is no resampling \"D\" for day.\n",
    "\n",
    "#df_GWS['Stand (cm t.o.v. MV)']"
   ]
  },
  {
   "cell_type": "code",
   "execution_count": null,
   "metadata": {},
   "outputs": [],
   "source": [
    "#testing the function (known dry years are 2003 2013 2018. KNMI when looking at droogtemonitor looks at april-sep (months 4-9)\n",
    "vis_wrapper_drought(time_start=\"2018-04-01 00:00\",\n",
    "            time_end=\"2018-09-01 00:00\",\n",
    "            plot_variables=[\"Stand (cm t.o.v. MV)\",\"Bowen_R\",\"dendro_growth_I5\",\"WaterUseEff\"],\n",
    "            #plot_variables=[\"Stand (cm t.o.v. MV)\",\"Bowen_R_3DSMA\",\"dendro_growth_I5\",\"WaterUseEff\"],\n",
    "            yaxis_min_maxes=[[0,0],[0,0],[0,0],[0,0]],\n",
    "            yaxes_auto=True,\n",
    "            data=data,\n",
    "            savefig=False,\n",
    "            resample=\"D\")\n",
    "#for resample, \"\" is no resampling \"D\" for day.\n",
    "\n",
    "#df_GWS['Stand (cm t.o.v. MV)']"
   ]
  },
  {
   "cell_type": "code",
   "execution_count": null,
   "metadata": {},
   "outputs": [],
   "source": [
    "#testing the function (known dry years are 2003 2013 2018. KNMI when looking at droogtemonitor looks at april-sep (months 4-9)\n",
    "vis_wrapper_drought(time_start=\"2019-04-01 00:00\",\n",
    "            time_end=\"2019-09-01 00:00\",\n",
    "            plot_variables=[\"Stand (cm t.o.v. MV)\",\"Bowen_R\",\"dendro_growth_I5\",\"WaterUseEff\"],\n",
    "            yaxis_min_maxes=[[0,0],[0,0],[0,0],[0,0]],\n",
    "            yaxes_auto=True,\n",
    "            data=data,\n",
    "            savefig=False,\n",
    "            resample=\"D\")\n",
    "#for resample, \"\" is no resampling \"D\" for day.\n",
    "\n",
    "#df_GWS['Stand (cm t.o.v. MV)']"
   ]
  },
  {
   "cell_type": "code",
   "execution_count": null,
   "metadata": {},
   "outputs": [],
   "source": [
    "#testing the function for just H and LE\n",
    "vis_wrapper_heat(\n",
    "            time_start=\"19970101 00:00\",\n",
    "            time_end=\"20201231 23:30\",\n",
    "            plot_variables=[\"LE\",\"H\"],\n",
    "            yaxis_min_maxes=[[0,0],[0,0]],\n",
    "            yaxes_auto=True,\n",
    "            data=data,\n",
    "            savefig=False,\n",
    "            resample=\"M\")\n",
    "#for resample, \"\" is no resampling \"D\" for day."
   ]
  },
  {
   "cell_type": "markdown",
   "metadata": {},
   "source": [
    "# Old graphs (For reference)"
   ]
  },
  {
   "cell_type": "markdown",
   "metadata": {
    "jp-MarkdownHeadingCollapsed": true
   },
   "source": [
    "## My plots: Bowen ratio, water use efficiency, light use efficiency"
   ]
  },
  {
   "cell_type": "code",
   "execution_count": null,
   "metadata": {},
   "outputs": [],
   "source": []
  },
  {
   "cell_type": "code",
   "execution_count": null,
   "metadata": {},
   "outputs": [],
   "source": [
    "plt.rcParams[\"figure.figsize\"] = (20,10) #set the default size of graphs to be wide and not very tall"
   ]
  },
  {
   "cell_type": "code",
   "execution_count": null,
   "metadata": {},
   "outputs": [],
   "source": [
    "#SELECT useful data and calculate: bowen ratio is only useful for midday hours, and for when both H and LE are above 50 or 100 W/m2\n",
    "#step 1: create new dataframe with data of interest\n",
    "df_bowen = pd.concat([df_Comb['H'],df_Comb['LE'],df_Comb['Hour'],df_Comb['Year']],axis=1,sort=False)\n",
    "\n",
    "#step 2 select for hours between 9am and 4pm\n",
    "df_bowen = df_bowen.loc[df_bowen['Hour'] <= 16]\n",
    "df_bowen = df_bowen.loc[df_bowen['Hour'] >= 9]\n",
    "\n",
    "#step 3 exclude data where LE or H are below 50\n",
    "df_bowen = df_bowen.loc[df_bowen['LE'] >= 50]\n",
    "df_bowen = df_bowen.loc[df_bowen['H'] >= 50]\n",
    "\n",
    "df_bowen_100 = df_bowen.loc[df_bowen['LE'] >= 100]\n",
    "df_bowen_100 = df_bowen.loc[df_bowen['H'] >= 100]\n",
    "\n",
    "#step 4 calulcate bowen ratio\n",
    "df_bowen['Bowen_R']=df_bowen['H']/df_bowen['LE']\n",
    "df_bowen_100['Bowen_R']=df_bowen['H']/df_bowen['LE']\n",
    "\n",
    "#df_bowen"
   ]
  },
  {
   "cell_type": "code",
   "execution_count": null,
   "metadata": {},
   "outputs": [],
   "source": [
    "# plot bowen ratio\n",
    "fig,ax=plt.subplots()\n",
    "\n",
    "\n",
    "#ax.plot(df_tmp['Bowen_R'])\n",
    "ax.plot(df_bowen['Bowen_R'])\n",
    "#ax.set_ylim(-1000,1000)\n",
    "plt.title('Bowen ratio (daily average) over time')\n",
    "\n",
    "#attempting to make axis labels work (neither of these two work)\n",
    "#plt.xlablel('Bowen ratio [-]')\n",
    "#ax.set_xticks(l)\n",
    "\n",
    "#attempting to make it so there are more x ticks than just seven (doesnt work, will just print all of them on the far left)\n",
    "#relevant functions are: set_xticks() and set_xticklabels()\n",
    "\n",
    "\n",
    "plt.show()\n"
   ]
  },
  {
   "cell_type": "code",
   "execution_count": null,
   "metadata": {},
   "outputs": [],
   "source": [
    "#resampling the dataset so it's a bit more intelligible in a plot\n",
    "df_bowen_daymean50=df_bowen.resample('D').mean()\n",
    "df_bowen_daymean100=df_bowen_100.resample('D').mean()\n",
    "#df_bowen_daymax=df_bowen.resample('D').max()"
   ]
  },
  {
   "cell_type": "code",
   "execution_count": null,
   "metadata": {},
   "outputs": [],
   "source": [
    "# plot bowen ratio\n",
    "fig,ax=plt.subplots()\n",
    "#from datetime import datetime, timedelta\n",
    "\n",
    "#ax.plot(df_tmp['Bowen_R'])\n",
    "ax.plot(df_bowen_daymean100['Bowen_R'])\n",
    "\n",
    "#plt.grid(color='b', linestyle='-', linewidth=1, which='Major', markevery=0.5)\n",
    "#start, end = ax.get_xlim()\n",
    "#t = np.arange(start, end, timedelta(years=1)).astype(datetime)\n",
    "#ax.xaxis.set_ticks(np.arange(start, end, timedelta(days=356)).astype(datetime)) #doesnt seem to work\n",
    "ax.xaxis.set_ticks([datetime(1997,1,1),\n",
    "                    datetime(1998,1,1),\n",
    "                    datetime(1999,1,1),\n",
    "                    datetime(2000,1,1),\n",
    "                    datetime(2001,1,1),\n",
    "                    datetime(2002,1,1),\n",
    "                    datetime(2003,1,1),\n",
    "                    datetime(2004,1,1),\n",
    "                    datetime(2005,1,1),\n",
    "                    datetime(2006,1,1),\n",
    "                    datetime(2007,1,1),\n",
    "                    datetime(2008,1,1),\n",
    "                    datetime(2009,1,1),\n",
    "                    datetime(2010,1,1),\n",
    "                    datetime(2011,1,1),\n",
    "                    datetime(2012,1,1),\n",
    "                    datetime(2013,1,1),\n",
    "                    datetime(2014,1,1),\n",
    "                    datetime(2015,1,1),\n",
    "                    datetime(2016,1,1),\n",
    "                    datetime(2017,1,1),\n",
    "                    datetime(2018,1,1),\n",
    "                    datetime(2019,1,1),\n",
    "                    datetime(2020,1,1),\n",
    "                    datetime(2021,1,1)])\n",
    "#ax.xaxis.set_major_formatter(ticker.FormatStrFormatter('%0.1f'))\n",
    "#ax.xaxis.set_major_formatter(ticker.Year)\n",
    "plt.xticks(rotation=45)\n",
    "\n",
    "#ax.set_ylim(-1000,1000)\n",
    "plt.title('Bowen ratio (daily average) over time, for hours 09-16 and both LE and H > 100W/m2')\n",
    "\n",
    "plt.ylabel('Bowen ratio [-]')\n",
    "plt.xlabel('Time')\n",
    "#attempting to make axis labels work (neither of these two work)\n",
    "#plt.xlablel('Bowen ratio [-]')\n",
    "#ax.set_xticks(l)\n",
    "\n",
    "#attempting to make it so there are more x ticks than just seven (doesnt work, will just print all of them on the far left)\n",
    "#relevant functions are: set_xticks() and set_xticklabels()\n",
    "\n",
    "#x = [0,5,9,10,15]\n",
    "#y = [0,1,2,3,4]\n",
    "#fig, ax = plt.subplots()\n",
    "#ax.plot(x,y)\n",
    "#start, end = ax.get_xlim()\n",
    "#ax.xaxis.set_ticks(np.arange(start, end, 0.712123))\n",
    "#ax.xaxis.set_major_formatter(ticker.FormatStrFormatter('%0.1f'))\n",
    "#plt.show()\n",
    "\n",
    "\n",
    "plt.show()"
   ]
  },
  {
   "cell_type": "markdown",
   "metadata": {},
   "source": [
    "### Water Use Efficiency"
   ]
  },
  {
   "cell_type": "code",
   "execution_count": null,
   "metadata": {},
   "outputs": [],
   "source": [
    "#SELECT useful data and calculate: water use efficiency\n",
    "#step 1: create new dataframe with data of interest\n",
    "df_WUE = pd.concat([df_Comb['GPP_f'],df_Comb['LE'],df_Comb['Hour'],df_Comb['Year']],axis=1,sort=False)\n",
    "\n",
    "#step 2 select for hours between 9am and 4pm\n",
    "df_WUE = df_WUE.loc[df_WUE['Hour'] <= 16]\n",
    "df_WUE = df_WUE.loc[df_WUE['Hour'] >= 9]\n",
    "\n",
    "#step 3 exclude data where LE or H are below 50\n",
    "df_WUE = df_WUE.loc[df_WUE['LE'] >= 100]\n",
    "#df_bowen = df_bowen.loc[df_bowen['H'] >= 50]\n",
    "\n",
    "#df_bowen_100 = df_bowen.loc[df_bowen['LE'] >= 100]\n",
    "#df_bowen_100 = df_bowen.loc[df_bowen['H'] >= 100]\n",
    "\n",
    "\n",
    "\n",
    "#step 4 calulcate bowen ratio\n",
    "df_WUE['WaterUseEff']=df_WUE['GPP_f']/df_WUE['LE']\n",
    "\n",
    "df_WUE_daymean=df_WUE.resample('D').mean()\n",
    "\n",
    "#df_bowen"
   ]
  },
  {
   "cell_type": "code",
   "execution_count": null,
   "metadata": {},
   "outputs": [],
   "source": [
    "# plot water use efficiency\n",
    "fig,ax=plt.subplots()\n",
    "\n",
    "#ax.plot(df_tmp['Bowen_R'])\n",
    "ax.plot(df_WUE_daymean['WaterUseEff'])\n",
    "ax.set_ylim(-0.1,0.3)\n",
    "\n",
    "ax.xaxis.set_ticks([datetime(1997,1,1),\n",
    "                    datetime(1998,1,1),\n",
    "                    datetime(1999,1,1),\n",
    "                    datetime(2000,1,1),\n",
    "                    datetime(2001,1,1),\n",
    "                    datetime(2002,1,1),\n",
    "                    datetime(2003,1,1),\n",
    "                    datetime(2004,1,1),\n",
    "                    datetime(2005,1,1),\n",
    "                    datetime(2006,1,1),\n",
    "                    datetime(2007,1,1),\n",
    "                    datetime(2008,1,1),\n",
    "                    datetime(2009,1,1),\n",
    "                    datetime(2010,1,1),\n",
    "                    datetime(2011,1,1),\n",
    "                    datetime(2012,1,1),\n",
    "                    datetime(2013,1,1),\n",
    "                    datetime(2014,1,1),\n",
    "                    datetime(2015,1,1),\n",
    "                    datetime(2016,1,1),\n",
    "                    datetime(2017,1,1),\n",
    "                    datetime(2018,1,1),\n",
    "                    datetime(2019,1,1),\n",
    "                    datetime(2020,1,1),\n",
    "                    datetime(2021,1,1)])\n",
    "\n",
    "plt.xticks(rotation=45)\n",
    "\n",
    "plt.title('Water use efficiency (daily average) over time, for hours 09-15 and LE > 100Wm/2')\n",
    "\n",
    "plt.show()"
   ]
  },
  {
   "cell_type": "markdown",
   "metadata": {},
   "source": [
    "## Plotting Bowen ratio and WUE combined"
   ]
  },
  {
   "cell_type": "code",
   "execution_count": null,
   "metadata": {},
   "outputs": [],
   "source": [
    "#example adapted from https://matplotlib.org/stable/gallery/subplots_axes_and_figures/two_scales.html\n",
    "fig, ax1 = plt.subplots()\n",
    "\n",
    "color = 'tab:red'\n",
    "ax1.set_xlabel('time')\n",
    "ax1.set_ylabel('Bowen ratio', color=color)\n",
    "ax1.plot(df_bowen_daymean100['Bowen_R'], color=color)\n",
    "ax1.tick_params(axis='y', labelcolor=color)\n",
    "\n",
    "ax1.xaxis.set_ticks([datetime(1997,1,1),\n",
    "                    datetime(1998,1,1),\n",
    "                    datetime(1999,1,1),\n",
    "                    datetime(2000,1,1),\n",
    "                    datetime(2001,1,1),\n",
    "                    datetime(2002,1,1),\n",
    "                    datetime(2003,1,1),\n",
    "                    datetime(2004,1,1),\n",
    "                    datetime(2005,1,1),\n",
    "                    datetime(2006,1,1),\n",
    "                    datetime(2007,1,1),\n",
    "                    datetime(2008,1,1),\n",
    "                    datetime(2009,1,1),\n",
    "                    datetime(2010,1,1),\n",
    "                    datetime(2011,1,1),\n",
    "                    datetime(2012,1,1),\n",
    "                    datetime(2013,1,1),\n",
    "                    datetime(2014,1,1),\n",
    "                    datetime(2015,1,1),\n",
    "                    datetime(2016,1,1),\n",
    "                    datetime(2017,1,1),\n",
    "                    datetime(2018,1,1),\n",
    "                    datetime(2019,1,1),\n",
    "                    datetime(2020,1,1),\n",
    "                    datetime(2021,1,1)])\n",
    "\n",
    "plt.xticks(rotation=45)\n",
    "\n",
    "ax2 = ax1.twinx()  # instantiate a second axes that shares the same x-axis\n",
    "\n",
    "color = 'tab:blue'\n",
    "ax2.set_ylabel('Water Use Efficiency', color=color)  # we already handled the x-label with ax1\n",
    "ax2.plot(df_WUE_daymean['WaterUseEff'], color=color)\n",
    "ax2.set_ylim(-0.1,0.3)\n",
    "ax2.tick_params(axis='y', labelcolor=color)\n",
    "\n",
    "fig.suptitle('Bowen ratio and Water use efficiency')\n",
    "fig.tight_layout()  # otherwise the right y-label is slightly clipped\n",
    "plt.show()\n"
   ]
  },
  {
   "cell_type": "code",
   "execution_count": null,
   "metadata": {},
   "outputs": [],
   "source": [
    "#do it again but split the datasets into two datasets of 12 years each.\n",
    "df_bowen_97_09=df_bowen_daymean100.loc[df_bowen_daymean100['Year']>=1997].loc[df_bowen_daymean100['Year']<=2009] \n",
    "df_bowen_09_21=df_bowen_daymean100.loc[df_bowen_daymean100['Year']>=2010].loc[df_bowen_daymean100['Year']<=2021]\n",
    "\n",
    "df_WUE_97_09=df_WUE_daymean.loc[df_WUE_daymean['Year']>=1997].loc[df_WUE_daymean['Year']<=2009]\n",
    "df_WUE_09_21=df_WUE_daymean.loc[df_WUE_daymean['Year']>=2010].loc[df_WUE_daymean['Year']<=2021]"
   ]
  },
  {
   "cell_type": "code",
   "execution_count": null,
   "metadata": {},
   "outputs": [],
   "source": [
    "#example adapted from https://matplotlib.org/stable/gallery/subplots_axes_and_figures/two_scales.html\n",
    "fig, ax1 = plt.subplots()\n",
    "\n",
    "color = 'tab:red'\n",
    "ax1.set_xlabel('time')\n",
    "ax1.set_ylabel('Bowen ratio', color=color)\n",
    "ax1.plot(df_bowen_97_09['Bowen_R'], color=color)\n",
    "ax1.tick_params(axis='y', labelcolor=color)\n",
    "\n",
    "ax1.xaxis.set_ticks([datetime(1997,1,1),\n",
    "                    datetime(1998,1,1),\n",
    "                    datetime(1999,1,1),\n",
    "                    datetime(2000,1,1),\n",
    "                    datetime(2001,1,1),\n",
    "                    datetime(2002,1,1),\n",
    "                    datetime(2003,1,1),\n",
    "                    datetime(2004,1,1),\n",
    "                    datetime(2005,1,1),\n",
    "                    datetime(2006,1,1),\n",
    "                    datetime(2007,1,1),\n",
    "                    datetime(2008,1,1),\n",
    "                    datetime(2009,1,1),\n",
    "                    datetime(2010,1,1)])\n",
    "\n",
    "plt.xticks(rotation=45)\n",
    "\n",
    "ax2 = ax1.twinx()  # instantiate a second axes that shares the same x-axis\n",
    "\n",
    "color = 'tab:blue'\n",
    "ax2.set_ylabel('Water Use Efficiency', color=color)  # we already handled the x-label with ax1\n",
    "ax2.plot(df_WUE_97_09['WaterUseEff'], color=color)\n",
    "ax2.set_ylim(-0.1,0.3)\n",
    "ax2.tick_params(axis='y', labelcolor=color)\n",
    "\n",
    "fig.suptitle('Bowen ratio and Water use efficiency (1997-2009)')\n",
    "fig.tight_layout()  # otherwise the right y-label is slightly clipped\n",
    "plt.show()"
   ]
  },
  {
   "cell_type": "code",
   "execution_count": null,
   "metadata": {},
   "outputs": [],
   "source": [
    "#example adapted from https://matplotlib.org/stable/gallery/subplots_axes_and_figures/two_scales.html\n",
    "fig, ax1 = plt.subplots()\n",
    "\n",
    "color = 'tab:red'\n",
    "ax1.set_xlabel('time')\n",
    "ax1.set_ylabel('Bowen ratio', color=color)\n",
    "ax1.plot(df_bowen_09_21['Bowen_R'], color=color)\n",
    "ax1.tick_params(axis='y', labelcolor=color)\n",
    "\n",
    "ax1.xaxis.set_ticks([datetime(2010,1,1),\n",
    "                    datetime(2011,1,1),\n",
    "                    datetime(2012,1,1),\n",
    "                    datetime(2013,1,1),\n",
    "                    datetime(2014,1,1),\n",
    "                    datetime(2015,1,1),\n",
    "                    datetime(2016,1,1),\n",
    "                    datetime(2017,1,1),\n",
    "                    datetime(2018,1,1),\n",
    "                    datetime(2019,1,1),\n",
    "                    datetime(2020,1,1),\n",
    "                    datetime(2021,1,1)])\n",
    "\n",
    "plt.xticks(rotation=45)\n",
    "\n",
    "ax2 = ax1.twinx()  # instantiate a second axes that shares the same x-axis\n",
    "\n",
    "color = 'tab:blue'\n",
    "ax2.set_ylabel('Water Use Efficiency', color=color)  # we already handled the x-label with ax1\n",
    "ax2.plot(df_WUE_09_21['WaterUseEff'], color=color)\n",
    "ax2.set_ylim(-0.1,0.3)\n",
    "ax2.tick_params(axis='y', labelcolor=color)\n",
    "\n",
    "fig.suptitle('Bowen ratio and Water use efficiency (2010-2021)')\n",
    "fig.tight_layout()  # otherwise the right y-label is slightly clipped\n",
    "plt.show()"
   ]
  },
  {
   "cell_type": "markdown",
   "metadata": {},
   "source": [
    "## Light use Efficiency"
   ]
  },
  {
   "cell_type": "code",
   "execution_count": null,
   "metadata": {},
   "outputs": [],
   "source": [
    "#SELECT useful data\n",
    "#step 1: create new dataframe with data of interest\n",
    "df_LUE = pd.concat([df_meteo['S(i)'],df_Comb['GPP_f'],df_Comb['Hour'],df_Comb['Year']],axis=1,sort=False)\n",
    "\n",
    "#step 2 select for daylight hours by using S(i)\n",
    "df_LUE = df_LUE.loc[df_LUE['S(i)'] >= 100]\n",
    "\n",
    "#too much data for a scatterplot, split into 4 periods of 6 years (2021-1997 = 24. 24/4 = 6)\n",
    "#1997-2003 2004-2009 2010-2015 2016-2021\n",
    "\n",
    "df_LUE_1 = df_LUE.loc[df_LUE['Year'] >=1997].loc[df_LUE['Year'] <=2003 ]\n",
    "df_LUE_2 = df_LUE.loc[df_LUE['Year'] >=2004].loc[df_LUE['Year'] <=2009 ]\n",
    "df_LUE_3 = df_LUE.loc[df_LUE['Year'] >=2010].loc[df_LUE['Year'] <=2015 ]\n",
    "df_LUE_4 = df_LUE.loc[df_LUE['Year'] >=2016].loc[df_LUE['Year'] <=2021 ]"
   ]
  },
  {
   "cell_type": "code",
   "execution_count": null,
   "metadata": {},
   "outputs": [],
   "source": [
    "# plot light use efficiency\n",
    "fig,ax=plt.subplots()\n",
    "\n",
    "#df_LUE = df_LUE.loc[df_LUE['Year'] == 1998.0]\n",
    "\n",
    "#df_LUE=df_LUE.resample('D').mean()\n",
    "\n",
    "ax.scatter(x=df_LUE['S(i)'],y=df_LUE['GPP_f'])\n",
    "ax.set_ylim(-20,50)\n",
    "plt.ylabel('GPP (gapfilled) [gC/m2year]')\n",
    "plt.xlabel('S(i) [W/m2]')\n",
    "plt.title('Light use efficiency over time')\n",
    "\n",
    "\n",
    "\n",
    "plt.show()"
   ]
  },
  {
   "cell_type": "code",
   "execution_count": null,
   "metadata": {},
   "outputs": [],
   "source": [
    "# plot light use efficiency in 4 periods of 6 years\n",
    "fig,axes=plt.subplots(nrows=2,ncols=2)\n",
    "fig.suptitle('Light use efficiency (GPP/Rs) (halfhourly, for Rs>100W/m)')\n",
    "\n",
    "#df_LUE = df_LUE.loc[df_LUE['Year'] == 1998.0]\n",
    "\n",
    "#df_LUE=df_LUE.resample('D').mean()\n",
    "\n",
    "a=axes[0,0].scatter(x=df_LUE_1['S(i)'],y=df_LUE_1['GPP_f'],c=df_LUE_1.Year,cmap='viridis',s=5)\n",
    "axes[0,0].set_ylim(-20,50)\n",
    "axes[0,0].set_title('1997-2003')\n",
    "b=axes[0,1].scatter(x=df_LUE_2['S(i)'],y=df_LUE_2['GPP_f'],c=df_LUE_2.Year,cmap='viridis',s=5)\n",
    "axes[0,1].set_ylim(-20,50)\n",
    "axes[0,1].set_title('2004-2009')\n",
    "c=axes[1,0].scatter(x=df_LUE_3['S(i)'],y=df_LUE_3['GPP_f'],c=df_LUE_3.Year,cmap='viridis',s=5)\n",
    "axes[1,0].set_ylim(-20,50)\n",
    "axes[1,0].set_title('2010-2015')\n",
    "d=axes[1,1].scatter(x=df_LUE_4['S(i)'],y=df_LUE_4['GPP_f'],c=df_LUE_4.Year,cmap='viridis',s=5)\n",
    "axes[1,1].set_ylim(-20,50)\n",
    "axes[1,1].set_title('2016-2021')\n",
    "\n",
    "for axi in axes:\n",
    "    for ax in axi:\n",
    "        ax.set_ylabel('GPP (gapfilled) [gC/m2year]')\n",
    "        ax.set_xlabel('S(i) [W/m2]')\n",
    "\n",
    "#import matplotlib.dates as mdates\n",
    "#myFmt = mdates.DateFormatter('%d')\n",
    "#ax.xaxis.set_major_formatter(myFmt)\n",
    "\n",
    "plt.colorbar(a,ax=axes[0,0]) # seems to work\n",
    "plt.colorbar(b,ax=axes[0,1])\n",
    "plt.colorbar(c,ax=axes[1,0])\n",
    "plt.colorbar(d,ax=axes[1,1])\n",
    "\n",
    "\n",
    "plt.show()"
   ]
  },
  {
   "cell_type": "code",
   "execution_count": null,
   "metadata": {},
   "outputs": [],
   "source": [
    "#Plot all 3 combined\n",
    "df_plot_multi = pd.concat([df_plot['LightUseEff'],df_Comb_res['WaterUseEff'],df_Comb_res['Bowen_R']],axis=1,sort=False)\n",
    "df_plot_multi.columns = ['LightUseEff','WaterUseEff','Bowen_R']\n",
    "f1 = df_plot_multi.iplot(asFigure=True, layout=dict(yaxis=dict(title=''), xaxis=dict(title='time')), width=2)\n",
    "\n",
    "#f1.ylim(-2000,2000) #(doesnt work)\n",
    "f1.show()"
   ]
  },
  {
   "cell_type": "code",
   "execution_count": null,
   "metadata": {},
   "outputs": [],
   "source": [
    "# plot bowen ratio\n",
    "#df_Comb['WaterUseEff']=df_Comb['GPP_f']/df_Comb['LE']\n",
    "#df_Comb.groupby(df_Comb['Hour'])['WaterUseEff'].mean().iplot(asFigure=True,layout=dict(yaxis=dict(title='water use efficiency'), xaxis=dict(title='time')), width=2)\n"
   ]
  },
  {
   "cell_type": "code",
   "execution_count": null,
   "metadata": {},
   "outputs": [],
   "source": [
    "print(df_Comb.index.min())\n",
    "print(df_meteo.index.min())\n",
    "print(df_Comb.index.max())\n",
    "print(df_meteo.index.max())"
   ]
  },
  {
   "cell_type": "markdown",
   "metadata": {},
   "source": [
    "### Bonus: GPP & LE"
   ]
  },
  {
   "cell_type": "code",
   "execution_count": null,
   "metadata": {},
   "outputs": [],
   "source": [
    "#SELECT useful data and calculate: water use efficiency\n",
    "#step 1: create new dataframe with data of interest\n",
    "df_WUE = pd.concat([df_Comb['GPP_f'],df_Comb['LE'],df_Comb['Hour']],axis=1,sort=False)\n",
    "\n",
    "#step 2 select for hours between 9am and 4pm\n",
    "#df_WUE = df_WUE.loc[df_WUE['Hour'] <= 16]\n",
    "#df_WUE = df_WUE.loc[df_WUE['Hour'] >= 9]\n",
    "\n",
    "#step 3 exclude data where LE or H are below 50\n",
    "#df_WUE = df_WUE.loc[df_WUE['LE'] >= 50]\n",
    "#df_bowen = df_bowen.loc[df_bowen['H'] >= 50]\n",
    "\n",
    "#df_bowen_100 = df_bowen.loc[df_bowen['LE'] >= 100]\n",
    "#df_bowen_100 = df_bowen.loc[df_bowen['H'] >= 100]\n",
    "\n",
    "\n",
    "\n",
    "#step 4 calulcate bowen ratio\n",
    "df_WUE['WaterUseEff']=df_WUE['GPP_f']/df_WUE['LE']\n",
    "\n",
    "#df_bowen"
   ]
  },
  {
   "cell_type": "code",
   "execution_count": null,
   "metadata": {},
   "outputs": [],
   "source": [
    "# plot water use efficiency\n",
    "fig,ax=plt.subplots()\n",
    "\n",
    "ax.plot(df_WUE['GPP_f'])\n",
    "ax.set_ylim(-50,80)\n",
    "\n",
    "plt.title('GPP_f (halfhourly)')\n",
    "\n",
    "plt.show()"
   ]
  },
  {
   "cell_type": "code",
   "execution_count": null,
   "metadata": {},
   "outputs": [],
   "source": [
    "#SELECT useful data and calculate: water use efficiency\n",
    "#step 1: create new dataframe with data of interest\n",
    "df_WUE = pd.concat([df_Comb['GPP_f'],df_Comb['LE'],df_Comb['Hour']],axis=1,sort=False)\n",
    "\n",
    "#step 2 select for hours between 9am and 4pm\n",
    "df_WUE = df_WUE.loc[df_WUE['Hour'] <= 16]\n",
    "df_WUE = df_WUE.loc[df_WUE['Hour'] >= 9]\n",
    "\n",
    "#step 3 exclude data where LE or H are below 50\n",
    "#df_WUE = df_WUE.loc[df_WUE['LE'] >= 50]\n",
    "#df_bowen = df_bowen.loc[df_bowen['H'] >= 50]\n",
    "\n",
    "#df_bowen_100 = df_bowen.loc[df_bowen['LE'] >= 100]\n",
    "#df_bowen_100 = df_bowen.loc[df_bowen['H'] >= 100]\n",
    "\n",
    "\n",
    "\n",
    "#step 4 calulcate bowen ratio\n",
    "df_WUE['WaterUseEff']=df_WUE['GPP_f']/df_WUE['LE']\n",
    "\n",
    "df_WUE_daymean=df_WUE.resample('D').mean()\n",
    "\n",
    "\n",
    "#df_bowen"
   ]
  },
  {
   "cell_type": "code",
   "execution_count": null,
   "metadata": {},
   "outputs": [],
   "source": [
    "# plot water use efficiency\n",
    "fig,ax=plt.subplots()\n",
    "\n",
    "ax.plot(df_WUE_daymean['GPP_f'])\n",
    "ax.set_ylim(-50,80)\n",
    "\n",
    "plt.title('GPP_f (daily mean)')\n",
    "\n",
    "plt.show()"
   ]
  },
  {
   "cell_type": "code",
   "execution_count": null,
   "metadata": {},
   "outputs": [],
   "source": [
    "# plot water use efficiency\n",
    "fig,ax=plt.subplots()\n",
    "\n",
    "ax.plot(df_WUE_daymean['LE'])\n",
    "#ax.set_ylim(-50,80)\n",
    "\n",
    "plt.title('LE (daily mean)')\n",
    "\n",
    "plt.show()"
   ]
  },
  {
   "cell_type": "code",
   "execution_count": null,
   "metadata": {},
   "outputs": [],
   "source": []
  }
 ],
 "metadata": {
  "kernelspec": {
   "display_name": "Python 3 (ipykernel)",
   "language": "python",
   "name": "python3"
  },
  "language_info": {
   "codemirror_mode": {
    "name": "ipython",
    "version": 3
   },
   "file_extension": ".py",
   "mimetype": "text/x-python",
   "name": "python",
   "nbconvert_exporter": "python",
   "pygments_lexer": "ipython3",
   "version": "3.11.5"
  }
 },
 "nbformat": 4,
 "nbformat_minor": 4
}
