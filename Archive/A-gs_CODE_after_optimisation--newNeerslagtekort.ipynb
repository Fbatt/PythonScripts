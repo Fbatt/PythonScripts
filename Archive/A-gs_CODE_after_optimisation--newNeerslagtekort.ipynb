{
 "cells": [
  {
   "cell_type": "markdown",
   "id": "a2978442-0a0a-42b2-ac0f-8e6b685580d8",
   "metadata": {},
   "source": [
    "# Rain data preparation and unit testing (Pmast and KNMI)"
   ]
  },
  {
   "cell_type": "markdown",
   "id": "467470b3-2427-4ada-b14f-9ff26922d8ec",
   "metadata": {},
   "source": [
    "## Setup and fetch data"
   ]
  },
  {
   "cell_type": "code",
   "execution_count": null,
   "id": "515abf18",
   "metadata": {},
   "outputs": [],
   "source": [
    "# Settings\n",
    "Username   = 'Beheerder'\n",
    "years      = range(2001,2021)    #(1997,2021) # Set years to download"
   ]
  },
  {
   "cell_type": "code",
   "execution_count": null,
   "id": "fdb7f756",
   "metadata": {},
   "outputs": [],
   "source": [
    "import os\n",
    "datapath = os.path.join('../')\n",
    "#print('datapath is set to %s'%datapath)\n",
    "\n",
    "# !pip install numpy\n",
    "# !pip install pandas\n",
    "# !pip install matplotlib\n",
    "# !pip install plotly \n",
    "# !pip install cufflinks\n",
    "#!pip install colorspacious\n",
    "#!pip install seaborn\n",
    "\n",
    "import numpy as np\n",
    "import pandas as pd\n",
    "import matplotlib.pyplot as plt\n",
    "#import plotly.express as px\n",
    "#import cufflinks as cf\n",
    "import matplotlib.dates as mdate\n",
    "import matplotlib.ticker as ticker\n",
    "from matplotlib import cm\n",
    "#from colorspacious import cspace_converter\n",
    "import scipy.stats as stats\n",
    "#cf.go_offline()\n",
    "#cf.set_config_file(offline=False, world_readable=True)\n",
    "\n",
    "from datetime import datetime, timedelta\n",
    "import sys\n",
    "sys.path.insert(0, os.path.join(datapath,'PythonScripts'))\n",
    "from Loobos_Toolbox import dateparse, dateparse_Gapfilled, Read_LoobosEddFinal, Read_LooStor, Read_LoodatGapfill, Read_Loobos_halfhourly, Read_Loobos_meteo, Read_Loobos_soil, Read_Loobos_profile\n",
    "from Ags_model import runAgs, calc_LE\n",
    "import matplotlib.dates as mdates"
   ]
  },
  {
   "cell_type": "code",
   "execution_count": null,
   "id": "244e6ea2",
   "metadata": {},
   "outputs": [],
   "source": [
    "#these next two lines are to prevent re-loading the data. If you want to re-load data, instead comment them out\n",
    "if not 'progress' in globals(): progress = list()\n",
    "if not 'dataloaded' in progress:\n",
    "  # Read files\n",
    "    df_meteo        = Read_Loobos_meteo      (years,datapath)\n",
    "    df_Comb         = Read_LoodatGapfill     (years,datapath)\n",
    "    progress.append('dataloaded')"
   ]
  },
  {
   "cell_type": "code",
   "execution_count": null,
   "id": "8daad4da-952a-4a44-b5af-6a6689fceae1",
   "metadata": {},
   "outputs": [],
   "source": [
    "#df_Comb['LE'].plot()"
   ]
  },
  {
   "cell_type": "code",
   "execution_count": null,
   "id": "413b680d-a1e1-43b9-b82b-17f22619eece",
   "metadata": {},
   "outputs": [],
   "source": [
    "#df_Comb['LE_f'].plot()"
   ]
  },
  {
   "cell_type": "markdown",
   "id": "d828217e-827d-4c35-8133-839ec7588eaf",
   "metadata": {},
   "source": [
    "### KNMI neerslagtekort data"
   ]
  },
  {
   "cell_type": "code",
   "execution_count": null,
   "id": "cd26112f-4927-46d3-9693-6e4919ec0a5d",
   "metadata": {},
   "outputs": [],
   "source": [
    "# Custom function to convert float value representing fractional years to datetime\n",
    "#function doesn't really work, due to rounding errors somtimes rows end up having duplicate indexes\n",
    "def convert_frac_to_datetime(date):\n",
    "    from calendar import isleap #import statement inside function because this function doesn't really work so I don't always load it\n",
    "    year = int(date)\n",
    "    if isleap(year):\n",
    "        days = int((date - year) * 366)\n",
    "    else:\n",
    "        days = int((date - year) * 365)\n",
    "    base_date = pd.to_datetime(f'{year}-01-01')\n",
    "    return base_date + pd.DateOffset(days=days)\n",
    "\n",
    "def generate_knmi_SPEI_anom(path):\n",
    "    output=pd.read_csv(path,delim_whitespace=True)\n",
    "    #input['year']=np.floor(input['date'])\n",
    "    output_index=pd.date_range(start='1997-04-01', end='1997-09-30', freq='1D') #initalize datetimeindex so I can concat to it.\n",
    "    output_index=pd.Series(output_index) #cast to series because datetimeindex objects aren't concat-able\n",
    "    for year in range(1998,2024):\n",
    "        tmp_index=pd.date_range(start=str(year)+'-04-01', end=str(year)+'-09-30', freq='1D')\n",
    "        series_index=pd.Series(tmp_index) #cast to series so I can concat\n",
    "        #print('adding '+str(len(series_index))+' rows: '+str(year)) #debug\n",
    "        output_index=pd.concat([output_index,series_index],axis=0,ignore_index=True) #append to previous, ignore_index=True or else you get duplicate index entries\n",
    "        #print('new total len: '+str(len(output_index))) #debug\n",
    "    \n",
    "    output.index=pd.DatetimeIndex(output_index) #cast to DatetimeIndex and assign as index)\n",
    "    output.rename(columns={'date':'frac_date'},inplace=True) #rename column to fractional date (original date format in case for debugging)\n",
    "    return output\n",
    "\n",
    "def check_rows_SPEI(path): #for debugging which year doesn't have the right amount of rows\n",
    "    tmp=pd.read_csv(path,delim_whitespace=True)\n",
    "    tmp['year']=np.floor(tmp['date'])\n",
    "    for year in range(1997,2024):\n",
    "        if len(tmp.loc[tmp['year']==year])==183: #there are 183 days between 1 april and 30 september\n",
    "            print(str(year)+' has 183 days (april1-sep30)')\n",
    "        else:\n",
    "            print(\"year doesn't have 183 days: \"+str(year))"
   ]
  },
  {
   "cell_type": "code",
   "execution_count": null,
   "id": "a71a6ca2-ce1a-4718-85df-9b97fad97528",
   "metadata": {},
   "outputs": [],
   "source": [
    "df_knmi_Pdfct=generate_knmi_SPEI_anom('../KNMI_regen/int_nl_a2.txt')\n",
    "df_knmi_Pdfct"
   ]
  },
  {
   "cell_type": "markdown",
   "id": "6e176a1e-600d-4613-9bfd-639748c3a93d",
   "metadata": {},
   "source": [
    "### measured ET process data"
   ]
  },
  {
   "cell_type": "code",
   "execution_count": null,
   "id": "36f2c393-bdea-45bb-b303-898f5f01546c",
   "metadata": {},
   "outputs": [],
   "source": [
    "# ET is in Wm-2. Convert to mm.\n",
    "#columns of interest 'LE' 'LE_orig', 'LE_f', 'LE_fqc', 'LE_fall', 'LE_fall_qc', 'LE_fnum', 'LE_fsd', 'LE_fmeth', 'LE_fwin'\n",
    "\n",
    "years_range=(str(list(years)[0])+'-01-01',str(list(years)[-1])+'-12-31') #daterange based on the years variable defined at the top\n",
    "df_LE=df_Comb.loc[years_range[0]:years_range[1],['LE']]\n",
    "df_LE=df_LE.loc[df_LE['LE']>-200]\n",
    "df_LE=df_LE.resample('3H').mean()\n",
    "df_LE=df_LE.resample('1D').sum()\n",
    "#df_LE['LE_MJm2day']=df_LE['LE']/0.0864 #1W/m2 = 0.0864 MJ /m2/day\n",
    "#df_LE['LE_mmday']=df_LE['LE_MJm2day']/0.408 #1 MJ /m2/day  =0.408 mm /day\n",
    "df_LE['LE_mmday2']=df_LE['LE']*0.03521\n",
    "\n",
    "df_LE_f=df_Comb.loc[years_range[0]:years_range[1],['LE_f']]\n",
    "df_LE_f=df_LE_f.resample('3H').mean()\n",
    "df_LE_f=df_LE_f.resample('1D').sum()\n",
    "#df_LE_f['LE_MJm2day']=df_LE_f['LE_f']/0.0864 #1W/m2 = 0.0864 MJ /m2/day\n",
    "#df_LE_f['LE_mmday']=df_LE_f['LE_MJm2day']/0.408 #1 MJ /m2/day  =0.408 mm /day .\n",
    "df_LE_f['LE_mmday2']=df_LE_f['LE_f']*0.03521"
   ]
  },
  {
   "cell_type": "code",
   "execution_count": null,
   "id": "9c49b017-36f9-4783-a5a1-071e79c9be1f",
   "metadata": {},
   "outputs": [],
   "source": [
    "df_LE['LE_mmday2'].plot()"
   ]
  },
  {
   "cell_type": "code",
   "execution_count": null,
   "id": "dba0cf2b-b971-4bd2-8e4d-d6084f8f5057",
   "metadata": {},
   "outputs": [],
   "source": [
    "df_LE_f['LE_mmday2'].plot()"
   ]
  },
  {
   "cell_type": "markdown",
   "id": "5bf02061-0b39-43df-b4ed-625877fc08cc",
   "metadata": {},
   "source": [
    "### KNMI fetch data"
   ]
  },
  {
   "cell_type": "code",
   "execution_count": null,
   "id": "0b5590bc-8a73-43f1-b170-8a5f04608453",
   "metadata": {},
   "outputs": [],
   "source": [
    "#datapath = os.path.join('../KNMI_regen')\n",
    "#print(datapath)\n",
    "knmi_regen=pd.read_csv('../KNMI_regen/neerslaggeg_KOOTWIJK-RADIO_567.txt',sep=',',header=17)\n",
    "knmi_regen=knmi_regen.iloc[28000:] #remove dataset before ~ 2001 to speed up calculations\n",
    "#knmi_regen=knmi_regen.iloc[31000:] #remove dataset before ~november 2007\n",
    "knmi_regen['date']=pd.to_datetime(knmi_regen['YYYYMMDD'],yearfirst=True,format='%Y%m%d')\n",
    "knmi_regen.index=knmi_regen['date']\n",
    "knmi_regen=knmi_regen.rename(columns={\"   RD\": \"RD\", \"   SX\": \"SX\"}) #for some reason there's spaces in some of the column names, removing them.\n",
    "knmi_regen=knmi_regen.astype({\"RD\": np.intc}) #Column RD is is rain daily sum, SX is code related to snow. If unnamed contains 4 spaces it's also a code for snow. STN is station ID.\n",
    "years_range=(str(list(years)[0])+'-01-01',str(list(years)[-1])+'-12-31') #daterange based on the years variable defined at the top\n",
    "df_knmi_daily=knmi_regen.loc[years_range[0]:years_range[1],['RD']]/10 #RD is in tenths of mm so divide by 10\n",
    "#df_knmi_daily.plot()"
   ]
  },
  {
   "cell_type": "markdown",
   "id": "6a02d271-6f8e-41ad-9a7d-550326abacc9",
   "metadata": {},
   "source": [
    "## locally calculated neerslagtekort"
   ]
  },
  {
   "cell_type": "code",
   "execution_count": null,
   "id": "840dfbd0-6410-48ec-be76-78d9c04703b9",
   "metadata": {},
   "outputs": [],
   "source": [
    "df_Comb.columns"
   ]
  },
  {
   "cell_type": "code",
   "execution_count": null,
   "id": "21da838e-a1cc-4f9d-8747-de94a668a4c7",
   "metadata": {},
   "outputs": [],
   "source": [
    "df_Pdef=pd.DataFrame()\n",
    "df_Pdef=df_knmi_Pdfct.loc['2000-01-01':'2020-12-31',['deficit']]\n",
    "\n",
    "df_Pdef=df_Pdef.merge(df_LE['LE_mmday2'], how='inner',left_index=True, right_index=True)\n",
    "df_Pdef=df_Pdef.merge(df_knmi_daily['RD'], how='inner',left_index=True, right_index=True)\n",
    "\n",
    "#df_Pdef['ET']=df_LE['LE_mmday2']\n",
    "#df_Pdef['Prec']=df_knmi_daily['RD']\n",
    "df_Pdef['Loo_deficit']=df_Pdef['LE_mmday2']-df_Pdef['RD'] #local deficit"
   ]
  },
  {
   "cell_type": "code",
   "execution_count": null,
   "id": "771d4c96-1ec0-47a2-bb3b-5f8cc5e72fd3",
   "metadata": {},
   "outputs": [],
   "source": [
    "df_Pdef['Loo_deficit'].plot()"
   ]
  },
  {
   "cell_type": "markdown",
   "id": "c427e930-5f82-469b-a40b-120c5f61782d",
   "metadata": {},
   "source": [
    "## Cleanup data and Calculations"
   ]
  },
  {
   "cell_type": "markdown",
   "id": "c1996767-09d3-441d-b711-cea73a750854",
   "metadata": {},
   "source": [
    "### P(mast) Rain data"
   ]
  },
  {
   "cell_type": "code",
   "execution_count": null,
   "id": "ff2ea8a3-9579-4481-a141-10d5012a4381",
   "metadata": {},
   "outputs": [],
   "source": [
    "#df_meteo.columns\n",
    "#'P(guter)','P(guter)00', 'P(guter)05', 'P(guter)10','P(guter)15','P(guter)20', 'P(guter)25',\n",
    "#'P(mast)','P(mast)00','P(mast)05', 'P(mast)10', 'P(mast)15','P(mast)20','P(mast)25'\n",
    "#'P(field)',\n",
    "#'P(guter)corr',\n",
    "#'Pcorr'"
   ]
  },
  {
   "cell_type": "code",
   "execution_count": null,
   "id": "d436d4fd-2405-4354-91f5-22a66646f2fa",
   "metadata": {},
   "outputs": [],
   "source": [
    "df_Pmast = df_meteo[['P(mast)']]\n",
    "df_Pmast_daily = df_Pmast.resample('1D').sum(min_count=1) #min_count makes the NaN entries become NaN in the sum, otherwise they are 0\n",
    "df_Pmast_8to8 = df_Pmast.resample('1D', offset=pd.Timedelta('8H')).sum(min_count=1) #this sets it so it's 8:00 to the following day 8:00\n",
    "df_Pmast_8to8.index=df_Pmast_8to8.index.floor('1D') #remove the 8:00 timestamp on the index\n",
    "df_Pmast_8to8.index=df_Pmast_8to8.index.shift(freq='1D')\n",
    "\n",
    "df_Pmast=df_Pmast.dropna()\n",
    "df_Pmast_daily=df_Pmast_daily.dropna()\n",
    "df_Pmast_8to8=df_Pmast_8to8.dropna()\n",
    "\n",
    "df_Pmast_8to8.plot()"
   ]
  },
  {
   "cell_type": "code",
   "execution_count": null,
   "id": "dd2e4009-2e4b-4520-8bf0-3b4fa6d6b06c",
   "metadata": {},
   "outputs": [],
   "source": [
    "#big gaps where there is significant knmi signal but no pmast (for making a quality flag)\n",
    "#quality flag, 1=most reliable, 2=not reliable\n",
    "#2001 is good\n",
    "df_Pmast_8to8['Pmast_qc']=np.nan\n",
    "df_Pmast_8to8.loc[(df_Pmast_8to8.index.month>=4) & (df_Pmast_8to8.index.month<=10),'Pmast_qc']=1\n",
    "\n",
    "df_Pmast_8to8.loc['2002-06-13':'2002-07-02','Pmast_qc']=2\n",
    "df_Pmast_8to8.loc['2003-05-01':'2003-05-06','Pmast_qc']=2\n",
    "df_Pmast_8to8.loc['2004-06-17':'2004-10-31','Pmast_qc']=2\n",
    "df_Pmast_8to8.loc['2008-08-02':'2008-09-01','Pmast_qc']=2\n",
    "df_Pmast_8to8.loc['2010-06-06':'2010-08-26','Pmast_qc']=2\n",
    "df_Pmast_8to8.loc['2010-09-07':'2010-10-27','Pmast_qc']=2\n",
    "#2011 is good\n",
    "#2012 is good\n",
    "df_Pmast_8to8.loc['2013-09-04':'2013-10-15','Pmast_qc']=2\n",
    "df_Pmast_8to8.loc['2014-04-26':'2014-05-29','Pmast_qc']=2\n",
    "#2015 is good\n",
    "df_Pmast_8to8.loc['2016-04-01':'2016-05-15','Pmast_qc']=2\n",
    "#2017 is good\n",
    "df_Pmast_8to8.loc['2018-06-08':'2018-06-10','Pmast_qc']=2\n",
    "df_Pmast_8to8.loc['2019-08-13':'2019-10-31','Pmast_qc']=2\n",
    "#2020 is good"
   ]
  },
  {
   "cell_type": "markdown",
   "id": "432ec47f-faf8-4fb1-977a-e6cf6765e272",
   "metadata": {},
   "source": [
    "### Pmast days since rain calculation"
   ]
  },
  {
   "cell_type": "code",
   "execution_count": null,
   "id": "31d8b9af-e2c6-46e2-ac8b-5ed4154854d9",
   "metadata": {},
   "outputs": [],
   "source": [
    "df_Pmast_8to8['index_shift'] = df_Pmast_8to8.index.shift(freq='1D')\n",
    "df_Pmast_8to8['timestep']=df_Pmast_8to8['index_shift']-df_Pmast_8to8.index\n",
    "df_Pmast_8to8['is_1d']=df_Pmast_8to8['timestep']==pd.Timedelta(days=1)\n",
    "df_Pmast_8to8['days_since_rain']=np.nan #init the new column for assignment\n",
    "\n",
    "counter=0\n",
    "for index, row in df_Pmast_8to8.iterrows():\n",
    "    if row['P(mast)']!=0.0: #if rain isnt zero, reset counting to 0\n",
    "        counter=0\n",
    "        df_Pmast_8to8.loc[index,'days_since_rain']=counter\n",
    "    else: #rain is zero, keep counting up\n",
    "        if row['is_1d']: #if true, then timedelta is 1 and you keep going, otherwise there's a gap in data and rest to 0\n",
    "            counter=counter+1\n",
    "            df_Pmast_8to8.loc[index,'days_since_rain']=counter              \n",
    "        else: #there is a gap in the data, previous entry not one day before, reset counter to 0\n",
    "            counter=0\n",
    "            df_Pmast_8to8.loc[index,'days_since_rain']=counter\n",
    "\n",
    "df_Pmast_8to8=df_Pmast_8to8.drop(['index_shift','timestep','is_1d'],axis=1) #drop unneeded columns"
   ]
  },
  {
   "cell_type": "code",
   "execution_count": null,
   "id": "af3e7887-2849-402d-b073-d46273d03d15",
   "metadata": {},
   "outputs": [],
   "source": [
    "df_Pmast_8to8.to_csv('./Pmast_8to8.csv')"
   ]
  },
  {
   "cell_type": "code",
   "execution_count": null,
   "id": "3d345ab4-3f33-48e4-b2fa-ba321cbc50df",
   "metadata": {},
   "outputs": [],
   "source": [
    "#pd.set_option('display.max_rows', None)\n",
    "#df_Pmast.loc['2004-06-13':'2005-01-01','P(mast)']\n",
    "\n",
    "#pd.set_option('display.max_rows', None)\n",
    "#df_Pmast.loc['2019-08-09':'2020-01-02','P(mast)']"
   ]
  },
  {
   "cell_type": "code",
   "execution_count": null,
   "id": "b4fbb308-be2d-4e25-a61f-4427fa376a21",
   "metadata": {},
   "outputs": [],
   "source": [
    "#Compare different Rain data from df_meteo\n",
    "#still WIP "
   ]
  },
  {
   "cell_type": "markdown",
   "id": "71052e89-2548-4737-ad77-3c535ffc640b",
   "metadata": {},
   "source": [
    "### KNMI Rain import"
   ]
  },
  {
   "cell_type": "markdown",
   "id": "7318c831-957e-4c86-a9e3-55013df416d0",
   "metadata": {},
   "source": [
    "### KNMI days since rain calculation"
   ]
  },
  {
   "cell_type": "code",
   "execution_count": null,
   "id": "cffcb98d-1624-4b40-afdd-12c7054709f0",
   "metadata": {},
   "outputs": [],
   "source": [
    "df_knmi_daily['index_shift'] = df_knmi_daily.index.shift(freq='1D')\n",
    "df_knmi_daily['timestep']=df_knmi_daily['index_shift']-df_knmi_daily.index\n",
    "df_knmi_daily['is_1d']=df_knmi_daily['timestep']==pd.Timedelta(days=1)\n",
    "df_knmi_daily['days_since_rain']=np.nan #init the new column for assignment\n",
    "\n",
    "counter=0\n",
    "for index, row in df_knmi_daily.iterrows():\n",
    "    if row['RD']!=0.0: #if rain isnt zero, reset counting to 0\n",
    "        counter=0\n",
    "        df_knmi_daily.loc[index,'days_since_rain']=counter\n",
    "    else: #rain is zero, keep counting up\n",
    "        if row['is_1d']: #if true, then timedelta is 1 and you keep going, otherwise there's a gap in data and rest to 0\n",
    "            counter=counter+1\n",
    "            df_knmi_daily.loc[index,'days_since_rain']=counter        \n",
    "        else: #there is a gap in the data, previous entry not one day before, reset counter to 0\n",
    "            counter=0\n",
    "            df_knmi_daily.loc[index,'days_since_rain']=counter\n",
    "\n",
    "df_knmi_daily=df_knmi_daily.drop(['index_shift','timestep','is_1d'],axis=1) #drop unneeded columns"
   ]
  },
  {
   "cell_type": "code",
   "execution_count": null,
   "id": "bdb77589-6b9e-4de6-9b85-4e03d1d05834",
   "metadata": {},
   "outputs": [],
   "source": [
    "df_knmi_daily.to_csv('./knmi_rain_daily.csv')"
   ]
  },
  {
   "cell_type": "markdown",
   "id": "cb0753ef-8f5b-4b55-83db-ad31419a0e53",
   "metadata": {
    "jp-MarkdownHeadingCollapsed": true
   },
   "source": [
    "### Manual check for missing day rows"
   ]
  },
  {
   "cell_type": "code",
   "execution_count": null,
   "id": "bc2cc054-67f4-4c50-bceb-3b023955a51d",
   "metadata": {},
   "outputs": [],
   "source": [
    "def check_continuous(df, freq):\n",
    "    df['index_shift'] = df.index.shift(freq=freq)\n",
    "    df['timestep'] = df['index_shift'] - df.index\n",
    "    df['is_timestep'] = df['timestep']==pd.Timedelta(freq)\n",
    "    return df.loc[df['is_timestep']==False]"
   ]
  },
  {
   "cell_type": "code",
   "execution_count": null,
   "id": "e0f4bf91-9d20-4f66-9430-c945737b2bf0",
   "metadata": {},
   "outputs": [],
   "source": [
    "#check_continuous(df_knmi_daily,'1D')\n",
    "#check_continuous(df_Pmast_daily,'1D')\n",
    "#check_continuous(df_Pmast,'30min')"
   ]
  },
  {
   "cell_type": "markdown",
   "id": "3baf47c7-7eb8-4f9e-a886-758a168d4c99",
   "metadata": {},
   "source": [
    "## Visualize difference in precipitation pmast and knmi"
   ]
  },
  {
   "cell_type": "code",
   "execution_count": null,
   "id": "1dfffba1-27a3-4b6b-b520-7930a2955430",
   "metadata": {},
   "outputs": [],
   "source": [
    "#df_Pmast_8to8.loc['2003-05-01':'2003-05-06',['P(mast)']]\n",
    "#df_knmi_daily.loc['2003-05-01':'2003-05-06',['RD']]"
   ]
  },
  {
   "cell_type": "code",
   "execution_count": null,
   "id": "d8d124b3-0f7b-494d-9035-8fa0accac918",
   "metadata": {},
   "outputs": [],
   "source": [
    "plt.rcParams[\"figure.figsize\"] = (20,6)\n",
    "\n",
    "#st=\"2005-04-01\"\n",
    "#ed=\"2005-09-30\"\n",
    "\n",
    "def precip_plot_wrapper(st,ed):\n",
    "\n",
    "    fig,ax = plt.subplots()\n",
    "\n",
    "    a=df_knmi_daily.loc[st:ed,['RD']]\n",
    "    ax.bar(a.index,a['RD'],alpha=0.5, align='edge', label=\"KNMI data\")\n",
    "\n",
    "    b=df_Pmast_8to8.loc[st:ed,['P(mast)']]\n",
    "    ax.bar(b.index,b['P(mast)'],alpha=0.5, align='edge', label=\"Pmast data\")\n",
    "\n",
    "    ax.set_ylabel(\"precip\")\n",
    "    \n",
    "    #ax2 = ax.twinx()\n",
    "    #ax2.set_ylim(0,5)\n",
    "    #ax2.set_ylabel(\"fstr\")\n",
    "    #ax2.set_yscale('log')\n",
    "    #ax2.scatter(c.index,c['LE/ET'],c=np.where(c['LE/ET']<1,'b','r'))\n",
    "    \n",
    "    ax.legend()\n",
    "    ax.xaxis.set_minor_locator(mdates.DayLocator())\n",
    "    ax.xaxis.set_major_locator(mdates.DayLocator(bymonthday=[1,15]))\n",
    "    ax.xaxis.set_major_formatter(mdates.DateFormatter('%Y-%b-%d'))\n",
    "    fig.autofmt_xdate()\n",
    "\n",
    "\n",
    "\n",
    "for year in range(2001,2021):\n",
    "    st=str(year)+\"-04-01\"\n",
    "    ed=str(year)+\"-10-31\"\n",
    "    precip_plot_wrapper(st,ed)"
   ]
  },
  {
   "cell_type": "markdown",
   "id": "20292e97-3935-493f-9bcf-5516b67fb993",
   "metadata": {},
   "source": [
    "## Visualize difference in precip_deficit in EC en knmi"
   ]
  },
  {
   "cell_type": "code",
   "execution_count": null,
   "id": "a1089fd1-5fa5-4833-9996-e83857d789bf",
   "metadata": {},
   "outputs": [],
   "source": [
    "plt.rcParams[\"figure.figsize\"] = (20,6)\n",
    "\n",
    "#st=\"2005-04-01\"\n",
    "#ed=\"2005-09-30\"\n",
    "\n",
    "def precip_plot_wrapper(st,ed):\n",
    "\n",
    "    fig,ax = plt.subplots()\n",
    "\n",
    "    a=df_Pdef.loc[st:ed,['Loo_deficit']]\n",
    "    ax.bar(a.index,a['Loo_deficit'],alpha=0.5, align='edge', label=\"EC data\")\n",
    "\n",
    "    b=df_Pdef.loc[st:ed,['deficit']]\n",
    "    ax.bar(b.index,b['deficit'],alpha=0.5, align='edge', label=\"KNMI data\")\n",
    "\n",
    "    ax.set_ylabel(\"precip deficit [mm]\")\n",
    "    \n",
    "    #ax2 = ax.twinx()\n",
    "    #ax2.set_ylim(0,5)\n",
    "    #ax2.set_ylabel(\"fstr\")\n",
    "    #ax2.set_yscale('log')\n",
    "    #ax2.scatter(c.index,c['LE/ET'],c=np.where(c['LE/ET']<1,'b','r'))\n",
    "    \n",
    "    ax.legend()\n",
    "    ax.xaxis.set_minor_locator(mdates.DayLocator())\n",
    "    ax.xaxis.set_major_locator(mdates.DayLocator(bymonthday=[1,15]))\n",
    "    ax.xaxis.set_major_formatter(mdates.DateFormatter('%Y-%b-%d'))\n",
    "    fig.autofmt_xdate()\n",
    "\n",
    "\n",
    "\n",
    "for year in range(2001,2021):\n",
    "    st=str(year)+\"-04-01\"\n",
    "    ed=str(year)+\"-10-31\"\n",
    "    precip_plot_wrapper(st,ed)"
   ]
  },
  {
   "cell_type": "code",
   "execution_count": null,
   "id": "e7bdedc3-4596-46bc-9402-cd778c296e20",
   "metadata": {},
   "outputs": [],
   "source": [
    "plt.rcParams[\"figure.figsize\"] = (20,6)\n",
    "\n",
    "#st=\"2005-04-01\"\n",
    "#ed=\"2005-09-30\"\n",
    "\n",
    "def SPEI_plot_wrapper(st,ed):\n",
    "\n",
    "    fig,ax = plt.subplots()\n",
    "\n",
    "    #a=df_Pdef.loc[st:ed,['Loo_deficit']]\n",
    "    #ax.bar(a.index,a['Loo_deficit'],alpha=0.5, align='edge', label=\"EC data\")\n",
    "\n",
    "    b=df_Pdef.loc[st:ed,['deficit']]\n",
    "    ax.plot(b.index,b['deficit'], c='grey', label=\"KNMI data\")\n",
    "\n",
    "    ax.set_ylabel(\"precip deficit [mm]\")\n",
    "    ax.set_ylim(-120,220)\n",
    "    \n",
    "    #ax2 = ax.twinx()\n",
    "    #ax2.set_ylim(0,5)\n",
    "    #ax2.set_ylabel(\"fstr\")\n",
    "    #ax2.set_yscale('log')\n",
    "    #ax2.scatter(c.index,c['LE/ET'],c=np.where(c['LE/ET']<1,'b','r'))\n",
    "    \n",
    "    ax.legend()\n",
    "    ax.xaxis.set_minor_locator(mdates.DayLocator())\n",
    "    ax.xaxis.set_major_locator(mdates.DayLocator(bymonthday=[1,15]))\n",
    "    ax.xaxis.set_major_formatter(mdates.DateFormatter('%Y-%b-%d'))\n",
    "    fig.autofmt_xdate()\n",
    "    ax.grid()\n",
    "\n",
    "\n",
    "\n",
    "for year in range(2001,2021):\n",
    "    st=str(year)+\"-04-01\"\n",
    "    ed=str(year)+\"-09-30\"\n",
    "    SPEI_plot_wrapper(st,ed)"
   ]
  },
  {
   "cell_type": "code",
   "execution_count": null,
   "id": "1541f5e6-9e97-4e1f-8521-7b9e789b42ed",
   "metadata": {},
   "outputs": [],
   "source": [
    "df_Pdef"
   ]
  },
  {
   "cell_type": "code",
   "execution_count": null,
   "id": "d74326ba-de79-428d-97bf-de4a553c0caa",
   "metadata": {},
   "outputs": [],
   "source": [
    "plt.rcParams[\"figure.figsize\"] = (20,6)\n",
    "\n",
    "#st=\"2005-04-01\"\n",
    "#ed=\"2005-09-30\"\n",
    "\n",
    "def SPEI_multiplot(input):\n",
    "\n",
    "    fig,ax = plt.subplots()\n",
    "\n",
    "    tmp=input.copy() #loc[['deficit']]\n",
    "    tmp['monthday']=tmp.index.strftime('2000-%m-%d')\n",
    "    \n",
    "\n",
    "    ax.set_ylabel(\"precip deficit [mm/day]\")\n",
    "    ax.set_ylim(-120,220)\n",
    "\n",
    "    for year in range(2001,2021):\n",
    "        st=str(year)+\"-04-01\"\n",
    "        ed=str(year)+\"-09-30\"\n",
    "        df_plot=tmp.loc[st:ed,['monthday','deficit']]\n",
    "        df_plot.index=pd.DatetimeIndex(df_plot['monthday'])\n",
    "        ax.plot(df_plot.index,df_plot['deficit'], c='grey', label=\"KNMI data\")\n",
    "    \n",
    "    ax.legend()\n",
    "    ax.xaxis.set_minor_locator(mdates.DayLocator())\n",
    "    ax.xaxis.set_major_locator(mdates.DayLocator(bymonthday=[1,15]))\n",
    "    ax.xaxis.set_major_formatter(mdates.DateFormatter('%b-%d'))\n",
    "    fig.autofmt_xdate()\n",
    "    ax.grid()\n",
    "\n",
    "SPEI_multiplot(df_Pdef)"
   ]
  },
  {
   "cell_type": "code",
   "execution_count": null,
   "id": "228b0c0f-06c3-49ba-a54c-1806f79faa67",
   "metadata": {},
   "outputs": [],
   "source": [
    "plt.rcParams[\"figure.figsize\"] = (20,6)\n",
    "\n",
    "#st=\"2005-04-01\"\n",
    "#ed=\"2005-09-30\"\n",
    "\n",
    "def SPEI_multiplot(input):\n",
    "\n",
    "    fig,ax = plt.subplots()\n",
    "\n",
    "    tmp=input.copy() #loc[['deficit']]\n",
    "    tmp['monthday']=tmp.index.strftime('2000-%m-%d')\n",
    "    \n",
    "\n",
    "    ax.set_ylabel(\"precip deficit [mm/day]\")\n",
    "    ax.set_ylim(-120,220)\n",
    "\n",
    "    for year in range(2001,2021):\n",
    "        st=str(year)+\"-04-01\"\n",
    "        ed=str(year)+\"-09-30\"\n",
    "        df_plot=tmp.loc[st:ed,['monthday','deficit']]\n",
    "        ax.plot(df_plot.index,df_plot['deficit'], c='r')\n",
    "\n",
    "    \n",
    "    #ax.legend()\n",
    "    ax.xaxis.set_minor_locator(mdates.MonthLocator(bymonth=7))\n",
    "    ax.xaxis.set_major_locator(mdates.YearLocator())\n",
    "    #ax.xaxis.set_major_formatter(mdates.DateFormatter('%b-%d'))\n",
    "    #fig.autofmt_xdate()\n",
    "    ax.set_xlim(pd.to_datetime('2001-1-1'),pd.to_datetime('2020-12-31'))\n",
    "    ax.grid(which='major', linewidth=1)\n",
    "    ax.grid(which='minor', linewidth=0.5)\n",
    "\n",
    "    ax.set_title('Precipitation deficit anomaly')\n",
    "\n",
    "SPEI_multiplot(df_Pdef)"
   ]
  },
  {
   "cell_type": "code",
   "execution_count": null,
   "id": "00aab94a-8f2b-4b14-9d14-de4a0831e4e5",
   "metadata": {},
   "outputs": [],
   "source": [
    "plt.rcParams[\"figure.figsize\"] = (20,6)\n",
    "\n",
    "\n",
    "def generate_knmi_Pdeficit(path):\n",
    "    output=pd.read_csv(path,delim_whitespace=True)\n",
    "    output['date']=pd.to_datetime(output['date'],format='%Y%m%d')\n",
    "    output.index=output['date'] # assign as index\n",
    "    return output\n",
    "\n",
    "def Pdeficit_multiplot(input):\n",
    "\n",
    "    fig,ax = plt.subplots()\n",
    "\n",
    "    tmp=input.loc['2001-04-01':'2020-09-30'].copy() \n",
    "    \n",
    "    ax.set_ylabel(\"precipitation deficit [mm/day]\")\n",
    "    #ax.set_ylim(-120,220)\n",
    "\n",
    "    for year in range(2001,2021): #this loop prevents each year connecting to the next with a line\n",
    "        st=str(year)+\"-04-01\"\n",
    "        ed=str(year)+\"-09-30\"\n",
    "        df_plot=tmp.loc[st:ed,['deficit']]\n",
    "        ax.plot(df_plot.index,df_plot['deficit'], c='r')\n",
    "\n",
    "    \n",
    "    #ax.legend()\n",
    "    ax.xaxis.set_minor_locator(mdates.MonthLocator(bymonth=7))\n",
    "    ax.xaxis.set_major_locator(mdates.YearLocator())\n",
    "    #ax.xaxis.set_major_formatter(mdates.DateFormatter('%b-%d'))\n",
    "    #fig.autofmt_xdate()\n",
    "    ax.set_xlim(pd.to_datetime('2001-1-1'),pd.to_datetime('2020-12-31'))\n",
    "    ax.grid(which='major', linewidth=1)\n",
    "    ax.grid(which='minor', linewidth=0.5)\n",
    "\n",
    "    ax.set_title('Precipitation deficit (mm/day)')\n",
    "\n",
    "df_new=generate_knmi_Pdeficit('../KNMI_regen/int_nl_2001_2023_2.dat.txt')\n",
    "\n",
    "Pdeficit_multiplot(df_new)"
   ]
  },
  {
   "cell_type": "code",
   "execution_count": null,
   "id": "8177d922-aa1c-42c8-aa10-656dd96a3f41",
   "metadata": {},
   "outputs": [],
   "source": [
    "plt.rcParams[\"figure.figsize\"] = (10,6)\n",
    "\n",
    "def Pdeficit_bars(input):\n",
    "\n",
    "    fig,ax = plt.subplots()\n",
    "\n",
    "    tmp=input.loc['2001-04-01':'2020-09-30'].copy() \n",
    "\n",
    "    ax.set_ylabel(\"precipitation deficit [mm]\")\n",
    "    #ax.set_ylim(-120,220)\n",
    "\n",
    "    #xaxis ticks are integers\n",
    "    i_index=[year for year in range(2001,2021)]\n",
    "    df_plot = pd.DataFrame(index=i_index,data={'deficit_mean':[0 for year in range(2001,2021)]})\n",
    "    #version where x axis ticks are datetimes instead of ints\n",
    "    #i_index=pd.to_datetime([year for year in range(2001,2021)],format='%Y')\n",
    "    #df_plot = pd.DataFrame(index=i_index,data={'deficit_mean':[0 for year in range(2001,2021)]})\n",
    "\n",
    "    for year in range(2001,2021): #this loop prevents each year connecting to the next with a line\n",
    "        st=str(year)+\"-04-01\"\n",
    "        ed=str(year)+\"-09-30\"\n",
    "        df_plot.loc[year,'deficit_mean']=tmp.loc[st:ed,'deficit'].sum()/183\n",
    "        #df_plot.loc[str(year)+'-01-01','deficit_mean']=tmp.loc[st:ed,'deficit'].sum()/183 #divide by amount of days between april 1 and sep 30: 183 days\n",
    "    #print(df_plot)\n",
    "    \n",
    "    ax.bar(df_plot.index,df_plot['deficit_mean'],color='r',alpha=0.7,align='edge')\n",
    "    ax.set_xticks([year for year in range(2001,2021)])\n",
    "    ax.set_xticklabels([year for year in range(2001,2021)],rotation=45)\n",
    "    \n",
    "    #ax.legend()\n",
    "    ax.set_xlim(2000.8,2021)\n",
    "\n",
    "    ax.grid(axis='y')\n",
    "    #ax.grid(which='major', linewidth=1)\n",
    "    #ax.grid(which='minor', linewidth=0.5)\n",
    "\n",
    "    ax.set_title('Cumulative Precipitation deficit over growth season (mm)')\n",
    "\n",
    "df_new=generate_knmi_Pdeficit('../KNMI_regen/int_nl_2001_2023_2.dat.txt')\n",
    "\n",
    "Pdeficit_bars(df_new)"
   ]
  },
  {
   "cell_type": "code",
   "execution_count": null,
   "id": "936deb50-59e0-469a-af96-aa651b0de5cf",
   "metadata": {},
   "outputs": [],
   "source": [
    "plt.rcParams[\"figure.figsize\"] = (10,6)\n",
    "\n",
    "def Pdeficit_hbars(input):\n",
    "\n",
    "    fig,ax = plt.subplots()\n",
    "\n",
    "    tmp=input.loc['2001-04-01':'2020-09-30'].copy() \n",
    "\n",
    "    ax.set_xlabel(\"precip deficit [mm]\")\n",
    "    ax.set_ylabel(\"Year\")\n",
    "    #ax.set_ylim(-120,220)\n",
    "\n",
    "    #xaxis ticks are integers\n",
    "    i_index=[year for year in range(2001,2021)]\n",
    "    df_plot = pd.DataFrame(index=i_index,data={'deficit_mean':[0 for year in range(2001,2021)]})\n",
    "    df_plot['year']=df_plot.index\n",
    "    df_plot_sorted = pd.DataFrame(index=i_index,data={'a':[0 for year in range(2001,2021)]})\n",
    "    #version where x axis ticks are datetimes instead of ints\n",
    "    #i_index=pd.to_datetime([year for year in range(2001,2021)],format='%Y')\n",
    "    #df_plot = pd.DataFrame(index=i_index,data={'deficit_mean':[0 for year in range(2001,2021)]})\n",
    "\n",
    "    #print(df_plot_sorted)\n",
    "    for year in range(2001,2021): #this loop prevents each year connecting to the next with a line\n",
    "        st=str(year)+\"-04-01\"\n",
    "        ed=str(year)+\"-09-30\"\n",
    "        df_plot.loc[year,'deficit_mean']=tmp.loc[st:ed,'deficit'].sum()/183\n",
    "    df_plot=df_plot.sort_values(by=['deficit_mean'])\n",
    "    df_plot['year']=df_plot.index\n",
    "    df_plot['nums']=np.arange(1,21)\n",
    "    df_plot.index=df_plot['nums']\n",
    "    \n",
    "    ax.barh(df_plot.index,df_plot['deficit_mean'],color='r',alpha=0.7,align='center')\n",
    "\n",
    "    ax.set_yticks(df_plot.index)\n",
    "    ax.set_yticklabels(df_plot['year'])\n",
    "\n",
    "    #ax.legend()\n",
    "    #ax.set_xlim(2000.8,2021)\n",
    "    #ax.set_xlim(0,21)\n",
    "    \n",
    "    ax.set_title('Mean Cumulative Precipitation deficit over growth season (mm)')\n",
    "    ax.grid(axis='x')\n",
    "    #ax.grid(which='major', linewidth=1)\n",
    "    #ax.grid(which='minor', linewidth=0.5)\n",
    "\n",
    "\n",
    "df_new=generate_knmi_Pdeficit('../KNMI_regen/int_nl_2001_2023_2.dat.txt')\n",
    "\n",
    "Pdeficit_hbars(df_new)"
   ]
  },
  {
   "cell_type": "code",
   "execution_count": null,
   "id": "47df1a04-f20e-4dc9-a2c2-3af0390a0281",
   "metadata": {},
   "outputs": [],
   "source": [
    "plt.rcParams[\"figure.figsize\"] = (16,6)\n",
    "\n",
    "def Pdeficit_twobars(input):\n",
    "\n",
    "    fig, (ax1,ax2) = plt.subplots(1,2)\n",
    "    tmp=input.loc['2001-04-01':'2020-09-30'].copy() \n",
    "\n",
    "    i_index=[year for year in range(2001,2021)]\n",
    "    df_plot = pd.DataFrame(index=i_index,data={'deficit_mean':[0 for year in range(2001,2021)]})\n",
    "\n",
    "    for year in range(2001,2021): #this loop prevents each year connecting to the next with a line\n",
    "        st=str(year)+\"-04-01\"\n",
    "        ed=str(year)+\"-09-30\"\n",
    "        df_plot.loc[year,'deficit_mean']=tmp.loc[st:ed,'deficit'].sum()/183 #divide by amount of days between april 1 and sep 30: 183 days\n",
    "    ax1.bar(df_plot.index,df_plot['deficit_mean'],color='r',alpha=0.7,align='edge')\n",
    "    ax1.set_xlim(2000.8,2021)\n",
    "    ax1.set_xlabel(\"year\")\n",
    "    ax1.set_ylabel(\"mean cumulative precipitation deficit [mm/day]\")\n",
    "    ax1.grid(axis='y')\n",
    "    ax1.set_title('Mean cumulative precipitation deficit sorted by year')\n",
    "    ax1.set_xticks([year for year in range(2001,2021)])\n",
    "    ax1.set_xticklabels([year for year in range(2001,2021)],rotation=45)\n",
    "    \n",
    "    df_plot=df_plot.sort_values(by=['deficit_mean'])\n",
    "    df_plot['year']=df_plot.index\n",
    "    df_plot['nums']=np.arange(1,21)\n",
    "    df_plot.index=df_plot['nums']\n",
    "    \n",
    "    ax2.barh(df_plot.index,df_plot['deficit_mean'],color='r',alpha=0.7,align='center')\n",
    "    ax2.set_yticks(df_plot.index)\n",
    "    ax2.set_yticklabels(df_plot['year'])\n",
    "    ax2.set_xlabel(\"mean cumulative precipitation deficit [mm/day]\")\n",
    "    ax2.set_ylabel(\"year\")\n",
    "    ax2.grid(axis='x')\n",
    "    ax2.set_title('Mean cumulative precipitation deficit sorted highest to lowest')\n",
    "    \n",
    "    fig.suptitle('Mean cumulative precipitation deficit over growth season (sum of precipitation deficit divided by days in growthseason)')\n",
    "    fig.tight_layout()\n",
    "\n",
    "df_new=generate_knmi_Pdeficit('../KNMI_regen/int_nl_2001_2023_2.dat.txt')\n",
    "\n",
    "Pdeficit_twobars(df_new)"
   ]
  },
  {
   "cell_type": "code",
   "execution_count": null,
   "id": "ad21d829-6deb-4a9d-8119-b236ef22fa73",
   "metadata": {},
   "outputs": [],
   "source": [
    "import netCDF4"
   ]
  },
  {
   "cell_type": "code",
   "execution_count": null,
   "id": "cb646d03-42f9-4173-a41f-95e77dac8bd2",
   "metadata": {},
   "outputs": [],
   "source": [
    "#modified Makkink from paper:\n",
    "#Bruin, H.A.R. de, W.N. Lablans. 1998. Reference crop evapotranspiration determined with a\n",
    "#modified Makkink equation. Hydrological Processes 12:1053-1062\n",
    "\n",
    "#according to https://www.stowa.nl/deltafacts/zoetwatervoorziening/droogte/verdamping this equation is the one used by KNMI\n",
    "\n",
    "#LvE=0.65*(s/(s+gamma))*Shortwave_in\n",
    "#s is the slope of e at Ta aka delta\n",
    "#df_gs['delta'] = 4098 * (0.6108 * np.exp((17.27*df_gs['Tair'])/(df_gs['Tair']+237.3))) / ((df_gs['Tair']+237.3)**2)  # T in K?, delta in kPa/K?"
   ]
  },
  {
   "cell_type": "code",
   "execution_count": null,
   "id": "8040e985-92d2-4cf4-a39d-91719f927397",
   "metadata": {},
   "outputs": [],
   "source": [
    "df_Eref = pd.DataFrame()\n",
    "#assemble inputs\n",
    "df_Eref = pd.concat([df_Comb['Tair'],df_meteo['S(i)'],df_profile['Pressure']],axis=1,sort=False)\n",
    "df_Eref=df_Eref.loc[df_Eref['Pressure']>800]\n",
    "df_Eref['P_kPa'] = df_Eref['Pressure']/10\n",
    "df_Eref"
   ]
  },
  {
   "cell_type": "code",
   "execution_count": null,
   "id": "128445a6-7103-48d4-9a63-83145c224e52",
   "metadata": {},
   "outputs": [],
   "source": [
    "\n",
    "#calculate gamma,  s (aka delta) and modified makkink Eref\n",
    "cp=1006  #J/kg/K , approximation\n",
    "Lv=2.26 #MJ/kg, based on 2260000 J/kg \n",
    "df_Eref['gamma'] = ((cp * df_Eref['P_kPa']*1000) / (0.622 * Lv*1000000)/1000) #cp in J/kg/K , P in Pa, Lv in J/kg , result in kPa/K\n",
    "df_Eref['delta'] = 4098 * (0.6108 * np.exp((17.27*df_Eref['Tair'])/(df_Eref['Tair']+237.3))) / ((df_Eref['Tair']+237.3)**2)  # T in K, result in kPa/K\n",
    "\n",
    "#LvE=0.65*(s/(s+gamma))*Shortwave_in\n",
    "df_Eref['Eref']=(0.65*(df_Eref['delta']/(df_Eref['delta']+df_Eref['gamma']))*df_Eref['S(i)'])/Lv\n",
    "df_Eref\n"
   ]
  },
  {
   "cell_type": "code",
   "execution_count": null,
   "id": "45e3fb7f-2e38-4e42-823d-9db66405d546",
   "metadata": {},
   "outputs": [],
   "source": [
    "Eref_daily=df_Eref['Eref'].resample('1D').mean()\n",
    "Eref_daily.plot()"
   ]
  },
  {
   "cell_type": "code",
   "execution_count": null,
   "id": "e73f6eac-326f-4de9-aeb2-d09727d32ee9",
   "metadata": {},
   "outputs": [],
   "source": [
    "df_calcSPEI = pd.DataFrame()\n",
    "\n",
    "df_calcSPEI = pd.concat([df_Comb['Tair'],df_Eref['Eref']]],axis=1,sort=False)\n",
    "\n",
    "\n",
    "for ix, row in pd.iterrows():\n",
    "    "
   ]
  },
  {
   "cell_type": "code",
   "execution_count": null,
   "id": "d186b024-d388-4178-8687-a8ac75f48bcd",
   "metadata": {},
   "outputs": [],
   "source": [
    "#df_Comb['E_0'].plot()"
   ]
  },
  {
   "cell_type": "code",
   "execution_count": null,
   "id": "f5d8d05c-43cc-4672-9b49-44d5e6ffa639",
   "metadata": {},
   "outputs": [],
   "source": [
    "df_profile['Pressure']/10"
   ]
  },
  {
   "cell_type": "code",
   "execution_count": null,
   "id": "279dfc95-a54f-4256-8bfb-8ca8c19d16c9",
   "metadata": {},
   "outputs": [],
   "source": [
    "df_knmi_daily12"
   ]
  },
  {
   "cell_type": "code",
   "execution_count": null,
   "id": "8de4ceb5-d460-4490-a293-570b0d459802",
   "metadata": {},
   "outputs": [],
   "source": []
  }
 ],
 "metadata": {
  "kernelspec": {
   "display_name": "Python 3 (ipykernel)",
   "language": "python",
   "name": "python3"
  },
  "language_info": {
   "codemirror_mode": {
    "name": "ipython",
    "version": 3
   },
   "file_extension": ".py",
   "mimetype": "text/x-python",
   "name": "python",
   "nbconvert_exporter": "python",
   "pygments_lexer": "ipython3",
   "version": "3.11.5"
  },
  "varInspector": {
   "cols": {
    "lenName": 16,
    "lenType": 16,
    "lenVar": 40
   },
   "kernels_config": {
    "python": {
     "delete_cmd_postfix": "",
     "delete_cmd_prefix": "del ",
     "library": "var_list.py",
     "varRefreshCmd": "print(var_dic_list())"
    },
    "r": {
     "delete_cmd_postfix": ") ",
     "delete_cmd_prefix": "rm(",
     "library": "var_list.r",
     "varRefreshCmd": "cat(var_dic_list()) "
    }
   },
   "oldHeight": 471.85,
   "position": {
    "height": "493.844px",
    "left": "1539.19px",
    "right": "20px",
    "top": "105px",
    "width": "344px"
   },
   "types_to_exclude": [
    "module",
    "function",
    "builtin_function_or_method",
    "instance",
    "_Feature"
   ],
   "varInspector_section_display": "block",
   "window_display": true
  }
 },
 "nbformat": 4,
 "nbformat_minor": 5
}
