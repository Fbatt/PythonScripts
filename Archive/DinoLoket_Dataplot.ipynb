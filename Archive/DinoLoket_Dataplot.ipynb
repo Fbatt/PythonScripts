{
 "cells": [
  {
   "cell_type": "markdown",
   "metadata": {},
   "source": [
    "# Read and plot dinoloket groundwater data"
   ]
  },
  {
   "cell_type": "code",
   "execution_count": null,
   "metadata": {},
   "outputs": [],
   "source": [
    "# import statemenets and working directory assignment\n",
    "import pandas as pd\n",
    "import matplotlib.pyplot as plt\n",
    "#import os # use functions os.getcwd() and os.listdir(directory) as needed\n",
    "dir = '../Dinoloket/Groundwater-data/Grondwaterstanden_Put/B26H0166001_1.csv'\n",
    "#for the files ending in _0, use header=7, for files ending in _1, use header = 11"
   ]
  },
  {
   "cell_type": "code",
   "execution_count": null,
   "metadata": {},
   "outputs": [],
   "source": [
    "%matplotlib inline\n",
    "%pylab inline"
   ]
  },
  {
   "cell_type": "code",
   "execution_count": null,
   "metadata": {},
   "outputs": [],
   "source": [
    "#%pyplot inline\n",
    "import os\n",
    "os.listdir('..')"
   ]
  },
  {
   "cell_type": "code",
   "execution_count": null,
   "metadata": {},
   "outputs": [],
   "source": [
    "df=pd.read_csv(dir, header=[11])\n",
    "df.index=df['Filternummer'] #the column names are wrong but leave it for now\n",
    "df"
   ]
  },
  {
   "cell_type": "code",
   "execution_count": null,
   "metadata": {},
   "outputs": [],
   "source": [
    "df.shape"
   ]
  },
  {
   "cell_type": "code",
   "execution_count": null,
   "metadata": {},
   "outputs": [],
   "source": [
    "plt.rcParams[\"figure.figsize\"] = (20,3)"
   ]
  },
  {
   "cell_type": "code",
   "execution_count": null,
   "metadata": {},
   "outputs": [],
   "source": [
    "#fig, axes = plt.subplots(nrows=2,ncols=1)"
   ]
  },
  {
   "cell_type": "code",
   "execution_count": null,
   "metadata": {},
   "outputs": [],
   "source": [
    "series=df['Stand (cm t.o.v. MV)']"
   ]
  },
  {
   "cell_type": "code",
   "execution_count": null,
   "metadata": {},
   "outputs": [],
   "source": [
    "series.plot()"
   ]
  },
  {
   "cell_type": "code",
   "execution_count": null,
   "metadata": {},
   "outputs": [],
   "source": [
    "filelist=os.listdir('../Dinoloket/Groundwater-data/Grondwaterstanden_Put/')\n",
    "filelist = [ x for x in filelist if \"_0\" not in x ]\n",
    "print(len(filelist))\n",
    "print(filelist)"
   ]
  },
  {
   "cell_type": "code",
   "execution_count": null,
   "metadata": {},
   "outputs": [],
   "source": [
    "#remove the entry for B26H0166001_1.csv as we already have it\n",
    "if filelist[0] == 'B26H0166001_1.csv': #this line is here to prevent me from re-running this cell and ruining my filelist\n",
    "    filelist = filelist[1:]\n",
    "filelist"
   ]
  },
  {
   "cell_type": "code",
   "execution_count": null,
   "metadata": {},
   "outputs": [],
   "source": [
    "df_2 =pd.read_csv('../Dinoloket/Groundwater-data/Grondwaterstanden_Put/B26H0166002_1.csv', header=[12])\n",
    "df_2.index=df_2['Filternummer']\n",
    "series_2 = df_2['Stand (cm t.o.v. MV)']\n",
    "#series.join(series_2,how='left')"
   ]
  },
  {
   "cell_type": "code",
   "execution_count": null,
   "metadata": {},
   "outputs": [],
   "source": [
    "df_3 =pd.read_csv('../Dinoloket/Groundwater-data/Grondwaterstanden_Put/B26H0166002_1.csv', header=[11])\n",
    "df_3.index=df_3['Filternummer']\n",
    "series_3 = df_3['Stand (cm t.o.v. MV)']\n",
    "#series.join(series_2,how='left')"
   ]
  },
  {
   "cell_type": "code",
   "execution_count": null,
   "metadata": {},
   "outputs": [],
   "source": [
    "df_3"
   ]
  },
  {
   "cell_type": "code",
   "execution_count": null,
   "metadata": {},
   "outputs": [],
   "source": [
    "fileID = 'B26H0166002_1.csv'\n",
    "path = '../Dinoloket/Groundwater-data/Grondwaterstanden_Put/'+fileID\n",
    "result = [] #this will become a list of pandas series\n",
    "for :\n",
    "    try:\n",
    "        df =pd.read_csv(path, header=[11])\n",
    "        df.index=df['Filternummer'] #this is where it will throw a keyerror if header parameter is incorrect\n",
    "        series = df['Stand (cm t.o.v. MV)']\n",
    "#problem: for some files, like B26H0166001_1.csv, header = [11] is the correct parameter. For some like B26H0166002_1.csv, header = [12] is correct.\n",
    "#solution: catch the KeyError: 'Filternummer' and then try again with header = [12]\n",
    "    else:\n",
    "    "
   ]
  },
  {
   "cell_type": "code",
   "execution_count": null,
   "metadata": {},
   "outputs": [],
   "source": [
    "\n",
    "for i in filelist:\n",
    "    df=pd.read_csv(dir, header=[11])\n",
    "    df.index=df['Filternummer'] #the column names are wrong but leave it for now\n",
    "    target_series=df['Stand (cm t.o.v. MV)']"
   ]
  },
  {
   "cell_type": "code",
   "execution_count": null,
   "metadata": {},
   "outputs": [],
   "source": [
    "df.plot(subplots=True, layout=(1,2))"
   ]
  },
  {
   "cell_type": "code",
   "execution_count": null,
   "metadata": {},
   "outputs": [],
   "source": [
    "series"
   ]
  },
  {
   "cell_type": "code",
   "execution_count": null,
   "metadata": {},
   "outputs": [],
   "source": []
  },
  {
   "cell_type": "code",
   "execution_count": null,
   "metadata": {},
   "outputs": [],
   "source": [
    "ser.plot()"
   ]
  },
  {
   "cell_type": "code",
   "execution_count": null,
   "metadata": {},
   "outputs": [],
   "source": []
  },
  {
   "cell_type": "code",
   "execution_count": null,
   "metadata": {},
   "outputs": [],
   "source": []
  }
 ],
 "metadata": {
  "kernelspec": {
   "display_name": "Python 3 (ipykernel)",
   "language": "python",
   "name": "python3"
  },
  "language_info": {
   "codemirror_mode": {
    "name": "ipython",
    "version": 3
   },
   "file_extension": ".py",
   "mimetype": "text/x-python",
   "name": "python",
   "nbconvert_exporter": "python",
   "pygments_lexer": "ipython3",
   "version": "3.11.5"
  }
 },
 "nbformat": 4,
 "nbformat_minor": 4
}
