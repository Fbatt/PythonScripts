{
 "cells": [
  {
   "cell_type": "code",
   "execution_count": null,
   "id": "4c38b3f5-2abc-41ae-af16-e91fd0d22c12",
   "metadata": {},
   "outputs": [],
   "source": [
    "import os , sys\n",
    "datapath   = \"..\\\\\"\n",
    "print('datapath is set to %s'%datapath)\n",
    "import numpy as np\n",
    "import pandas as pd\n",
    "import matplotlib.pyplot as plt\n",
    "from datetime import datetime, timedelta\n",
    "sys.path.insert(0, os.path.join(datapath,'PythonScripts'))\n",
    "#from Loobos_Toolbox import Read_LoobosEddFinal, Read_LooStor, Read_LoodatGapfill, Read_Loobos_halfhourly, Read_Loobos_meteo, Read_Loobos_soil, Read_Loobos_profile\n",
    "#from Loobos_Toolbox_Dendro_Grwater"
   ]
  },
  {
   "cell_type": "markdown",
   "id": "9b754861-67bf-4acf-a8d2-a9d7f156dead",
   "metadata": {},
   "source": [
    "## Import Dinoloket data"
   ]
  },
  {
   "cell_type": "markdown",
   "id": "af4da2a1-4145-4e46-8b97-fdfa8a505916",
   "metadata": {},
   "source": [
    "### Import data from well B32F0088"
   ]
  },
  {
   "cell_type": "code",
   "execution_count": null,
   "id": "dcc9e234-ff3b-4b84-8f3f-aca01502fc85",
   "metadata": {},
   "outputs": [],
   "source": [
    "#new location put 88\n",
    "dir = '../Dinoloket_2024-01-20/Grondwaterstanden_Put/B32F0088001_1_edit.csv'\n",
    "df_GWS=pd.read_csv(dir,sep=\",\",index_col=False)\n",
    "df_GWS=df_GWS.drop(['Locatie','Filternummer','Bijzonderheid','Opmerking'], axis=1)\n",
    "df_GWS['Peildatum']=df_GWS['Peildatum']+\" 12:00\"\n",
    "df_GWS['datetime']=pd.to_datetime(df_GWS['Peildatum'], dayfirst=True, format='mixed')\n",
    "df_GWS.index = df_GWS['datetime']\n",
    "df_GWS=df_GWS.drop(['Peildatum'], axis=1)\n",
    "#df_GWS"
   ]
  },
  {
   "cell_type": "markdown",
   "id": "972b8855-c000-46bf-b481-e6abd23a5122",
   "metadata": {},
   "source": [
    "#### Deprecated (old) import (for well B33A0066)"
   ]
  },
  {
   "cell_type": "code",
   "execution_count": null,
   "id": "b00f54b5-4263-4499-aa0a-0695102acdf6",
   "metadata": {},
   "outputs": [],
   "source": [
    "dir = '../Dinoloket_2023-09-05/Groundwater-data/Grondwaterstanden_Put/B33A0066002_1_edit.csv'\n",
    "df_dino=pd.read_csv(dir,sep=\",\",index_col=False) df_GWS=pd.concat([df_dino['Peildatum'],df_dino['Stand (cm t.o.v. MV)']],axis=1,sort=False)\n",
    "df_GWS['datetime']=pd.to_datetime(df_dino['Peildatum'],dayfirst=True) #format='%d-%m-%Y' df_GWS.index = df_GWS['datetime'] df_GWS"
   ]
  },
  {
   "cell_type": "markdown",
   "id": "9d2de197-e349-464f-90df-5388c4fe59e2",
   "metadata": {},
   "source": [
    "## Plot Graphs GWS"
   ]
  },
  {
   "cell_type": "markdown",
   "id": "b1203e2b-2e50-46db-95dd-64ee967e368a",
   "metadata": {},
   "source": [
    "### 2018-2019"
   ]
  },
  {
   "cell_type": "code",
   "execution_count": null,
   "id": "1272f623-fb0b-4d62-8f65-3e03ef862fd9",
   "metadata": {},
   "outputs": [],
   "source": [
    "fig, (ax1,ax2) =plt.subplots(nrows=2,ncols=1)\n",
    "\n",
    "ax1.plot(df_GWS['Stand (cm t.o.v. MV)']['2018-01-01 12:00':'2020-01-01 12:00'])\n",
    "ax2.plot(df_GWS['Stand (cm t.o.v. NAP)']['2018-01-01 12:00':'2020-01-01 12:00'])\t\n",
    "#ax3.plot(df_GWS['Stand (cm t.o.v. MP)']['2018-01-01 12:00':'2020-01-01 12:00'])\n",
    "\n",
    "ax1.set_ylim(330,150)\n",
    "ax1.set_title('GWS t.o.v. Maaiveld')\n",
    "ax1.set_ylabel('depth (cm)')\n",
    "ax2.set_title('GWS t.o.v. NAP')\n",
    "ax2.set_ylabel('height (cm)')\n",
    "fig.suptitle('Grondwaterstand 2018-2019 put B32F0088')\n",
    "fig.autofmt_xdate() #allows you to auto-align the x axis labels\n",
    "\n",
    "plt.show()"
   ]
  },
  {
   "cell_type": "markdown",
   "id": "a4d29f34-3021-49c8-919f-d88e0cfd772e",
   "metadata": {},
   "source": [
    "### 2013-2014"
   ]
  },
  {
   "cell_type": "code",
   "execution_count": null,
   "id": "277c80e0-4b71-40e3-a030-21681ff4a52f",
   "metadata": {},
   "outputs": [],
   "source": [
    "fig, (ax1,ax2) =plt.subplots(nrows=2,ncols=1)\n",
    "\n",
    "ax1.plot(df_GWS['Stand (cm t.o.v. MV)']['2013-01-01 12:00':'2015-01-01 12:00'])\n",
    "ax2.plot(df_GWS['Stand (cm t.o.v. NAP)']['2013-01-01 12:00':'2015-01-01 12:00'])\t\n",
    "#ax3.plot(df_GWS['Stand (cm t.o.v. MP)']['2018-01-01 12:00':'2020-01-01 12:00'])\n",
    "\n",
    "ax1.set_ylim(330,100)\n",
    "ax1.set_title('GWS t.o.v. Maaiveld')\n",
    "ax1.set_ylabel('depth (cm)')\n",
    "ax2.set_title('GWS t.o.v. NAP')\n",
    "ax2.set_ylabel('height (cm)')\n",
    "fig.suptitle('Grondwaterstand  2013-2014 put B32F0088')\n",
    "fig.autofmt_xdate() #allows you to auto-align the x axis labels\n",
    "\n",
    "\n",
    "plt.show()"
   ]
  },
  {
   "cell_type": "markdown",
   "id": "55aa6062-553b-4ad7-ac33-c0d1d0ebe9fc",
   "metadata": {},
   "source": [
    "### 2008-2009"
   ]
  },
  {
   "cell_type": "code",
   "execution_count": null,
   "id": "5702dbac-4bf0-4583-a303-fe8901f1a512",
   "metadata": {},
   "outputs": [],
   "source": [
    "fig, (ax1,ax2) =plt.subplots(nrows=2,ncols=1)\n",
    "\n",
    "ax1.plot(df_GWS['Stand (cm t.o.v. MV)']['2008-01-01 12:00':'2010-01-01 12:00'])\n",
    "ax2.plot(df_GWS['Stand (cm t.o.v. NAP)']['2008-01-01 12:00':'2010-01-01 12:00'])\t\n",
    "#ax3.plot(df_GWS['Stand (cm t.o.v. MP)']['2018-01-01 12:00':'2020-01-01 12:00'])\n",
    "\n",
    "ax1.set_ylim(270,100)\n",
    "ax1.set_title('GWS t.o.v. Maaiveld')\n",
    "ax1.set_ylabel('depth (cm)')\n",
    "ax2.set_title('GWS t.o.v. NAP')\n",
    "ax2.set_ylabel('height (cm)')\n",
    "fig.suptitle('Grondwaterstand  2008-2009 put B32F0088')\n",
    "fig.autofmt_xdate() #allows you to auto-align the x axis labels\n",
    "\n",
    "\n",
    "plt.show()"
   ]
  },
  {
   "cell_type": "markdown",
   "id": "4a06bde0-ae16-4883-8779-3fafe21cdee9",
   "metadata": {},
   "source": [
    "### 1997-2021"
   ]
  },
  {
   "cell_type": "code",
   "execution_count": null,
   "id": "17bd04cb-6114-49db-8efa-9087037abb3e",
   "metadata": {},
   "outputs": [],
   "source": [
    "plt.rcParams[\"figure.figsize\"] = (20,6)\n",
    "fig, (ax1,ax2) =plt.subplots(nrows=2,ncols=1)\n",
    "\n",
    "ax1.plot(df_GWS['Stand (cm t.o.v. MV)']['1997-01-01 12:00':'2021-01-01 12:00'])\n",
    "ax2.plot(df_GWS['Stand (cm t.o.v. NAP)']['1997-01-01 12:00':'2021-01-01 12:00'])\t\n",
    "\n",
    "ax1.set_ylim(300,50)\n",
    "ax1.set_title('GWS t.o.v. Maaiveld')\n",
    "ax1.set_ylabel('depth (cm)')\n",
    "ax2.set_title('GWS t.o.v. NAP')\n",
    "ax2.set_ylabel('height (cm)')\n",
    "fig.suptitle('Grondwaterstand  1997-2020 put B32F0088')\n",
    "years = [datetime(year,1,1) for year in range(1997,2021)]\n",
    "ax2.xaxis.set_ticks(years)\n",
    "\n",
    "fig.autofmt_xdate() #allows you to auto-align the x axis labels\n",
    "ax1.grid()\n",
    "ax2.grid()\n",
    "\n",
    "plt.show()"
   ]
  },
  {
   "cell_type": "code",
   "execution_count": null,
   "id": "eda84a3c-f8ba-4213-a0be-0047708c356a",
   "metadata": {},
   "outputs": [],
   "source": [
    "plt.rcParams[\"figure.figsize\"] = (20,6)\n",
    "fig, ax1 =plt.subplots(nrows=1,ncols=1)\n",
    "\n",
    "ax1.plot(df_GWS['Stand (cm t.o.v. MV)']['1997-01-01 12:00':'2021-01-01 12:00'])\n",
    "\n",
    "ax1.set_ylim(50,300)\n",
    "ax1.set_title('GWS t.o.v. Maaiveld')\n",
    "ax1.set_ylabel('depth (cm)')\n",
    "ax1.invert_yaxis()\n",
    "fig.suptitle('Grondwater level 1997-2020 (ID:B32F0088)')\n",
    "years = [datetime(year,1,1) for year in range(1997,2021)]\n",
    "ax1.xaxis.set_ticks(years)\n",
    "fig.autofmt_xdate() #allows you to auto-align the x axis labels\n",
    "ax1.grid()\n",
    "ax2.grid()\n",
    "\n",
    "plt.show()"
   ]
  },
  {
   "cell_type": "code",
   "execution_count": null,
   "id": "6b16668f-3120-4617-8ac3-3b794b6f3cdb",
   "metadata": {},
   "outputs": [],
   "source": [
    "#anomaly plot\n",
    "\n",
    "plt.rcParams[\"figure.figsize\"] = (20,6)\n",
    "fig, ax1 =plt.subplots(nrows=1,ncols=1)\n",
    "\n",
    "st='1997-01-01 12:00'\n",
    "ed='2021-01-01 12:00'\n",
    "\n",
    "#anomaly is x-mean(x)\n",
    "#monthly anomaly? yearly anomaly?\n",
    "\n",
    "avg_GWS = df_GWS.loc[st:ed,'Stand (cm t.o.v. MV)'].mean()\n",
    "df_GWS['anom'] = df_GWS.loc[st:ed,'Stand (cm t.o.v. MV)']-avg_GWS\n",
    "\n",
    "ax1.plot(df_GWS.loc[st:ed,'anom'])\n",
    "\n",
    "ax1.set_ylim(-130,120)\n",
    "ax1.set_title('anomaly GWS t.o.v. Maaiveld')\n",
    "ax1.set_ylabel('depth (cm)')\n",
    "#ax1.invert_yaxis() #use this to make upside down\n",
    "fig.suptitle('Grondwater level 1997-2020 (ID:B32F0088)')\n",
    "years = [datetime(year,1,1) for year in range(1997,2021)]\n",
    "ax1.xaxis.set_ticks(years)\n",
    "fig.autofmt_xdate() #allows you to auto-align the x axis labels\n",
    "ax1.grid()\n",
    "ax2.grid()\n",
    "\n",
    "plt.show()"
   ]
  },
  {
   "cell_type": "code",
   "execution_count": null,
   "id": "20b10828-906d-42fd-9e2a-0a44d04334a9",
   "metadata": {},
   "outputs": [],
   "source": [
    "#change since april of that year\n",
    "\n",
    "#slice up the dataframe into a multi-index based on year\n",
    " \n",
    "\n",
    "df_GWS"
   ]
  },
  {
   "cell_type": "code",
   "execution_count": null,
   "id": "911e9f98-8b27-4e39-b5bd-1f5bc1940701",
   "metadata": {},
   "outputs": [],
   "source": [
    "\n",
    "#Sapflow\n",
    "dir = '../Sapflow/NLD_LOO_sapflow_data.csv'\n",
    "df_Sap=pd.read_csv(dir,sep=\",\",index_col=False,encoding='ANSI',low_memory=False,header=4)\n",
    "df_Sap=df_Sap.iloc[:,:7]\n",
    "\n",
    "df_Sap['datetime']=pd.to_datetime(df_Sap['TIMESTAMP'],format='%d-%m-%y %H:%M')\n",
    "df_Sap.index = df_Sap['datetime']\n",
    "df_Sap=df_Sap.drop(['TIMESTAMP','datetime'], axis=1)\n",
    "\n",
    "df_Sap#.loc[:,['TIMESTAMP','datetime']]\n",
    "\n",
    "df_Sap['NLD_LOO__Psy_Jt_1'].plot()\n",
    "df_Sap['NLD_LOO__Psy_Jt_2'].plot()\n",
    "df_Sap['NLD_LOO__Psy_Jt_3'].plot()\n",
    "df_Sap['NLD_LOO__Psy_Jt_4'].plot()\n",
    "df_Sap['NLD_LOO__Psy_Jt_5'].plot()\n",
    "df_Sap['NLD_LOO__Psy_Jt_6'].plot()\n",
    "\n"
   ]
  },
  {
   "cell_type": "code",
   "execution_count": null,
   "id": "6a4884bd-3e49-46a4-8dff-1b598c81a777",
   "metadata": {},
   "outputs": [],
   "source": []
  }
 ],
 "metadata": {
  "kernelspec": {
   "display_name": "Python 3 (ipykernel)",
   "language": "python",
   "name": "python3"
  },
  "language_info": {
   "codemirror_mode": {
    "name": "ipython",
    "version": 3
   },
   "file_extension": ".py",
   "mimetype": "text/x-python",
   "name": "python",
   "nbconvert_exporter": "python",
   "pygments_lexer": "ipython3",
   "version": "3.11.5"
  }
 },
 "nbformat": 4,
 "nbformat_minor": 5
}
