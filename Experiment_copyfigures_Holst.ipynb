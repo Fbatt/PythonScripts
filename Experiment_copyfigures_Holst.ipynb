{
 "cells": [
  {
   "cell_type": "markdown",
   "id": "c475de68-a29c-4f64-907c-291844757f69",
   "metadata": {},
   "source": [
    "# Copying figures from Holst et al \"Impacts of summer water limitation on the carbon balance of a Scots pine forest in the southern upper Rhine plain\""
   ]
  },
  {
   "cell_type": "code",
   "execution_count": null,
   "id": "8b7156ca-233d-4ca1-a936-17885328a411",
   "metadata": {},
   "outputs": [],
   "source": [
    "# Settings\n",
    "Username   = 'Beheerder'\n",
    "years      = range(2001,2020)    #(1997,2021) # Set years to download"
   ]
  },
  {
   "cell_type": "code",
   "execution_count": null,
   "id": "7825d7bb-1443-4e22-908f-346a6455ee2a",
   "metadata": {},
   "outputs": [],
   "source": [
    "import os\n",
    "datapath   = os.path.join('../')\n",
    "print('datapath is set to %s'%datapath)\n",
    "\n",
    "# !pip install numpy\n",
    "# !pip install pandas\n",
    "# !pip install matplotlib\n",
    "# !pip install plotly \n",
    "# !pip install cufflinks\n",
    "#!pip install colorspacious\n",
    "#!pip install seaborn\n",
    "\n",
    "import numpy as np\n",
    "import pandas as pd\n",
    "import matplotlib as mpl\n",
    "import matplotlib.pyplot as plt\n",
    "#import plotly.express as px\n",
    "#import cufflinks as cf\n",
    "import matplotlib.dates as mdate\n",
    "import matplotlib.ticker as ticker\n",
    "from matplotlib import cm\n",
    "#from colorspacious import cspace_converter\n",
    "import scipy.stats as stats\n",
    "#cf.go_offline()\n",
    "# cf.set_config_file(offline=False, world_readable=True)\n",
    "\n",
    "from datetime import datetime, timedelta\n",
    "import sys\n",
    "sys.path.insert(0, os.path.join(datapath,'PythonScripts'))\n",
    "from Loobos_Toolbox import dateparse, dateparse_Gapfilled, Read_LoobosEddFinal, Read_LooStor, Read_LoodatGapfill, Read_Loobos_halfhourly, Read_Loobos_meteo, Read_Loobos_soil, Read_Loobos_profile\n",
    "\n",
    "from Ags_model import runAgs, calc_LE"
   ]
  },
  {
   "cell_type": "code",
   "execution_count": null,
   "id": "93b8c0a6-8f10-49e6-b528-4178b478de85",
   "metadata": {},
   "outputs": [],
   "source": [
    "from FilterData import Filter_wrap"
   ]
  },
  {
   "cell_type": "code",
   "execution_count": null,
   "id": "9553af4d-8e27-4282-962f-72a3a286799b",
   "metadata": {},
   "outputs": [],
   "source": [
    "#these next two lines are to prevent re-loading the data. If you want to re-load data, instead comment them out\n",
    "if not 'progress' in globals(): progress = list()\n",
    "if not 'dataloaded' in progress:\n",
    "  # Read files\n",
    "    df_EC           = Read_LoobosEddFinal    (years,datapath)\n",
    "    df_Stor         = Read_LooStor           (years,datapath)\n",
    "    df_Comb         = Read_LoodatGapfill     (years,datapath)\n",
    "    df_NEE          = Read_Loobos_halfhourly (years,datapath)\n",
    "    df_meteo        = Read_Loobos_meteo      (years,datapath)\n",
    "    df_soil         = Read_Loobos_soil       (years,datapath) \n",
    "    df_profile      = Read_Loobos_profile    (years,datapath)\n",
    "    progress.append('dataloaded')"
   ]
  },
  {
   "cell_type": "code",
   "execution_count": null,
   "id": "fb71b140-9553-4f1d-b0ae-c62376972ff6",
   "metadata": {},
   "outputs": [],
   "source": [
    "#from FilterData import Filter_wrap\n",
    "CO2,Locorr,VPD,Ustar,df_profile_filter,df_meteo_filter,df_Comb_filter,df_EC_filter=Filter_wrap(df_Comb,df_profile,df_meteo,df_EC,filterversion='default')\n",
    "#NOTE: df_Stor is NOT FILTERED"
   ]
  },
  {
   "cell_type": "markdown",
   "id": "f232b894-fead-474d-a3bf-aeaa0cfb3d3e",
   "metadata": {},
   "source": [
    "# Start of figure generation"
   ]
  },
  {
   "cell_type": "markdown",
   "id": "c3e08c7d-92f9-4236-8dd9-766f310cee44",
   "metadata": {},
   "source": [
    "## Figure 2"
   ]
  },
  {
   "cell_type": "code",
   "execution_count": null,
   "id": "2262da75-52f3-469a-951c-8f32f5ddd6c5",
   "metadata": {},
   "outputs": [],
   "source": [
    "#set aspect ratio and dpi\n",
    "aspectratio=21/9\n",
    "fig_wid=6 #we want 6 inch width\n",
    "print(fig_wid/aspectratio) # around 2.6\n",
    "fig_hei=2.6\n",
    "dpi=144 #can be as high as 300, standard is 72 which is way too low"
   ]
  },
  {
   "cell_type": "code",
   "execution_count": null,
   "id": "ad18b63a-363f-49bb-8254-ea3f89e47654",
   "metadata": {},
   "outputs": [],
   "source": [
    "# plotting F_NEE(micromol /m2 /s) over Ta (deg C), Ts (deg C), VPD (hPa), separated into two classes: PAR>1000 and PAR500-1000\n",
    "#reminder to self: maybe make a LUE curve to justify the classes >1000 and 500-1000? Or unnecessary, quote literature?\n",
    "\n",
    "#F_NEE data sourced from: df_Comb: NEE\n",
    "#VPD data sourced from: df_Comb: VPD\n",
    "#Ta (air temp) data sourced from: df_Comb: Tair\n",
    "#Ts (soil temp) data sourced from: df_Comb: Tsoil\n",
    "#PAR data sourced from: df_meteo: PAR\n",
    "\n",
    "df_fig2 = pd.concat([df_Comb_filter['NEE'],df_Comb_filter['VPD'],df_Comb_filter['Tair'],df_Comb_filter['Tsoil'], df_meteo_filter['PAR']],axis=1,sort=False)"
   ]
  },
  {
   "cell_type": "code",
   "execution_count": null,
   "id": "a5c6cb09-61d8-4db5-9ee1-4652d88d604e",
   "metadata": {},
   "outputs": [],
   "source": [
    "df_fig2.plot()"
   ]
  },
  {
   "cell_type": "code",
   "execution_count": null,
   "id": "3fa335de-c9d2-4ceb-bf3f-b90c9272a469",
   "metadata": {},
   "outputs": [],
   "source": [
    "#df_test = df_fig2.loc[df_fig2['PAR']<1000]\n",
    "#df_test2 = df_test.loc[df_test['PAR']>500]\n",
    "\n",
    "#df_test2e = df_fig2.loc[(500<df_fig2['PAR']<1000)]\n",
    "\n",
    "#df_test2e.equals(df_test2)\n",
    "#this throws error"
   ]
  },
  {
   "cell_type": "code",
   "execution_count": null,
   "id": "ec58cc07-31da-45fb-aa17-9d94de7ab6c5",
   "metadata": {},
   "outputs": [],
   "source": [
    "#fig 2 e)\n",
    "\n",
    "#slope1, intercept1, r_value1, p_value1, std_err1 = stats.linregress(df_tmp1['sim_data_1'], df_tmp1['sim_data_2'])  #linregres x, y . note r_value is Pearson's coefficient. R^2 is r_value**2\n",
    "#print('slope, intercept, R2:', slope1, intercept1, r_value1**2)\n",
    "\n",
    "df_fig2e = df_fig2.loc[df_fig2['PAR']<1000]\n",
    "\n",
    "fig,ax = plt.subplots()\n",
    "#p1=ax.scatter(df_tmp1['GPP_f'],df_tmp1['sim_data_1'],c=df_tmp1.index.hour,cmap='viridis') #scatter(x,y)\n",
    "p1=ax.scatter(df_fig2e['VPD'],df_fig2e['NEE'],marker='o',c=df_fig2e['Tair'],cmap='viridis') #scatter(x,y)\n",
    "#ax.axline((0.0,intercept1),slope=slope1,c='black',label='reference')\n",
    "#ax.axline ((0.0,0.0), slope=1, c='r',linestyle='dashed',label='1:1')\n",
    "ax.set_ylim(-45,30)\n",
    "ax.set_xlim(-5,45)\n",
    "ax.set_ylabel(r'NEE [$\\mu molm^{-2}s^{-1}$] (?)')\n",
    "ax.set_xlabel(r'VPD [Pa or hPA?]')\n",
    "#fig.suptitle('Correlation of increased VPD to reference run for An, \\n (2008-2017 during growth seasons May-Oct.)')\n",
    "ax.set_title('Fig2e: NEE vs VPD (color by Ta), PAR<1000')\n",
    "#ax.legend(loc='upper left')\n",
    "#fig.subplots_adjust(top=0.87) #fix the top margin text overlap  \n",
    "cbar=plt.colorbar(p1,ax=ax)\n",
    "cbar.ax.set_ylabel('Tair')\n",
    "fig.set_figwidth(6)\n",
    "fig.set_figheight(2.6)\n",
    "fig.set_dpi(144)\n",
    "plt.plot()"
   ]
  },
  {
   "cell_type": "code",
   "execution_count": null,
   "id": "e7af3233-a2c7-4d58-9c78-e1ae837af47e",
   "metadata": {},
   "outputs": [],
   "source": [
    "#fig 2 f)\n",
    "\n",
    "#slope1, intercept1, r_value1, p_value1, std_err1 = stats.linregress(df_tmp1['sim_data_1'], df_tmp1['sim_data_2'])  #linregres x, y . note r_value is Pearson's coefficient. R^2 is r_value**2\n",
    "#print('slope, intercept, R2:', slope1, intercept1, r_value1**2)\n",
    "\n",
    "df_fig2f = df_fig2.loc[df_fig2['PAR']<1000]\n",
    "df_fig2f = df_fig2f.loc[df_fig2f['PAR']>500]\n",
    "#make aliases\n",
    "Tair=df_fig2f['Tair']\n",
    "NEE=df_fig2f['NEE']\n",
    "VPD=df_fig2f['VPD']\n",
    "\n",
    "#because the marker argument in scatter() doesn't accept a long list the same size of the data where each entry specifies the marker of that point (unlike c - color arg),\n",
    "#we have to split the dataset into the categories and plot it over each other with multiple instances of scatter()\n",
    "\n",
    "#separate data:\n",
    "#important! check if lengths of each of these are the same\n",
    "fig2f_cat1=df_fig2f.loc[df_fig2f['Tair']<=15]\n",
    "fig2f_cat2=df_fig2f.loc[df_fig2f['Tair']>15]\n",
    "\n",
    "#colorbar settings\n",
    "cmap = mpl.colormaps['coolwarm'].resampled(2)\n",
    "cols = [mpl.colors.to_hex(cmap(0)),mpl.colors.to_hex(cmap(1))]\n",
    "\n",
    "cbar_bounds = [10, 15 ,20] #boundaries excluding the abs min and abs max\n",
    "#cbar_bounds = [10, 15, 20, 30] #old values\n",
    "norm = mpl.colors.BoundaryNorm(cbar_bounds, cmap.N)\n",
    "\n",
    "fig,ax = plt.subplots()\n",
    "ax_cbar = fig.add_axes([0.05, -0.20, 0.9, 0.05])\n",
    "p1=ax.scatter(fig2f_cat1['VPD'],fig2f_cat1['NEE'],marker='o',c=cols[0],alpha=0.5) #scatter(x,y)\n",
    "p2=ax.scatter(fig2f_cat2['VPD'],fig2f_cat2['NEE'],marker='d',c=cols[1],alpha=0.5) #scatter(x,y)\n",
    "\n",
    "#trendlines (work in progress)\n",
    "#ax.axline((0.0,intercept1),slope=slope1,c='black',label='reference') \n",
    "#ax.axline ((0.0,0.0), slope=1, c='r',linestyle='dashed',label='1:1')\n",
    "\n",
    "ax.set_ylim(-45,30)\n",
    "ax.set_xlim(-1.5,45)\n",
    "ax.set_ylabel(r'NEE [$\\mu molm^{-2}s^{-1}$] (?)')\n",
    "ax.set_xlabel(r'VPD [Pa or hPA?]')\n",
    "#fig.suptitle('Correlation of increased VPD to reference run for An, \\n (2008-2017 during growth seasons May-Oct.)')\n",
    "ax.set_title('Fig2f: NEE vs VPD (color by Ta), 500<PAR<1000')\n",
    "#ax.legend(loc='upper left')\n",
    "#fig.subplots_adjust(top=0.87) #fix the top margin text overlap  \n",
    "\n",
    "cb2 = mpl.colorbar.ColorbarBase(ax_cbar, cmap=cmap,\n",
    "                                norm=norm,\n",
    "                                # to use 'extend', you must specify two extra boundaries:\n",
    "                                boundaries=[10]+cbar_bounds+[20],\n",
    "                                extend='both',\n",
    "                                ticks=cbar_bounds,  # optional\n",
    "                                spacing='proportional',\n",
    "                                orientation='horizontal')\n",
    "cb2.set_label('Tair')\n",
    "#cbar=plt.colorbar(p1,ax=ax)\n",
    "#cbar.ax.set_ylabel('Tair')\n",
    "fig.set_figwidth(6)\n",
    "fig.set_figheight(2.6)\n",
    "fig.set_dpi(144)\n",
    "plt.plot()"
   ]
  },
  {
   "cell_type": "code",
   "execution_count": null,
   "id": "fb466d27-7386-4922-883b-6c6a38cf822b",
   "metadata": {},
   "outputs": [],
   "source": [
    "#adapted figure: plot GPP instead of NEE (thus eliminating effects respiration, as NEE = GPP - respiration (ecosys.)\n",
    "\n",
    "#GPP data sourced from: df_Comb: GPP_f"
   ]
  },
  {
   "cell_type": "markdown",
   "id": "babcf882-9aba-4382-8f79-1632086fb384",
   "metadata": {},
   "source": [
    "### end of figure 2"
   ]
  },
  {
   "cell_type": "markdown",
   "id": "d59e1667-65ff-4809-b381-4752aad8f84f",
   "metadata": {},
   "source": [
    "## figure 3"
   ]
  },
  {
   "cell_type": "markdown",
   "id": "417c56f2-149b-4e4c-b554-367c1b3eb034",
   "metadata": {},
   "source": [
    "### end of figure 3"
   ]
  },
  {
   "cell_type": "code",
   "execution_count": null,
   "id": "86592b6c-0cd3-4a2c-ac6b-df58e8bc1272",
   "metadata": {},
   "outputs": [],
   "source": []
  }
 ],
 "metadata": {
  "kernelspec": {
   "display_name": "Python 3 (ipykernel)",
   "language": "python",
   "name": "python3"
  },
  "language_info": {
   "codemirror_mode": {
    "name": "ipython",
    "version": 3
   },
   "file_extension": ".py",
   "mimetype": "text/x-python",
   "name": "python",
   "nbconvert_exporter": "python",
   "pygments_lexer": "ipython3",
   "version": "3.11.5"
  }
 },
 "nbformat": 4,
 "nbformat_minor": 5
}
