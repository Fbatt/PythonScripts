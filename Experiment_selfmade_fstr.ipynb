{
 "cells": [
  {
   "cell_type": "markdown",
   "id": "68cfbcc8-b3f7-4500-8c84-960f7e6003cc",
   "metadata": {},
   "source": [
    "# Observe relationship GPP,LE, soil moist, sapflow and create my own f_str to plug into model"
   ]
  },
  {
   "cell_type": "code",
   "execution_count": null,
   "id": "dd1c0c32-3cad-4dcc-8349-2730c2502a70",
   "metadata": {},
   "outputs": [],
   "source": [
    "# Settings\n",
    "Username   = 'Beheerder'\n",
    "years      = range(2001,2021)    #(1997,2021) # Set years to download"
   ]
  },
  {
   "cell_type": "code",
   "execution_count": null,
   "id": "2b570de4-14fe-4de9-adda-42e76bdbccb7",
   "metadata": {},
   "outputs": [],
   "source": [
    "import os\n",
    "datapath = os.path.join('../')\n",
    "#print('datapath is set to %s'%datapath)\n",
    "\n",
    "import numpy as np\n",
    "import pandas as pd\n",
    "import matplotlib.pyplot as plt\n",
    "#import plotly.express as px\n",
    "#import cufflinks as cf\n",
    "import matplotlib.dates as mdate\n",
    "import matplotlib.ticker as ticker\n",
    "from matplotlib import cm\n",
    "#from colorspacious import cspace_converter\n",
    "import scipy.stats as stats\n",
    "#cf.go_offline()\n",
    "#cf.set_config_file(offline=False, world_readable=True)\n",
    "\n",
    "from datetime import datetime, timedelta\n",
    "import sys\n",
    "sys.path.insert(0, os.path.join(datapath,'PythonScripts'))\n",
    "from Loobos_Toolbox import dateparse, dateparse_Gapfilled, Read_LoobosEddFinal, Read_LooStor, Read_LoodatGapfill, Read_Loobos_halfhourly, Read_Loobos_meteo, Read_Loobos_soil, Read_Loobos_profile\n",
    "import matplotlib.dates as mdates"
   ]
  },
  {
   "cell_type": "markdown",
   "id": "3045d0e9-fe19-4473-b58c-f33ce62189a8",
   "metadata": {},
   "source": [
    "## Import soilmoist and sapflow data"
   ]
  },
  {
   "cell_type": "code",
   "execution_count": null,
   "id": "7dcc9904-65a8-4d5c-a8b3-96f50a74f905",
   "metadata": {},
   "outputs": [],
   "source": [
    "#these next two lines are to prevent re-loading the data. If you want to re-load data, instead comment them out\n",
    "if not 'progress' in globals(): progress = list()\n",
    "if not 'dataloaded' in progress:\n",
    "  # Read files\n",
    "    df_Comb         = Read_LoodatGapfill     (years,datapath)\n",
    "    progress.append('dataloaded')"
   ]
  },
  {
   "cell_type": "code",
   "execution_count": null,
   "id": "1ed605b3-4599-42fa-abeb-da4482531f23",
   "metadata": {},
   "outputs": [],
   "source": [
    "#import sapflow\n",
    "Sapf_data=pd.read_csv('Sapflow.csv')\n",
    "Sapf_data['TIMESTAMP']=pd.to_datetime(Sapf_data['TIMESTAMP'])\n",
    "Sapf_data.index=Sapf_data['TIMESTAMP']\n",
    "Sapf_data.drop(columns='TIMESTAMP',inplace=True)\n",
    "Sapf_data"
   ]
  },
  {
   "cell_type": "code",
   "execution_count": null,
   "id": "3745fc2d-65e1-4923-9908-f163c0b9642b",
   "metadata": {},
   "outputs": [],
   "source": [
    "#import soil moist\n",
    "SM_data=pd.read_csv('Soil_moisture.csv')\n",
    "SM_data['datetime']=pd.to_datetime(SM_data['datetime'])\n",
    "SM_data.index=SM_data['datetime']\n",
    "SM_data.drop(columns='datetime',inplace=True)\n",
    "SM_data"
   ]
  },
  {
   "cell_type": "markdown",
   "id": "4a3d08e3-6010-4a87-9dfe-1e2780425bd5",
   "metadata": {},
   "source": [
    "## End of Import soilmoist and sapflow data"
   ]
  },
  {
   "cell_type": "markdown",
   "id": "761f754e-00f5-40f6-898e-b8a555212e1b",
   "metadata": {},
   "source": [
    "## prep gpp data"
   ]
  },
  {
   "cell_type": "code",
   "execution_count": null,
   "id": "bfca34c2-d560-4408-8672-d10b02b0a0f5",
   "metadata": {},
   "outputs": [],
   "source": [
    "#import numpy as np\n",
    "from FilterData import Filter_GPP_LE_NEE_VPD\n",
    "#df_Comb_filter\n",
    "df_Comb_filter=Filter_GPP_LE_NEE_VPD(df_Comb)"
   ]
  },
  {
   "cell_type": "code",
   "execution_count": null,
   "id": "02093408-cab9-4422-acdb-7dcd81ca664f",
   "metadata": {},
   "outputs": [],
   "source": [
    "df_Comb.columns"
   ]
  },
  {
   "cell_type": "code",
   "execution_count": null,
   "id": "de197a48-5262-4ab2-9c87-b689080cddd4",
   "metadata": {},
   "outputs": [],
   "source": []
  },
  {
   "cell_type": "markdown",
   "id": "976c84eb-36e3-4998-ae1d-a1588469a443",
   "metadata": {},
   "source": [
    "## Plot simple sens analysis GPP and LE vs soil moist and sapflow"
   ]
  },
  {
   "cell_type": "code",
   "execution_count": null,
   "id": "1df65958-33e5-4970-af06-7555ce2a2901",
   "metadata": {},
   "outputs": [],
   "source": [
    "\n",
    "#join the two so that it's same len\n",
    "\n",
    "df_Obs = df_Comb_filter.loc[:,['NEE','GPP_f','LE','VPD']]\n",
    "df_GPP_SM = pd.concat([df_Obs,SM_data],axis=1,sort=False)\n",
    "df_GPP_Sapf = pd.concat([df_Obs,Sapf_data],axis=1,sort=False)\n",
    "\n"
   ]
  },
  {
   "cell_type": "code",
   "execution_count": null,
   "id": "3b035e33-a43e-47bf-b650-e2196315f32a",
   "metadata": {},
   "outputs": [],
   "source": [
    "df_GPP_SM.dropna(subset='SM_l1',inplace=True)\n",
    "df_GPP_SM"
   ]
  },
  {
   "cell_type": "code",
   "execution_count": null,
   "id": "8de8667a-8add-4e95-b447-2de209919a6c",
   "metadata": {},
   "outputs": [],
   "source": [
    "df_GPP_Sapf.dropna(subset='Jt_mean',inplace=True)\n",
    "df_GPP_Sapf"
   ]
  },
  {
   "cell_type": "code",
   "execution_count": null,
   "id": "49bd23cd-86cb-47e7-896d-267a7878b6e0",
   "metadata": {},
   "outputs": [],
   "source": [
    "\n",
    "fig,ax = plt.subplots()\n",
    "#ax.xaxis.set_minor_locator(mdates.DayLocator())\n",
    "\n",
    "\n",
    "\n",
    "ax.scatter(df_GPP_SM['SM_l1'],df_GPP_SM['LE']) #x,y\n",
    "\n",
    "ax.set_ylabel('LE')\n",
    "ax.set_xlabel('Soil moisture l1 (0-50cm)')\n",
    "\n",
    "\n",
    "#ax.legend(loc=(\"upper left\"))\n",
    "#fig.autofmt_xdate()\n",
    "plt.show()"
   ]
  },
  {
   "cell_type": "code",
   "execution_count": null,
   "id": "0f535035-7c7b-4d1f-b1c1-b54ddf70a383",
   "metadata": {},
   "outputs": [],
   "source": [
    "\n",
    "fig,ax = plt.subplots()\n",
    "#ax.xaxis.set_minor_locator(mdates.DayLocator())\n",
    "\n",
    "\n",
    "\n",
    "ax.scatter(df_GPP_SM['SM_l1'],df_GPP_SM['GPP_f']) #x,y\n",
    "\n",
    "ax.set_ylabel('GPP')\n",
    "ax.set_xlabel('Soil moisture l1 (0-50cm)')\n",
    "\n",
    "\n",
    "#ax.legend(loc=(\"upper left\"))\n",
    "#fig.autofmt_xdate()\n",
    "plt.show()"
   ]
  },
  {
   "cell_type": "code",
   "execution_count": null,
   "id": "7fa82c71-e41c-4ea5-a85b-5ae8a441eb1e",
   "metadata": {},
   "outputs": [],
   "source": [
    "\n",
    "fig,ax = plt.subplots()\n",
    "#ax.xaxis.set_minor_locator(mdates.DayLocator())\n",
    "\n",
    "\n",
    "\n",
    "ax.scatter(df_GPP_Sapf['Jt_mean'],df_GPP_Sapf['GPP_f']) #x,y\n",
    "\n",
    "ax.set_ylabel('GPP')\n",
    "ax.set_xlabel('Sap flow (cm3/cm2 s-1)')\n",
    "\n",
    "\n",
    "#ax.legend(loc=(\"upper left\"))\n",
    "#fig.autofmt_xdate()\n",
    "plt.show()"
   ]
  },
  {
   "cell_type": "code",
   "execution_count": null,
   "id": "b8155135-e104-45c3-8bb1-cd569f94d5f4",
   "metadata": {},
   "outputs": [],
   "source": [
    "\n",
    "fig,ax = plt.subplots()\n",
    "#ax.xaxis.set_minor_locator(mdates.DayLocator())\n",
    "\n",
    "\n",
    "\n",
    "ax.scatter(df_GPP_Sapf['Jt_mean'],df_GPP_Sapf['LE']) #x,y\n",
    "\n",
    "ax.set_ylabel('LE')\n",
    "ax.set_xlabel('Sap flow (cm3/cm2 s-1)')\n",
    "\n",
    "\n",
    "#ax.legend(loc=(\"upper left\"))\n",
    "#fig.autofmt_xdate()\n",
    "plt.show()"
   ]
  },
  {
   "cell_type": "code",
   "execution_count": null,
   "id": "e26d2106-cee1-4dba-bb61-ddb53d566fbf",
   "metadata": {},
   "outputs": [],
   "source": []
  },
  {
   "cell_type": "markdown",
   "id": "34b9f725-941b-4fb7-bafb-402c9d7a3ab2",
   "metadata": {},
   "source": [
    "## end of plot simple sens analysis GPP and LE vs soil moist and sapflow"
   ]
  },
  {
   "cell_type": "markdown",
   "id": "d49c9219-d24a-4646-bcd8-8c8dcde8434c",
   "metadata": {},
   "source": [
    "## plot proof of deep water simplified: sapflow during heatwave"
   ]
  },
  {
   "cell_type": "code",
   "execution_count": null,
   "id": "8571c0ed-5f97-466f-8b28-edc618e0bdd3",
   "metadata": {},
   "outputs": [],
   "source": [
    "#2013 heatwave\n",
    "fig,ax = plt.subplots()\n",
    "#ax.xaxis.set_minor_locator(mdates.DayLocator())\n",
    "st='2013-07-21'\n",
    "ed='2013-07-27'\n",
    "\n",
    "#the last recorded rain event was on 03-07-2013, the next rain event (Falls within the heatwave) is on 25-07-2013 \n",
    "ax.plot(df_GPP_Sapf.loc[st:ed,'Jt_mean']) #x,y\n",
    "twin1 = ax.twinx()\n",
    "twin2 = ax.twinx()\n",
    "twin1.plot(df_GPP_SM.loc[st:ed,'SM_l1'],c='purple') #x,y\n",
    "twin1.plot(df_GPP_SM.loc[st:ed,'SM_l2'],c='red') #x,y\n",
    "#twin2.plot(df_GPP_SM.loc[st:ed,'LE'],c='green')\n",
    "\n",
    "ax.set_ylabel(r'Sap flow $(cm^{3} cm^{-2} s^{-1}$)')\n",
    "twin1.set_ylabel(r'Soil moisture ($\\Theta$) (%)')\n",
    "twin2.spines[\"right\"].set_position((\"axes\", 1.05))\n",
    "twin2.set_ylabel('LE')\n",
    "ax.set_xlabel('date')\n",
    "\n",
    "#'2015-06-30':'2015-07-05'\n",
    "\n",
    "#ax.legend(loc=(\"upper left\"))\n",
    "ax.grid()\n",
    "fig.autofmt_xdate()\n",
    "plt.show()"
   ]
  },
  {
   "cell_type": "code",
   "execution_count": null,
   "id": "9b0a7120-b3e6-4b8b-88b1-ccb06af4543b",
   "metadata": {},
   "outputs": [],
   "source": [
    "import datetime as dt\n",
    "plt.rcParams[\"figure.figsize\"] = (20,6)"
   ]
  },
  {
   "cell_type": "code",
   "execution_count": null,
   "id": "778db959-e1f1-48b6-a661-4bdecb76cddd",
   "metadata": {},
   "outputs": [],
   "source": [
    "#2013 heatwave + leadup\n",
    "fig,ax = plt.subplots()\n",
    "#ax.xaxis.set_minor_locator(mdates.DayLocator())\n",
    "st='2013-07-05'\n",
    "ed='2013-07-27'\n",
    "\n",
    "#the last recorded rain event was on 03-07-2013, the next rain event (Falls within the heatwave) is on 25-07-2013 \n",
    "ax.plot(df_GPP_Sapf.loc[st:ed,'Jt_mean']) #x,y\n",
    "twin1 = ax.twinx()\n",
    "twin2 = ax.twinx()\n",
    "twin1.plot(df_GPP_SM.loc[st:ed,'SM_l1'],c='purple') #x,y\n",
    "twin1.plot(df_GPP_SM.loc[st:ed,'SM_l2'],c='red') #x,y\n",
    "#twin2.plot(df_GPP_SM.loc[st:ed,'LE'],c='green')\n",
    "\n",
    "ax.set_ylabel(r'Sap flow $(cm^{3} cm^{-2} s^{-1}$)')\n",
    "twin1.set_ylabel(r'Soil moisture ($\\Theta$) (%)')\n",
    "twin2.spines[\"right\"].set_position((\"axes\", 1.05))\n",
    "twin2.set_ylabel('LE')\n",
    "ax.set_xlabel('date')\n",
    "ax.axvline(dt.datetime(2013, 7, 21),c='orange')\n",
    "ax.axvline(dt.datetime(2013, 7, 27),c='orange')\n",
    "\n",
    "#'2015-06-30':'2015-07-05'\n",
    "\n",
    "#ax.legend(loc=(\"upper left\"))\n",
    "ax.grid()\n",
    "fig.autofmt_xdate()\n",
    "plt.show()"
   ]
  },
  {
   "cell_type": "code",
   "execution_count": null,
   "id": "44f5ac6f-475b-448a-a2cd-5aec92c720c7",
   "metadata": {},
   "outputs": [],
   "source": [
    "#2015 heatwave + leadup\n",
    "fig,ax = plt.subplots()\n",
    "#ax.xaxis.set_minor_locator(mdates.DayLocator())\n",
    "st='2015-06-30'\n",
    "ed='2015-07-05'\n",
    "\n",
    "#the last recorded rain event was on 03-06-2013, the next rain event (Falls within the heatwave) is on 25-07-2013 \n",
    "ax.plot(df_GPP_Sapf.loc[st:ed,'Jt_mean']) #x,y\n",
    "twin1 = ax.twinx()\n",
    "twin2 = ax.twinx()\n",
    "twin1.plot(df_GPP_SM.loc[st:ed,'SM_l1'],c='purple') #x,y\n",
    "twin1.plot(df_GPP_SM.loc[st:ed,'SM_l2'],c='red') #x,y\n",
    "#twin2.plot(df_GPP_SM.loc[st:ed,'LE'],c='green')\n",
    "\n",
    "ax.set_ylabel(r'Sap flow $(cm^{3} cm^{-2} s^{-1}$)')\n",
    "twin1.set_ylabel(r'Soil moisture ($\\Theta$) (%)')\n",
    "twin2.spines[\"right\"].set_position((\"axes\", 1.05))\n",
    "twin2.set_ylabel('LE')\n",
    "ax.set_xlabel('date')\n",
    "ax.axvline(dt.datetime(2015, 6, 30),c='orange')\n",
    "ax.axvline(dt.datetime(2015, 7, 5),c='orange')\n",
    "\n",
    "#'2015-06-30':'2015-07-05'\n",
    "\n",
    "#ax.legend(loc=(\"upper left\"))\n",
    "ax.grid()\n",
    "fig.autofmt_xdate()\n",
    "plt.show()"
   ]
  },
  {
   "cell_type": "code",
   "execution_count": null,
   "id": "57782b20-7ad7-433e-b71a-c8f60a680550",
   "metadata": {},
   "outputs": [],
   "source": [
    "#heatwave 2015\n",
    "fig,ax = plt.subplots()\n",
    "#ax.xaxis.set_minor_locator(mdates.DayLocator())\n",
    "st='2015-06-30'\n",
    "ed='2015-07-05'\n",
    "\n",
    "#the last recorded rain event was on 03-07-2013, the next rain event (Falls within the heatwave) is on 25-07-2013 \n",
    "ax.plot(df_GPP_Sapf.loc[st:ed,'Jt_mean']) #x,y\n",
    "twin1 = ax.twinx()\n",
    "twin2 = ax.twinx()\n",
    "twin1.plot(df_GPP_SM.loc[st:ed,'SM_l1'],c='purple') #x,y\n",
    "twin1.plot(df_GPP_SM.loc[st:ed,'SM_l2'],c='red') #x,y\n",
    "#twin2.plot(df_GPP_SM.loc[st:ed,'LE'],c='green')\n",
    "\n",
    "ax.set_ylabel(r'Sap flow $(cm^{3} cm^{-2} s^{-1}$)')\n",
    "twin1.set_ylabel(r'Soil moisture ($\\Theta$) (%)')\n",
    "twin2.spines[\"right\"].set_position((\"axes\", 1.05))\n",
    "twin2.set_ylabel('LE')\n",
    "ax.set_xlabel('date')\n",
    "\n",
    "#'2015-06-30':'2015-07-05'\n",
    "\n",
    "#ax.legend(loc=(\"upper left\"))\n",
    "ax.grid()\n",
    "fig.autofmt_xdate()\n",
    "plt.show()"
   ]
  },
  {
   "cell_type": "code",
   "execution_count": null,
   "id": "e777fd03-40d6-4755-8315-ef9ee4205e07",
   "metadata": {},
   "outputs": [],
   "source": [
    "#heatwave 2015 + leadup\n",
    "fig,ax = plt.subplots()\n",
    "#ax.xaxis.set_minor_locator(mdates.DayLocator())\n",
    "st='2015-06-24'\n",
    "ed='2015-07-05'\n",
    "\n",
    "#the last recorded rain event was on 03-07-2013, the next rain event (Falls within the heatwave) is on 25-07-2013 \n",
    "ax.plot(df_GPP_Sapf.loc[st:ed,'Jt_mean']) #x,y\n",
    "twin1 = ax.twinx()\n",
    "twin2 = ax.twinx()\n",
    "twin1.plot(df_GPP_SM.loc[st:ed,'SM_l1'],c='purple') #x,y\n",
    "twin1.plot(df_GPP_SM.loc[st:ed,'SM_l2'],c='red') #x,y\n",
    "#twin2.plot(df_GPP_SM.loc[st:ed,'LE'],c='green')\n",
    "\n",
    "ax.set_ylabel(r'Sap flow $(cm^{3} cm^{-2} s^{-1}$)')\n",
    "twin1.set_ylabel(r'Soil moisture ($\\Theta$) (%)')\n",
    "twin2.spines[\"right\"].set_position((\"axes\", 1.05))\n",
    "twin2.set_ylabel('LE')\n",
    "ax.set_xlabel('date')\n",
    "\n",
    "#'2015-06-30':'2015-07-05'\n",
    "\n",
    "#ax.legend(loc=(\"upper left\"))\n",
    "ax.grid()\n",
    "fig.autofmt_xdate()\n",
    "plt.show()"
   ]
  },
  {
   "cell_type": "markdown",
   "id": "4d5df5f9-7347-4d88-a97d-3291a4d71ee4",
   "metadata": {
    "jp-MarkdownHeadingCollapsed": true
   },
   "source": [
    "## end of plot proof of deep water simplified: sapflow during heatwave"
   ]
  },
  {
   "cell_type": "code",
   "execution_count": null,
   "id": "6e966306-2ca9-43d0-9da7-a859ac355aaa",
   "metadata": {},
   "outputs": [],
   "source": []
  }
 ],
 "metadata": {
  "kernelspec": {
   "display_name": "Python 3 (ipykernel)",
   "language": "python",
   "name": "python3"
  },
  "language_info": {
   "codemirror_mode": {
    "name": "ipython",
    "version": 3
   },
   "file_extension": ".py",
   "mimetype": "text/x-python",
   "name": "python",
   "nbconvert_exporter": "python",
   "pygments_lexer": "ipython3",
   "version": "3.11.5"
  }
 },
 "nbformat": 4,
 "nbformat_minor": 5
}
