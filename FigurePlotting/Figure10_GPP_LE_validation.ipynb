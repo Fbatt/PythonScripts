{
 "cells": [
  {
   "cell_type": "markdown",
   "id": "a2978442-0a0a-42b2-ac0f-8e6b685580d8",
   "metadata": {},
   "source": [
    "# A-gs model and implementation (simulation CO2 and H2O flux)"
   ]
  },
  {
   "cell_type": "markdown",
   "id": "c5053646-e207-4e8c-a62e-2a7f70ad0887",
   "metadata": {},
   "source": [
    "## Initialize data and model"
   ]
  },
  {
   "cell_type": "markdown",
   "id": "467470b3-2427-4ada-b14f-9ff26922d8ec",
   "metadata": {},
   "source": [
    "### Setup and fetch data"
   ]
  },
  {
   "cell_type": "code",
   "execution_count": null,
   "id": "515abf18",
   "metadata": {},
   "outputs": [],
   "source": [
    "# Settings\n",
    "Username   = 'Beheerder'\n",
    "years      = range(2001,2021)    #(1997,2021) # Set years to download"
   ]
  },
  {
   "cell_type": "code",
   "execution_count": null,
   "id": "10009d44-50be-45e6-b14d-f31e229df706",
   "metadata": {},
   "outputs": [],
   "source": [
    "import os\n",
    "datapath   = os.path.join('../../') #since this file is 2 dir down from the data it's ../../\n",
    "print('datapath is set to %s'%datapath)\n",
    "\n",
    "\n",
    "import numpy as np\n",
    "import pandas as pd\n",
    "import matplotlib.pyplot as plt\n",
    "#import plotly.express as px\n",
    "#import cufflinks as cf\n",
    "import matplotlib.dates as mdate\n",
    "import matplotlib.ticker as ticker\n",
    "from matplotlib import cm\n",
    "#from colorspacious import cspace_converter\n",
    "import scipy.stats as stats\n",
    "#cf.go_offline()\n",
    "# cf.set_config_file(offline=False, world_readable=True)\n",
    "\n",
    "from datetime import datetime, timedelta\n",
    "import sys\n",
    "sys.path.insert(0, os.path.join(datapath,'PythonScripts'))\n",
    "sys.path.append('../') #append the directory above this one to path to be able to find my python modules\n",
    "\n",
    "from Loobos_Toolbox import dateparse, dateparse_Gapfilled, Read_LoobosEddFinal, Read_LooStor, Read_LoodatGapfill, Read_Loobos_halfhourly, Read_Loobos_meteo, Read_Loobos_soil, Read_Loobos_profile\n",
    "\n",
    "from Ags_model import runAgs, runAgs2, calc_LE"
   ]
  },
  {
   "cell_type": "code",
   "execution_count": null,
   "id": "244e6ea2",
   "metadata": {},
   "outputs": [],
   "source": [
    "#these next two lines are to prevent re-loading the data. If you want to re-load data, instead comment them out\n",
    "if not 'progress' in globals(): progress = list()\n",
    "if not 'dataloaded' in progress:\n",
    "  # Read files\n",
    "    df_EC           = Read_LoobosEddFinal    (years,datapath)\n",
    "    df_Stor         = Read_LooStor           (years,datapath)\n",
    "    df_Comb         = Read_LoodatGapfill     (years,datapath)\n",
    "    df_NEE          = Read_Loobos_halfhourly (years,datapath)\n",
    "    df_meteo        = Read_Loobos_meteo      (years,datapath)\n",
    "    df_soil         = Read_Loobos_soil       (years,datapath) \n",
    "    df_profile      = Read_Loobos_profile    (years,datapath)\n",
    "    progress.append('dataloaded')"
   ]
  },
  {
   "cell_type": "code",
   "execution_count": null,
   "id": "3e66087c",
   "metadata": {},
   "outputs": [],
   "source": [
    "# Make filter for GPP orginial data and not gapfilled\n",
    "#General filters\n",
    "I = ((df_Comb['GPP_fqc']==0)&(df_meteo['PAR']>0))\n",
    "#t = df_profile.index                                          \n",
    "#time = (t < np.datetime64('2013-05-08')) | (t > np.datetime64('2013-06-01'))\n",
    "\n",
    "# Filter for CO2 data\n",
    "CO2 = (df_profile['CO2level1'] > 300)\n",
    "\n",
    "# Filter for L(o)corr data\n",
    "Locorr= (df_meteo['L(o)corr']>0) \n",
    "\n",
    "# Filter for VPD data\n",
    "VPD = (df_Comb['VPD']>=0)\n",
    "\n",
    "# Filter for U-star\n",
    "Ustar = (df_EC['U-star']>=0)\n",
    "\n",
    "# Combine all filters\n",
    "filter = I & CO2 & Locorr & VPD & Ustar\n",
    "\n",
    "#Column 'CO2' is input from df_profile\n",
    "#df_profile_CO2 = df_profile[CO2]\n",
    "#df_profile_filter = df_profile_CO2[I]\n",
    "df_profile_filter = df_profile[filter]\n",
    "\n",
    "#Column 'L(o)corr' and 'PAR' are inputs from df_meteo\n",
    "#df_meteo_CO2 = df_meteo[CO2]\n",
    "#df_meteo_filter = df_meteo_CO2[I]\n",
    "df_meteo_filter = df_meteo[filter]\n",
    "\n",
    "#Columns 'VPD' and 'Tair' are inputs from df_Comb\n",
    "#df_Comb_CO2 = df_Comb[CO2]\n",
    "#df_Comb_filter = df_Comb_CO2[I]\n",
    "df_Comb_filter = df_Comb[filter]\n",
    "\n",
    "# Columns 'Mea_Windsp' and 'U-star' are inputs from df_EC\n",
    "#df_EC_CO2 = df_EC[CO2]\n",
    "#df_EC_filter = df_EC_CO2[I]\n",
    "df_EC_filter = df_EC[filter]"
   ]
  },
  {
   "cell_type": "code",
   "execution_count": null,
   "id": "87a07fcd-2d77-4b3e-afd9-40c2a4c4c0f7",
   "metadata": {},
   "outputs": [],
   "source": [
    "from FilterData import Filter_wrap\n",
    "CO2,Locorr,VPD,Ustar,df_profile_filter,df_meteo_filter,df_Comb_filter,df_EC_filter=Filter_wrap(df_Comb,df_profile,df_meteo,df_EC,filterversion='default')\n",
    "#NOTE: df_Stor is NOT FILTERED"
   ]
  },
  {
   "cell_type": "code",
   "execution_count": null,
   "id": "dc7a89ed-9758-46a9-a294-09b18336d685",
   "metadata": {},
   "outputs": [],
   "source": [
    "from FilterData import Filter_GPP_LE_NEE_VPD \n",
    "df_Comb_filter2 = Filter_GPP_LE_NEE_VPD(df_Comb,fqc=None)"
   ]
  },
  {
   "cell_type": "markdown",
   "id": "c1996767-09d3-441d-b711-cea73a750854",
   "metadata": {},
   "source": [
    "### Run A-gs model"
   ]
  },
  {
   "cell_type": "code",
   "execution_count": null,
   "id": "801ede28",
   "metadata": {},
   "outputs": [],
   "source": [
    "# Run A-gs model\n",
    "\n",
    "an_final_10,an_umol_10,rs_10, ra = runAgs(df_profile_filter,df_Comb_filter,df_meteo_filter,df_EC_filter,fstr=1.0)\n",
    "#an_final_8,an_umol_8,rs_8, ra = runAgs(df_profile_filter,df_Comb_filter,df_meteo_filter,df_EC_filter,fstr=0.8)\n",
    "#an_final_6,an_umol_6,rs_6, ra = runAgs(df_profile_filter,df_Comb_filter,df_meteo_filter,df_EC_filter,fstr=0.6)\n",
    "#an_final_4,an_umol_4,rs_4, ra = runAgs(df_profile_filter,df_Comb_filter,df_meteo_filter,df_EC_filter,fstr=0.4)\n",
    "#an_final_2,an_umol_2,rs_2, ra = runAgs(df_profile_filter,df_Comb_filter,df_meteo_filter,df_EC_filter,fstr=0.2)\n",
    "\n",
    "#an_final_g,an_umol_g,rs_g, ra_g = runAgs(df_profile_filter,df_Comb_filter,df_meteo_filter,df_EC_filter,fstr=0.8,gmin_input=0.01985)\n",
    "\n",
    "\n"
   ]
  },
  {
   "cell_type": "markdown",
   "id": "cb0753ef-8f5b-4b55-83db-ad31419a0e53",
   "metadata": {},
   "source": [
    "## Calcuate ET"
   ]
  },
  {
   "cell_type": "markdown",
   "id": "ac78d717-ea63-477c-9c43-8a29262f3143",
   "metadata": {},
   "source": [
    "### Assemble dataframe 'df_ET' that will hold output and fill with inputs"
   ]
  },
  {
   "cell_type": "code",
   "execution_count": null,
   "id": "1065217e-ea3f-4cfc-97af-76ad200b8c08",
   "metadata": {},
   "outputs": [],
   "source": [
    "def init_ETframe(rs_series):\n",
    "    df_ET = pd.concat([df_meteo['L(o)'],df_meteo['Te-L(o)'],df_profile['Pressure'],df_Comb['VPD'],df_Comb['rH'],df_meteo['P(mast)']],axis=1,sort=False)\n",
    "    #convert Pressure from hPa to kPa \n",
    "    df_ET['p_kPa']=df_ET['Pressure']/10\n",
    "    df_ET['VPD_adj']=df_ET['VPD'].loc[df_ET['VPD']>0] #some outlier values for VPD are negative, remove from dataset\n",
    "    df_ET['VPD_adj']=df_ET['VPD_adj']/10  # VPD from df_Comb is in hPa, I need kPa, so hPa/10 = kPa\n",
    "    df_ET['rs']=rs_series.to_frame(name=\"rs\")\n",
    "    df_ET['ra']=ra.to_frame(name=\"ra\")\n",
    "    return df_ET"
   ]
  },
  {
   "cell_type": "code",
   "execution_count": null,
   "id": "7cf1ead7-7694-4619-8496-bd27e4ece452",
   "metadata": {},
   "outputs": [],
   "source": [
    "df_ET_10=init_ETframe(rs_10)\n",
    "#df_ET_8=init_ETframe(rs_8)\n",
    "#df_ET_6=init_ETframe(rs_6)\n",
    "#df_ET_4=init_ETframe(rs_4)\n",
    "#df_ET_2=init_ETframe(rs_2)\n",
    "#df_ET_g=init_ETframe(rs_g)"
   ]
  },
  {
   "cell_type": "code",
   "execution_count": null,
   "id": "77211664-888c-4840-ba39-a1dde1890967",
   "metadata": {},
   "outputs": [],
   "source": [
    "df_ET_10=calc_LE(df_ET_10)\n",
    "#df_ET_8=calc_LE(df_ET_8)\n",
    "#df_ET_6=calc_LE(df_ET_6)\n",
    "#df_ET_4=calc_LE(df_ET_4)\n",
    "#df_ET_2=calc_LE(df_ET_2)\n",
    "#df_ET_g=calc_LE(df_ET_g)"
   ]
  },
  {
   "cell_type": "code",
   "execution_count": null,
   "id": "524ceff3-228c-4391-891d-3ffce61d5821",
   "metadata": {},
   "outputs": [],
   "source": [
    "#df_ET_10['L(o)_corr'].resample('M').mean().plot(label='mine',legend='y')\n",
    "#df_meteo_filter['L(o)corr'].resample('M').mean().plot(label='dataset',legend='y')"
   ]
  },
  {
   "cell_type": "code",
   "execution_count": null,
   "id": "d036f7d7-8b44-4236-ae20-e0dc562809c1",
   "metadata": {},
   "outputs": [],
   "source": [
    "df_ET_meas=df_Comb_filter.copy()\n",
    "df_ET_meas=df_ET_meas.loc[df_ET_meas['LE']>=0]\n",
    "df_ET_meas=df_ET_meas.resample(\"M\").mean()\n",
    "#df_ET_meas['LE'].plot()"
   ]
  },
  {
   "cell_type": "code",
   "execution_count": null,
   "id": "04e2e907-a520-455c-9b54-ff574549de42",
   "metadata": {},
   "outputs": [],
   "source": [
    "df_ET_3h=df_ET_10.resample('3H').mean().between_time('9:00','15:00')\n",
    "df_ET_3h"
   ]
  },
  {
   "cell_type": "code",
   "execution_count": null,
   "id": "e2600b42-d263-4165-815c-4971df3ae604",
   "metadata": {},
   "outputs": [],
   "source": [
    "#filter for rain\n",
    "knmi_rain_daily=pd.read_csv('./knmi_rain_daily.csv')\n",
    "knmi_rain_daily.index=pd.to_datetime(knmi_rain_daily['date'],format='%Y-%m-%d')\n",
    "knmi_rain_daily['is_zero']=knmi_rain_daily['RD']==0.0\n",
    "rain_is_zero=knmi_rain_daily.loc[:,['is_zero']]\n",
    "rain_is_zero=rain_is_zero.resample('3H').ffill()\n",
    "rain_is_zero_corr=rain_is_zero.copy()\n",
    "rain_is_zero=rain_is_zero.between_time('9:00','15:00')\n",
    "df_ET_3h=df_ET_3h.loc['2001-01-01':'2020-12-30'] #the knmi dataset is 1 day shorter\n",
    "df_ET_3h=df_ET_3h.loc[rain_is_zero['is_zero']==True]\n",
    "#df_ET_3h"
   ]
  },
  {
   "cell_type": "code",
   "execution_count": null,
   "id": "a3d9c844-9bff-4d70-84cb-7caea96688b7",
   "metadata": {},
   "outputs": [],
   "source": [
    "#compare differnce between two datetimeindex\n",
    "#C = df_ET_3h[~df_ET_3h.index.isin(rain_is_zero.index)]"
   ]
  },
  {
   "cell_type": "markdown",
   "id": "a7f94f14-69d7-4d8a-a720-5531d86ec058",
   "metadata": {},
   "source": [
    "### calculate ET"
   ]
  },
  {
   "cell_type": "markdown",
   "id": "2868d56d-8dbe-44fd-a44d-a92bcfdc2c98",
   "metadata": {},
   "source": [
    "## Correlation plots"
   ]
  },
  {
   "cell_type": "markdown",
   "id": "3e8859bf-ea71-409e-85b1-ab61bcd87d6e",
   "metadata": {},
   "source": [
    "### CO2 flux"
   ]
  },
  {
   "cell_type": "code",
   "execution_count": null,
   "id": "a0191c5f-3189-4bd8-a19b-b11f9379aca2",
   "metadata": {},
   "outputs": [],
   "source": [
    "an_umol = an_umol_10"
   ]
  },
  {
   "cell_type": "code",
   "execution_count": null,
   "id": "9722a0b4-9269-43dc-8e33-1b9998d80736",
   "metadata": {},
   "outputs": [],
   "source": [
    "#start='2017-05-01 00:00'\n",
    "#end='2017-05-30 00:00'\n",
    "start='2008-05-01 00:00'\n",
    "end='2018-09-30 00:00'\n",
    "sim_data=an_umol.loc[an_umol>0].loc[start:end].resample('3H').mean()#.between_time(\"11:00\", \"16:00\")\n",
    "sim_data = sim_data.loc[(sim_data.index.month>=4) & (sim_data.index.month<=9)]\n",
    "sim_data=sim_data.dropna() #eliminate NaN entries created by the .loc slice\n",
    "measured_data=df_Comb['GPP_f'].loc[start:end]\n",
    "measured_data=measured_data.loc[measured_data>0]\n",
    "measured_data=measured_data.resample('3H').mean()#.between_time(\"11:00\", \"16:00\")\n",
    "measured_data=measured_data.dropna()\n",
    "\n",
    "df_tmp = pd.DataFrame()\n",
    "df_tmp['sim_data']=sim_data\n",
    "\n",
    "df_tmp=df_tmp.merge(measured_data, how='inner',left_index=True, right_index=True)\n",
    "\n",
    "slope, intercept, r_value, p_value, std_err = stats.linregress(df_tmp['GPP_f'], df_tmp['sim_data'])  #linregres x, y . note r_value is Pearson's coefficient. R^2 is r_value**2\n",
    "#print('R2: ',r_value**2)\n",
    "#print('slope, intercept:', slope, intercept)\n",
    "\n",
    "fig,ax = plt.subplots()\n",
    "p1=ax.scatter(df_tmp['GPP_f'],df_tmp['sim_data'],c=df_tmp.index.hour,s=0.7,cmap='viridis') #scatter(x,y)\n",
    "ax.axline((0.0,intercept),slope=slope,c='r',label='slope')\n",
    "ax.axline ((0.0,0.0), slope=1, c='r',linestyle='dashed',label='1:1')\n",
    "#ax.set_ylim(-5,40)\n",
    "#ax.set_xlim(-5,40)\n",
    "ax.set_xlabel(r'Observed GPP [$\\mu molm^{-2}s^{-1}$]')\n",
    "ax.set_ylabel(r'Simulated GPP [$\\mu molm^{-2}s^{-1}$]')\n",
    "fig.suptitle('Correlation of simulated to measured GPP flux (3-hour mean) \\n for 2001-2020 growing season (Apr-Sep)')\n",
    "print('intercept = {:.3f}, slope = {:.3f}, R2 = {:.3f}'.format(intercept,slope,r_value**2))\n",
    "ax.legend(loc='upper left')\n",
    "cbar=plt.colorbar(p1,ax=ax)\n",
    "cbar.ax.set_ylabel('Hour')\n",
    "ax.grid()"
   ]
  },
  {
   "cell_type": "code",
   "execution_count": null,
   "id": "e2526a99-3131-4022-b3b1-a0fb5d1b79a7",
   "metadata": {},
   "outputs": [],
   "source": [
    "#start='2017-05-01 00:00'\n",
    "#end='2017-05-30 00:00'\n",
    "start='2008-05-01 00:00'\n",
    "end='2018-09-30 00:00'\n",
    "sim_data=an_umol.loc[an_umol>0].loc[start:end].resample('3H').mean().between_time(\"06:00\", \"12:00\")\n",
    "sim_data = sim_data.loc[(sim_data.index.month>=4) & (sim_data.index.month<=9)]\n",
    "sim_data=sim_data.dropna() #eliminate NaN entries created by the .loc slice\n",
    "measured_data=df_Comb['GPP_f'].loc[start:end]\n",
    "measured_data=measured_data.loc[measured_data>0]\n",
    "measured_data=measured_data.resample('3H').mean()#.between_time(\"11:00\", \"16:00\")\n",
    "measured_data=measured_data.dropna()\n",
    "\n",
    "df_tmp = pd.DataFrame()\n",
    "df_tmp['sim_data']=sim_data\n",
    "\n",
    "df_tmp=df_tmp.merge(measured_data, how='inner',left_index=True, right_index=True)\n",
    "\n",
    "slope, intercept, r_value, p_value, std_err = stats.linregress(df_tmp['GPP_f'], df_tmp['sim_data'])  #linregres x, y . note r_value is Pearson's coefficient. R^2 is r_value**2\n",
    "#print('R2: ',r_value**2)\n",
    "#print('slope, intercept:', slope, intercept)\n",
    "\n",
    "fig,ax = plt.subplots()\n",
    "p1=ax.scatter(df_tmp['GPP_f'],df_tmp['sim_data'],c=df_tmp.index.hour,s=0.7,cmap='viridis') #scatter(x,y)\n",
    "ax.axline((0.0,intercept),slope=slope,c='r',label='slope')\n",
    "ax.axline ((0.0,0.0), slope=1, c='r',linestyle='dashed',label='1:1')\n",
    "#ax.set_ylim(-5,40)\n",
    "#ax.set_xlim(-5,40)\n",
    "ax.set_xlabel(r'measured GPP [$\\mu molm^{-2}s^{-1}$]')\n",
    "ax.set_ylabel(r'A-gs simulated GPP [$\\mu molm^{-2}s^{-1}$]')\n",
    "fig.suptitle('Correlation of simulated to measured GPP flux (3-hour mean between 06:00-12:00) \\n for 2001-2020 growing season (Apr-Sep)')\n",
    "print('intercept = {:.3f}, slope = {:.3f}, R2 = {:.3f}'.format(intercept,slope,r_value**2))\n",
    "ax.legend(loc='upper left')\n",
    "cbar=plt.colorbar(p1,ax=ax)\n",
    "cbar.ax.set_ylabel('Hour')\n",
    "ax.grid()"
   ]
  },
  {
   "cell_type": "markdown",
   "id": "4ddc463c-0db0-4905-8e14-acc8f405d020",
   "metadata": {},
   "source": [
    "### H2O flux"
   ]
  },
  {
   "cell_type": "code",
   "execution_count": null,
   "id": "260684a8-1cd9-4295-b073-71d7b383e100",
   "metadata": {},
   "outputs": [],
   "source": [
    "#re-draw better correlation plot (longer dataset)\n",
    "start='2001-05-01 00:00'\n",
    "end='2020-09-30 00:00'\n",
    " \n",
    "#new filter\n",
    "sim_data = df_ET_10.loc[start:end,['ET_VPD']]\n",
    "sim_data= sim_data.resample('3H').mean()#.between_time(\"6:00\", \"9:00\")\n",
    "sim_data = sim_data.loc[(sim_data.index.month>=4) & (sim_data.index.month<=9)]\n",
    "sim_data=sim_data.dropna()\n",
    "\n",
    "measured_data=df_Comb['LE'].loc[df_Comb['LE']>0].loc[start:end].resample('3H').mean()#.between_time(\"6:00\", \"9:00\")\n",
    "measured_data=measured_data.dropna()\n",
    "   \n",
    "df_tmp=sim_data.copy()\n",
    "df_tmp=df_tmp.merge(measured_data, how='inner',left_index=True, right_index=True)\n",
    "df_tmp=df_tmp.merge(rain_is_zero_corr['is_zero'], how='inner',left_index=True, right_index=True)\n",
    "df_tmp=df_tmp.loc[df_tmp['is_zero']==True]\n",
    "\n",
    "slope, intercept, r_value, p_value, std_err = stats.linregress(df_tmp['LE'], df_tmp['ET_VPD'])  #linregres x, y . note r_value is Pearson's coefficient. R^2 is r_value**2\n",
    "#print('R2: ',r_value**2)\n",
    "#print('slope, intercept:', slope, intercept)\n",
    "\n",
    "fig,ax = plt.subplots()\n",
    "p1=ax.scatter(df_tmp['LE'],df_tmp['ET_VPD'],c=df_tmp.index.hour,s=0.7,cmap='viridis') #scatter(x,y)\n",
    "ax.axline((0.0,intercept),slope=slope,c='r',label='slope')\n",
    "ax.axline ((0.0,0.0), slope=1, c='r',linestyle='dashed',label='1:1')\n",
    "#ax.set_ylim(-10,175)\n",
    "#ax.set_xlim(-10,175)\n",
    "ax.set_xlabel(r'Observed LE [Wm$^{-2}$]')\n",
    "ax.set_ylabel(r'Simulated LE [Wm$^{-2}$]')\n",
    "#fig.suptitle('Correlation of simulated to measured LE (3hour mean) \\n for 2008-2018 during growth season (May-Oct), no rain last 3 days \\n intercept = {:.3f}, slope = {:.3f}, R2 = {:.3f}'.format(intercept,slope,r_value**2))\n",
    "fig.suptitle('Correlation of simulated to measured LE flux (3-hour mean) \\n for 2001-2020 growth seasons (Apr-Sep), non-rainy days only')\n",
    "print('intercept = {:.3f}, slope = {:.3f}, R2 = {:.3f}'.format(intercept,slope,r_value**2))\n",
    "#ax.set_title('(Only days on which daily  sum of Precip. is 0)')\n",
    "ax.legend(loc='upper left')\n",
    "cbar=plt.colorbar(p1,ax=ax)\n",
    "cbar.ax.set_ylabel('Hour')"
   ]
  },
  {
   "cell_type": "code",
   "execution_count": null,
   "id": "89814e1a-6087-4348-b5ac-7604a85ef654",
   "metadata": {},
   "outputs": [],
   "source": [
    "#re-draw better correlation plot (longer dataset)\n",
    "start='2001-05-01 00:00'\n",
    "end='2020-09-30 00:00'\n",
    " \n",
    "#new filter\n",
    "sim_data = df_ET_10.loc[start:end,['ET_VPD']]\n",
    "sim_data= sim_data.resample('3H').mean().between_time(\"6:00\", \"12:00\")\n",
    "sim_data = sim_data.loc[(sim_data.index.month>=4) & (sim_data.index.month<=9)]\n",
    "sim_data=sim_data.dropna()\n",
    "\n",
    "measured_data=df_Comb['LE'].loc[df_Comb['LE']>0].loc[start:end].resample('3H').mean().between_time(\"6:00\", \"12:00\")\n",
    "measured_data=measured_data.dropna()\n",
    "   \n",
    "df_tmp=sim_data.copy()\n",
    "df_tmp=df_tmp.merge(measured_data, how='inner',left_index=True, right_index=True)\n",
    "df_tmp=df_tmp.merge(rain_is_zero_corr['is_zero'], how='inner',left_index=True, right_index=True)\n",
    "df_tmp=df_tmp.loc[df_tmp['is_zero']==True]\n",
    "\n",
    "slope, intercept, r_value, p_value, std_err = stats.linregress(df_tmp['LE'], df_tmp['ET_VPD'])  #linregres x, y . note r_value is Pearson's coefficient. R^2 is r_value**2\n",
    "#print('R2: ',r_value**2)\n",
    "#print('slope, intercept:', slope, intercept)\n",
    "\n",
    "fig,ax = plt.subplots()\n",
    "p1=ax.scatter(df_tmp['LE'],df_tmp['ET_VPD'],c=df_tmp.index.hour,s=0.7,cmap='viridis') #scatter(x,y)\n",
    "ax.axline((0.0,intercept),slope=slope,c='r',label='slope')\n",
    "ax.axline ((0.0,0.0), slope=1, c='r',linestyle='dashed',label='1:1')\n",
    "#ax.set_ylim(-10,175)\n",
    "#ax.set_xlim(-10,175)\n",
    "ax.set_xlabel(r'measured LE [Wm$^{-2}$]')\n",
    "ax.set_ylabel(r'A-gs simulated LE [Wm$^{-2}$]')\n",
    "#fig.suptitle('Correlation of simulated to measured LE (3hour mean) \\n for 2008-2018 during growth season (May-Oct), no rain last 3 days \\n intercept = {:.3f}, slope = {:.3f}, R2 = {:.3f}'.format(intercept,slope,r_value**2))\n",
    "fig.suptitle('Correlation of simulated to measured LE flux (3-hour mean between 06:00-12:00) \\n for 2001-2020 growth seasons (Apr-Sep), non-rainy days only')\n",
    "print('intercept = {:.3f}, slope = {:.3f}, R2 = {:.3f}'.format(intercept,slope,r_value**2))\n",
    "#ax.set_title('(Only days on which daily  sum of Precip. is 0)')\n",
    "ax.legend(loc='upper left')\n",
    "cbar=plt.colorbar(p1,ax=ax)\n",
    "cbar.ax.set_ylabel('Hour')"
   ]
  },
  {
   "cell_type": "code",
   "execution_count": null,
   "id": "f8852ef8-a658-4aa3-86a0-8e196f7006cf",
   "metadata": {},
   "outputs": [],
   "source": [
    "#re-draw better correlation plot (plot leaf temperature)\n",
    "start='2017-04-14 00:00'\n",
    "end='2017-08-30 00:00'\n",
    "\n",
    "#new filter\n",
    "sim_data = df_ET_1.loc[start:end,('ET_VPD','last3day_prec','T_sfc_C')]\n",
    "sim_data = sim_data.loc[sim_data['last3day_prec']==0.0]\n",
    "sim_data= sim_data.resample('3H').mean()\n",
    "sim_data=sim_data.dropna() #eliminate NaN entries created by the .loc slice\n",
    "measured_data=df_Comb['LE'].loc[df_Comb['LE']>0].loc[start:end].resample('3H').mean()\n",
    "measured_data=measured_data.dropna()\n",
    "\n",
    "#df_tmp = pd.DataFrame()\n",
    "df_tmp=sim_data.copy()\n",
    "df_tmp=df_tmp.merge(measured_data, how='inner',left_index=True, right_index=True)\n",
    "\n",
    "slope, intercept, r_value, p_value, std_err = stats.linregress(df_tmp['LE'], df_tmp['ET_VPD'])  #linregres x, y . note r_value is Pearson's coefficient. R^2 is r_value**2\n",
    "print('R2: ',r_value**2)\n",
    "print('slope, intercept:', slope, intercept)\n",
    "\n",
    "fig,ax = plt.subplots()\n",
    "p1=ax.scatter(df_tmp['LE'],df_tmp['ET_VPD'],c=df_tmp['T_sfc_C'],cmap='viridis') #scatter(x,y)\n",
    "ax.axline((0.0,intercept),slope=slope,c='r',label='slope')\n",
    "ax.axline ((0.0,0.0), slope=1, c='r',linestyle='dashed',label='1:1')\n",
    "ax.set_ylim(-10,175)\n",
    "ax.set_xlim(-10,175)\n",
    "ax.set_xlabel(r'measured data LE (EC) [Wm$^{-2}$]')\n",
    "ax.set_ylabel(r'simulated data LE (A-gs) [Wm$^{-2}$]')\n",
    "fig.suptitle('Correlation of simulated to measured LE. April-Oct 2017, (3hour mean, 00:00-23:59) \\n intercept = {:.3f}, slope = {:.3f}, R2 = {:.3f}'.format(intercept,slope,r_value**2))\n",
    "ax.set_title('(Only days on which daily  sum of Precip. is 0)')\n",
    "ax.legend(loc='upper left')\n",
    "cbar=plt.colorbar(p1,ax=ax)\n",
    "cbar.ax.set_ylabel('Temp [oC]')"
   ]
  },
  {
   "cell_type": "markdown",
   "id": "bbce76d4-c59f-4b66-a64b-539dffd9b8b3",
   "metadata": {},
   "source": [
    "## Hourly averages section (hour as bins)"
   ]
  },
  {
   "cell_type": "code",
   "execution_count": null,
   "id": "dd8d760c-e3d3-4ac7-83f7-afd028858afe",
   "metadata": {},
   "outputs": [],
   "source": [
    "#draw binned GPP\n",
    "start='2001-04-01 00:00'\n",
    "end='2020-09-30 00:00'\n",
    "\n",
    "an_umol=an_umol_10\n",
    "\n",
    "sim_data=an_umol.loc[an_umol>0].loc[start:end].resample('1H').mean()#.between_time(\"11:00\", \"18:00\")\n",
    "sim_data = sim_data.loc[(sim_data.index.month>=4) & (sim_data.index.month<=9)]\n",
    "sim_data=sim_data.dropna() #eliminate NaN entries created by the .loc slice\n",
    "measured_data=df_Comb['GPP_f'].loc[start:end].resample('1H').mean()#.between_time(\"11:00\", \"18:00\")\n",
    "measured_data=measured_data.dropna()\n",
    "\n",
    "#new filter\n",
    "#sim_data = df_ET_1.loc[start:end,('ET_VPD2','last24h_prec')]\n",
    "#sim_data = sim_data.loc[sim_data['last24h_prec']<=0.5]\n",
    "\n",
    "#df_tmp = pd.DataFrame()\n",
    "df_tmp=pd.DataFrame(sim_data)\n",
    "df_tmp=df_tmp.merge(measured_data, how='inner',left_index=True, right_index=True)\n",
    "\n",
    "#slope, intercept, r_value, p_value, std_err = stats.linregress(df_tmp['GPP_f'], df_tmp['sim_data'])  #linregres x, y . note r_value is Pearson's coefficient. R^2 is r_value**2\n",
    "#print('R2: ',r_value**2)\n",
    "#print('slope, intercept:', slope, intercept)\n",
    "\n",
    "hours_list=[num for num in range(0,24)]\n",
    " \n",
    "d={}\n",
    "d['meas_avg'] = [df_tmp.loc[df_tmp.index.hour==i,'GPP_f'].mean() for i in hours_list]\n",
    "d['meas_q1'] = [df_tmp.loc[df_tmp.index.hour==i,'GPP_f'].quantile(q=0.25) for i in hours_list]\n",
    "d['meas_q3'] = [df_tmp.loc[df_tmp.index.hour==i,'GPP_f'].quantile(q=0.75) for i in hours_list]\n",
    "d['sim_avg'] = [df_tmp.loc[df_tmp.index.hour==i,0].mean() for i in hours_list]\n",
    "d['sim_q1'] = [df_tmp.loc[df_tmp.index.hour==i,0].quantile(q=0.25) for i in hours_list]\n",
    "d['sim_q3'] = [df_tmp.loc[df_tmp.index.hour==i,0].quantile(q=0.75) for i in hours_list]\n",
    "\n",
    "df_avg=pd.DataFrame(d)\n",
    "\n",
    "fig,ax = plt.subplots()\n",
    "p1=ax.plot(df_avg['meas_avg'],marker='o',label='mean measured GPP')\n",
    "ax.fill_between(hours_list,df_avg['meas_q1'],df_avg['meas_q3'],alpha=0.1,label='IQR')\n",
    "p2=ax.plot(df_avg['sim_avg'],marker='s',label='mean A-gs simulated GPP')\n",
    "ax.fill_between(hours_list,df_avg['sim_q1'],df_avg['sim_q3'],alpha=0.1,label='IQR')\n",
    "\n",
    "#ax.set_ylim(-5,40)\n",
    "#ax.set_xlim(-5,40)\n",
    "plt.xticks(hours_list) \n",
    "ax.set_xlabel('hour')\n",
    "ax.set_ylabel(r'GPP [$\\mu molm^{-2}s^{-1}$]')\n",
    "\n",
    "fig.suptitle('Simulated and measured GPP flux 1-hour means, \\n for 2001-2020 growth seasons (Apr-Sep)')\n",
    "ax.legend(loc='upper left')\n",
    "ax.grid(axis='y')\n"
   ]
  },
  {
   "cell_type": "code",
   "execution_count": null,
   "id": "0282e9c4-93fb-4458-a043-4b1fe6c81dca",
   "metadata": {},
   "outputs": [],
   "source": []
  },
  {
   "cell_type": "code",
   "execution_count": null,
   "id": "88404eb3-6842-4b09-b48a-3a895ad8662c",
   "metadata": {},
   "outputs": [],
   "source": [
    "# new alternate plot\n",
    "df_ET_1h=df_ET_10.resample('1H').mean()\n",
    "df_ET_1h=df_ET_1h.loc['2001-01-01':'2020-12-30'] #knmi dataset is 1 day longer\n",
    "df_ET_1h=df_ET_1h.loc[rain_is_zero_1h['is_zero']==True]\n",
    "#df_ET_1h"
   ]
  },
  {
   "cell_type": "code",
   "execution_count": null,
   "id": "a081c288-57ef-476d-aa03-eaa1628e1daf",
   "metadata": {},
   "outputs": [],
   "source": [
    "#draw binned LE\n",
    "start='2001-04-01 00:00'\n",
    "end='2020-09-30 00:00'\n",
    "\n",
    "sim_data = df_ET_1h.loc[start:end,['ET_VPD']]\n",
    "sim_data = sim_data.loc[(sim_data.index.month>=4) & (sim_data.index.month<=9)]\n",
    "sim_data=sim_data.dropna() #eliminate NaN entries created by the .loc slice\n",
    "measured_data=df_Comb_filter.loc[start:end,'LE']#.resample('1H').mean()#.between_time(\"11:00\", \"18:00\")\n",
    "measured_data=measured_data.loc[measured_data>0]\n",
    "measured_data=measured_data.resample('1H').mean()\n",
    "measured_data=measured_data.dropna()\n",
    "\n",
    "#df_tmp = pd.DataFrame()\n",
    "df_tmp=pd.DataFrame(sim_data)\n",
    "df_tmp=df_tmp.merge(measured_data, how='inner',left_index=True, right_index=True)\n",
    "\n",
    "hours_list=[num for num in range(0,24)]\n",
    "\n",
    "d={}\n",
    "d['meas_avg'] = [df_tmp.loc[df_tmp.index.hour==i,'LE'].mean() for i in hours_list]\n",
    "d['meas_q1'] = [df_tmp.loc[df_tmp.index.hour==i,'LE'].quantile(q=0.25) for i in hours_list]\n",
    "d['meas_q3'] = [df_tmp.loc[df_tmp.index.hour==i,'LE'].quantile(q=0.75) for i in hours_list]\n",
    "d['sim_avg'] = [df_tmp.loc[df_tmp.index.hour==i,'ET_VPD'].mean() for i in hours_list]\n",
    "d['sim_q1'] = [df_tmp.loc[df_tmp.index.hour==i,'ET_VPD'].quantile(q=0.25) for i in hours_list]\n",
    "d['sim_q3'] = [df_tmp.loc[df_tmp.index.hour==i,'ET_VPD'].quantile(q=0.75) for i in hours_list]\n",
    "\n",
    "df_avg=pd.DataFrame(d)\n",
    "\n",
    "fig,ax = plt.subplots()\n",
    "p1=ax.plot(df_avg['meas_avg'],marker='o',label='mean measured LE')\n",
    "ax.fill_between(hours_list,df_avg['meas_q1'],df_avg['meas_q3'],alpha=0.1,label='IQR')\n",
    "p2=ax.plot(df_avg['sim_avg'],marker='s',label='mean A-gs simulated LE')\n",
    "ax.fill_between(hours_list,df_avg['sim_q1'],df_avg['sim_q3'],alpha=0.1,label='IQR')\n",
    "\n",
    "ax.set_ylim(-20,420)\n",
    "#ax.set_xlim(-5,40)\n",
    "plt.xticks(hours_list) \n",
    "ax.set_xlabel('hour')\n",
    "ax.set_ylabel(r'LE [$Wm^{-2}$]')\n",
    "fig.suptitle('Simulated and measured Latent Heat flux 1-hour means, \\n for 2001-2020 growth seasons (Apr-Sep), non-rainy days only')\n",
    "ax.legend(loc='upper left')\n",
    "ax.grid(axis='y')\n"
   ]
  },
  {
   "cell_type": "markdown",
   "id": "887a92e0-a46d-45e2-a6ae-72d17f3145c8",
   "metadata": {},
   "source": [
    "### PAR plot by hour"
   ]
  },
  {
   "cell_type": "code",
   "execution_count": null,
   "id": "9acdaa20-5568-4854-8e9c-9a0125805b42",
   "metadata": {},
   "outputs": [],
   "source": [
    "df_meteo['PAR']"
   ]
  },
  {
   "cell_type": "code",
   "execution_count": null,
   "id": "93c93d54-b581-4701-b876-ce17ec771d01",
   "metadata": {},
   "outputs": [],
   "source": [
    "#draw binned LE\n",
    "start='2001-04-01 00:00'\n",
    "end='2020-09-30 00:00'\n",
    "\n",
    "par_data = df_meteo.loc[start:end,['PAR']]\n",
    "par_data = par_data.resample('1H').mean()\n",
    "par_data = par_data.loc[(par_data.index.month>=4) & (par_data.index.month<=9)]\n",
    "par_data=par_data.dropna() #eliminate NaN entries created by the .loc slice\n",
    "\n",
    "\n",
    "hours_list=[num for num in range(0,24)]\n",
    "\n",
    "d={}\n",
    "d['meas_avg'] = [par_data.loc[par_data.index.hour==i,'PAR'].mean() for i in hours_list]\n",
    "d['meas_q1'] = [par_data.loc[par_data.index.hour==i,'PAR'].quantile(q=0.25) for i in hours_list]\n",
    "d['meas_q3'] = [par_data.loc[par_data.index.hour==i,'PAR'].quantile(q=0.75) for i in hours_list]\n",
    "\n",
    "df_avg=pd.DataFrame(d)\n",
    "\n",
    "fig,ax = plt.subplots()\n",
    "p1=ax.plot(df_avg['meas_avg'],marker='o',label='mean measured LE')\n",
    "ax.fill_between(hours_list,df_avg['meas_q1'],df_avg['meas_q3'],alpha=0.1,label='IQR')\n",
    "\n",
    "#ax.set_ylim(-20,420)\n",
    "#ax.set_xlim(-5,40)\n",
    "plt.xticks(hours_list) \n",
    "ax.set_xlabel('hour')\n",
    "ax.set_ylabel(r'PAR')\n",
    "fig.suptitle('PAR available (1-hour means), \\n for 2001-2020 growth seasons (Apr-Sep)')\n",
    "ax.legend(loc='upper left')\n",
    "ax.grid(axis='y')\n"
   ]
  },
  {
   "cell_type": "code",
   "execution_count": null,
   "id": "1fd605f5-be25-4dd8-a6d0-dd85c60c53df",
   "metadata": {},
   "outputs": [],
   "source": []
  }
 ],
 "metadata": {
  "kernelspec": {
   "display_name": "Python 3 (ipykernel)",
   "language": "python",
   "name": "python3"
  },
  "language_info": {
   "codemirror_mode": {
    "name": "ipython",
    "version": 3
   },
   "file_extension": ".py",
   "mimetype": "text/x-python",
   "name": "python",
   "nbconvert_exporter": "python",
   "pygments_lexer": "ipython3",
   "version": "3.11.5"
  },
  "varInspector": {
   "cols": {
    "lenName": 16,
    "lenType": 16,
    "lenVar": 40
   },
   "kernels_config": {
    "python": {
     "delete_cmd_postfix": "",
     "delete_cmd_prefix": "del ",
     "library": "var_list.py",
     "varRefreshCmd": "print(var_dic_list())"
    },
    "r": {
     "delete_cmd_postfix": ") ",
     "delete_cmd_prefix": "rm(",
     "library": "var_list.r",
     "varRefreshCmd": "cat(var_dic_list()) "
    }
   },
   "oldHeight": 471.85,
   "position": {
    "height": "493.844px",
    "left": "1539.19px",
    "right": "20px",
    "top": "105px",
    "width": "344px"
   },
   "types_to_exclude": [
    "module",
    "function",
    "builtin_function_or_method",
    "instance",
    "_Feature"
   ],
   "varInspector_section_display": "block",
   "window_display": true
  }
 },
 "nbformat": 4,
 "nbformat_minor": 5
}
