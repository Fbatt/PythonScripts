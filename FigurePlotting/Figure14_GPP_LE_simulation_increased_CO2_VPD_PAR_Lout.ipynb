{
 "cells": [
  {
   "cell_type": "markdown",
   "id": "a2978442-0a0a-42b2-ac0f-8e6b685580d8",
   "metadata": {},
   "source": [
    "# A-gs model and implementation (simulation CO2 and H2O flux)"
   ]
  },
  {
   "cell_type": "markdown",
   "id": "c5053646-e207-4e8c-a62e-2a7f70ad0887",
   "metadata": {},
   "source": [
    "## Initialize data and model"
   ]
  },
  {
   "cell_type": "markdown",
   "id": "467470b3-2427-4ada-b14f-9ff26922d8ec",
   "metadata": {},
   "source": [
    "### Setup and fetch data"
   ]
  },
  {
   "cell_type": "code",
   "execution_count": null,
   "id": "515abf18",
   "metadata": {},
   "outputs": [],
   "source": [
    "# Settings\n",
    "Username   = 'Beheerder'\n",
    "years      = range(2001,2021)    #(1997,2021) # Set years to download"
   ]
  },
  {
   "cell_type": "code",
   "execution_count": null,
   "id": "fdb7f756",
   "metadata": {},
   "outputs": [],
   "source": [
    "import os\n",
    "datapath   = os.path.join('../')\n",
    "print('datapath is set to %s'%datapath)\n",
    "\n",
    "# !pip install numpy\n",
    "# !pip install pandas\n",
    "# !pip install matplotlib\n",
    "# !pip install plotly \n",
    "# !pip install cufflinks\n",
    "#!pip install colorspacious\n",
    "#!pip install seaborn\n",
    "\n",
    "import numpy as np\n",
    "import pandas as pd\n",
    "import matplotlib.pyplot as plt\n",
    "#import plotly.express as px\n",
    "#import cufflinks as cf\n",
    "import matplotlib.dates as mdate\n",
    "import matplotlib.ticker as ticker\n",
    "from matplotlib import cm\n",
    "#from colorspacious import cspace_converter\n",
    "import scipy.stats as stats\n",
    "#cf.go_offline()\n",
    "# cf.set_config_file(offline=False, world_readable=True)\n",
    "\n",
    "from datetime import datetime, timedelta\n",
    "import sys\n",
    "sys.path.insert(0, os.path.join(datapath,'PythonScripts'))\n",
    "from Loobos_Toolbox import dateparse, dateparse_Gapfilled, Read_LoobosEddFinal, Read_LooStor, Read_LoodatGapfill, Read_Loobos_halfhourly, Read_Loobos_meteo, Read_Loobos_soil, Read_Loobos_profile\n",
    "\n",
    "from Ags_model import runAgs, calc_LE"
   ]
  },
  {
   "cell_type": "code",
   "execution_count": null,
   "id": "244e6ea2",
   "metadata": {},
   "outputs": [],
   "source": [
    "#these next two lines are to prevent re-loading the data. If you want to re-load data, instead comment them out\n",
    "if not 'progress' in globals(): progress = list()\n",
    "if not 'dataloaded' in progress:\n",
    "  # Read files\n",
    "    df_EC           = Read_LoobosEddFinal    (years,datapath)\n",
    "    df_Stor         = Read_LooStor           (years,datapath)\n",
    "    df_Comb         = Read_LoodatGapfill     (years,datapath)\n",
    "    df_NEE          = Read_Loobos_halfhourly (years,datapath)\n",
    "    df_meteo        = Read_Loobos_meteo      (years,datapath)\n",
    "    df_soil         = Read_Loobos_soil       (years,datapath) \n",
    "    df_profile      = Read_Loobos_profile    (years,datapath)\n",
    "    progress.append('dataloaded')"
   ]
  },
  {
   "cell_type": "code",
   "execution_count": null,
   "id": "3e66087c",
   "metadata": {},
   "outputs": [],
   "source": [
    "# Make filter for GPP orginial data and not gapfilled\n",
    "#General filters\n",
    "I = ((df_Comb['GPP_fqc']==0)&(df_meteo['PAR']>0))\n",
    "#t = df_profile.index                                          \n",
    "#time = (t < np.datetime64('2013-05-08')) | (t > np.datetime64('2013-06-01'))\n",
    "\n",
    "# Filter for CO2 data\n",
    "CO2 = (df_profile['CO2level1'] > 300)\n",
    "\n",
    "# Filter for L(o)corr data\n",
    "Locorr= (df_meteo['L(o)corr']>0) \n",
    "\n",
    "# Filter for VPD data\n",
    "VPD = (df_Comb['VPD']>=0)\n",
    "\n",
    "# Filter for U-star\n",
    "Ustar = (df_EC['U-star']>=0)\n",
    "\n",
    "# Combine all filters\n",
    "filter = I & CO2 & Locorr & VPD & Ustar\n",
    "\n",
    "#Column 'CO2' is input from df_profile\n",
    "#df_profile_CO2 = df_profile[CO2]\n",
    "#df_profile_filter = df_profile_CO2[I]\n",
    "df_profile_filter = df_profile[filter]\n",
    "\n",
    "#Column 'L(o)corr' and 'PAR' are inputs from df_meteo\n",
    "#df_meteo_CO2 = df_meteo[CO2]\n",
    "#df_meteo_filter = df_meteo_CO2[I]\n",
    "df_meteo_filter = df_meteo[filter]\n",
    "\n",
    "#Columns 'VPD' and 'Tair' are inputs from df_Comb\n",
    "#df_Comb_CO2 = df_Comb[CO2]\n",
    "#df_Comb_filter = df_Comb_CO2[I]\n",
    "df_Comb_filter = df_Comb[filter]\n",
    "\n",
    "# Columns 'Mea_Windsp' and 'U-star' are inputs from df_EC\n",
    "#df_EC_CO2 = df_EC[CO2]\n",
    "#df_EC_filter = df_EC_CO2[I]\n",
    "df_EC_filter = df_EC[filter]"
   ]
  },
  {
   "cell_type": "code",
   "execution_count": null,
   "id": "b47e4680-6709-400d-bf93-058705ef6e94",
   "metadata": {},
   "outputs": [],
   "source": [
    "#additional filters for L(o)\n",
    "df_meteo_filter['L(o)'] = df_meteo_filter['L(o)'].loc[df_meteo_filter['L(o)']>-50]\n",
    "df_meteo_filter['L(o)'] = df_meteo_filter['L(o)'].loc[df_meteo_filter['L(o)']<20]"
   ]
  },
  {
   "cell_type": "code",
   "execution_count": null,
   "id": "89f1f204-0d9e-4c88-a517-137fa653113d",
   "metadata": {},
   "outputs": [],
   "source": [
    "#additional filters for L(o)\n",
    "df_meteo['L(o)'] = df_meteo['L(o)'].loc[df_meteo['L(o)']>-50]\n",
    "df_meteo['L(o)'] = df_meteo['L(o)'].loc[df_meteo['L(o)']<20]"
   ]
  },
  {
   "cell_type": "code",
   "execution_count": null,
   "id": "76f995c8-77c3-48c9-8d31-4a0f780d8108",
   "metadata": {},
   "outputs": [],
   "source": [
    "#additional filters for Te-L(o)\n",
    "df_meteo['Te-L(o)'] = df_meteo['Te-L(o)'].loc[df_meteo['Te-L(o)']<40]"
   ]
  },
  {
   "cell_type": "markdown",
   "id": "c1996767-09d3-441d-b711-cea73a750854",
   "metadata": {},
   "source": [
    "### Run A-gs model"
   ]
  },
  {
   "cell_type": "code",
   "execution_count": null,
   "id": "9da953bb-a9d1-4881-9cb3-9cb62be224bf",
   "metadata": {},
   "outputs": [],
   "source": [
    "# Run A-gs reference, unaltered\n",
    "an_final_10,an_umol_10,rs_10, ra = runAgs(df_profile_filter,df_Comb_filter,df_meteo_filter,df_EC_filter,fstr=1.0)"
   ]
  },
  {
   "cell_type": "code",
   "execution_count": null,
   "id": "801ede28",
   "metadata": {},
   "outputs": [],
   "source": [
    "# Run A-gs model for the CO2 simulation\n",
    "\n",
    "df_profile_filter2 = df_profile_filter.copy()\n",
    "df_profile_filter2['CO2level1']=df_profile_filter2['CO2level1']*1.1236\n",
    "\n",
    "an_final_CO2,an_umol_CO2,rs_CO2, ra_CO2 = runAgs(df_profile_filter2,df_Comb_filter,df_meteo_filter,df_EC_filter,fstr=1.0)"
   ]
  },
  {
   "cell_type": "code",
   "execution_count": null,
   "id": "15daf319-2c4e-4d84-b2b4-671845caaf4d",
   "metadata": {},
   "outputs": [],
   "source": [
    "# Run A-gs model for the VPD simulation\n",
    "\n",
    "df_Comb_filter2 = df_Comb_filter.copy()\n",
    "df_Comb_filter2['VPD'] = df_Comb_filter2['VPD']*1.7109 \n",
    "\n",
    "an_final_VPD,an_umol_VPD,rs_VPD, ra_VPD = runAgs(df_profile_filter,df_Comb_filter2,df_meteo_filter,df_EC_filter,fstr=1.0)"
   ]
  },
  {
   "cell_type": "code",
   "execution_count": null,
   "id": "a5cc5f22-6c70-45ef-bd8b-151c28b47ef8",
   "metadata": {},
   "outputs": [],
   "source": [
    "# Run A-gs model for the PAR simulation\n",
    "\n",
    "df_meteo_filter2 = df_meteo_filter.copy()\n",
    "df_meteo_filter2['PAR'] = df_meteo_filter2['PAR']*0.9985\n",
    "\n",
    "an_final_PAR,an_umol_PAR,rs_PAR, ra_PAR = runAgs(df_profile_filter,df_Comb_filter,df_meteo_filter2,df_EC_filter,fstr=1.0)"
   ]
  },
  {
   "cell_type": "code",
   "execution_count": null,
   "id": "0b607e00-666e-4d0f-a9d3-4428c728df3b",
   "metadata": {},
   "outputs": [],
   "source": [
    "# Run A-gs model for the Lout simulation\n",
    "\n",
    "df_meteo_filter2 = df_meteo_filter.copy()\n",
    "df_meteo_filter2['L(o)corr'] = df_meteo_filter2['L(o)corr']*1.0182\n",
    "\n",
    "an_final_LO,an_umol_LO,rs_LO, ra_LO = runAgs(df_profile_filter,df_Comb_filter,df_meteo_filter2,df_EC_filter,fstr=1.0)"
   ]
  },
  {
   "cell_type": "markdown",
   "id": "cb0753ef-8f5b-4b55-83db-ad31419a0e53",
   "metadata": {},
   "source": [
    "## Calcuate ET"
   ]
  },
  {
   "cell_type": "markdown",
   "id": "ac78d717-ea63-477c-9c43-8a29262f3143",
   "metadata": {},
   "source": [
    "### Assemble dataframe 'df_ET' that will hold output and fill with inputs"
   ]
  },
  {
   "cell_type": "code",
   "execution_count": null,
   "id": "1065217e-ea3f-4cfc-97af-76ad200b8c08",
   "metadata": {},
   "outputs": [],
   "source": [
    "def init_ETframe(rs_series):\n",
    "    df_ET = pd.concat([df_meteo['L(o)'],df_meteo['Te-L(o)'],df_profile['Pressure'],df_Comb['VPD'],df_Comb['rH'],df_meteo['P(mast)']],axis=1,sort=False)\n",
    "    #convert Pressure from hPa to kPa \n",
    "    df_ET['p_kPa']=df_ET['Pressure']/10\n",
    "    df_ET['VPD_adj']=df_ET['VPD'].loc[df_ET['VPD']>0] #some outlier values for VPD are negative, remove from dataset\n",
    "    df_ET['VPD_adj']=df_ET['VPD_adj']/10  # VPD from df_Comb is in hPa, I need kPa, so hPa/10 = kPa\n",
    "    df_ET['rs']=rs_series.to_frame(name=\"rs\")\n",
    "    df_ET['ra']=ra.to_frame(name=\"ra\")\n",
    "    return df_ET"
   ]
  },
  {
   "cell_type": "code",
   "execution_count": null,
   "id": "7cf1ead7-7694-4619-8496-bd27e4ece452",
   "metadata": {},
   "outputs": [],
   "source": [
    "df_ET_10=init_ETframe(rs_10)"
   ]
  },
  {
   "cell_type": "code",
   "execution_count": null,
   "id": "77211664-888c-4840-ba39-a1dde1890967",
   "metadata": {},
   "outputs": [],
   "source": [
    "df_ET_10=calc_LE(df_ET_10)"
   ]
  },
  {
   "cell_type": "markdown",
   "id": "9b23c893-b0f8-4a18-84ad-4d7c9853cdf9",
   "metadata": {},
   "source": [
    "### sens analsis"
   ]
  },
  {
   "cell_type": "code",
   "execution_count": null,
   "id": "9a60da7c-6cc7-4a4f-ab73-8097f7231541",
   "metadata": {},
   "outputs": [],
   "source": [
    "#start='2001-05-01 00:00'\n",
    "#end='2020-08-30 00:00'\n",
    "\n",
    "def plot_sens_experiment_GPP(ref_input , modified_input, var_name):\n",
    "\n",
    "    df_data = pd.DataFrame()\n",
    "    df_data['ref_data'] = ref_input\n",
    "    df_data = df_data.merge(modified_input, how='inner', left_index=True, right_index=True)\n",
    "    df_data = df_data.loc[(df_data.index.month>=4) & (df_data.index.month<=9)]\n",
    "    df_data = df_data.dropna()\n",
    "\n",
    "    slope, intercept, r_value, p_value, std_err = stats.linregress(df_data['ref_data'], df_data['modified_data'])  #linregres x, y . note r_value is Pearson's coefficient. R^2 is r_value**2\n",
    "    print('slope, intercept, R2:', slope, intercept, r_value**2)\n",
    "\n",
    "    fig,ax = plt.subplots()\n",
    "    p1=ax.scatter(df_data['ref_data'],df_data['modified_data'],marker='o',s=20,c=df_data.index.hour,cmap='viridis') #scatter(x,y)\n",
    "    ax.axline((0.0,intercept),slope=slope,c='black',label='slope')\n",
    "    ax.axline ((0.0,0.0), slope=1, c='r',linestyle='dashed',label='1:1')\n",
    "    ax.set_ylim(0,40)\n",
    "    ax.set_xlim(0,40)\n",
    "    ax.set_xlabel(r'An (reference run) [$\\mu molm^{-2}s^{-1}$]')\n",
    "\n",
    "    label_strings={'VPD':r'An (VPD 171.09% run) [$\\mu molm^{-2}s^{-1}$]',\n",
    "    'CO2':r'An (CO$_2$ 112.36% run) [$\\mu molm^{-2}s^{-1}$]',\n",
    "    'LO':r'An (L$_{out}$ 101.82% run) [$\\mu molm^{-2}s^{-1}$]',\n",
    "    'PAR':r'An (PAR 99.85% run) [$\\mu molm^{-2}s^{-1}$]'}\n",
    "\n",
    "    title_strings={'VPD':'VPD',\n",
    "                   'CO2':'CO_{2}',\n",
    "                   'LO':'L_{out}',\n",
    "                   'PAR':'PAR'}\n",
    "            \n",
    "    \n",
    "    ax.set_ylabel(label_strings[var_name])\n",
    "    fig.suptitle(r'Correlation of increased ${}$ to reference run for An,'.format(title_strings[var_name])+'\\n (2001-2019 during growth seasons May-Sep.)')\n",
    "    ax.set_title(r'intercept = {:.3f}, slope = {:.3f}, $R^2$ = {:.4f}'.format(intercept,slope,r_value**2))\n",
    "    ax.legend(loc='upper left')\n",
    "    fig.subplots_adjust(top=0.86) #fix the top margin text overlap  \n",
    "    cbar=plt.colorbar(p1,ax=ax)\n",
    "    cbar.ax.set_ylabel('Hour')"
   ]
  },
  {
   "cell_type": "markdown",
   "id": "992fc00e-f667-4b95-80df-ecbf6d8bef30",
   "metadata": {},
   "source": [
    "### CO2"
   ]
  },
  {
   "cell_type": "code",
   "execution_count": null,
   "id": "b0a7d9ea-0ce1-4599-9e34-644b0471b24d",
   "metadata": {},
   "outputs": [],
   "source": [
    "an_umol_10.rename('ref_data',inplace=True)\n",
    "an_umol_CO2.rename('modified_data',inplace=True)\n",
    "plot_sens_experiment_GPP(an_umol_10 , an_umol_CO2, 'CO2')"
   ]
  },
  {
   "cell_type": "markdown",
   "id": "267a90f5-4eaa-4724-a3b4-4a128b9a0485",
   "metadata": {},
   "source": [
    "### PAR"
   ]
  },
  {
   "cell_type": "code",
   "execution_count": null,
   "id": "e3295623-b895-47ae-b2a3-17f39aa3c617",
   "metadata": {},
   "outputs": [],
   "source": [
    "an_umol_10.rename('ref_data',inplace=True)\n",
    "an_umol_PAR.rename('modified_data',inplace=True)\n",
    "plot_sens_experiment_GPP(an_umol_10 , an_umol_PAR, 'PAR')"
   ]
  },
  {
   "cell_type": "markdown",
   "id": "6d33dc91-2d5f-4ea0-9726-dab2fe4c7288",
   "metadata": {},
   "source": [
    "### VPD"
   ]
  },
  {
   "cell_type": "code",
   "execution_count": null,
   "id": "3fc7752e-49a8-4c00-b7b9-cb7d0ff16a12",
   "metadata": {},
   "outputs": [],
   "source": [
    "an_umol_10.rename('ref_data',inplace=True)\n",
    "an_umol_VPD.rename('modified_data',inplace=True)\n",
    "plot_sens_experiment_GPP(an_umol_10 , an_umol_VPD, 'VPD')"
   ]
  },
  {
   "cell_type": "markdown",
   "id": "f0559cc2-dd39-48c7-a370-59b7fe59ae6d",
   "metadata": {},
   "source": [
    "### L(out)"
   ]
  },
  {
   "cell_type": "code",
   "execution_count": null,
   "id": "40c93ab2-5dd8-48bf-a839-20ef3a2aa155",
   "metadata": {},
   "outputs": [],
   "source": [
    "an_umol_10.rename('ref_data',inplace=True)\n",
    "an_umol_LO.rename('modified_data',inplace=True)\n",
    "plot_sens_experiment_GPP(an_umol_10 , an_umol_LO, 'LO')"
   ]
  },
  {
   "cell_type": "code",
   "execution_count": null,
   "id": "d92cc2f9-bba2-4a4d-99c0-38cd5ce33ab4",
   "metadata": {},
   "outputs": [],
   "source": []
  }
 ],
 "metadata": {
  "kernelspec": {
   "display_name": "Python 3 (ipykernel)",
   "language": "python",
   "name": "python3"
  },
  "language_info": {
   "codemirror_mode": {
    "name": "ipython",
    "version": 3
   },
   "file_extension": ".py",
   "mimetype": "text/x-python",
   "name": "python",
   "nbconvert_exporter": "python",
   "pygments_lexer": "ipython3",
   "version": "3.11.5"
  },
  "varInspector": {
   "cols": {
    "lenName": 16,
    "lenType": 16,
    "lenVar": 40
   },
   "kernels_config": {
    "python": {
     "delete_cmd_postfix": "",
     "delete_cmd_prefix": "del ",
     "library": "var_list.py",
     "varRefreshCmd": "print(var_dic_list())"
    },
    "r": {
     "delete_cmd_postfix": ") ",
     "delete_cmd_prefix": "rm(",
     "library": "var_list.r",
     "varRefreshCmd": "cat(var_dic_list()) "
    }
   },
   "oldHeight": 471.85,
   "position": {
    "height": "493.844px",
    "left": "1539.19px",
    "right": "20px",
    "top": "105px",
    "width": "344px"
   },
   "types_to_exclude": [
    "module",
    "function",
    "builtin_function_or_method",
    "instance",
    "_Feature"
   ],
   "varInspector_section_display": "block",
   "window_display": true
  }
 },
 "nbformat": 4,
 "nbformat_minor": 5
}
