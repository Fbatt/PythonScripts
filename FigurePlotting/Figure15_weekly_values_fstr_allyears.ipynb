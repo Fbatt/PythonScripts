{
 "cells": [
  {
   "cell_type": "markdown",
   "id": "a2978442-0a0a-42b2-ac0f-8e6b685580d8",
   "metadata": {},
   "source": [
    "# A-gs model and implementation (simulation CO2 and H2O flux)"
   ]
  },
  {
   "cell_type": "markdown",
   "id": "c5053646-e207-4e8c-a62e-2a7f70ad0887",
   "metadata": {},
   "source": [
    "## Initialize data and model"
   ]
  },
  {
   "cell_type": "markdown",
   "id": "467470b3-2427-4ada-b14f-9ff26922d8ec",
   "metadata": {},
   "source": [
    "### Setup and fetch data"
   ]
  },
  {
   "cell_type": "code",
   "execution_count": null,
   "id": "515abf18",
   "metadata": {},
   "outputs": [],
   "source": [
    "# Settings\n",
    "Username   = 'Beheerder'\n",
    "years      = range(2001,2021)    #(1997,2021) # Set years to download"
   ]
  },
  {
   "cell_type": "code",
   "execution_count": null,
   "id": "6eac16f4-2823-4c1a-a696-053a8c5f8df3",
   "metadata": {},
   "outputs": [],
   "source": [
    "import os\n",
    "datapath   = os.path.join('../../') #since this file is 2 dir down from the data it's ../../\n",
    "print('datapath is set to %s'%datapath)\n",
    "\n",
    "\n",
    "import numpy as np\n",
    "import pandas as pd\n",
    "import matplotlib.pyplot as plt\n",
    "#import plotly.express as px\n",
    "#import cufflinks as cf\n",
    "import matplotlib.dates as mdate\n",
    "import matplotlib.ticker as ticker\n",
    "from matplotlib import cm\n",
    "#from colorspacious import cspace_converter\n",
    "import scipy.stats as stats\n",
    "#cf.go_offline()\n",
    "# cf.set_config_file(offline=False, world_readable=True)\n",
    "\n",
    "from datetime import datetime, timedelta\n",
    "import sys\n",
    "sys.path.insert(0, os.path.join(datapath,'PythonScripts'))\n",
    "sys.path.append('../') #append the directory above this one to path to be able to find my python modules\n",
    "\n",
    "from Loobos_Toolbox import dateparse, dateparse_Gapfilled, Read_LoobosEddFinal, Read_LooStor, Read_LoodatGapfill, Read_Loobos_halfhourly, Read_Loobos_meteo, Read_Loobos_soil, Read_Loobos_profile\n",
    "\n",
    "from Ags_model import runAgs, runAgs2, calc_LE, calc_LE2"
   ]
  },
  {
   "cell_type": "code",
   "execution_count": null,
   "id": "6ecd4fbe-bb75-4187-85d1-6728a7da3996",
   "metadata": {},
   "outputs": [],
   "source": [
    "import matplotlib.dates as mdates"
   ]
  },
  {
   "cell_type": "code",
   "execution_count": null,
   "id": "244e6ea2",
   "metadata": {},
   "outputs": [],
   "source": [
    "#these next two lines are to prevent re-loading the data. If you want to re-load data, instead comment them out\n",
    "if not 'progress' in globals(): progress = list()\n",
    "if not 'dataloaded' in progress:\n",
    "  # Read files\n",
    "    df_EC           = Read_LoobosEddFinal    (years,datapath)\n",
    "    #df_Stor         = Read_LooStor           (years,datapath)\n",
    "    df_Comb         = Read_LoodatGapfill     (years,datapath)\n",
    "    #df_NEE          = Read_Loobos_halfhourly (years,datapath)\n",
    "    df_meteo        = Read_Loobos_meteo      (years,datapath)\n",
    "    df_soil         = Read_Loobos_soil       (years,datapath) \n",
    "    df_profile      = Read_Loobos_profile    (years,datapath)\n",
    "    progress.append('dataloaded')"
   ]
  },
  {
   "cell_type": "code",
   "execution_count": null,
   "id": "f4a481a3-9047-4213-8752-fbedc86b6e8d",
   "metadata": {},
   "outputs": [],
   "source": [
    "# Make filter for GPP orginial data and not gapfilled\n",
    "#General filters\n",
    "I = ((df_Comb['GPP_fqc']==0)&(df_meteo['PAR']>0))\n",
    "#t = df_profile.index                                          \n",
    "#time = (t < np.datetime64('2013-05-08')) | (t > np.datetime64('2013-06-01'))\n",
    "\n",
    "df_profile_filter = df_profile.copy()\n",
    "df_meteo_filter   = df_meteo.copy()\n",
    "df_Comb_filter    = df_Comb.copy()\n",
    "df_EC_filter      = df_EC.copy()\n",
    "\n",
    "# Filter for gpp original data and not gapfilled\n",
    "#GPP_fcq_filt = ~(df_Comb['GPP_fqc']==0)\n",
    "#df_Comb_filter.loc[GPP_fcq_filt] #this one removes all rows that match not just GPP_fqc\n",
    "\n",
    "# Filter for CO2 data\n",
    "CO2_filt = ~(df_profile['CO2level1'] > 300)\n",
    "df_profile_filter.loc[CO2_filt,['CO2level1']] = np.nan\n",
    "\n",
    "# Filter for PAR data\n",
    "PAR_filt = ~(df_meteo['PAR'] >= 0)\n",
    "df_meteo_filter.loc[PAR_filt,['PAR']] = np.nan\n",
    "\n",
    "# Filter for L(o)corr data\n",
    "Locorr_filt = ~((df_meteo['L(o)corr']>0) & (df_meteo['L(o)corr']<500)) \n",
    "df_meteo_filter.loc[Locorr_filt,'L(o)corr'] = np.nan\n",
    "\n",
    "# Filter for L(o) data\n",
    "Lo_filt = ~((df_meteo['L(o)']>0) & (df_meteo['L(o)']<40))\n",
    "df_meteo_filter.loc[Lo_filt,'L(o)'] = np.nan\n",
    "\n",
    "# Filter for Te-Lo data\n",
    "TeLo_filt = ~(df_meteo['Te-L(o)']<40)\n",
    "df_meteo_filter.loc[TeLo_filt,'Te-L(o)'] = np.nan\n",
    "\n",
    "# Filter for VPD data\n",
    "VPD_filt = ~(df_Comb['VPD']>=0)\n",
    "df_Comb_filter.loc[VPD_filt,['VPD']] = np.nan\n",
    "\n",
    "# Filter for U-star\n",
    "Ustar_filt = ~(df_EC['U-star']>=0)\n",
    "df_EC_filter.loc[Ustar_filt,['U-star']] = np.nan"
   ]
  },
  {
   "cell_type": "markdown",
   "id": "20fd7863-a0f4-4856-928c-ec02f1fb8f27",
   "metadata": {},
   "source": [
    "# Import data from CSVs"
   ]
  },
  {
   "cell_type": "markdown",
   "id": "c1bbb688-5bf1-44af-9c9a-5176ed2168a0",
   "metadata": {},
   "source": [
    "### Import KNMI rain data"
   ]
  },
  {
   "cell_type": "code",
   "execution_count": null,
   "id": "0b5590bc-8a73-43f1-b170-8a5f04608453",
   "metadata": {},
   "outputs": [],
   "source": [
    "#import KNMI rain data here. RD is daily sum rain.\n",
    "df_rain = pd.read_csv('../knmi_rain_daily.csv')\n",
    "df_rain.index = pd.to_datetime(df_rain['date'])\n",
    "df_rain.drop('date',axis=1,inplace=True)\n",
    "#df_rain"
   ]
  },
  {
   "cell_type": "code",
   "execution_count": null,
   "id": "74a003d5-542e-4501-aea7-8632559c0379",
   "metadata": {},
   "outputs": [],
   "source": [
    "df_rain"
   ]
  },
  {
   "cell_type": "markdown",
   "id": "7f3aa29c-b564-4344-9e89-896caa713e14",
   "metadata": {},
   "source": [
    "### Import fstr data"
   ]
  },
  {
   "cell_type": "code",
   "execution_count": null,
   "id": "c8ef82ff-e938-4270-af8f-ff3aeff7a1f3",
   "metadata": {},
   "outputs": [],
   "source": [
    "#fstr max over 1 day, fstr values can be bigger than 1, day-values (08-18:00) and all\n",
    "df_tmp1d      =pd.read_csv('../fstrOutput/NoRain/fstr_1d.csv')\n",
    "df_tmp1d.index=pd.to_datetime(df_tmp1d['Unnamed: 0'])\n",
    "df_tmp1d.index.name='date'\n",
    "df_tmp1d.drop(columns='Unnamed: 0',inplace=True)\n",
    "df_tmp1d_day  =pd.read_csv('../fstrOutput/NoRain/fstrMax_1d_day.csv')\n",
    "df_tmp1d_day.index=pd.to_datetime(df_tmp1d_day['Unnamed: 0'])\n",
    "df_tmp1d_day.index.name='date'\n",
    "df_tmp1d_day.drop(columns='Unnamed: 0',inplace=True)\n",
    "\n",
    "#fstr max over 1 day, values of fstr are clamped between 0 and 1, day-values (08-18:00) and all\n",
    "df_tmp1dc     =pd.read_csv('../fstrOutput/NoRain/fstr_1d_clamped.csv')\n",
    "df_tmp1dc.index=pd.to_datetime(df_tmp1dc['Unnamed: 0'])\n",
    "df_tmp1dc.index.name='date'\n",
    "df_tmp1dc.drop(columns='Unnamed: 0',inplace=True)\n",
    "df_tmp1dc_day =pd.read_csv('../fstrOutput/NoRain/fstr_1d_clamped_day.csv')\n",
    "df_tmp1dc_day.index=pd.to_datetime(df_tmp1dc_day['Unnamed: 0'])\n",
    "df_tmp1dc_day.index.name='date'\n",
    "df_tmp1dc_day.drop(columns='Unnamed: 0',inplace=True)\n",
    "\n",
    "#fstr max over 1 day, values of fstr are clamped between 0 and 1, day-values (08:00-18:00) only\n",
    "df_tmp1dcm    =pd.read_csv('../fstrOutput/NoRain/fstrMax_1d_clamped_day.csv')\n",
    "df_tmp1dcm.index=pd.to_datetime(df_tmp1dcm['Unnamed: 0'])\n",
    "df_tmp1dcm.index.name='date'\n",
    "df_tmp1dcm.drop(columns='Unnamed: 0',inplace=True)"
   ]
  },
  {
   "cell_type": "code",
   "execution_count": null,
   "id": "74202f09-5a31-4fec-bc6b-b259e557e0cf",
   "metadata": {},
   "outputs": [],
   "source": [
    "df_tmp1dc_day"
   ]
  },
  {
   "cell_type": "markdown",
   "id": "dddd55d8-e3fa-453c-8eca-5afbab600f0c",
   "metadata": {},
   "source": [
    "# New graphs fstr over time"
   ]
  },
  {
   "cell_type": "markdown",
   "id": "7da81a59-8bc5-41c7-b3d4-560adc223f81",
   "metadata": {},
   "source": [
    "### define function for plotting fstr over time"
   ]
  },
  {
   "cell_type": "code",
   "execution_count": null,
   "id": "2c3987d0-15de-4fda-ad1a-9f7a5a4c2c56",
   "metadata": {},
   "outputs": [],
   "source": [
    "plt.rcParams[\"figure.figsize\"] = (20,8)\n",
    "def fstr_timeseries_wrapper(df_plot,ylims=None):\n",
    "    df_plot = df_plot.loc[:,['fstr']].resample('7D').mean()\n",
    "    #remove non-growthseason values\n",
    "    df_plot=df_plot.loc[(df_plot.index.month>=4) & (df_plot.index.month<=9)]\n",
    "    df_plot['weeknr']=df_plot.index.isocalendar().week\n",
    "    \n",
    "    fig,ax = plt.subplots()\n",
    "    if ylims != None:\n",
    "        ax.set_ylim(ylims[0],ylims[1])\n",
    "    ax.set_ylabel('fstr (=LEobs/LEsim)')\n",
    "    ax.set_xlabel('weeknr')\n",
    "    \n",
    "    plt.xticks([x for x in range(14,41)]) #this sets the xticks for the main x-axis with the weeknr\n",
    "    locs, labels=plt.xticks() #this same function with no argument gets the position and labels and stores them for later\n",
    "    \n",
    "    ax2 = ax.twiny()\n",
    "    fig.subplots_adjust(bottom=0.2)\n",
    "    \n",
    "    # Move twinned axis ticks and label from top to bottom\n",
    "    ax2.xaxis.set_ticks_position(\"bottom\")\n",
    "    ax2.xaxis.set_label_position(\"bottom\")\n",
    "    \n",
    "    # Offset the twin axis below the host\n",
    "    ax2.spines[\"bottom\"].set_position((\"axes\", -0.15))\n",
    "    \n",
    "    # Turn on the frame for the twin axis, but then hide all \n",
    "    # but the bottom spine\n",
    "    ax2.set_frame_on(True)\n",
    "    ax2.patch.set_visible(False)\n",
    "    \n",
    "    ax2.set_xlabel('approx month')\n",
    "    ax2.set_xlim(13,41)\n",
    "    ax2.set_xticks([14, 18, 22, 26,  30, 34, 39])\n",
    "    ax2.set_xticklabels(['Apr', 'May', 'Jun', 'Jul', 'Aug', 'Sep', 'Oct'])\n",
    "    \n",
    "    colored_years={'2003':'green','2006':'orange','2007':'magenta','2011':'#b62020','2018':'blue','2019':'cyan'}\n",
    "    \n",
    "    for year in ['2001','2002','2003','2004','2005','2006','2007','2008','2009','2010','2011','2012','2013','2014','2015','2017','2018','2019']:\n",
    "        start=year+'-01-01 01:00'\n",
    "        end=year+'-12-23 23:00'\n",
    "        label=str(year)\n",
    "        if year in colored_years.keys():\n",
    "            color=colored_years[year]\n",
    "            marker='^'\n",
    "            alpha=1.0\n",
    "            linewidth=1.5\n",
    "            \n",
    "        else:\n",
    "            color='grey'\n",
    "            marker=''\n",
    "            alpha=0.5\n",
    "            label='_nolegend_'\n",
    "            linewidth=1.0\n",
    "        if year == str(2001):\n",
    "            marker=''\n",
    "            label='other years (2001-2017)'\n",
    "        #marker={'2008':'^','2009':'^','2010':'^','2011':'^','2012':'o','2013':'^','2014':'o','2015':'^','2016':'o','2017':'o','2018':'^'}\n",
    "        #colors={'2008':'#b62020','2009':'#cb2424','2010':'^','2011':'^','2012':'o','2013':'^','2014':'o','2015':'^','2016':'o','2017':'o','2018':'^'}\n",
    "        #df_tmp.loc[start:end,'ET/LE'].plot(x=df_tmp.loc[start:end,'weeknr'],ylim=(0,15))\n",
    "        ax.plot(df_plot.loc[start:end,'weeknr'],df_plot.loc[start:end,'fstr'], marker=marker,color=color,linewidth=linewidth,alpha=alpha ,label=label) #marker=marker[year]\n",
    "    ax.legend(loc=(\"lower right\"))\n",
    "    ax.set_title('fstr (=LEobs/LEsim) on week-basis for 2001-2019 growth seasons (Apr-Sept), 3-hour means for 08:00-18:00, rainy days removed')\n",
    "    #ax.set_title('fstr=0: witing point , fstr=1: no water stress')\n",
    "    ax.grid()\n",
    "    plt.show()"
   ]
  },
  {
   "cell_type": "markdown",
   "id": "d6a836dd-6c62-4f5c-b0d6-bba424fb0d64",
   "metadata": {},
   "source": [
    "## weekly avg fstr over time (unclamped - fstr can be bigger than 1)"
   ]
  },
  {
   "cell_type": "markdown",
   "id": "cb144264-0076-4154-8a44-e6624ca1b656",
   "metadata": {},
   "source": [
    "## weekly avg fstr over time (clamped - fstr between 0 and 1)"
   ]
  },
  {
   "cell_type": "markdown",
   "id": "184dd51b-7f73-462f-80e4-11ad5d4eb7ee",
   "metadata": {},
   "source": [
    "#### clamped but all hours go into weekly average (night too)"
   ]
  },
  {
   "cell_type": "markdown",
   "id": "de3526e3-07e0-48ed-8e03-b4439bea0d04",
   "metadata": {},
   "source": [
    "#### clamped but only daytime hours 08:00-18:00"
   ]
  },
  {
   "cell_type": "code",
   "execution_count": null,
   "id": "e33ab489-56e0-4cfd-8027-2219b516060d",
   "metadata": {},
   "outputs": [],
   "source": [
    "plt.rcParams.update({'font.size': 16})\n",
    "fstr_timeseries_wrapper(df_tmp1dc_day,ylims=None)"
   ]
  },
  {
   "cell_type": "code",
   "execution_count": null,
   "id": "e8767182-4f9f-422a-9c41-5aa7eb51e090",
   "metadata": {},
   "outputs": [],
   "source": [
    "plt.rcParams.update({'font.size': 16})\n",
    "fstr_timeseries_wrapper(df_tmp1dc_day,ylims=None)"
   ]
  },
  {
   "cell_type": "markdown",
   "id": "6803953c-eb93-48d8-8c98-823c8be7a280",
   "metadata": {},
   "source": [
    "## weekly mean of daily max fstr over time"
   ]
  },
  {
   "cell_type": "code",
   "execution_count": null,
   "id": "d3274169-980f-4765-bb5b-cd0372b02c4b",
   "metadata": {},
   "outputs": [],
   "source": [
    "fstr_timeseries_wrapper(df_tmp1dcm,ylims=None)"
   ]
  },
  {
   "cell_type": "markdown",
   "id": "e2e94eb8-addd-4bd1-9d48-5e0b23b1016e",
   "metadata": {},
   "source": [
    "## weekly max fstr over time"
   ]
  },
  {
   "cell_type": "code",
   "execution_count": null,
   "id": "9085f1c4-047d-458d-9971-7c0507165799",
   "metadata": {},
   "outputs": [],
   "source": [
    "#plt.rcParams[\"figure.figsize\"] = plt.rcParamsDefault\n",
    "#plt.rcParams.update(plt.rcParamsDefault)\n",
    "plt.rcParams[\"figure.figsize\"] = (20,6)\n",
    "\n",
    "#remove non-growthseason values\n",
    "df_plot = df_tmp1dcm.copy()\n",
    "fstr_timeseries_wrapper(df_tmp1dcm,ylims=None)\n",
    "df_plot = df_plot.loc[:,['fstr']].resample('7D').max()\n",
    "df_plot=df_plot.loc[(df_plot.index.month>=4) & (df_plot.index.month<=9)]\n",
    "\n",
    "df_plot['weeknr']=df_plot.index.isocalendar().week\n",
    "\n",
    "\n",
    "fig,ax = plt.subplots()\n",
    "#ax.set_ylim(0,1)\n",
    "ax.set_ylabel('fstr (=LEobs/LEsim)')\n",
    "ax.set_xlabel('weeknr')\n",
    "\n",
    "plt.xticks([x for x in range(14,41)]) #this sets the xticks for the main x-axis with the weeknr\n",
    "locs, labels=plt.xticks() #this same function with no argument gets the position and labels and stores them for later\n",
    "\n",
    "ax2 = ax.twiny()\n",
    "fig.subplots_adjust(bottom=0.2)\n",
    "\n",
    "# Move twinned axis ticks and label from top to bottom\n",
    "ax2.xaxis.set_ticks_position(\"bottom\")\n",
    "ax2.xaxis.set_label_position(\"bottom\")\n",
    "\n",
    "# Offset the twin axis below the host\n",
    "ax2.spines[\"bottom\"].set_position((\"axes\", -0.15))\n",
    "\n",
    "# Turn on the frame for the twin axis, but then hide all \n",
    "# but the bottom spine\n",
    "ax2.set_frame_on(True)\n",
    "ax2.patch.set_visible(False)\n",
    "\n",
    "ax2.set_xlabel('approx month')\n",
    "ax2.set_xlim(13,41)\n",
    "ax2.set_xticks([14, 18, 22, 26,  30, 34, 39])\n",
    "ax2.set_xticklabels(['Apr', 'May', 'Jun', 'Jul', 'Aug', 'Sep', 'Oct'])\n",
    "\n",
    "colored_years={'2003':'green','2006':'orange','2007':'magenta','2011':'#b62020','2018':'blue','2019':'cyan'}\n",
    "\n",
    "for year in ['2001','2002','2003','2004','2005','2006','2007','2008','2009','2010','2011','2012','2013','2014','2015','2017','2018','2019']:\n",
    "    start=year+'-01-01 01:00'\n",
    "    end=year+'-12-23 23:00'\n",
    "    if year in colored_years.keys():\n",
    "        color=colored_years[year]\n",
    "        marker='^'\n",
    "    else:\n",
    "        color='grey'\n",
    "        marker=''\n",
    "    #marker={'2008':'^','2009':'^','2010':'^','2011':'^','2012':'o','2013':'^','2014':'o','2015':'^','2016':'o','2017':'o','2018':'^'}\n",
    "    #colors={'2008':'#b62020','2009':'#cb2424','2010':'^','2011':'^','2012':'o','2013':'^','2014':'o','2015':'^','2016':'o','2017':'o','2018':'^'}\n",
    "    #df_tmp.loc[start:end,'ET/LE'].plot(x=df_tmp.loc[start:end,'weeknr'],ylim=(0,15))\n",
    "    ax.plot(df_plot.loc[start:end,'weeknr'],df_plot.loc[start:end,'fstr'], marker=marker,color=color ,label=year) #marker=marker[year]\n",
    "ax.legend(loc=(\"upper left\"))\n",
    "ax.set_title('fstr (=LEobs/LEsim) on week-basis for 2001-2020 growth seasons (Apr-Sept), 3-hour means for 09:00-15:00, rainy days removed')\n",
    "#ax.set_title('fstr=0: witing point , fstr=1: no water stress')\n",
    "ax.grid()"
   ]
  },
  {
   "cell_type": "markdown",
   "id": "8b550e50-d73f-441e-bb29-2328b33eb447",
   "metadata": {
    "jp-MarkdownHeadingCollapsed": true
   },
   "source": [
    "# Old way of Run A-gs model - Calculate ET - calculate and assemble fstr (obsolete, to be removed)"
   ]
  },
  {
   "cell_type": "markdown",
   "id": "c1996767-09d3-441d-b711-cea73a750854",
   "metadata": {},
   "source": [
    "### Run A-gs model"
   ]
  },
  {
   "cell_type": "code",
   "execution_count": null,
   "id": "801ede28",
   "metadata": {},
   "outputs": [],
   "source": [
    "# Run A-gs model\n",
    "\n",
    "an_final,an_umol,rs, ra = runAgs(df_profile_filter,df_Comb_filter,df_meteo_filter,df_EC_filter,fstr=1.0)"
   ]
  },
  {
   "cell_type": "markdown",
   "id": "cb0753ef-8f5b-4b55-83db-ad31419a0e53",
   "metadata": {},
   "source": [
    "## Calcuate ET"
   ]
  },
  {
   "cell_type": "markdown",
   "id": "ac78d717-ea63-477c-9c43-8a29262f3143",
   "metadata": {},
   "source": [
    "### Assemble dataframe 'df_ET' that will hold output and fill with inputs"
   ]
  },
  {
   "cell_type": "code",
   "execution_count": null,
   "id": "1065217e-ea3f-4cfc-97af-76ad200b8c08",
   "metadata": {},
   "outputs": [],
   "source": [
    "def init_ETframe(rs_series):\n",
    "    df_ET = pd.concat([df_meteo['L(o)corr'],df_profile['Pressure'],df_Comb['VPD'],df_Comb['rH'],df_meteo['P(mast)']],axis=1,sort=False)\n",
    "    #convert Pressure from hPa to kPa \n",
    "    df_ET['p_kPa']=df_ET['Pressure']/10\n",
    "    df_ET['VPD_adj']=df_ET['VPD'].loc[df_ET['VPD']>0] #some outlier values for VPD are negative, remove from dataset\n",
    "    df_ET['VPD_adj']=df_ET['VPD_adj']/10  # VPD from df_Comb is in hPa, I need kPa, so hPa/10 = kPa\n",
    "    df_ET['rs']=rs_series.to_frame(name=\"rs\")\n",
    "    df_ET['ra']=ra.to_frame(name=\"ra\")\n",
    "    return df_ET"
   ]
  },
  {
   "cell_type": "code",
   "execution_count": null,
   "id": "7cf1ead7-7694-4619-8496-bd27e4ece452",
   "metadata": {},
   "outputs": [],
   "source": [
    "df_ET=init_ETframe(rs)"
   ]
  },
  {
   "cell_type": "code",
   "execution_count": null,
   "id": "77211664-888c-4840-ba39-a1dde1890967",
   "metadata": {},
   "outputs": [],
   "source": [
    "df_ET=calc_LE2(df_ET)"
   ]
  },
  {
   "cell_type": "code",
   "execution_count": null,
   "id": "d2c6a221-4999-4277-9265-87f36b3acd37",
   "metadata": {},
   "outputs": [],
   "source": [
    "#df_ET"
   ]
  },
  {
   "cell_type": "markdown",
   "id": "b982c2b2-d591-467c-87ab-6f3118d57fc0",
   "metadata": {},
   "source": [
    "## get observed LE values"
   ]
  },
  {
   "cell_type": "code",
   "execution_count": null,
   "id": "d036f7d7-8b44-4236-ae20-e0dc562809c1",
   "metadata": {},
   "outputs": [],
   "source": [
    "df_LE_obs=df_Comb_filter[['LE']].copy()\n",
    "LE_filt = ~(df_LE_obs['LE'] >= 0)\n",
    "df_LE_obs.loc[LE_filt,['LE']] = np.nan\n",
    "#df_ET_obs['LE'].plot()"
   ]
  },
  {
   "cell_type": "markdown",
   "id": "39eb7b8a-ba39-4a3f-9c85-895bac837881",
   "metadata": {},
   "source": [
    "## fstr analysis"
   ]
  },
  {
   "cell_type": "markdown",
   "id": "cc2233c0-6976-4dfd-bc5e-41fdd9cb240f",
   "metadata": {},
   "source": [
    "### step 1 assemble dataframe and chop up according to each week"
   ]
  },
  {
   "cell_type": "markdown",
   "id": "780eab48-8d7c-4feb-b3b6-908a9d084753",
   "metadata": {},
   "source": [
    "### calculate fstr"
   ]
  },
  {
   "cell_type": "code",
   "execution_count": null,
   "id": "827d7bae-8aa0-4e47-a73e-dcc665428f3c",
   "metadata": {},
   "outputs": [],
   "source": [
    "#df_LE_obs = pd.read_csv('./LE_obs.csv')\n",
    "#df_LE_obs.index = pd.to_datetime(df_LE_obs['datetime'])\n",
    "#df_LE_obs.drop('datetime',axis=1,inplace=True)\n",
    "\n",
    "df_LE_sim = pd.DataFrame()\n",
    "df_LE_sim['ET'] = df_ET['ET_VPD']\n",
    "\n",
    "df_fstr = pd.DataFrame()\n",
    "df_fstr['LE'] = df_LE_obs['LE']\n",
    "df_fstr=df_fstr.merge(df_LE_sim['ET'], how='inner',left_index=True, right_index=True)\n",
    "\n",
    "df_fstr_3h = df_fstr.resample('3H').mean()\n",
    "\n",
    "df_fstr_3h.loc[:,'LE/ET'] = df_fstr_3h['LE']/df_fstr_3h['ET']\n",
    "\n",
    "#df_fstr"
   ]
  },
  {
   "cell_type": "markdown",
   "id": "1018d455-a0fc-4c49-8408-6bf23c678914",
   "metadata": {},
   "source": [
    "#### no longer used: this section can just be deleted"
   ]
  },
  {
   "cell_type": "code",
   "execution_count": null,
   "id": "377f3860-c9ab-47ff-8cbb-e4878b065f30",
   "metadata": {},
   "outputs": [],
   "source": [
    "#check same trim-size #obsolete\n",
    "#print(df_fstr.index[0],df_fstr.index[0])\n",
    "#print(df_rain_30m.index[0],df_rain_30m.index[-1])"
   ]
  },
  {
   "cell_type": "code",
   "execution_count": null,
   "id": "c7741aa4-d4a8-4558-9ccd-133f55d1a217",
   "metadata": {},
   "outputs": [],
   "source": [
    "#st=df_fstr.index[0] #df_rain_30m needs to be trimmed to same size as df_fstr\n",
    "#ed=df_fstr.index[-1]\n",
    "#df_fstr_3h_filt = df_fstr_3h_filt.loc[df_rain_3h.loc[st:ed,'dailysum_rain']==0.0]"
   ]
  },
  {
   "cell_type": "code",
   "execution_count": null,
   "id": "d0ce3b7a-bb58-49c6-9a8a-78a2fe97ae74",
   "metadata": {},
   "outputs": [],
   "source": [
    "df_rain_30m=df_rain.resample('30min').mean() #this is the wrong way to do it, but later on it's going to be summed)\n",
    "df_rain['days_since_rain'].resample('30m').ffill() #overwrite wrong values"
   ]
  },
  {
   "cell_type": "code",
   "execution_count": null,
   "id": "06269dd5-7790-4bbe-a669-45d9cf3ce811",
   "metadata": {},
   "outputs": [],
   "source": [
    "df_rain_3h = df_rain_30m.resample('3H').sum()\n",
    "df_rain_3h.loc[:,'days_since_rain'] = df_rain_30m['days_since_rain'].resample('3H').ffill()"
   ]
  },
  {
   "cell_type": "code",
   "execution_count": null,
   "id": "629a9365-bf92-4584-bff0-e43a913eec45",
   "metadata": {},
   "outputs": [],
   "source": [
    "df_fstr_filt_3h=pd.concat([df_fstr_3h,df_rain_3h],axis=1)\n",
    "df_fstr_filt_3h"
   ]
  },
  {
   "cell_type": "code",
   "execution_count": null,
   "id": "c8e583b8-abb3-4ee6-82ae-cacfe1461585",
   "metadata": {},
   "outputs": [],
   "source": [
    "df_fstr_filt_1d = df_fstr_filt_3h.resample('1D').mean()\n",
    "df_fstr_filt_7d = df_fstr_filt_3h.resample('7D').mean()"
   ]
  },
  {
   "cell_type": "code",
   "execution_count": null,
   "id": "70d96fde-5c69-49fe-9f4d-49cb113253f8",
   "metadata": {},
   "outputs": [],
   "source": [
    "df_fstr_filt_3h.loc[:,'LE/ET'] = df_fstr_filt_3h['LE']/df_fstr_filt_3h['ET']\n",
    "df_fstr_filt_1d.loc[:,'LE/ET'] = df_fstr_filt_1d['LE']/df_fstr_filt_1d['ET']\n",
    "df_fstr_filt_7d.loc[:,'LE/ET'] = df_fstr_filt_7d['LE']/df_fstr_filt_7d['ET']"
   ]
  },
  {
   "cell_type": "markdown",
   "id": "e31c99ae-7aa7-4638-9571-6de0192f97c4",
   "metadata": {},
   "source": [
    "### save fstr to file (is being done elsewhere, to be removed)"
   ]
  },
  {
   "cell_type": "code",
   "execution_count": null,
   "id": "f642ceb4-d9ba-4ebf-a61a-97a88cfac0fb",
   "metadata": {},
   "outputs": [],
   "source": [
    "#df_fstr_filt.to_csv('./fstrOutput/fstr_30m_norainydays.csv')\n",
    "#df_fstr_filt_3h.to_csv('./fstrOutput/fstr_3H_norainydays.csv')\n",
    "#df_fstr_filt_1d.to_csv('./fstrOutput/fstr_1D_norainydays.csv')\n",
    "#df_fstr_filt_7d.to_csv('./fstrOutput/fstr_7D_norainydays.csv')"
   ]
  },
  {
   "cell_type": "markdown",
   "id": "d0f341c4-f525-4b49-9939-3713905e835b",
   "metadata": {
    "jp-MarkdownHeadingCollapsed": true
   },
   "source": [
    "# Old way to visualize rain as bars and fstr as dots"
   ]
  },
  {
   "cell_type": "code",
   "execution_count": null,
   "id": "dd7b317f-4ec7-4798-8a32-60a0a6509831",
   "metadata": {},
   "outputs": [],
   "source": [
    "plt.rcParams[\"figure.figsize\"] = (20,6)\n",
    "\n",
    "\n",
    "\n",
    "def fstr_plot_wrapper(st,ed):\n",
    "\n",
    "    fig,ax = plt.subplots()\n",
    "    \n",
    "    b=df_ET.loc[st:ed,['P(mast)']].resample('1D').sum()\n",
    "    a=(df_rain.loc[st:ed,['RD']])\n",
    "    ax.bar(b.index,b['P(mast)'],alpha=0.5, align='edge', label=\"Pmast data\")\n",
    "    ax.bar(a.index,a['RD'],alpha=0.5, align='edge', label=\"KNMI data\")\n",
    "    \n",
    "    df_tmp30m=pd.DataFrame()\n",
    "    df_tmp30m['ET']=df_ET['ET_VPD']\n",
    "    df_tmp30m['P(mast)']=df_ET['P(mast)']\n",
    "    df_tmp30m=df_tmp30m.dropna()\n",
    "    \n",
    "    df_LE=df_Comb['LE'].loc[df_Comb['LE']>=0]\n",
    "    df_tmp30m=df_tmp30m.merge(df_LE, how='inner',left_index=True, right_index=True)\n",
    "    c=df_tmp30m.loc[st:ed].resample('1D').sum()\n",
    "    c['LE/ET']=c['LE']/c['ET']\n",
    "    \n",
    "    ax.set_ylabel(\"precip\")\n",
    "    ax2 = ax.twinx()\n",
    "    ax2.set_ylim(0,5)\n",
    "    ax2.set_ylabel(\"fstr\")\n",
    "    #ax2.set_yscale('log')\n",
    "    \n",
    "    ax2.scatter(c.index,c['LE/ET'],c=np.where(c['LE/ET']<1,'b','r'))\n",
    "    \n",
    "    ax.legend()\n",
    "    ax.xaxis.set_minor_locator(mdates.DayLocator())\n",
    "\n",
    "for year in range(2001,2021):\n",
    "    st=str(year)+\"-04-01\"\n",
    "    ed=str(year)+\"-09-30\"\n",
    "    fstr_plot_wrapper(st,ed)"
   ]
  },
  {
   "cell_type": "markdown",
   "id": "5906b8e0-46f9-4ebd-bd0f-d2c91e5413ff",
   "metadata": {},
   "source": [
    "### Old way that I refactored (indistinguishable from old way)"
   ]
  },
  {
   "cell_type": "code",
   "execution_count": null,
   "id": "ed2405d5-52a6-43cb-b67b-3867a0de8b9b",
   "metadata": {},
   "outputs": [],
   "source": [
    "plt.rcParams[\"figure.figsize\"] = (20,6)\n",
    "\n",
    "\n",
    "def fstr_plot_wrapper(st,ed, df_fstr , df_ET , df_rain):\n",
    "\n",
    "    fig,ax = plt.subplots()\n",
    "    \n",
    "    b=df_ET.loc[st:ed,['P(mast)']].resample('1D').sum()\n",
    "    a=df_rain.loc[st:ed,['RD']]\n",
    "    ax.bar(b.index,b['P(mast)'],alpha=0.5, align='edge', label=\"Pmast data\")\n",
    "    ax.bar(a.index,a['RD'],alpha=0.5, align='edge', label=\"KNMI data\")\n",
    "\n",
    "    df_plot=df_fstr.loc[st:ed,['LE','ET']]\n",
    "    df_plot = df_plot.resample('1D').mean()\n",
    "    df_plot.loc[:,'LE/ET']=df_plot['LE']/df_plot['ET']\n",
    "    \n",
    "    ax.set_ylabel(\"precip\")\n",
    "    ax2 = ax.twinx()\n",
    "    ax2.set_ylim(0,5)\n",
    "    ax2.set_ylabel(\"fstr\")\n",
    "    #ax2.set_yscale('log')\n",
    "    \n",
    "    ax2.scatter(df_plot.index,df_plot['LE/ET'],c=np.where(df_plot['LE/ET']<1,'b','r'))\n",
    "    \n",
    "    ax.legend()\n",
    "    ax.xaxis.set_minor_locator(mdates.DayLocator())\n",
    "\n",
    "for year in range(2001,2020):\n",
    "    st=str(year)+\"-04-01\"\n",
    "    ed=str(year)+\"-09-30\"\n",
    "    fstr_plot_wrapper(st,ed , df_fstr_3h , df_ET , df_rain )"
   ]
  },
  {
   "cell_type": "markdown",
   "id": "1c5de6b1-4587-43de-9379-966b60ce5112",
   "metadata": {},
   "source": [
    "### end of visualization of rain as bars and fstr as dots"
   ]
  },
  {
   "cell_type": "markdown",
   "id": "bc0c0ed3-4ef4-4129-835e-34b035a95ea6",
   "metadata": {
    "jp-MarkdownHeadingCollapsed": true
   },
   "source": [
    "# Old graphs timeseries over fstr (redundant)"
   ]
  },
  {
   "cell_type": "code",
   "execution_count": null,
   "id": "211de573-11b8-4c8f-a324-1508d402161c",
   "metadata": {},
   "outputs": [],
   "source": [
    "#plt.rcParams[\"figure.figsize\"] = plt.rcParamsDefault\n",
    "#plt.rcParams.update(plt.rcParamsDefault)\n",
    "plt.rcParams[\"figure.figsize\"] = (20,6)\n",
    "\n",
    "#remove non-growthseason values\n",
    "df_plot = df_fstr_filt_7d.copy()\n",
    "df_plot=df_plot.loc[(df_plot.index.month>=4) & (df_plot.index.month<=9)]\n",
    "\n",
    "df_plot['weeknr']=df_plot.index.isocalendar().week\n",
    "\n",
    "\n",
    "fig,ax = plt.subplots()\n",
    "ax.set_ylim(0,2)\n",
    "ax.set_ylabel('fstr (=LEobs/LEsim)')\n",
    "ax.set_xlabel('weeknr')\n",
    "\n",
    "plt.xticks([x for x in range(14,41)]) #this sets the xticks for the main x-axis with the weeknr\n",
    "locs, labels=plt.xticks() #this same function with no argument gets the position and labels and stores them for later\n",
    "\n",
    "ax2 = ax.twiny()\n",
    "fig.subplots_adjust(bottom=0.2)\n",
    "\n",
    "# Move twinned axis ticks and label from top to bottom\n",
    "ax2.xaxis.set_ticks_position(\"bottom\")\n",
    "ax2.xaxis.set_label_position(\"bottom\")\n",
    "\n",
    "# Offset the twin axis below the host\n",
    "ax2.spines[\"bottom\"].set_position((\"axes\", -0.15))\n",
    "\n",
    "# Turn on the frame for the twin axis, but then hide all \n",
    "# but the bottom spine\n",
    "ax2.set_frame_on(True)\n",
    "ax2.patch.set_visible(False)\n",
    "\n",
    "ax2.set_xlabel('approx month')\n",
    "ax2.set_xlim(13,41)\n",
    "ax2.set_xticks([14, 18, 22, 26,  30, 34, 39])\n",
    "ax2.set_xticklabels(['Apr', 'May', 'Jun', 'Jul', 'Aug', 'Sep', 'Oct'])\n",
    "\n",
    "colored_years={'2003':'green','2006':'orange','2007':'magenta','2011':'#b62020','2018':'blue','2019':'cyan'}\n",
    "\n",
    "for year in ['2001','2002','2003','2004','2005','2006','2007','2008','2009','2010','2011','2012','2013','2014','2015','2017','2018','2019']:\n",
    "    start=year+'-01-01 01:00'\n",
    "    end=year+'-12-23 23:00'\n",
    "    if year in colored_years.keys():\n",
    "        color=colored_years[year]\n",
    "        marker='^'\n",
    "    else:\n",
    "        color='grey'\n",
    "        marker=''\n",
    "    #marker={'2008':'^','2009':'^','2010':'^','2011':'^','2012':'o','2013':'^','2014':'o','2015':'^','2016':'o','2017':'o','2018':'^'}\n",
    "    #colors={'2008':'#b62020','2009':'#cb2424','2010':'^','2011':'^','2012':'o','2013':'^','2014':'o','2015':'^','2016':'o','2017':'o','2018':'^'}\n",
    "    #df_tmp.loc[start:end,'ET/LE'].plot(x=df_tmp.loc[start:end,'weeknr'],ylim=(0,15))\n",
    "    ax.plot(df_plot.loc[start:end,'weeknr'],df_plot.loc[start:end,'LE/ET'], marker=marker,color=color ,label=year) #marker=marker[year]\n",
    "ax.legend(loc=(\"upper left\"))\n",
    "ax.set_title('fstr (=LEobs/LEsim) on week-basis for 2001-2020 growth seasons (Apr-Sept), 3-hour means for 09:00-15:00, rainy days removed')\n",
    "#ax.set_title('fstr=0: witing point , fstr=1: no water stress')\n",
    "ax.grid()"
   ]
  },
  {
   "cell_type": "markdown",
   "id": "f7ef7937-1c56-4c59-b00f-24574c59745a",
   "metadata": {},
   "source": [
    "#### for some reason I re-made new dataframes to contain fstr and filter rain, but they dont work"
   ]
  },
  {
   "cell_type": "code",
   "execution_count": null,
   "id": "8a3720e5-1fcf-4b97-b67c-d61e4b66a7e8",
   "metadata": {},
   "outputs": [],
   "source": [
    "df_tmp30m=pd.DataFrame()\n",
    "df_tmp30m['ET']=df_ET['ET_VPD']\n",
    "df_tmp30m['P(mast)']=df_ET['P(mast)']\n",
    "df_tmp30m=df_tmp30m.dropna()\n",
    "\n",
    "df_LE=df_Comb['LE'].loc[df_Comb['LE']>=0]\n",
    "df_tmp30m=df_tmp30m.merge(df_LE, how='inner',left_index=True, right_index=True)\n",
    "\n",
    "#df_tmp30['ET/LE']=df_tmp30['ET']/df_tmp30['LE']\n",
    "#df_tmp30m['LE/ET']=df_tmp30m['LE']/df_tmp30m['ET'] #<- this is the one we want, observations/model. If obs/model = fstr, then model*fstr= model(obs/model) = obs\n",
    "\n",
    "df_tmp30m['P_3day']=df_tmp30m['P(mast)'].rolling('72H').sum()\n",
    "#df_tmp30m=df_tmp30m.loc[df_tmp30m['P_3day']==0]\n",
    "\n",
    "df_tmp3h=df_tmp30m.resample('3H').mean()#.between_time(\"09:00\", \"15:00\")\n",
    "df_tmp3h['P(mast)']=df_tmp30m['P(mast)'].resample('3H').sum() #overwrite the averaged pmast with sum pmast\n",
    "df_tmp3h['P_3day']=df_tmp3h['P(mast)'].rolling('72H').sum() #overwrite the correct P_3day\n",
    "\n",
    "#remove rainy days through knmi data\n",
    "df_tmp3h['RD']=df_rain['RD']\n",
    "df_tmp3h['RD']=df_tmp3h['RD']/10 #convert from tenths of mm to mm\n",
    "df_tmp3h=df_tmp3h.loc[df_tmp3h['RD']==0]\n",
    "\n",
    "#remove rainy days through Pmast\n",
    "df_rain3h_dailymax=df_tmp3h['P(mast)'].resample('1D').sum().resample('3H').ffill()\n",
    "df_rain3h_dailymax=df_rain3h_dailymax[:-1] #remove last entry because all 3h frames end on 21:00 not 00:00\n",
    "df_rain3h_dailymax=df_rain3h_dailymax.rename('P(mast)Dmax')\n",
    "df_tmp3h['P(mast)Dmax']=df_rain3h_dailymax\n",
    "df_tmp3h=df_tmp3h.loc[df_tmp3h['P(mast)Dmax']==0]\n",
    "\n",
    "\n",
    "\n",
    "#remove hours outside of 9:00 and 15:00\n",
    "df_tmp3h=df_tmp3h.between_time(\"09:00\", \"15:00\")\n",
    "\n",
    "#resample to daily\n",
    "df_tmp1d=df_tmp3h.resample('1D').mean()\n",
    "df_tmp1d['doy']=df_tmp1d.index.dayofyear\n",
    "df_tmp1d['P(mast)sum']=df_tmp3h['P(mast)'].resample('1D').sum()\n",
    "df_tmp1d['LE/ET']=df_tmp1d['LE']/df_tmp1d['ET']\n",
    "\n",
    "#resample to weekly (7 days)\n",
    "df_tmp7d=df_tmp3h.resample('7D').mean()\n",
    "df_tmp7d['LE/ET']=df_tmp7d['LE']/df_tmp7d['ET']"
   ]
  },
  {
   "cell_type": "code",
   "execution_count": null,
   "id": "124ebcc6-1a90-4e2e-a2ef-55fd9b0b4e41",
   "metadata": {},
   "outputs": [],
   "source": [
    "#plt.rcParams[\"figure.figsize\"] = plt.rcParamsDefault\n",
    "#plt.rcParams.update(plt.rcParamsDefault)\n",
    "plt.rcParams[\"figure.figsize\"] = (20,6)\n",
    "\n",
    "#remove non-growthseason values\n",
    "df_plot = df_fstr_filt_7d.copy()\n",
    "df_tmp7d=df_tmp7d.loc[(df_tmp7d.index.month>=4) & (df_tmp7d.index.month<=9)]\n",
    "\n",
    "df_tmp7d['weeknr']=df_tmp7d.index.isocalendar().week\n",
    "\n",
    "#df_tmp7d=df_tmp7d.loc[df_tmp7d['LE/ET']<=1.0]\n",
    "\n",
    "#df_tmp\n",
    "\n",
    "#df_tmp['ET/LE'].plot(ylim=(0,15))\n",
    "\n",
    "fig,ax = plt.subplots()\n",
    "ax.set_ylim(0,1.5)\n",
    "ax.set_ylabel('fstr (=LEobs/LEsim)')\n",
    "ax.set_xlabel('weeknr')\n",
    "\n",
    "plt.xticks([x for x in range(14,41)]) #this sets the xticks for the main x-axis with the weeknr\n",
    "locs, labels=plt.xticks() #this same function with no argument gets the position and labels and stores them for later\n",
    "\n",
    "ax2 = ax.twiny()\n",
    "fig.subplots_adjust(bottom=0.2)\n",
    "\n",
    "# Move twinned axis ticks and label from top to bottom\n",
    "ax2.xaxis.set_ticks_position(\"bottom\")\n",
    "ax2.xaxis.set_label_position(\"bottom\")\n",
    "\n",
    "# Offset the twin axis below the host\n",
    "ax2.spines[\"bottom\"].set_position((\"axes\", -0.15))\n",
    "\n",
    "# Turn on the frame for the twin axis, but then hide all \n",
    "# but the bottom spine\n",
    "ax2.set_frame_on(True)\n",
    "ax2.patch.set_visible(False)\n",
    "\n",
    "ax2.set_xlabel('approx month')\n",
    "ax2.set_xlim(13,41)\n",
    "ax2.set_xticks([14, 18, 22, 26,  30, 34, 39])\n",
    "ax2.set_xticklabels(['Apr', 'May', 'Jun', 'Jul', 'Aug', 'Sep', 'Oct'])\n",
    "\n",
    "\n",
    "for year in ['2001','2002','2003','2004','2005','2006','2007','2008','2009','2010','2011','2012','2013','2014','2015','2017','2018','2019']:\n",
    "    start=year+'-01-01 01:00'\n",
    "    end=year+'-12-23 23:00'\n",
    "    if int(year)>=2010:\n",
    "        marker='s'\n",
    "    else:\n",
    "        marker='o'\n",
    "\n",
    "    ax.plot(df_tmp7d.loc[start:end,'weeknr'],df_tmp7d.loc[start:end,'LE/ET'], marker=marker ,label=year) #marker=marker[year]\n",
    "ax.legend(loc=(\"upper left\"))\n",
    "fig.suptitle('fstr (=LEobs/LEsim) on week-basis for april t/m sept, 09:00-15:00, rainy days removed')\n",
    "ax.set_title('fstr=0: witing point , fstr=1: no water stress')\n",
    "ax.grid()"
   ]
  },
  {
   "cell_type": "code",
   "execution_count": null,
   "id": "eacd77ed-32ef-4bf0-a51c-0510777e1286",
   "metadata": {},
   "outputs": [],
   "source": [
    "#plt.rcParams[\"figure.figsize\"] = plt.rcParamsDefault\n",
    "#plt.rcParams.update(plt.rcParamsDefault)\n",
    "plt.rcParams[\"figure.figsize\"] = (20,6)\n",
    "\n",
    "#remove non-growthseason values\n",
    "df_tmp7d=df_tmp7d.loc[(df_tmp7d.index.month>=4) & (df_tmp7d.index.month<=9)]\n",
    "\n",
    "df_tmp7d['weeknr']=df_tmp7d.index.isocalendar().week\n",
    "\n",
    "#df_tmp7d=df_tmp7d.loc[df_tmp7d['LE/ET']<=1.0]\n",
    "\n",
    "#df_tmp\n",
    "\n",
    "#df_tmp['ET/LE'].plot(ylim=(0,15))\n",
    "\n",
    "fig,ax = plt.subplots()\n",
    "ax.set_ylim(0,1.5)\n",
    "ax.set_ylabel('fstr (=LEobs/LEsim)')\n",
    "ax.set_xlabel('weeknr')\n",
    "\n",
    "plt.xticks([x for x in range(14,41)]) #this sets the xticks for the main x-axis with the weeknr\n",
    "locs, labels=plt.xticks() #this same function with no argument gets the position and labels and stores them for later\n",
    "\n",
    "ax2 = ax.twiny()\n",
    "fig.subplots_adjust(bottom=0.2)\n",
    "\n",
    "# Move twinned axis ticks and label from top to bottom\n",
    "ax2.xaxis.set_ticks_position(\"bottom\")\n",
    "ax2.xaxis.set_label_position(\"bottom\")\n",
    "\n",
    "# Offset the twin axis below the host\n",
    "ax2.spines[\"bottom\"].set_position((\"axes\", -0.15))\n",
    "\n",
    "# Turn on the frame for the twin axis, but then hide all \n",
    "# but the bottom spine\n",
    "ax2.set_frame_on(True)\n",
    "ax2.patch.set_visible(False)\n",
    "\n",
    "ax2.set_xlabel('approx month')\n",
    "ax2.set_xlim(13,41)\n",
    "ax2.set_xticks([14, 18, 22, 26,  30, 34, 39])\n",
    "ax2.set_xticklabels(['Apr', 'May', 'Jun', 'Jul', 'Aug', 'Sep', 'Oct'])\n",
    "\n",
    "colored_years={'2003':'green','2006':'orange','2011':'#b62020','2013':'purple','2018':'blue'}\n",
    "\n",
    "for year in ['2001','2002','2003','2004','2005','2006','2007','2008','2009','2010','2011','2012','2013','2014','2015','2017','2018','2019']:\n",
    "    start=year+'-01-01 01:00'\n",
    "    end=year+'-12-23 23:00'\n",
    "    if year in colored_years.keys():\n",
    "        color=colored_years[year]\n",
    "        marker='^'\n",
    "    else:\n",
    "        color='grey'\n",
    "        marker=''\n",
    "    #marker={'2008':'^','2009':'^','2010':'^','2011':'^','2012':'o','2013':'^','2014':'o','2015':'^','2016':'o','2017':'o','2018':'^'}\n",
    "    #colors={'2008':'#b62020','2009':'#cb2424','2010':'^','2011':'^','2012':'o','2013':'^','2014':'o','2015':'^','2016':'o','2017':'o','2018':'^'}\n",
    "    #df_tmp.loc[start:end,'ET/LE'].plot(x=df_tmp.loc[start:end,'weeknr'],ylim=(0,15))\n",
    "    ax.plot(df_tmp7d.loc[start:end,'weeknr'],df_tmp7d.loc[start:end,'LE/ET'], marker=marker,color=color ,label=year) #marker=marker[year]\n",
    "ax.legend(loc=(\"upper left\"))\n",
    "fig.suptitle('fstr (=LEobs/LEsim) on week-basis for april t/m sept, 09:00-15:00, rainy days removed')\n",
    "ax.set_title('fstr=0: witing point , fstr=1: no water stress')\n",
    "ax.grid()"
   ]
  },
  {
   "cell_type": "markdown",
   "id": "7bf500c1-2247-47d3-abce-71968df005c5",
   "metadata": {},
   "source": [
    "### end of old plots"
   ]
  },
  {
   "cell_type": "code",
   "execution_count": null,
   "id": "14b91da9-3a0f-4ed4-bdbe-7284960666e0",
   "metadata": {},
   "outputs": [],
   "source": []
  }
 ],
 "metadata": {
  "kernelspec": {
   "display_name": "Python 3 (ipykernel)",
   "language": "python",
   "name": "python3"
  },
  "language_info": {
   "codemirror_mode": {
    "name": "ipython",
    "version": 3
   },
   "file_extension": ".py",
   "mimetype": "text/x-python",
   "name": "python",
   "nbconvert_exporter": "python",
   "pygments_lexer": "ipython3",
   "version": "3.11.5"
  },
  "varInspector": {
   "cols": {
    "lenName": 16,
    "lenType": 16,
    "lenVar": 40
   },
   "kernels_config": {
    "python": {
     "delete_cmd_postfix": "",
     "delete_cmd_prefix": "del ",
     "library": "var_list.py",
     "varRefreshCmd": "print(var_dic_list())"
    },
    "r": {
     "delete_cmd_postfix": ") ",
     "delete_cmd_prefix": "rm(",
     "library": "var_list.r",
     "varRefreshCmd": "cat(var_dic_list()) "
    }
   },
   "oldHeight": 471.85,
   "position": {
    "height": "493.844px",
    "left": "1539.19px",
    "right": "20px",
    "top": "105px",
    "width": "344px"
   },
   "types_to_exclude": [
    "module",
    "function",
    "builtin_function_or_method",
    "instance",
    "_Feature"
   ],
   "varInspector_section_display": "block",
   "window_display": true
  }
 },
 "nbformat": 4,
 "nbformat_minor": 5
}
