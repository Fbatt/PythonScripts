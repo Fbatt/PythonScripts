{
 "cells": [
  {
   "cell_type": "markdown",
   "id": "a2978442-0a0a-42b2-ac0f-8e6b685580d8",
   "metadata": {},
   "source": [
    "# A-gs model and implementation (simulation CO2 and H2O flux)"
   ]
  },
  {
   "cell_type": "markdown",
   "id": "c5053646-e207-4e8c-a62e-2a7f70ad0887",
   "metadata": {},
   "source": [
    "## Initialize data and model"
   ]
  },
  {
   "cell_type": "markdown",
   "id": "467470b3-2427-4ada-b14f-9ff26922d8ec",
   "metadata": {},
   "source": [
    "### Setup and fetch data"
   ]
  },
  {
   "cell_type": "code",
   "execution_count": null,
   "id": "515abf18",
   "metadata": {},
   "outputs": [],
   "source": [
    "# Settings\n",
    "Username   = 'Beheerder'\n",
    "years      = range(2001,2021)    #(1997,2021) # Set years to download"
   ]
  },
  {
   "cell_type": "code",
   "execution_count": null,
   "id": "fdb7f756",
   "metadata": {},
   "outputs": [],
   "source": [
    "import os\n",
    "datapath = os.path.join('../')\n",
    "#print('datapath is set to %s'%datapath)\n",
    "\n",
    "# !pip install numpy\n",
    "# !pip install pandas\n",
    "# !pip install matplotlib\n",
    "# !pip install plotly \n",
    "# !pip install cufflinks\n",
    "#!pip install colorspacious\n",
    "#!pip install seaborn\n",
    "\n",
    "import numpy as np\n",
    "import pandas as pd\n",
    "import matplotlib.pyplot as plt\n",
    "#import plotly.express as px\n",
    "#import cufflinks as cf\n",
    "import matplotlib.dates as mdate\n",
    "import matplotlib.ticker as ticker\n",
    "from matplotlib import cm\n",
    "#from colorspacious import cspace_converter\n",
    "import scipy.stats as stats\n",
    "#cf.go_offline()\n",
    "#cf.set_config_file(offline=False, world_readable=True)\n",
    "\n",
    "from datetime import datetime, timedelta\n",
    "import sys\n",
    "sys.path.insert(0, os.path.join(datapath,'PythonScripts'))\n",
    "from Loobos_Toolbox import dateparse, dateparse_Gapfilled, Read_LoobosEddFinal, Read_LooStor, Read_LoodatGapfill, Read_Loobos_halfhourly, Read_Loobos_meteo, Read_Loobos_soil, Read_Loobos_profile\n",
    "from Ags_model import runAgs, calc_LE , calc_LE2"
   ]
  },
  {
   "cell_type": "code",
   "execution_count": null,
   "id": "6ecd4fbe-bb75-4187-85d1-6728a7da3996",
   "metadata": {},
   "outputs": [],
   "source": [
    "import matplotlib.dates as mdates"
   ]
  },
  {
   "cell_type": "code",
   "execution_count": null,
   "id": "244e6ea2",
   "metadata": {},
   "outputs": [],
   "source": [
    "#these next two lines are to prevent re-loading the data. If you want to re-load data, instead comment them out\n",
    "if not 'progress' in globals(): progress = list()\n",
    "if not 'dataloaded' in progress:\n",
    "  # Read files\n",
    "    df_EC           = Read_LoobosEddFinal    (years,datapath)\n",
    "    #df_Stor         = Read_LooStor           (years,datapath)\n",
    "    df_Comb         = Read_LoodatGapfill     (years,datapath)\n",
    "    #df_NEE          = Read_Loobos_halfhourly (years,datapath)\n",
    "    df_meteo        = Read_Loobos_meteo      (years,datapath)\n",
    "    df_soil         = Read_Loobos_soil       (years,datapath) \n",
    "    df_profile      = Read_Loobos_profile    (years,datapath)\n",
    "    progress.append('dataloaded')"
   ]
  },
  {
   "cell_type": "code",
   "execution_count": null,
   "id": "3e66087c",
   "metadata": {},
   "outputs": [],
   "source": [
    "#Old filter, no longer used\n",
    "# Make filter for GPP orginial data and not gapfilled\n",
    "#General filters\n",
    "#I = ((df_Comb['GPP_fqc']==0)&(df_meteo['PAR']>0))\n",
    "# Filter for CO2 data\n",
    "#CO2_filt = (df_profile['CO2level1'] > 300)\n",
    "# Filter for L(o)corr data\n",
    "#Locorr_filt = (df_meteo['L(o)corr']>0) \n",
    "# Filter for VPD data\n",
    "#VPD_filt = (df_Comb['VPD']>=0)\n",
    "# Filter for U-star\n",
    "#Ustar_filt = (df_EC['U-star']>=0)\n",
    "# Combine all filters\n",
    "#filter = I & CO2_filt & Locorr_filt & VPD_filt & Ustar_filt\n",
    "#Column 'CO2' is input from df_profile\n",
    "#df_profile_filter = df_profile[filter]\n",
    "#Column 'L(o)corr' and 'PAR' are inputs from df_meteo\n",
    "#df_meteo_filter = df_meteo[filter]\n",
    "#Columns 'VPD' and 'Tair' are inputs from df_Comb\n",
    "#df_Comb_filter = df_Comb[filter]\n",
    "# Columns 'Mea_Windsp' and 'U-star' are inputs from df_EC\n",
    "#df_EC_filter = df_EC[filter]"
   ]
  },
  {
   "cell_type": "code",
   "execution_count": null,
   "id": "f4a481a3-9047-4213-8752-fbedc86b6e8d",
   "metadata": {},
   "outputs": [],
   "source": [
    "# Make filter for GPP orginial data and not gapfilled\n",
    "#General filters\n",
    "I = ((df_Comb['GPP_fqc']==0)&(df_meteo['PAR']>0))\n",
    "#t = df_profile.index                                          \n",
    "#time = (t < np.datetime64('2013-05-08')) | (t > np.datetime64('2013-06-01'))\n",
    "\n",
    "df_profile_filter = df_profile.copy()\n",
    "df_meteo_filter   = df_meteo.copy()\n",
    "df_Comb_filter    = df_Comb.copy()\n",
    "df_EC_filter      = df_EC.copy()\n",
    "\n",
    "# Filter for gpp original data and not gapfilled\n",
    "#GPP_fcq_filt = ~(df_Comb['GPP_fqc']==0)\n",
    "#df_Comb_filter.loc[GPP_fcq_filt] #this one removes all rows that match not just GPP_fqc\n",
    "\n",
    "# Filter for CO2 data\n",
    "CO2_filt = ~(df_profile['CO2level1'] > 300)\n",
    "df_profile_filter.loc[CO2_filt,['CO2level1']] = np.nan\n",
    "\n",
    "# Filter for PAR data\n",
    "PAR_filt = ~(df_meteo['PAR'] >= 0)\n",
    "df_meteo_filter.loc[PAR_filt,['PAR']] = np.nan\n",
    "\n",
    "# Filter for L(o)corr data\n",
    "Locorr_filt = ~((df_meteo['L(o)corr']>0) & (df_meteo['L(o)corr']<500)) \n",
    "df_meteo_filter.loc[Locorr_filt,'L(o)corr'] = np.nan\n",
    "\n",
    "# Filter for L(o) data\n",
    "Lo_filt = ~((df_meteo['L(o)']>0) & (df_meteo['L(o)']<40))\n",
    "df_meteo_filter.loc[Lo_filt,'L(o)'] = np.nan\n",
    "\n",
    "# Filter for Te-Lo data\n",
    "TeLo_filt = ~(df_meteo['Te-L(o)']<40)\n",
    "df_meteo_filter.loc[TeLo_filt,'Te-L(o)'] = np.nan\n",
    "\n",
    "# Filter for VPD data\n",
    "VPD_filt = ~(df_Comb['VPD']>=0)\n",
    "df_Comb_filter.loc[VPD_filt,['VPD']] = np.nan\n",
    "\n",
    "# Filter for U-star\n",
    "Ustar_filt = ~(df_EC['U-star']>=0)\n",
    "df_EC_filter.loc[Ustar_filt,['U-star']] = np.nan"
   ]
  },
  {
   "cell_type": "markdown",
   "id": "c1bbb688-5bf1-44af-9c9a-5176ed2168a0",
   "metadata": {},
   "source": [
    "### Import KNMI rain data"
   ]
  },
  {
   "cell_type": "code",
   "execution_count": null,
   "id": "0b5590bc-8a73-43f1-b170-8a5f04608453",
   "metadata": {},
   "outputs": [],
   "source": [
    "#import KNMI rain data here. RD is daily sum rain.\n",
    "df_rain = pd.read_csv('./knmi_rain_daily.csv')\n",
    "df_rain.index = pd.to_datetime(df_rain['date'])\n",
    "df_rain.drop('date',axis=1,inplace=True)\n",
    "#df_rain"
   ]
  },
  {
   "cell_type": "code",
   "execution_count": null,
   "id": "8b11041a-4c05-4df6-a2fe-2f24440e8f3e",
   "metadata": {},
   "outputs": [],
   "source": [
    "df_rain.index[-1].replace(hour=23, minute=30)"
   ]
  },
  {
   "cell_type": "code",
   "execution_count": null,
   "id": "ba6340e5-d72e-4be2-b36a-675273dc18b7",
   "metadata": {},
   "outputs": [],
   "source": [
    "#creating 30min compatible dataframe\n",
    "#end=df_rain.index[-1].replace(hour=23, minute=30) \n",
    "df_rain_30m = df_rain.resample('30min').ffill() #this dataframe only exists to create a filter selection for row labels for which rain is zero \n",
    "df_rain_30m.rename(columns={'RD':'dailysum_rain'},inplace=True) #make sure you don't further use dailysum, as ffill was used, so renaming for clarity\n",
    "#I cant figure out how to not make resample run to the end of the last day instead of just getting stuck at midnight, so create last little bit:\n",
    "tail = pd.DataFrame(np.nan,\n",
    "                    index=pd.date_range(start=\"2020-12-31 00:30:00\",end=\"2020-12-31 23:30:00\",freq=\"30min\"),\n",
    "                    columns=['dailysum_rain','days_since_rain'])\n",
    "tail['dailysum_rain'] = 1.3\n",
    "tail['days_since_rain'] = 0.0\n",
    "#attach the tail to the end of the df\n",
    "df_rain_30m = pd.concat([df_rain_30m,tail],axis=0)\n",
    "#df_rain_30m"
   ]
  },
  {
   "cell_type": "markdown",
   "id": "c1996767-09d3-441d-b711-cea73a750854",
   "metadata": {},
   "source": [
    "### Run A-gs model"
   ]
  },
  {
   "cell_type": "code",
   "execution_count": null,
   "id": "801ede28",
   "metadata": {},
   "outputs": [],
   "source": [
    "# Run A-gs model\n",
    "\n",
    "an_final,an_umol,rs, ra = runAgs(df_profile_filter,df_Comb_filter,df_meteo_filter,df_EC_filter,fstr=1.0)"
   ]
  },
  {
   "cell_type": "markdown",
   "id": "cb0753ef-8f5b-4b55-83db-ad31419a0e53",
   "metadata": {},
   "source": [
    "## Calcuate ET"
   ]
  },
  {
   "cell_type": "markdown",
   "id": "ac78d717-ea63-477c-9c43-8a29262f3143",
   "metadata": {},
   "source": [
    "### Assemble dataframe 'df_ET' that will hold output and fill with inputs"
   ]
  },
  {
   "cell_type": "code",
   "execution_count": null,
   "id": "1065217e-ea3f-4cfc-97af-76ad200b8c08",
   "metadata": {},
   "outputs": [],
   "source": [
    "def init_ETframe(rs_series):\n",
    "    df_ET = pd.concat([df_meteo['L(o)corr'],df_profile['Pressure'],df_Comb['VPD'],df_Comb['rH'],df_meteo['P(mast)']],axis=1,sort=False)\n",
    "    #convert Pressure from hPa to kPa \n",
    "    df_ET['p_kPa']=df_ET['Pressure']/10\n",
    "    df_ET['VPD_adj']=df_ET['VPD'].loc[df_ET['VPD']>0] #some outlier values for VPD are negative, remove from dataset\n",
    "    df_ET['VPD_adj']=df_ET['VPD_adj']/10  # VPD from df_Comb is in hPa, I need kPa, so hPa/10 = kPa\n",
    "    df_ET['rs']=rs_series.to_frame(name=\"rs\")\n",
    "    df_ET['ra']=ra.to_frame(name=\"ra\")\n",
    "    return df_ET"
   ]
  },
  {
   "cell_type": "code",
   "execution_count": null,
   "id": "7cf1ead7-7694-4619-8496-bd27e4ece452",
   "metadata": {},
   "outputs": [],
   "source": [
    "df_ET=init_ETframe(rs)"
   ]
  },
  {
   "cell_type": "code",
   "execution_count": null,
   "id": "77211664-888c-4840-ba39-a1dde1890967",
   "metadata": {},
   "outputs": [],
   "source": [
    "df_ET=calc_LE2(df_ET)"
   ]
  },
  {
   "cell_type": "markdown",
   "id": "b982c2b2-d591-467c-87ab-6f3118d57fc0",
   "metadata": {},
   "source": [
    "## get observed LE values"
   ]
  },
  {
   "cell_type": "code",
   "execution_count": null,
   "id": "d036f7d7-8b44-4236-ae20-e0dc562809c1",
   "metadata": {},
   "outputs": [],
   "source": [
    "df_LE_obs=df_Comb_filter[['LE']].copy()\n",
    "LE_filt = ~(df_LE_obs['LE'] >= 0)\n",
    "df_LE_obs.loc[LE_filt,['LE']] = np.nan\n",
    "#df_ET_obs['LE'].plot()"
   ]
  },
  {
   "cell_type": "markdown",
   "id": "39eb7b8a-ba39-4a3f-9c85-895bac837881",
   "metadata": {},
   "source": [
    "## fstr analysis"
   ]
  },
  {
   "cell_type": "markdown",
   "id": "cc2233c0-6976-4dfd-bc5e-41fdd9cb240f",
   "metadata": {},
   "source": [
    "### step 1 assemble dataframe and chop up according to each week"
   ]
  },
  {
   "cell_type": "markdown",
   "id": "780eab48-8d7c-4feb-b3b6-908a9d084753",
   "metadata": {},
   "source": [
    "### calculate fstr"
   ]
  },
  {
   "cell_type": "code",
   "execution_count": null,
   "id": "827d7bae-8aa0-4e47-a73e-dcc665428f3c",
   "metadata": {},
   "outputs": [],
   "source": [
    "#df_LE_obs = pd.read_csv('./LE_obs.csv')\n",
    "#df_LE_obs.index = pd.to_datetime(df_LE_obs['datetime'])\n",
    "#df_LE_obs.drop('datetime',axis=1,inplace=True)\n",
    "\n",
    "df_LE_sim = pd.DataFrame()\n",
    "df_LE_sim['ET'] = df_ET['ET_VPD']\n",
    "\n",
    "df_fstr = pd.DataFrame()\n",
    "df_fstr['LE'] = df_LE_obs['LE']\n",
    "df_fstr=df_fstr.merge(df_LE_sim['ET'], how='inner',left_index=True, right_index=True)\n",
    "\n",
    "df_fstr_3h = df_fstr.resample('3H').mean()\n",
    "\n",
    "df_fstr_3h.loc[:,'LE/ET'] = df_fstr_3h['LE']/df_fstr_3h['ET']\n",
    "\n",
    "#df_fstr"
   ]
  },
  {
   "cell_type": "markdown",
   "id": "1fcdac6a-2efe-42ea-b732-6a612d68cbf6",
   "metadata": {},
   "source": [
    "### filter out rainy days"
   ]
  },
  {
   "cell_type": "code",
   "execution_count": null,
   "id": "377f3860-c9ab-47ff-8cbb-e4878b065f30",
   "metadata": {},
   "outputs": [],
   "source": [
    "#check same trim-size #obsolete\n",
    "#print(df_fstr.index[0],df_fstr.index[0])\n",
    "#print(df_rain_30m.index[0],df_rain_30m.index[-1])"
   ]
  },
  {
   "cell_type": "code",
   "execution_count": null,
   "id": "c7741aa4-d4a8-4558-9ccd-133f55d1a217",
   "metadata": {},
   "outputs": [],
   "source": [
    "#st=df_fstr.index[0] #df_rain_30m needs to be trimmed to same size as df_fstr\n",
    "#ed=df_fstr.index[-1]\n",
    "#df_fstr_3h_filt = df_fstr_3h_filt.loc[df_rain_3h.loc[st:ed,'dailysum_rain']==0.0]"
   ]
  },
  {
   "cell_type": "code",
   "execution_count": null,
   "id": "06269dd5-7790-4bbe-a669-45d9cf3ce811",
   "metadata": {},
   "outputs": [],
   "source": [
    "df_rain_3h = df_rain_30m.resample('3H').sum()\n",
    "df_rain_3h.loc[:,'days_since_rain'] = df_rain_30m['days_since_rain'].resample('3H').ffill()\n",
    "print(df_rain_3h.index[0],df_rain_3h.index[-1])\n",
    "print(df_fstr_3h.index[0],df_fstr_3h.index[-1])"
   ]
  },
  {
   "cell_type": "code",
   "execution_count": null,
   "id": "f9b1c619-0d84-47b0-9f06-9bb4c456df4a",
   "metadata": {},
   "outputs": [],
   "source": [
    "#st=df_fstr.index[0] #df_rain_30m needs to be trimmed to same size as df_fstr\n",
    "#ed=df_fstr.index[-1]\n",
    "df_fstr_3h_filt = df_fstr_3h.loc[df_rain_3h.loc[st:ed,'dailysum_rain']==0.0]"
   ]
  },
  {
   "cell_type": "code",
   "execution_count": null,
   "id": "c8e583b8-abb3-4ee6-82ae-cacfe1461585",
   "metadata": {},
   "outputs": [],
   "source": [
    "df_fstr_filt_1d = df_fstr_filt_3h.resample('1D').mean()\n",
    "df_fstr_filt_7d = df_fstr_filt_3h.resample('7D').mean()"
   ]
  },
  {
   "cell_type": "code",
   "execution_count": null,
   "id": "70d96fde-5c69-49fe-9f4d-49cb113253f8",
   "metadata": {},
   "outputs": [],
   "source": [
    "df_fstr_filt.loc[:,'LE/ET'] = df_fstr_filt['LE']/df_fstr_filt['ET']\n",
    "df_fstr_filt_3h.loc[:,'LE/ET'] = df_fstr_filt_3h['LE']/df_fstr_filt_3h['ET']\n",
    "df_fstr_filt_1d.loc[:,'LE/ET'] = df_fstr_filt_1d['LE']/df_fstr_filt_1d['ET']\n",
    "df_fstr_filt_7d.loc[:,'LE/ET'] = df_fstr_filt_7d['LE']/df_fstr_filt_7d['ET']"
   ]
  },
  {
   "cell_type": "markdown",
   "id": "e31c99ae-7aa7-4638-9571-6de0192f97c4",
   "metadata": {},
   "source": [
    "### save fstr to file "
   ]
  },
  {
   "cell_type": "code",
   "execution_count": null,
   "id": "f642ceb4-d9ba-4ebf-a61a-97a88cfac0fb",
   "metadata": {},
   "outputs": [],
   "source": [
    "df_fstr_filt.to_csv('./fstrOutput/fstr_30m_norainydays.csv')\n",
    "df_fstr_filt_3h.to_csv('./fstrOutput/fstr_3H_norainydays.csv')\n",
    "df_fstr_filt_1d.to_csv('./fstrOutput/fstr_1D_norainydays.csv')\n",
    "df_fstr_filt_7d.to_csv('./fstrOutput/fstr_7D_norainydays.csv')"
   ]
  },
  {
   "cell_type": "markdown",
   "id": "9e000376-d22b-423d-9eb9-a0860c069fc3",
   "metadata": {},
   "source": [
    "# manual check with figures"
   ]
  },
  {
   "cell_type": "code",
   "execution_count": null,
   "id": "fc82ecbc-8312-4bb2-abe2-9c169f4abca8",
   "metadata": {},
   "outputs": [],
   "source": [
    "#df_fstr.loc[df_rain_30m.loc[st:ed,'days_since_rain']>=7.0,['LE/ET']].plot()"
   ]
  },
  {
   "cell_type": "code",
   "execution_count": null,
   "id": "dc5cf931-a083-4d4c-8667-5fc4ab5146bd",
   "metadata": {},
   "outputs": [],
   "source": [
    "df_fstr_filt_7d['LE/ET'].plot()"
   ]
  },
  {
   "cell_type": "markdown",
   "id": "d0f341c4-f525-4b49-9939-3713905e835b",
   "metadata": {},
   "source": [
    "### Old way"
   ]
  },
  {
   "cell_type": "code",
   "execution_count": null,
   "id": "dd7b317f-4ec7-4798-8a32-60a0a6509831",
   "metadata": {},
   "outputs": [],
   "source": [
    "plt.rcParams[\"figure.figsize\"] = (20,6)\n",
    "\n",
    "\n",
    "\n",
    "def fstr_plot_wrapper(st,ed):\n",
    "\n",
    "    fig,ax = plt.subplots()\n",
    "    \n",
    "    b=df_ET.loc[st:ed,['P(mast)']].resample('1D').sum()\n",
    "    a=(knmi_regen.loc[st:ed,['RD']]/10)\n",
    "    ax.bar(b.index,b['P(mast)'],alpha=0.5, align='edge', label=\"Pmast data\")\n",
    "    ax.bar(a.index,a['RD'],alpha=0.5, align='edge', label=\"KNMI data\")\n",
    "    \n",
    "    df_tmp30m=pd.DataFrame()\n",
    "    df_tmp30m['ET']=df_ET['ET_VPD']\n",
    "    df_tmp30m['P(mast)']=df_ET['P(mast)']\n",
    "    df_tmp30m=df_tmp30m.dropna()\n",
    "    \n",
    "    df_LE=df_Comb['LE'].loc[df_Comb['LE']>=0]\n",
    "    df_tmp30m=df_tmp30m.merge(df_LE, how='inner',left_index=True, right_index=True)\n",
    "    c=df_tmp30m.loc[st:ed].resample('1D').sum()\n",
    "    c['LE/ET']=c['LE']/c['ET']\n",
    "    \n",
    "    ax.set_ylabel(\"precip\")\n",
    "    ax2 = ax.twinx()\n",
    "    ax2.set_ylim(0,5)\n",
    "    ax2.set_ylabel(\"fstr\")\n",
    "    #ax2.set_yscale('log')\n",
    "    \n",
    "    ax2.scatter(c.index,c['LE/ET'],c=np.where(c['LE/ET']<1,'b','r'))\n",
    "    \n",
    "    ax.legend()\n",
    "    ax.xaxis.set_minor_locator(mdates.DayLocator())\n",
    "\n",
    "for year in range(2001,2021):\n",
    "    st=str(year)+\"-04-01\"\n",
    "    ed=str(year)+\"-09-30\"\n",
    "    fstr_plot_wrapper(st,ed)"
   ]
  },
  {
   "cell_type": "code",
   "execution_count": null,
   "id": "5b1740ca-2e43-4345-a072-d1655505d7e8",
   "metadata": {},
   "outputs": [],
   "source": [
    "plt.rcParams[\"figure.figsize\"] = (20,6)\n",
    "\n",
    "\n",
    "\n",
    "def fstr_plot_wrapper(st,ed):\n",
    "\n",
    "    fig,ax = plt.subplots()\n",
    "    \n",
    "    b=df_ET.loc[st:ed,['P(mast)']].resample('1D').sum()\n",
    "    a=(df_rain.loc[st:ed,['RD']])\n",
    "    ax.bar(b.index,b['P(mast)'],alpha=0.5, align='edge', label=\"Pmast data\")\n",
    "    ax.bar(a.index,a['RD'],alpha=0.5, align='edge', label=\"KNMI data\")\n",
    "    \n",
    "    df_tmp30m=pd.DataFrame()\n",
    "    df_tmp30m['ET']=df_ET['ET_VPD']\n",
    "    df_tmp30m['P(mast)']=df_ET['P(mast)']\n",
    "    df_tmp30m=df_tmp30m.dropna()\n",
    "    \n",
    "    df_LE=df_Comb['LE'].loc[df_Comb['LE']>=0]\n",
    "    df_tmp30m=df_tmp30m.merge(df_LE, how='inner',left_index=True, right_index=True)\n",
    "    c=df_tmp30m.loc[st:ed].resample('1D').sum()\n",
    "    c['LE/ET']=c['LE']/c['ET']\n",
    "    \n",
    "    ax.set_ylabel(\"precip\")\n",
    "    ax2 = ax.twinx()\n",
    "    ax2.set_ylim(0,5)\n",
    "    ax2.set_ylabel(\"fstr\")\n",
    "    #ax2.set_yscale('log')\n",
    "    \n",
    "    ax2.scatter(c.index,c['LE/ET'],c=np.where(c['LE/ET']<1,'b','r'))\n",
    "    \n",
    "    ax.legend()\n",
    "    ax.xaxis.set_minor_locator(mdates.DayLocator())\n",
    "\n",
    "for year in range(2001,2021):\n",
    "    st=str(year)+\"-04-01\"\n",
    "    ed=str(year)+\"-09-30\"\n",
    "    fstr_plot_wrapper(st,ed)"
   ]
  },
  {
   "cell_type": "markdown",
   "id": "5906b8e0-46f9-4ebd-bd0f-d2c91e5413ff",
   "metadata": {},
   "source": [
    "### New way"
   ]
  },
  {
   "cell_type": "code",
   "execution_count": null,
   "id": "ed2405d5-52a6-43cb-b67b-3867a0de8b9b",
   "metadata": {},
   "outputs": [],
   "source": [
    "plt.rcParams[\"figure.figsize\"] = (20,6)\n",
    "\n",
    "\n",
    "def fstr_plot_wrapper(st,ed, df_fstr , df_ET , df_rain):\n",
    "\n",
    "    fig,ax = plt.subplots()\n",
    "    \n",
    "    b=df_ET.loc[st:ed,['P(mast)']].resample('1D').sum()\n",
    "    a=df_rain.loc[st:ed,['RD']]\n",
    "    ax.bar(b.index,b['P(mast)'],alpha=0.5, align='edge', label=\"Pmast data\")\n",
    "    ax.bar(a.index,a['RD'],alpha=0.5, align='edge', label=\"KNMI data\")\n",
    "\n",
    "    df_plot=df_fstr.loc[st:ed,['LE','ET']]\n",
    "    df_plot = df_plot.resample('1D').mean()\n",
    "    df_plot.loc[:,'LE/ET']=df_plot['LE']/df_plot['ET']\n",
    "    \n",
    "    ax.set_ylabel(\"precip\")\n",
    "    ax2 = ax.twinx()\n",
    "    ax2.set_ylim(0,5)\n",
    "    ax2.set_ylabel(\"fstr\")\n",
    "    #ax2.set_yscale('log')\n",
    "    \n",
    "    ax2.scatter(df_plot.index,df_plot['LE/ET'],c=np.where(df_plot['LE/ET']<1,'b','r'))\n",
    "    \n",
    "    ax.legend()\n",
    "    ax.xaxis.set_minor_locator(mdates.DayLocator())\n",
    "\n",
    "for year in range(2001,2020):\n",
    "    st=str(year)+\"-04-01\"\n",
    "    ed=str(year)+\"-09-30\"\n",
    "    fstr_plot_wrapper(st,ed , df_fstr_3h , df_ET , df_rain )"
   ]
  },
  {
   "cell_type": "code",
   "execution_count": null,
   "id": "8a3720e5-1fcf-4b97-b67c-d61e4b66a7e8",
   "metadata": {},
   "outputs": [],
   "source": [
    "df_tmp30m=pd.DataFrame()\n",
    "df_tmp30m['ET']=df_ET['ET_VPD']\n",
    "df_tmp30m['P(mast)']=df_ET['P(mast)']\n",
    "df_tmp30m=df_tmp30m.dropna()\n",
    "\n",
    "df_LE=df_Comb['LE'].loc[df_Comb['LE']>=0]\n",
    "df_tmp30m=df_tmp30m.merge(df_LE, how='inner',left_index=True, right_index=True)\n",
    "\n",
    "#df_tmp30['ET/LE']=df_tmp30['ET']/df_tmp30['LE']\n",
    "#df_tmp30m['LE/ET']=df_tmp30m['LE']/df_tmp30m['ET'] #<- this is the one we want, observations/model. If obs/model = fstr, then model*fstr= model(obs/model) = obs\n",
    "\n",
    "df_tmp30m['P_3day']=df_tmp30m['P(mast)'].rolling('72H').sum()\n",
    "#df_tmp30m=df_tmp30m.loc[df_tmp30m['P_3day']==0]\n",
    "\n",
    "df_tmp3h=df_tmp30m.resample('3H').mean()#.between_time(\"09:00\", \"15:00\")\n",
    "df_tmp3h['P(mast)']=df_tmp30m['P(mast)'].resample('3H').sum() #overwrite the averaged pmast with sum pmast\n",
    "df_tmp3h['P_3day']=df_tmp3h['P(mast)'].rolling('72H').sum() #overwrite the correct P_3day\n",
    "\n",
    "#remove rainy days through knmi data\n",
    "df_tmp3h['RD']=df_rain['RD']\n",
    "df_tmp3h['RD']=df_tmp3h['RD']/10 #convert from tenths of mm to mm\n",
    "df_tmp3h=df_tmp3h.loc[df_tmp3h['RD']==0]\n",
    "\n",
    "#remove rainy days through Pmast\n",
    "df_rain3h_dailymax=df_tmp3h['P(mast)'].resample('1D').sum().resample('3H').ffill()\n",
    "df_rain3h_dailymax=df_rain3h_dailymax[:-1] #remove last entry because all 3h frames end on 21:00 not 00:00\n",
    "df_rain3h_dailymax=df_rain3h_dailymax.rename('P(mast)Dmax')\n",
    "df_tmp3h['P(mast)Dmax']=df_rain3h_dailymax\n",
    "df_tmp3h=df_tmp3h.loc[df_tmp3h['P(mast)Dmax']==0]\n",
    "\n",
    "#manual filter remove bad days\n",
    "listofdates =  ['2008-08-24',\n",
    "                '2010-05-11',\n",
    "                '2010-08-04',\n",
    "                '2012-06-13',\n",
    "                '2013-05-10',\n",
    "                '2013-05-19',\n",
    "                '2014-06-16',\n",
    "                '2017-04-22']\n",
    "\n",
    "#for date in listofdates:\n",
    "#    df_tmp3h.loc[date+' 00:00':date+' 21:00','ET'] = np.nan\n",
    "#    df_tmp3h.loc[date+' 00:00':date+' 21:00','LE'] = np.nan\n",
    "\n",
    "#remove hours outside of 9:00 and 15:00\n",
    "df_tmp3h=df_tmp3h.between_time(\"09:00\", \"15:00\")\n",
    "\n",
    "#resample to daily\n",
    "df_tmp1d=df_tmp3h.resample('1D').mean()\n",
    "df_tmp1d['doy']=df_tmp1d.index.dayofyear\n",
    "df_tmp1d['P(mast)sum']=df_tmp3h['P(mast)'].resample('1D').sum()\n",
    "df_tmp1d['LE/ET']=df_tmp1d['LE']/df_tmp1d['ET']\n",
    "\n",
    "#resample to weekly (7 days)\n",
    "df_tmp7d=df_tmp3h.resample('7D').mean()\n",
    "df_tmp7d['LE/ET']=df_tmp7d['LE']/df_tmp7d['ET']"
   ]
  },
  {
   "cell_type": "markdown",
   "id": "6c64f18a-8ea4-432c-9e9c-dfb6bf2b2fef",
   "metadata": {},
   "source": [
    "### visulaize each year to see whats going wrong"
   ]
  },
  {
   "cell_type": "markdown",
   "id": "44c1b03f-1c31-4113-8a61-39f08db055cc",
   "metadata": {},
   "source": [
    "### matplotlib version"
   ]
  },
  {
   "cell_type": "code",
   "execution_count": null,
   "id": "13cb57d8-9042-40e0-bb40-54484072ee43",
   "metadata": {},
   "outputs": [],
   "source": [
    "plt.rcParams[\"figure.figsize\"] = (20,6)\n",
    "st=\"2011-04-01\"\n",
    "ed=\"2011-09-30\"\n",
    "#df_tmp.loc[st:ed,'LE/ET'].plot()\n",
    "\n",
    "fig,ax = plt.subplots()\n",
    "fig.subplots_adjust(right=0.75)\n",
    "\n",
    "twin1 = ax.twinx()\n",
    "twin2 = ax.twinx()\n",
    "\n",
    "# Offset the twin axis below the host\n",
    "#fig.subplots_adjust(bottom=0.2)\n",
    "twin2.spines[\"right\"].set_position((\"axes\", 1.05))\n",
    "twin1.set_ylabel(\"Precip 3day (Pmast) [mm]\")\n",
    "twin2.set_ylabel(\"Precip knmi [tenth of mm]\")\n",
    "\n",
    "p1, = ax.plot(df_tmp3h.loc[st:ed,'LE'],label=\"LE obs 3H mean\")\n",
    "p2, = ax.plot(df_tmp3h.loc[st:ed,'ET'],label=\"LE model 3H mean\")\n",
    "p3, = ax.plot(df_tmp7d.loc[st:ed,'LE'],c='#1f77b4',linestyle='--',label=\"LE obs 7day mean\")\n",
    "p4, = ax.plot(df_tmp7d.loc[st:ed,'ET'],c='orange',linestyle='--',label=\"LE model 7day mean\")\n",
    "#p5, = twin1.plot(df_ET.loc[st:ed,'P(mast)'],c='red',label=\"Pmast\")\n",
    "#p6, = twin1.plot(df_ET.loc[st:ed,'last3day_prec'],c='black',label=\"Pmast 72h\")\n",
    "p7 = twin2.bar(knmi_regen.loc[st:ed].index,knmi_regen.loc[st:ed,'RD'],width=1, align='edge', color=\"blue\",alpha=0.5, label=\"KNMI Precip\")[0]\n",
    "p8 = twin2.bar(df_tmp1d.loc[st:ed].index,df_tmp1d.loc[st:ed,'P(mast)sum'],width=1, align='edge', color=\"red\",alpha=0.5, label=\"Pmast Precip\")[0]\n",
    "\n",
    "ax.xaxis.set_minor_locator(mdates.DayLocator())\n",
    "\n",
    "ax.set_ylabel('LE [Wm-2]')\n",
    "ax.legend(handles=[p1,p2,p3,p4,p5,p6],labels=[\"a\",\"b\",\"c\",\"d\",\"e\",\"f\"])\n",
    "ax.legend(loc=(\"upper left\"))\n",
    "fig.autofmt_xdate()\n",
    "ax.grid()\n",
    "\n",
    "#df_tmp30.loc[st:ed,'LE'].plot(label=\"LE obs 3H mean\",legend=\"y\",ylabel=\"Wm-2\",title=\"LEobs and LEsim 3H mean and 7day mean values, 00:00-23:30\")\n",
    "#df_tmp30.loc[st:ed,'ET'].plot(label=\"LE model 3H mean\",legend=\"y\")\n",
    "#df_tmp.loc[st:ed,'LE'].plot(label=\"LE obs 7day mean\",legend=\"y\",c='#1f77b4',style='--')\n",
    "#df_tmp.loc[st:ed,'ET'].plot(label=\"LE model 7day mean\",legend=\"y\",c='orange',style='--')\n",
    "#df_ET.loc[st:ed,'P(mast)'].plot()"
   ]
  },
  {
   "cell_type": "code",
   "execution_count": null,
   "id": "fcf42065-810e-4e0e-ae8e-df1e0036fb52",
   "metadata": {},
   "outputs": [],
   "source": [
    "plt.rcParams[\"figure.figsize\"] = (20,6)\n",
    "st=\"2011-04-01\"\n",
    "ed=\"2011-09-30\"\n",
    "#df_tmp.loc[st:ed,'LE/ET'].plot()\n",
    "\n",
    "fig,ax = plt.subplots()\n",
    "fig.subplots_adjust(right=0.75)\n",
    "\n",
    "twin1 = ax.twinx()\n",
    "twin2 = ax.twinx()\n",
    "\n",
    "# Offset the twin axis below the host\n",
    "#fig.subplots_adjust(bottom=0.2)\n",
    "twin2.spines[\"right\"].set_position((\"axes\", 1.05))\n",
    "twin1.set_ylabel(\"Precip 3day (Pmast) [mm]\")\n",
    "twin2.set_ylabel(\"Precip knmi [tenth of mm]\")\n",
    "\n",
    "p1, = ax.plot(df_tmp3h.loc[st:ed,'LE'],label=\"LE obs 3H mean\")\n",
    "p2, = ax.plot(df_tmp3h.loc[st:ed,'ET'],label=\"LE model 3H mean\")\n",
    "p3, = ax.plot(df_tmp7d.loc[st:ed,'LE'],c='#1f77b4',linestyle='--',label=\"LE obs 7day mean\")\n",
    "p4, = ax.plot(df_tmp7d.loc[st:ed,'ET'],c='orange',linestyle='--',label=\"LE model 7day mean\")\n",
    "#p5, = twin1.plot(df_ET.loc[st:ed,'P(mast)'],c='red',label=\"Pmast\")\n",
    "#p6, = twin1.plot(df_ET.loc[st:ed,'last3day_prec'],c='black',label=\"Pmast 72h\")\n",
    "p7 = twin2.bar(knmi_regen.loc[st:ed].index,knmi_regen.loc[st:ed,'RD'],width=1, align='edge', color=\"blue\",alpha=0.5, label=\"KNMI Precip\")[0]\n",
    "p8 = twin2.bar(df_tmp1d.loc[st:ed].index,df_tmp1d.loc[st:ed,'P(mast)sum'],width=1, align='edge', color=\"red\",alpha=0.5, label=\"Pmast Precip\")[0]\n",
    "\n",
    "ax.xaxis.set_minor_locator(mdates.DayLocator())\n",
    "\n",
    "ax.set_ylabel('LE [Wm-2]')\n",
    "ax.legend(handles=[p1,p2,p3,p4,p5,p6],labels=[\"a\",\"b\",\"c\",\"d\",\"e\",\"f\"])\n",
    "ax.legend(loc=(\"upper left\"))\n",
    "fig.autofmt_xdate()\n",
    "ax.grid()\n",
    "\n",
    "#df_tmp30.loc[st:ed,'LE'].plot(label=\"LE obs 3H mean\",legend=\"y\",ylabel=\"Wm-2\",title=\"LEobs and LEsim 3H mean and 7day mean values, 00:00-23:30\")\n",
    "#df_tmp30.loc[st:ed,'ET'].plot(label=\"LE model 3H mean\",legend=\"y\")\n",
    "#df_tmp.loc[st:ed,'LE'].plot(label=\"LE obs 7day mean\",legend=\"y\",c='#1f77b4',style='--')\n",
    "#df_tmp.loc[st:ed,'ET'].plot(label=\"LE model 7day mean\",legend=\"y\",c='orange',style='--')\n",
    "#df_ET.loc[st:ed,'P(mast)'].plot()"
   ]
  },
  {
   "cell_type": "markdown",
   "id": "bc0c0ed3-4ef4-4129-835e-34b035a95ea6",
   "metadata": {},
   "source": [
    "## putting it together to derive fstr"
   ]
  },
  {
   "cell_type": "code",
   "execution_count": null,
   "id": "211de573-11b8-4c8f-a324-1508d402161c",
   "metadata": {},
   "outputs": [],
   "source": [
    "#plt.rcParams[\"figure.figsize\"] = plt.rcParamsDefault\n",
    "#plt.rcParams.update(plt.rcParamsDefault)\n",
    "plt.rcParams[\"figure.figsize\"] = (20,6)\n",
    "\n",
    "#remove non-growthseason values\n",
    "df_plot = df_fstr_filt_7d.copy()\n",
    "df_plot=df_plot.loc[(df_plot.index.month>=4) & (df_plot.index.month<=9)]\n",
    "\n",
    "df_plot['weeknr']=df_plot.index.isocalendar().week\n",
    "\n",
    "\n",
    "fig,ax = plt.subplots()\n",
    "ax.set_ylim(0,2)\n",
    "ax.set_ylabel('fstr (=LEobs/LEsim)')\n",
    "ax.set_xlabel('weeknr')\n",
    "\n",
    "plt.xticks([x for x in range(14,41)]) #this sets the xticks for the main x-axis with the weeknr\n",
    "locs, labels=plt.xticks() #this same function with no argument gets the position and labels and stores them for later\n",
    "\n",
    "ax2 = ax.twiny()\n",
    "fig.subplots_adjust(bottom=0.2)\n",
    "\n",
    "# Move twinned axis ticks and label from top to bottom\n",
    "ax2.xaxis.set_ticks_position(\"bottom\")\n",
    "ax2.xaxis.set_label_position(\"bottom\")\n",
    "\n",
    "# Offset the twin axis below the host\n",
    "ax2.spines[\"bottom\"].set_position((\"axes\", -0.15))\n",
    "\n",
    "# Turn on the frame for the twin axis, but then hide all \n",
    "# but the bottom spine\n",
    "ax2.set_frame_on(True)\n",
    "ax2.patch.set_visible(False)\n",
    "\n",
    "ax2.set_xlabel('approx month')\n",
    "ax2.set_xlim(13,41)\n",
    "ax2.set_xticks([14, 18, 22, 26,  30, 34, 39])\n",
    "ax2.set_xticklabels(['Apr', 'May', 'Jun', 'Jul', 'Aug', 'Sep', 'Oct'])\n",
    "\n",
    "colored_years={'2003':'green','2006':'orange','2007':'magenta','2011':'#b62020','2018':'blue','2019':'cyan'}\n",
    "\n",
    "for year in ['2001','2002','2003','2004','2005','2006','2007','2008','2009','2010','2011','2012','2013','2014','2015','2017','2018','2019']:\n",
    "    start=year+'-01-01 01:00'\n",
    "    end=year+'-12-23 23:00'\n",
    "    if year in colored_years.keys():\n",
    "        color=colored_years[year]\n",
    "        marker='^'\n",
    "    else:\n",
    "        color='grey'\n",
    "        marker=''\n",
    "    #marker={'2008':'^','2009':'^','2010':'^','2011':'^','2012':'o','2013':'^','2014':'o','2015':'^','2016':'o','2017':'o','2018':'^'}\n",
    "    #colors={'2008':'#b62020','2009':'#cb2424','2010':'^','2011':'^','2012':'o','2013':'^','2014':'o','2015':'^','2016':'o','2017':'o','2018':'^'}\n",
    "    #df_tmp.loc[start:end,'ET/LE'].plot(x=df_tmp.loc[start:end,'weeknr'],ylim=(0,15))\n",
    "    ax.plot(df_plot.loc[start:end,'weeknr'],df_plot.loc[start:end,'LE/ET'], marker=marker,color=color ,label=year) #marker=marker[year]\n",
    "ax.legend(loc=(\"upper left\"))\n",
    "ax.set_title('fstr (=LEobs/LEsim) on week-basis for 2001-2020 growth seasons (Apr-Sept), 3-hour means for 09:00-15:00, rainy days removed')\n",
    "#ax.set_title('fstr=0: witing point , fstr=1: no water stress')\n",
    "ax.grid()"
   ]
  },
  {
   "cell_type": "code",
   "execution_count": null,
   "id": "124ebcc6-1a90-4e2e-a2ef-55fd9b0b4e41",
   "metadata": {},
   "outputs": [],
   "source": [
    "#plt.rcParams[\"figure.figsize\"] = plt.rcParamsDefault\n",
    "#plt.rcParams.update(plt.rcParamsDefault)\n",
    "plt.rcParams[\"figure.figsize\"] = (20,6)\n",
    "\n",
    "#remove non-growthseason values\n",
    "df_tmp7d=df_tmp7d.loc[(df_tmp7d.index.month>=4) & (df_tmp7d.index.month<=9)]\n",
    "\n",
    "df_tmp7d['weeknr']=df_tmp7d.index.isocalendar().week\n",
    "\n",
    "#df_tmp7d=df_tmp7d.loc[df_tmp7d['LE/ET']<=1.0]\n",
    "\n",
    "#df_tmp\n",
    "\n",
    "#df_tmp['ET/LE'].plot(ylim=(0,15))\n",
    "\n",
    "fig,ax = plt.subplots()\n",
    "ax.set_ylim(0,1.5)\n",
    "ax.set_ylabel('fstr (=LEobs/LEsim)')\n",
    "ax.set_xlabel('weeknr')\n",
    "\n",
    "plt.xticks([x for x in range(14,41)]) #this sets the xticks for the main x-axis with the weeknr\n",
    "locs, labels=plt.xticks() #this same function with no argument gets the position and labels and stores them for later\n",
    "\n",
    "ax2 = ax.twiny()\n",
    "fig.subplots_adjust(bottom=0.2)\n",
    "\n",
    "# Move twinned axis ticks and label from top to bottom\n",
    "ax2.xaxis.set_ticks_position(\"bottom\")\n",
    "ax2.xaxis.set_label_position(\"bottom\")\n",
    "\n",
    "# Offset the twin axis below the host\n",
    "ax2.spines[\"bottom\"].set_position((\"axes\", -0.15))\n",
    "\n",
    "# Turn on the frame for the twin axis, but then hide all \n",
    "# but the bottom spine\n",
    "ax2.set_frame_on(True)\n",
    "ax2.patch.set_visible(False)\n",
    "\n",
    "ax2.set_xlabel('approx month')\n",
    "ax2.set_xlim(13,41)\n",
    "ax2.set_xticks([14, 18, 22, 26,  30, 34, 39])\n",
    "ax2.set_xticklabels(['Apr', 'May', 'Jun', 'Jul', 'Aug', 'Sep', 'Oct'])\n",
    "\n",
    "\n",
    "for year in ['2001','2002','2003','2004','2005','2006','2007','2008','2009','2010','2011','2012','2013','2014','2015','2017','2018','2019']:\n",
    "    start=year+'-01-01 01:00'\n",
    "    end=year+'-12-23 23:00'\n",
    "    if int(year)>=2010:\n",
    "        marker='s'\n",
    "    else:\n",
    "        marker='o'\n",
    "\n",
    "    ax.plot(df_tmp7d.loc[start:end,'weeknr'],df_tmp7d.loc[start:end,'LE/ET'], marker=marker ,label=year) #marker=marker[year]\n",
    "ax.legend(loc=(\"upper left\"))\n",
    "fig.suptitle('fstr (=LEobs/LEsim) on week-basis for april t/m sept, 09:00-15:00, rainy days removed')\n",
    "ax.set_title('fstr=0: witing point , fstr=1: no water stress')\n",
    "ax.grid()"
   ]
  },
  {
   "cell_type": "code",
   "execution_count": null,
   "id": "eacd77ed-32ef-4bf0-a51c-0510777e1286",
   "metadata": {},
   "outputs": [],
   "source": [
    "#plt.rcParams[\"figure.figsize\"] = plt.rcParamsDefault\n",
    "#plt.rcParams.update(plt.rcParamsDefault)\n",
    "plt.rcParams[\"figure.figsize\"] = (20,6)\n",
    "\n",
    "#remove non-growthseason values\n",
    "df_tmp7d=df_tmp7d.loc[(df_tmp7d.index.month>=4) & (df_tmp7d.index.month<=9)]\n",
    "\n",
    "df_tmp7d['weeknr']=df_tmp7d.index.isocalendar().week\n",
    "\n",
    "#df_tmp7d=df_tmp7d.loc[df_tmp7d['LE/ET']<=1.0]\n",
    "\n",
    "#df_tmp\n",
    "\n",
    "#df_tmp['ET/LE'].plot(ylim=(0,15))\n",
    "\n",
    "fig,ax = plt.subplots()\n",
    "ax.set_ylim(0,1.5)\n",
    "ax.set_ylabel('fstr (=LEobs/LEsim)')\n",
    "ax.set_xlabel('weeknr')\n",
    "\n",
    "plt.xticks([x for x in range(14,41)]) #this sets the xticks for the main x-axis with the weeknr\n",
    "locs, labels=plt.xticks() #this same function with no argument gets the position and labels and stores them for later\n",
    "\n",
    "ax2 = ax.twiny()\n",
    "fig.subplots_adjust(bottom=0.2)\n",
    "\n",
    "# Move twinned axis ticks and label from top to bottom\n",
    "ax2.xaxis.set_ticks_position(\"bottom\")\n",
    "ax2.xaxis.set_label_position(\"bottom\")\n",
    "\n",
    "# Offset the twin axis below the host\n",
    "ax2.spines[\"bottom\"].set_position((\"axes\", -0.15))\n",
    "\n",
    "# Turn on the frame for the twin axis, but then hide all \n",
    "# but the bottom spine\n",
    "ax2.set_frame_on(True)\n",
    "ax2.patch.set_visible(False)\n",
    "\n",
    "ax2.set_xlabel('approx month')\n",
    "ax2.set_xlim(13,41)\n",
    "ax2.set_xticks([14, 18, 22, 26,  30, 34, 39])\n",
    "ax2.set_xticklabels(['Apr', 'May', 'Jun', 'Jul', 'Aug', 'Sep', 'Oct'])\n",
    "\n",
    "colored_years={'2003':'green','2006':'orange','2011':'#b62020','2013':'purple','2018':'blue'}\n",
    "\n",
    "for year in ['2001','2002','2003','2004','2005','2006','2007','2008','2009','2010','2011','2012','2013','2014','2015','2017','2018','2019']:\n",
    "    start=year+'-01-01 01:00'\n",
    "    end=year+'-12-23 23:00'\n",
    "    if year in colored_years.keys():\n",
    "        color=colored_years[year]\n",
    "        marker='^'\n",
    "    else:\n",
    "        color='grey'\n",
    "        marker=''\n",
    "    #marker={'2008':'^','2009':'^','2010':'^','2011':'^','2012':'o','2013':'^','2014':'o','2015':'^','2016':'o','2017':'o','2018':'^'}\n",
    "    #colors={'2008':'#b62020','2009':'#cb2424','2010':'^','2011':'^','2012':'o','2013':'^','2014':'o','2015':'^','2016':'o','2017':'o','2018':'^'}\n",
    "    #df_tmp.loc[start:end,'ET/LE'].plot(x=df_tmp.loc[start:end,'weeknr'],ylim=(0,15))\n",
    "    ax.plot(df_tmp7d.loc[start:end,'weeknr'],df_tmp7d.loc[start:end,'LE/ET'], marker=marker,color=color ,label=year) #marker=marker[year]\n",
    "ax.legend(loc=(\"upper left\"))\n",
    "fig.suptitle('fstr (=LEobs/LEsim) on week-basis for april t/m sept, 09:00-15:00, rainy days removed')\n",
    "ax.set_title('fstr=0: witing point , fstr=1: no water stress')\n",
    "ax.grid()"
   ]
  }
 ],
 "metadata": {
  "kernelspec": {
   "display_name": "Python 3 (ipykernel)",
   "language": "python",
   "name": "python3"
  },
  "language_info": {
   "codemirror_mode": {
    "name": "ipython",
    "version": 3
   },
   "file_extension": ".py",
   "mimetype": "text/x-python",
   "name": "python",
   "nbconvert_exporter": "python",
   "pygments_lexer": "ipython3",
   "version": "3.11.5"
  },
  "varInspector": {
   "cols": {
    "lenName": 16,
    "lenType": 16,
    "lenVar": 40
   },
   "kernels_config": {
    "python": {
     "delete_cmd_postfix": "",
     "delete_cmd_prefix": "del ",
     "library": "var_list.py",
     "varRefreshCmd": "print(var_dic_list())"
    },
    "r": {
     "delete_cmd_postfix": ") ",
     "delete_cmd_prefix": "rm(",
     "library": "var_list.r",
     "varRefreshCmd": "cat(var_dic_list()) "
    }
   },
   "oldHeight": 471.85,
   "position": {
    "height": "493.844px",
    "left": "1539.19px",
    "right": "20px",
    "top": "105px",
    "width": "344px"
   },
   "types_to_exclude": [
    "module",
    "function",
    "builtin_function_or_method",
    "instance",
    "_Feature"
   ],
   "varInspector_section_display": "block",
   "window_display": true
  }
 },
 "nbformat": 4,
 "nbformat_minor": 5
}
