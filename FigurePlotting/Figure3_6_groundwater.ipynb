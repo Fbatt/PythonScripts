{
 "cells": [
  {
   "cell_type": "markdown",
   "id": "a2978442-0a0a-42b2-ac0f-8e6b685580d8",
   "metadata": {},
   "source": [
    "# A-gs model and implementation (simulation CO2 and H2O flux)"
   ]
  },
  {
   "cell_type": "markdown",
   "id": "c5053646-e207-4e8c-a62e-2a7f70ad0887",
   "metadata": {},
   "source": [
    "## Initialize data and model"
   ]
  },
  {
   "cell_type": "markdown",
   "id": "467470b3-2427-4ada-b14f-9ff26922d8ec",
   "metadata": {},
   "source": [
    "### Setup and fetch data"
   ]
  },
  {
   "cell_type": "code",
   "execution_count": null,
   "id": "515abf18",
   "metadata": {},
   "outputs": [],
   "source": [
    "# Settings\n",
    "Username   = 'Beheerder'\n",
    "years      = range(2001,2022)    #(1997,2021) # Set years to download"
   ]
  },
  {
   "cell_type": "code",
   "execution_count": null,
   "id": "668a7cf2-dae8-4f7e-9d63-dafeb44e9656",
   "metadata": {},
   "outputs": [],
   "source": [
    "import os\n",
    "datapath   = os.path.join('../../') #since this file is 2 dir down from the data it's ../../\n",
    "print('datapath is set to %s'%datapath)\n",
    "\n",
    "\n",
    "import numpy as np\n",
    "import pandas as pd\n",
    "import matplotlib.pyplot as plt\n",
    "#import plotly.express as px\n",
    "#import cufflinks as cf\n",
    "import matplotlib.dates as mdate\n",
    "import matplotlib.ticker as ticker\n",
    "from matplotlib import cm\n",
    "#from colorspacious import cspace_converter\n",
    "import scipy.stats as stats\n",
    "#cf.go_offline()\n",
    "# cf.set_config_file(offline=False, world_readable=True)\n",
    "\n",
    "from datetime import datetime, timedelta\n",
    "import sys\n",
    "sys.path.insert(0, os.path.join(datapath,'PythonScripts'))\n",
    "sys.path.append('../') #append the directory above this one to path to be able to find my python modules\n",
    "import matplotlib.dates as mdates"
   ]
  },
  {
   "cell_type": "markdown",
   "id": "ccdba5ac-1755-4eb6-a072-2a28d5f3b1ec",
   "metadata": {},
   "source": [
    "## groundwater calculations and write to file"
   ]
  },
  {
   "cell_type": "code",
   "execution_count": null,
   "id": "e1849572-210f-454b-be31-2afe1fc58f06",
   "metadata": {},
   "outputs": [],
   "source": [
    "#new location put 88\n",
    "dir = '../../Dinoloket_2024-01-20/Grondwaterstanden_Put/B32F0088001_1_edit.csv'\n",
    "df_GWS=pd.read_csv(dir,sep=\",\",index_col=False)\n",
    "df_GWS=df_GWS.drop(['Locatie','Filternummer','Bijzonderheid','Opmerking'], axis=1)\n",
    "#df_GWS['Peildatum']=df_GWS['Peildatum']+\" 12:00\"\n",
    "df_GWS['datetime']=pd.to_datetime(df_GWS['Peildatum'], dayfirst=True, format='mixed')\n",
    "df_GWS.index = df_GWS['datetime']\n",
    "df_GWS=df_GWS.drop(['Peildatum','datetime'], axis=1)\n",
    "years_range=(str(list(years)[0])+'-01-01',str(list(years)[-1])+'-12-31')\n",
    "st=years_range[0]\n",
    "ed=years_range[1]\n",
    "df_GWS=df_GWS.loc[st:ed,['Stand (cm t.o.v. MV)']]\n",
    "df_GWS.rename(columns={'Stand (cm t.o.v. MV)':'depth'},inplace=True)\n",
    "\n",
    "\n",
    "#df_GWS_7d=df_GWS.resample('7D').interpolate()\n",
    "#avg_GWS_7d = df_GWS_7d['depth'].mean()\n",
    "#df_GWS_7d['anom']=df_GWS_7d.loc[st:ed,'depth']-avg_GWS_7d\n",
    "#df_GWS_7d.index=df_GWS_7d.index.astype('datetime64[s]')"
   ]
  },
  {
   "cell_type": "code",
   "execution_count": null,
   "id": "fce42ce1-5439-4c11-91cf-354f03ef4d41",
   "metadata": {},
   "outputs": [],
   "source": [
    "df_GWS"
   ]
  },
  {
   "cell_type": "code",
   "execution_count": null,
   "id": "f3baa3c6-f45b-4c73-8c89-3ca0f2f3765f",
   "metadata": {},
   "outputs": [],
   "source": [
    "#up to 18-04-2002 the data is roughly every 14 days. After daily frequency.\n",
    "df_GWS_daily_2001=df_GWS.loc['2001-01-01':'2002-04-18',['depth']].copy()\n",
    "#df_GWS_daily_2001.index=df_GWS_daily_2001.index.floor('1D') #if the index has timestamp use this line for .interpolate() to work\n",
    "df_GWS_daily_2001=df_GWS_daily_2001.resample('1D').interpolate(method='time')\n",
    "df_GWS_daily_2001=df_GWS_daily_2001.loc[:'2002-04-17'] # remove the date 2002-04-18 for later attachment to rest of dataframe\n",
    "\n",
    "#create and attach the above interpolated section of df to the rest of the data\n",
    "df_GWS_daily=pd.DataFrame()\n",
    "df_GWS_daily=df_GWS.loc['2002-04-18':,['depth']]\n",
    "#df_GWS_daily.index=df_GWS_daily.index.floor('1D') #need to remove the time\n",
    "df_GWS_daily=pd.concat([df_GWS_daily_2001,df_GWS_daily],axis=0) #join the two row-wise with concat\n",
    "\n",
    "avg_GWS_all = df_GWS_daily['depth'].mean()\n",
    "df_GWS_daily['depth_anom_all'] = df_GWS_daily.loc[st:ed,'depth']-avg_GWS_all\n",
    "\n",
    "#write data to file\n",
    "\n",
    "#df_GWS_daily.to_csv('./GWS_daily.csv')"
   ]
  },
  {
   "cell_type": "code",
   "execution_count": null,
   "id": "775c2222-c5c3-49aa-84bb-d52588885f5f",
   "metadata": {},
   "outputs": [],
   "source": [
    "#change since april of that year\n",
    "#slice up the dataframe into data based on year\n",
    "#select values between dates of interest (2001-2019)\n",
    "\n",
    "#create a df that has only the measured values (roughly every 14 days until early 2002)\n",
    "df_GWS_multi = pd.DataFrame()\n",
    "df_GWS_multi['yeardate'] = pd.date_range(start=\"2000-04-01\", end=\"2000-10-30\", freq='1D') #using dummy dates for year 2000 because otherwise datetime obj wont work\n",
    "df_GWS_multi['monthday'] = df_GWS_multi['yeardate'].dt.strftime(date_format='%m-%d')\n",
    "df_GWS_multi.index=df_GWS_multi['yeardate']\n",
    "\n",
    "for year in range(2001,2020):\n",
    "    st=str(year)+'-04-01'\n",
    "    ed=str(year)+'-10-30'\n",
    "    df_tmp=df_GWS_daily.loc[st:ed,['depth']]\n",
    "    df_tmp=df_tmp.rename(columns={'depth':'depth_'+str(year)})\n",
    "    df_tmp.index=df_tmp.index.strftime(date_format='2000-%m-%d') #set year to 2000 otherwise I can't easily use joins\n",
    "    df_tmp.index=pd.to_datetime(df_tmp.index)\n",
    "    #calc difference since april 1\n",
    "    val_start = df_tmp.loc['2000-04-01','depth_'+str(year)] #the value at april 1st of that year\n",
    "    df_tmp['depth_'+str(year)+'_diff']=df_tmp['depth_'+str(year)]-val_start #subtract value at april 1st so that it starts at 0\n",
    "    avg_GWS_season = df_GWS['depth'].mean()\n",
    "    df_tmp['depth_'+str(year)+'_anom']=df_tmp['depth_'+str(year)]-avg_GWS_season #subtract value at april 1st so that it starts at 0\n",
    "    #attach temp results to main df\n",
    "    df_GWS_multi=pd.concat([df_GWS_multi,df_tmp],axis=1)\n",
    "\n",
    "#from here: https://stackoverflow.com/questions/42138357/pandas-rolling-slope-calculation    \n",
    "#def calc_slope(x):\n",
    "#    slope = np.polyfit(range(len(x)), x, 1)[0]\n",
    "#    return slope\n",
    "\n",
    "## set min_periods=2 to allow subsets less than 60.\n",
    "## use [4::5] to select the results you need.\n",
    "#result = data.rolling(60, min_periods=2).apply(calc_slope)[4::5]\n",
    "    \n",
    "#df_GWS_multi\n",
    "\n",
    "df_GWS_multi.to_csv('./GWS_multi_daily.csv')"
   ]
  },
  {
   "cell_type": "code",
   "execution_count": null,
   "id": "a0faff90-a0e8-433b-a0e9-4961e3d3ba29",
   "metadata": {},
   "outputs": [],
   "source": [
    "#df_GWS_multi"
   ]
  },
  {
   "cell_type": "markdown",
   "id": "cf59d64b-3485-4e32-8eb5-aef486bd3018",
   "metadata": {},
   "source": [
    "## Groundwater Plots"
   ]
  },
  {
   "cell_type": "code",
   "execution_count": null,
   "id": "bbf7fe3c-2aba-4ede-b160-d723485ffe1c",
   "metadata": {},
   "outputs": [],
   "source": [
    "df_GWS_multi # all years\n",
    "\n",
    "#plt.rcParams[\"figure.figsize\"] = plt.rcParamsDefault\n",
    "#plt.rcParams.update(plt.rcParamsDefault)\n",
    "plt.rcParams[\"figure.figsize\"] = (20,6)\n",
    "\n",
    "fig,ax = plt.subplots()\n",
    "#ax.set_ylim(0,1.5)\n",
    "ax.set_ylabel('GW delta since april 1st')\n",
    "ax.set_xlabel('Date')\n",
    "\n",
    "#plt.xticks([x for x in range(14,41)]) #this sets the xticks for the main x-axis with the weeknr\n",
    "#locs, labels=plt.xticks() #this same function with no argument gets the position and labels and stores them for later\n",
    "\n",
    "#fig.subplots_adjust(bottom=0.2)\n",
    "\n",
    "\n",
    "\n",
    "colored_years={'2003':'green','2006':'orange','2011':'#b62020','2013':'purple','2015':'','2018':'blue'}\n",
    "\n",
    "for year in ['2001','2002','2003','2004','2005','2006','2007','2008','2009','2010','2011','2012','2013','2014','2015','2017','2018','2019']:\n",
    "    start=year+'-04-01'\n",
    "    end=year+'-10-30'\n",
    "    if year in colored_years.keys():\n",
    "        color=colored_years[year]\n",
    "        marker=''\n",
    "    else:\n",
    "        color='grey'\n",
    "        marker=''\n",
    "    ax.plot(df_GWS_multi['yeardate'],df_GWS_multi['depth_'+year+'_diff'], marker=marker ,label=year) \n",
    "ax.legend(loc=(\"upper left\"))\n",
    "ax.invert_yaxis()\n",
    "ax.xaxis.set_minor_locator(mdates.DayLocator())\n",
    "ax.xaxis.set_major_locator(mdates.DayLocator(bymonthday=[1,15]))\n",
    "ax.xaxis.set_major_formatter(mdates.DateFormatter('%b-%d'))\n",
    "\n",
    "fig.suptitle('Ground water depth relative to depth at start of growth season that year')\n",
    "ax.set_title('GW_delta = GW_depth(current of that year) - GW_depth(april 1st of that year)')\n",
    "ax.grid()"
   ]
  },
  {
   "cell_type": "code",
   "execution_count": null,
   "id": "c5adb192-d8b4-408c-98c2-897692c6e9cb",
   "metadata": {},
   "outputs": [],
   "source": [
    "## df_GWS_multi #years that stay down\n",
    "\n",
    "#plt.rcParams[\"figure.figsize\"] = plt.rcParamsDefault\n",
    "#plt.rcParams.update(plt.rcParamsDefault)\n",
    "plt.rcParams[\"figure.figsize\"] = (20,6)\n",
    "\n",
    "fig,ax = plt.subplots()\n",
    "#ax.set_ylim(0,1.5)\n",
    "ax.set_ylabel('GW delta since april 1st')\n",
    "ax.set_xlabel('Date')\n",
    "\n",
    "#plt.xticks([x for x in range(14,41)]) #this sets the xticks for the main x-axis with the weeknr\n",
    "#locs, labels=plt.xticks() #this same function with no argument gets the position and labels and stores them for later\n",
    "\n",
    "#fig.subplots_adjust(bottom=0.2)\n",
    "\n",
    "#colored_years={'2003':'green','2008':'orange', 2009'2011':'#b62020','2013':'purple','2018':'blue'}\n",
    "#2003 2008 2009 2010 (2011) 2013 2014  2018 2019\n",
    "\n",
    "grey_years=['2001','2002','2004','2005','2006','2007','2010','2011','2012','2016','2017']\n",
    "\n",
    "#\n",
    "for year in ['2001','2002','2003','2004','2005','2006','2007','2008','2009','2010','2011','2012','2013','2014','2015','2016','2017','2018','2019']:\n",
    "    start=year+'-04-01'\n",
    "    end=year+'-10-30'\n",
    "    if year in grey_years:#colored_years.keys():\n",
    "        marker=''\n",
    "        ax.plot(df_GWS_multi['yeardate'],df_GWS_multi['depth_'+year+'_diff'], marker=marker, color='grey', zorder=3 ,label=year)\n",
    "    else:\n",
    "        marker=''\n",
    "        ax.plot(df_GWS_multi['yeardate'],df_GWS_multi['depth_'+year+'_diff'], marker=marker, zorder=3 ,label=year)\n",
    "ax.legend(loc=(\"upper left\"))\n",
    "ax.invert_yaxis()\n",
    "ax.xaxis.set_minor_locator(mdates.DayLocator())\n",
    "ax.xaxis.set_major_locator(mdates.DayLocator(bymonthday=[1,15]))\n",
    "ax.xaxis.set_major_formatter(mdates.DateFormatter('%b-%d'))\n",
    "\n",
    "fig.suptitle('Ground water depth relative to depth at start of growth season that year')\n",
    "ax.set_title('GW_delta = GW_depth(current of that year) - GW_depth(april 1st of that year)')\n",
    "ax.grid()"
   ]
  },
  {
   "cell_type": "markdown",
   "id": "97c6df11-24ea-4061-8698-1150f64e7549",
   "metadata": {},
   "source": [
    "# all years GWS"
   ]
  },
  {
   "cell_type": "code",
   "execution_count": null,
   "id": "99dd16ac-85da-452a-b796-7d6e5d52b9e5",
   "metadata": {},
   "outputs": [],
   "source": [
    "df_GWS"
   ]
  },
  {
   "cell_type": "code",
   "execution_count": null,
   "id": "8516ae59-b50a-4139-9526-b8c38a512367",
   "metadata": {},
   "outputs": [],
   "source": [
    "from matplotlib.ticker import AutoMinorLocator,MultipleLocator,FixedLocator\n",
    "#from matplotlib.axis import Axis\n",
    "\n",
    "plt.rcParams[\"figure.figsize\"] = (20,6)\n",
    "fig, ax1 =plt.subplots(nrows=1,ncols=1)\n",
    "\n",
    "ax1.plot(df_GWS['depth'])\n",
    "\n",
    "ax1.set_ylim(50,320)\n",
    "ax1.set_title('GWL t.o.v. surface')\n",
    "ax1.set_ylabel('depth (cm)')\n",
    "ax1.invert_yaxis()\n",
    "fig.suptitle('Groundwater level 2001-2020 (Well ID:B32F0088)')\n",
    "years = [datetime(year,1,1) for year in range(2001,2022)]\n",
    "f1=lambda year: datetime(year,4,1)\n",
    "f2=lambda year: datetime(year,10,1)\n",
    "growseasons = [f(year) for year in range(2001,2021) for f in (f1,f2)] #double list comprehension pattern: [f(x) for x in range(5) for f in (f1,f2)]\n",
    "xticks = [mdates.date2num(z) for z in growseasons]\n",
    "#Axis.set_major_locator(ax1.xaxis, years)\n",
    "ax1.yaxis.set_major_locator(MultipleLocator(20))\n",
    "ax1.xaxis.set_minor_locator(ticker.FixedLocator(xticks))\n",
    "#ax1.yaxis.set_minor_locator(growseasons)\n",
    "ax1.xaxis.set_ticks(years)\n",
    "fig.autofmt_xdate() #allows you to auto-align the x axis labels\n",
    "ax1.grid()\n",
    "#ax1.grid(axis='x', which='major')\n",
    "\n",
    "#print(growseasons)\n",
    "\n",
    "plt.show()"
   ]
  },
  {
   "cell_type": "code",
   "execution_count": null,
   "id": "c73c54cf-5c3f-4fd2-acc8-a989a2cd2d4d",
   "metadata": {},
   "outputs": [],
   "source": []
  }
 ],
 "metadata": {
  "kernelspec": {
   "display_name": "Python 3 (ipykernel)",
   "language": "python",
   "name": "python3"
  },
  "language_info": {
   "codemirror_mode": {
    "name": "ipython",
    "version": 3
   },
   "file_extension": ".py",
   "mimetype": "text/x-python",
   "name": "python",
   "nbconvert_exporter": "python",
   "pygments_lexer": "ipython3",
   "version": "3.11.5"
  },
  "varInspector": {
   "cols": {
    "lenName": 16,
    "lenType": 16,
    "lenVar": 40
   },
   "kernels_config": {
    "python": {
     "delete_cmd_postfix": "",
     "delete_cmd_prefix": "del ",
     "library": "var_list.py",
     "varRefreshCmd": "print(var_dic_list())"
    },
    "r": {
     "delete_cmd_postfix": ") ",
     "delete_cmd_prefix": "rm(",
     "library": "var_list.r",
     "varRefreshCmd": "cat(var_dic_list()) "
    }
   },
   "oldHeight": 471.85,
   "position": {
    "height": "493.844px",
    "left": "1539.19px",
    "right": "20px",
    "top": "105px",
    "width": "344px"
   },
   "types_to_exclude": [
    "module",
    "function",
    "builtin_function_or_method",
    "instance",
    "_Feature"
   ],
   "varInspector_section_display": "block",
   "window_display": true
  }
 },
 "nbformat": 4,
 "nbformat_minor": 5
}
