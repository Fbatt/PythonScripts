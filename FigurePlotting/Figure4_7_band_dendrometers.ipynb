{
 "cells": [
  {
   "cell_type": "code",
   "execution_count": null,
   "id": "4c38b3f5-2abc-41ae-af16-e91fd0d22c12",
   "metadata": {},
   "outputs": [],
   "source": [
    "import os , sys\n",
    "datapath   = os.path.join('../../') #since this file is 2 dir down from the data it's ../../\n",
    "print('datapath is set to %s'%datapath)\n",
    "import numpy as np\n",
    "import pandas as pd\n",
    "import matplotlib.pyplot as plt\n",
    "from datetime import datetime, timedelta\n",
    "sys.path.insert(0, os.path.join(datapath,'PythonScripts'))\n",
    "sys.path.append('../')\n",
    "#from Loobos_Toolbox import Read_LoobosEddFinal, Read_LooStor, Read_LoodatGapfill, Read_Loobos_halfhourly, Read_Loobos_meteo, Read_Loobos_soil, Read_Loobos_profile\n",
    "#from Loobos_Toolbox_Dendro_Grwater"
   ]
  },
  {
   "cell_type": "code",
   "execution_count": null,
   "id": "f4a54ce0-3667-4819-a350-cebba3a6328a",
   "metadata": {},
   "outputs": [],
   "source": [
    "#my own functions\n",
    "from Loobos_Toolbox_Dendro_Grwater import Read_Dendrometers,notmatch"
   ]
  },
  {
   "cell_type": "markdown",
   "id": "9b754861-67bf-4acf-a8d2-a9d7f156dead",
   "metadata": {},
   "source": [
    "## Import Dendrometer data"
   ]
  },
  {
   "cell_type": "markdown",
   "id": "52650210-1cb4-420e-9eae-8f5488c9b99f",
   "metadata": {},
   "source": [
    "### populate dataframes"
   ]
  },
  {
   "cell_type": "code",
   "execution_count": null,
   "id": "73620605-9b7b-426e-935e-c640218e748c",
   "metadata": {},
   "outputs": [],
   "source": [
    "## function to import all dendro data and append it to the other data\n",
    "df_dendro_I5 = pd.read_csv(datapath+'Loobos_dendrometers\\I5.csv',sep=\",\",index_col=False)\n",
    "df_dendro_I5['datetime']=pd.to_datetime(df_dendro_I5['groeiseizoen'], format= '%m-%d %H:%M')\n",
    "df_dendro_I5.index = df_dendro_I5['datetime']\n",
    "\n",
    "df_dendro_K9 = pd.read_csv(datapath+'Loobos_dendrometers\\K9.csv',sep=\",\",index_col=False)\n",
    "df_dendro_K9['datetime']=pd.to_datetime(df_dendro_K9['groeiseizoen'], format= '%m-%d %H:%M')\n",
    "df_dendro_K9.index = df_dendro_K9['datetime']"
   ]
  },
  {
   "cell_type": "markdown",
   "id": "253b187a-5c24-4a97-bff4-84ccb2b2ca38",
   "metadata": {
    "jp-MarkdownHeadingCollapsed": true
   },
   "source": [
    "### visual check dataframes"
   ]
  },
  {
   "cell_type": "code",
   "execution_count": null,
   "id": "41288b83-15f7-440c-a7d1-95dee178e3d6",
   "metadata": {},
   "outputs": [],
   "source": [
    "df_dendro_I5"
   ]
  },
  {
   "cell_type": "code",
   "execution_count": null,
   "id": "af92e9bb-7489-4715-bb37-63362a77da3d",
   "metadata": {},
   "outputs": [],
   "source": [
    "df_dendro_K9"
   ]
  },
  {
   "cell_type": "markdown",
   "id": "9d2de197-e349-464f-90df-5388c4fe59e2",
   "metadata": {},
   "source": [
    "## Plot multiple years of dendrometer growth"
   ]
  },
  {
   "cell_type": "code",
   "execution_count": null,
   "id": "e49cfc7e-7b3b-48ae-8b8c-a8d8167f1d98",
   "metadata": {},
   "outputs": [],
   "source": [
    "import matplotlib.dates as mdates\n"
   ]
  },
  {
   "cell_type": "code",
   "execution_count": null,
   "id": "96881c7c-8b87-422f-b052-85202aa1ce45",
   "metadata": {},
   "outputs": [],
   "source": [
    "# quick resample\n",
    "#df_dendro_I5=df_dendro_I5.resample('1D').mean()\n",
    "#df_dendro_O3=df_dendro_O3.resample('1D').mean()"
   ]
  },
  {
   "cell_type": "markdown",
   "id": "b1203e2b-2e50-46db-95dd-64ee967e368a",
   "metadata": {},
   "source": [
    "### 2008-2011"
   ]
  },
  {
   "cell_type": "code",
   "execution_count": null,
   "id": "84e94f7f-cc9c-437c-b4ca-b3abba177f40",
   "metadata": {},
   "outputs": [],
   "source": [
    "plt.rcParams[\"figure.figsize\"] = (18,8)"
   ]
  },
  {
   "cell_type": "code",
   "execution_count": null,
   "id": "1272f623-fb0b-4d62-8f65-3e03ef862fd9",
   "metadata": {},
   "outputs": [],
   "source": [
    "fig,ax=plt.subplots() #put this inside the brackets constrained_layout=True\n",
    "#fig.subplots_adjust(right=0.75)\n",
    "\n",
    "#plot values\n",
    "p1, = ax.plot(df_dendro_I5['jr2008'], \"g-\", label=\"2008\")\n",
    "p2, = ax.plot(df_dendro_K9['jr2009'], \"r-\", label=\"2009\")\n",
    "p3, = ax.plot(df_dendro_I5['jr2010'], \"b-\", label=\"2010\")\n",
    "p4, = ax.plot(df_dendro_I5['jr2011'], \"m-\", label=\"2011\")\n",
    "\n",
    "#x tick date formatting\n",
    "myFmt = mdates.DateFormatter('%b-%d') #%b is month name, short. %B is month name, full.\n",
    "ax.xaxis.set_major_formatter(myFmt)\n",
    "    \n",
    "ax.set_ylim(-2,10)\n",
    "        \n",
    "#set axis labels\n",
    "ax.set_xlabel(\"Time\")\n",
    "ax.set_ylabel(\"Circumference increase [mm]\")\n",
    "#ax.xaxis.set_ticks(pd.date_range(start=time_start, end=time_end, freq='1M'))\n",
    "\n",
    "#color the yaxis labels\n",
    "#ax.yaxis.label.set_color('black')\n",
    "#color the rest of the yaxis lines and ticks\n",
    "#tkw = dict(size=4, width=1.5)\n",
    "#ax.tick_params(axis='y', colors='black', **tkw)\n",
    "#ax.tick_params(axis='x', **tkw)\n",
    "fig.suptitle('Hourly Dendrometer Circumference Growth for 2008-2011')\n",
    "    \n",
    "fig.autofmt_xdate() #allows you to auto-align the x axis labels\n",
    "\n",
    "ax.legend(handles=[p1, p2, p3 ,p4],labels=['2008 (I5)','2009 (K9)','2010 (I5)','2011 (I5)'], loc='upper left')\n",
    "\n",
    "plt.grid()\n",
    "plt.show()"
   ]
  },
  {
   "cell_type": "code",
   "execution_count": null,
   "id": "b66d5158-987e-40d8-87b0-166b311e065f",
   "metadata": {},
   "outputs": [],
   "source": [
    "fig,ax=plt.subplots() #put this inside the brackets constrained_layout=True\n",
    "#fig.subplots_adjust(right=0.75)\n",
    "\n",
    "#plot values\n",
    "p1, = ax.plot(df_dendro_I5['jr2008'], \"g-\", label=\"2008\")\n",
    "p2, = ax.plot(df_dendro_K9['jr2009'], \"r-\", label=\"2009\")\n",
    "p3, = ax.plot(df_dendro_I5['jr2010'], \"b-\", label=\"2010\")\n",
    "p4, = ax.plot(df_dendro_I5['jr2011'], \"m-\", label=\"2011\")\n",
    "p5, = ax.plot(df_dendro_I5['jr2012'], \"orange\", label=\"2012\")\n",
    "p6, = ax.plot(df_dendro_I5['jr2013'], \"yellow\", label=\"2013\")\n",
    "\n",
    "#x tick date formatting\n",
    "myFmt = mdates.DateFormatter('%b-%d') #%b is month name, short. %B is month name, full.\n",
    "ax.xaxis.set_major_formatter(myFmt)\n",
    "    \n",
    "ax.set_ylim(-2.5,10)\n",
    "        \n",
    "#set axis labels\n",
    "ax.set_xlabel(\"Time\")\n",
    "ax.set_ylabel(\"Circumference increase [mm]\")\n",
    "#ax.xaxis.set_ticks(pd.date_range(start=time_start, end=time_end, freq='1M'))\n",
    "\n",
    "#color the yaxis labels\n",
    "#ax.yaxis.label.set_color('black')\n",
    "#color the rest of the yaxis lines and ticks\n",
    "#tkw = dict(size=4, width=1.5)\n",
    "#ax.tick_params(axis='y', colors='black', **tkw)\n",
    "#ax.tick_params(axis='x', **tkw)\n",
    "ax.set_title('Hourly Dendrometer Circumference Growth for 2008-2013')\n",
    "    \n",
    "fig.autofmt_xdate() #allows you to auto-align the x axis labels\n",
    "\n",
    "ax.legend(handles=[p1, p2, p3 ,p4,p5,p6],labels=['2008 (I5)','2009 (K9)','2010 (I5)','2011 (I5)','2012 (I5)','2013 (I5)'], loc='upper left')\n",
    "\n",
    "plt.grid()\n",
    "plt.show()"
   ]
  },
  {
   "cell_type": "markdown",
   "id": "a4d29f34-3021-49c8-919f-d88e0cfd772e",
   "metadata": {},
   "source": [
    "### 2012-2015"
   ]
  },
  {
   "cell_type": "code",
   "execution_count": null,
   "id": "d45bcb51-9b55-4c99-8c6f-ae662f9f3c99",
   "metadata": {},
   "outputs": [],
   "source": [
    "fig,ax=plt.subplots() #put this inside the brackets constrained_layout=True\n",
    "#fig.subplots_adjust(right=0.75)\n",
    "\n",
    "#plot values\n",
    "\n",
    "p1, = ax.plot(df_dendro_I5['jr2014'], \"g-\", label=\"2014\")\n",
    "p2, = ax.plot(df_dendro_I5['jr2015'], \"r-\", label=\"2015\")\n",
    "p3, = ax.plot(df_dendro_I5['jr2016'], \"b-\", label=\"2016\")\n",
    "p4, = ax.plot(df_dendro_I5['jr2017'], \"m-\", label=\"2017\")\n",
    "p5, = ax.plot(df_dendro_I5['jr2018'], \"orange\", label=\"2018\")\n",
    "p6, = ax.plot(df_dendro_I5['jr2019'], \"yellow\", label=\"2019\")\n",
    "\n",
    "#x tick date formatting\n",
    "myFmt = mdates.DateFormatter('%b-%d') #%b is month name, short. %B is month name, full.\n",
    "ax.xaxis.set_major_formatter(myFmt)\n",
    "    \n",
    "ax.set_ylim(-2.5,10)\n",
    "        \n",
    "#set axis labels\n",
    "ax.set_xlabel(\"Time\")\n",
    "ax.set_ylabel(\"Circumference increase [mm]\")\n",
    "#ax.xaxis.set_ticks(pd.date_range(start=time_start, end=time_end, freq='1M'))\n",
    "\n",
    "#color the yaxis labels\n",
    "#ax.yaxis.label.set_color('black')\n",
    "#color the rest of the yaxis lines and ticks\n",
    "#tkw = dict(size=4, width=1.5)\n",
    "#ax.tick_params(axis='y', colors='black', **tkw)\n",
    "#ax.tick_params(axis='x', **tkw)\n",
    "ax.set_title('Hourly Dendrometer Circumference Growth for 2014-2019')\n",
    "    \n",
    "fig.autofmt_xdate() #allows you to auto-align the x axis labels\n",
    "\n",
    "ax.legend(handles=[p1, p2, p3 ,p4,p5,p6],labels=['2014 (I5)','2015 (I5)','2016 (I5)','2017 (I5)','2018 (I5)','2019 (I5)'],loc='upper left')\n",
    "\n",
    "plt.grid()\n",
    "plt.show()"
   ]
  },
  {
   "cell_type": "markdown",
   "id": "babacc40-8bd1-4106-974c-8509ca078daa",
   "metadata": {},
   "source": [
    "## All years"
   ]
  },
  {
   "cell_type": "code",
   "execution_count": null,
   "id": "75aacc99-ed3b-460b-a1b7-e1c28b6c72c6",
   "metadata": {},
   "outputs": [],
   "source": []
  },
  {
   "cell_type": "code",
   "execution_count": null,
   "id": "89a7991b-77fa-4a51-bbf2-9a8945f0bcca",
   "metadata": {},
   "outputs": [],
   "source": [
    "fig,ax=plt.subplots() #put this inside the brackets constrained_layout=True\n",
    "#fig.subplots_adjust(right=0.75)\n",
    "\n",
    "#plot values\n",
    "p1, = ax.plot(df_dendro_I5['jr2008'], \"grey\", label=\"2008\")\n",
    "p2, = ax.plot(df_dendro_K9['jr2009'], \"grey\", label=\"2009\")\n",
    "p3, = ax.plot(df_dendro_I5['jr2010'], \"r-\", label=\"2010\")\n",
    "p4, = ax.plot(df_dendro_I5['jr2011'], \"m-\", label=\"2011\")\n",
    "p5, = ax.plot(df_dendro_I5['jr2012'], \"grey\", label=\"2012\")\n",
    "p6, = ax.plot(df_dendro_I5['jr2013'], \"g-\", label=\"2013\")\n",
    "p7, = ax.plot(df_dendro_I5['jr2014'], \"brown\", label=\"2014\")\n",
    "p8, = ax.plot(df_dendro_I5['jr2015'], \"grey\", label=\"2015\")\n",
    "p9, = ax.plot(df_dendro_I5['jr2016'], \"grey\", label=\"2016\")\n",
    "p10, = ax.plot(df_dendro_I5['jr2017'], \"grey\", label=\"2017\")\n",
    "p11, = ax.plot(df_dendro_I5['jr2018'], \"b-\", label=\"2018\")\n",
    "p12, = ax.plot(df_dendro_I5['jr2019'], \"cyan\", label=\"2019\")\n",
    "\n",
    "\n",
    "#x tick date formatting\n",
    "myFmt = mdates.DateFormatter('%b-%d') #%b is month name, short. %B is month name, full.\n",
    "ax.xaxis.set_major_formatter(myFmt)\n",
    "    \n",
    "ax.set_ylim(-2,10)\n",
    "        \n",
    "#set axis labels\n",
    "ax.set_xlabel(\"Time\")\n",
    "ax.set_ylabel(\"Circumference increase [mm]\")\n",
    "#ax.xaxis.set_ticks(pd.date_range(start=time_start, end=time_end, freq='1M'))\n",
    "\n",
    "#color the yaxis labels\n",
    "#ax.yaxis.label.set_color('black')\n",
    "#color the rest of the yaxis lines and ticks\n",
    "#tkw = dict(size=4, width=1.5)\n",
    "#ax.tick_params(axis='y', colors='black', **tkw)\n",
    "#ax.tick_params(axis='x', **tkw)\n",
    "ax.set_title('Hourly Dendrometer Circumference Growth for 2008-2019')\n",
    "    \n",
    "fig.autofmt_xdate() #allows you to auto-align the x axis labels\n",
    "\n",
    "ax.legend(loc='upper left') \n",
    "plt.grid()\n",
    "plt.show()"
   ]
  },
  {
   "cell_type": "code",
   "execution_count": null,
   "id": "67c8cf91-b4c2-492f-a9a0-0694c2df55fa",
   "metadata": {},
   "outputs": [],
   "source": []
  }
 ],
 "metadata": {
  "kernelspec": {
   "display_name": "Python 3 (ipykernel)",
   "language": "python",
   "name": "python3"
  },
  "language_info": {
   "codemirror_mode": {
    "name": "ipython",
    "version": 3
   },
   "file_extension": ".py",
   "mimetype": "text/x-python",
   "name": "python",
   "nbconvert_exporter": "python",
   "pygments_lexer": "ipython3",
   "version": "3.11.5"
  }
 },
 "nbformat": 4,
 "nbformat_minor": 5
}
