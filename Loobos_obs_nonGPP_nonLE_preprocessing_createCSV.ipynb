{
 "cells": [
  {
   "cell_type": "markdown",
   "id": "9218f49f-04e7-4ba1-bad1-41482b32fc9a",
   "metadata": {},
   "source": [
    "# File for pre-processing Loobos observation data that isn't GPP or LE, and exporting to CSV"
   ]
  },
  {
   "cell_type": "markdown",
   "id": "8ef01fc8-b9e5-49f1-88a4-24b976bcfb47",
   "metadata": {},
   "source": [
    "## VPD, relHum. , Radiation, Temps, Pressure ... [add as you implement]"
   ]
  },
  {
   "cell_type": "code",
   "execution_count": null,
   "id": "a50967af-48e5-415f-9e15-b5099cdc1872",
   "metadata": {},
   "outputs": [],
   "source": []
  }
 ],
 "metadata": {
  "kernelspec": {
   "display_name": "Python 3 (ipykernel)",
   "language": "python",
   "name": "python3"
  },
  "language_info": {
   "codemirror_mode": {
    "name": "ipython",
    "version": 3
   },
   "file_extension": ".py",
   "mimetype": "text/x-python",
   "name": "python",
   "nbconvert_exporter": "python",
   "pygments_lexer": "ipython3",
   "version": "3.11.5"
  }
 },
 "nbformat": 4,
 "nbformat_minor": 5
}
