{
 "cells": [
  {
   "cell_type": "markdown",
   "id": "9218f49f-04e7-4ba1-bad1-41482b32fc9a",
   "metadata": {},
   "source": [
    "# File for pre-processing Loobos observation data that isn't GPP or LE, and exporting to CSV"
   ]
  },
  {
   "cell_type": "markdown",
   "id": "8ef01fc8-b9e5-49f1-88a4-24b976bcfb47",
   "metadata": {},
   "source": [
    "## VPD, relHum. , Radiation, Temps, Pressure ... [add as you implement]"
   ]
  },
  {
   "cell_type": "code",
   "execution_count": null,
   "id": "a50967af-48e5-415f-9e15-b5099cdc1872",
   "metadata": {},
   "outputs": [],
   "source": [
    "# Settings\n",
    "Username   = 'Beheerder'\n",
    "years      = range(2008,2018)    #(1997,2021) # Set years to download"
   ]
  },
  {
   "cell_type": "code",
   "execution_count": null,
   "id": "44cc9e81-107c-433e-9a6f-d92804ea5fbd",
   "metadata": {},
   "outputs": [],
   "source": [
    "import os\n",
    "datapath   = os.path.join('../')\n",
    "print('datapath is set to %s'%datapath)\n",
    "\n",
    "import numpy as np\n",
    "import pandas as pd\n",
    "import matplotlib.pyplot as plt\n",
    "\n",
    "import matplotlib.dates as mdate\n",
    "import matplotlib.ticker as ticker\n",
    "from matplotlib import cm\n",
    "import scipy.stats as stats\n",
    "\n",
    "\n",
    "from datetime import datetime, timedelta\n",
    "import sys\n",
    "sys.path.insert(0, os.path.join(datapath,'PythonScripts'))\n",
    "from Loobos_Toolbox import dateparse, dateparse_Gapfilled, Read_LoobosEddFinal, Read_LooStor, Read_LoodatGapfill, Read_Loobos_halfhourly, Read_Loobos_meteo, Read_Loobos_soil, Read_Loobos_profile\n",
    "\n",
    "from Ags_model import runAgs, calc_LE"
   ]
  },
  {
   "cell_type": "code",
   "execution_count": null,
   "id": "9553af4d-8e27-4282-962f-72a3a286799b",
   "metadata": {},
   "outputs": [],
   "source": [
    "#these next two lines are to prevent re-loading the data. If you want to re-load data, instead comment them out\n",
    "if not 'progress' in globals(): progress = list()\n",
    "if not 'dataloaded' in progress:\n",
    "  # Read files\n",
    "    df_EC           = Read_LoobosEddFinal    (years,datapath)\n",
    "    df_Stor         = Read_LooStor           (years,datapath)\n",
    "    df_Comb         = Read_LoodatGapfill     (years,datapath)\n",
    "    df_NEE          = Read_Loobos_halfhourly (years,datapath)\n",
    "    df_meteo        = Read_Loobos_meteo      (years,datapath)\n",
    "    df_soil         = Read_Loobos_soil       (years,datapath) \n",
    "    df_profile      = Read_Loobos_profile    (years,datapath)\n",
    "    progress.append('dataloaded')"
   ]
  },
  {
   "cell_type": "markdown",
   "id": "94a439f4-d4d3-4e97-8e35-df1edacef63e",
   "metadata": {},
   "source": [
    "## filter"
   ]
  },
  {
   "cell_type": "code",
   "execution_count": null,
   "id": "fb1c0529-9e77-4759-adf9-e63de3395541",
   "metadata": {},
   "outputs": [],
   "source": [
    "from FilterData import Filter_wrap\n",
    "CO2,Locorr,VPD,Ustar,df_profile_filter,df_meteo_filter,df_Comb_filter,df_EC_filter=Filter_wrap(df_Comb,df_profile,df_meteo,df_EC,filterversion='default')\n",
    "#NOTE: df_Stor is NOT FILTERED"
   ]
  },
  {
   "cell_type": "markdown",
   "id": "4f92edca-4492-433a-9d97-7acc73ac3c9d",
   "metadata": {},
   "source": [
    "## visualize results"
   ]
  },
  {
   "cell_type": "code",
   "execution_count": null,
   "id": "fe615446-610e-43c3-b678-7f1d04b64911",
   "metadata": {},
   "outputs": [],
   "source": [
    "df_EC_filter"
   ]
  },
  {
   "cell_type": "code",
   "execution_count": null,
   "id": "3983d895-59d2-449a-9761-7d444c9c4f15",
   "metadata": {},
   "outputs": [],
   "source": [
    "df_Stor"
   ]
  },
  {
   "cell_type": "code",
   "execution_count": null,
   "id": "4e7c73e7-f4ab-4e77-b988-71f16c35d3cf",
   "metadata": {},
   "outputs": [],
   "source": [
    "df_profile_filter"
   ]
  },
  {
   "cell_type": "code",
   "execution_count": null,
   "id": "be171312-2692-47f7-ae4b-0bca05998829",
   "metadata": {},
   "outputs": [],
   "source": [
    "df_Comb_filter"
   ]
  },
  {
   "cell_type": "code",
   "execution_count": null,
   "id": "a722469e-1cfc-4e00-bace-209fc74d25a6",
   "metadata": {},
   "outputs": [],
   "source": [
    "df_meteo_filter"
   ]
  },
  {
   "cell_type": "code",
   "execution_count": null,
   "id": "c53a5915-7f31-4db2-8222-5d150b3a2284",
   "metadata": {},
   "outputs": [],
   "source": [
    "df_soil"
   ]
  },
  {
   "cell_type": "code",
   "execution_count": null,
   "id": "15a20a59-2d1c-4582-b264-445fbf208ae8",
   "metadata": {},
   "outputs": [],
   "source": [
    "df_profile"
   ]
  },
  {
   "cell_type": "markdown",
   "id": "7f1952cc-b9d6-45d9-ac8d-bbe45a42a6a0",
   "metadata": {},
   "source": [
    "## Export CSVs"
   ]
  },
  {
   "cell_type": "code",
   "execution_count": null,
   "id": "1198afd4-cc8f-43a9-9d2c-d7bfee3a6b10",
   "metadata": {},
   "outputs": [],
   "source": [
    "#df_EC.to_csv('EC.csv')\n",
    "#df_Stor.to_csv('Stor.csv')\n",
    "#df_Comb.to_csv('Comb.csv')\n",
    "#df_NEE.to_csv('NEE.csv')\n",
    "#df_meteo.to_csv('meteo.csv')\n",
    "#df_soil.to_csv('soil.csv')\n",
    "#df_profile.to_csv('profile.csv')\n"
   ]
  }
 ],
 "metadata": {
  "kernelspec": {
   "display_name": "Python 3 (ipykernel)",
   "language": "python",
   "name": "python3"
  },
  "language_info": {
   "codemirror_mode": {
    "name": "ipython",
    "version": 3
   },
   "file_extension": ".py",
   "mimetype": "text/x-python",
   "name": "python",
   "nbconvert_exporter": "python",
   "pygments_lexer": "ipython3",
   "version": "3.11.5"
  }
 },
 "nbformat": 4,
 "nbformat_minor": 5
}
