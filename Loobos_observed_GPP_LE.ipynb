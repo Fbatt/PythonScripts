{
 "cells": [
  {
   "cell_type": "code",
   "execution_count": null,
   "id": "f8de366e-0d62-4c5a-ba00-26161aadf81e",
   "metadata": {},
   "outputs": [],
   "source": [
    "# Settings\n",
    "Username   = 'Beheerder'\n",
    "years      = range(2001,2021)    #(1997,2021) # Set years to download"
   ]
  },
  {
   "cell_type": "code",
   "execution_count": null,
   "id": "506ec066-f07b-4ccb-bdfc-c62925ab632b",
   "metadata": {},
   "outputs": [],
   "source": [
    "import os\n",
    "datapath = os.path.join('../')\n",
    "#print('datapath is set to %s'%datapath)\n",
    "\n",
    "# !pip install numpy\n",
    "# !pip install pandas\n",
    "# !pip install matplotlib\n",
    "# !pip install plotly \n",
    "# !pip install cufflinks\n",
    "#!pip install colorspacious\n",
    "#!pip install seaborn\n",
    "\n",
    "import numpy as np\n",
    "import pandas as pd\n",
    "import matplotlib.pyplot as plt\n",
    "#import plotly.express as px\n",
    "#import cufflinks as cf\n",
    "import matplotlib.dates as mdate\n",
    "import matplotlib.ticker as ticker\n",
    "from matplotlib import cm\n",
    "#from colorspacious import cspace_converter\n",
    "import scipy.stats as stats\n",
    "#cf.go_offline()\n",
    "#cf.set_config_file(offline=False, world_readable=True)\n",
    "\n",
    "from datetime import datetime, timedelta\n",
    "import sys\n",
    "sys.path.insert(0, os.path.join(datapath,'PythonScripts'))\n",
    "from Loobos_Toolbox import dateparse, dateparse_Gapfilled, Read_LoobosEddFinal, Read_LooStor, Read_LoodatGapfill, Read_Loobos_halfhourly, Read_Loobos_meteo, Read_Loobos_soil, Read_Loobos_profile\n",
    "from Ags_model import runAgs, calc_LE"
   ]
  },
  {
   "cell_type": "code",
   "execution_count": null,
   "id": "4aa9eacf-31ea-4b87-bfd5-44965a86c1dc",
   "metadata": {},
   "outputs": [],
   "source": [
    "#these next two lines are to prevent re-loading the data. If you want to re-load data, instead comment them out\n",
    "if not 'progress' in globals(): progress = list()\n",
    "if not 'dataloaded' in progress:\n",
    "  # Read files\n",
    "    #df_EC           = Read_LoobosEddFinal    (years,datapath)\n",
    "    #df_Stor         = Read_LooStor           (years,datapath)\n",
    "    df_Comb         = Read_LoodatGapfill     (years,datapath)\n",
    "    #df_NEE          = Read_Loobos_halfhourly (years,datapath)\n",
    "    #df_meteo        = Read_Loobos_meteo      (years,datapath)\n",
    "    #df_soil         = Read_Loobos_soil       (years,datapath) \n",
    "    #df_profile      = Read_Loobos_profile    (years,datapath)\n",
    "    progress.append('dataloaded')"
   ]
  },
  {
   "cell_type": "code",
   "execution_count": null,
   "id": "caa367dd-caa1-4409-810c-9c4293f694a5",
   "metadata": {},
   "outputs": [],
   "source": [
    "# Make filter for GPP orginial data and not gapfilled\n",
    "#General filters\n",
    "I = ((df_Comb['GPP_fqc']==0)&(df_meteo['PAR']>0))\n",
    "#t = df_profile.index                                          \n",
    "#time = (t < np.datetime64('2013-05-08')) | (t > np.datetime64('2013-06-01'))\n",
    "\n",
    "# Filter for CO2 data\n",
    "CO2_filt = (df_profile['CO2level1'] > 300)\n",
    "\n",
    "# Filter for L(o)corr data\n",
    "Locorr_filt = (df_meteo['L(o)corr']>0) \n",
    "\n",
    "# Filter for VPD data\n",
    "VPD_filt = (df_Comb['VPD']>=0)\n",
    "\n",
    "# Filter for U-star\n",
    "Ustar_filt = (df_EC['U-star']>=0)\n",
    "\n",
    "# Combine all filters\n",
    "filter = I & CO2_filt & Locorr_filt & VPD_filt & Ustar_filt\n",
    "\n",
    "#Column 'CO2' is input from df_profile\n",
    "df_profile_filter = df_profile[filter]\n",
    "\n",
    "#Column 'L(o)corr' and 'PAR' are inputs from df_meteo\n",
    "df_meteo_filter = df_meteo[filter]\n",
    "\n",
    "#Columns 'VPD' and 'Tair' are inputs from df_Comb\n",
    "df_Comb_filter = df_Comb[filter]\n",
    "\n",
    "# Columns 'Mea_Windsp' and 'U-star' are inputs from df_EC\n",
    "df_EC_filter = df_EC[filter]"
   ]
  },
  {
   "cell_type": "code",
   "execution_count": null,
   "id": "87de505a-1339-4487-b01d-cdf0c8ba8afe",
   "metadata": {},
   "outputs": [],
   "source": [
    "df_LE=df_Comb[['LE']].loc[df_Comb['LE']>0]\n",
    "df_LE.index=df_LE.index.rename('datetime')\n"
   ]
  },
  {
   "cell_type": "code",
   "execution_count": null,
   "id": "9782a281-2cfe-4fad-bba0-698639cc644d",
   "metadata": {},
   "outputs": [],
   "source": [
    "df_GPP=df_Comb[['GPP_f']].loc[(df_Comb['GPP_f']>0)&(df_Comb['GPP_f']<200)]\n",
    "df_GPP.index=df_GPP.index.rename('datetime')\n"
   ]
  },
  {
   "cell_type": "code",
   "execution_count": null,
   "id": "5771388b-21f4-4321-af2a-c5c8ce7e2237",
   "metadata": {},
   "outputs": [],
   "source": [
    "df_LE.to_csv('./LE_obs.csv')"
   ]
  },
  {
   "cell_type": "code",
   "execution_count": null,
   "id": "01a29e21-df27-442c-a443-243723bc9352",
   "metadata": {},
   "outputs": [],
   "source": [
    "df_GPP.to_csv('./GPP_obs.csv')"
   ]
  },
  {
   "cell_type": "markdown",
   "id": "7e7791d1-e509-4f1d-a597-1c0b18f5a99a",
   "metadata": {},
   "source": [
    "## Making a function to call from outside this file"
   ]
  },
  {
   "cell_type": "code",
   "execution_count": null,
   "id": "887546d7-40bb-4c37-b202-056bd46f17fd",
   "metadata": {},
   "outputs": [],
   "source": [
    "def load_observed_GPP_LE(years=)\n",
    "\n",
    "df_Comb         = Read_LoodatGapfill     (years,datapath)"
   ]
  },
  {
   "cell_type": "markdown",
   "id": "4aae322b-d601-4b7d-a80d-3b674c3caaa8",
   "metadata": {
    "jp-MarkdownHeadingCollapsed": true
   },
   "source": [
    "## Manual check filters LE and GPP"
   ]
  },
  {
   "cell_type": "code",
   "execution_count": null,
   "id": "a9f55888-7345-48d1-967c-1155859637cf",
   "metadata": {},
   "outputs": [],
   "source": [
    "df_Comb['LE'].plot()"
   ]
  },
  {
   "cell_type": "code",
   "execution_count": null,
   "id": "0d946260-6d81-4578-8d7f-0e95726768c5",
   "metadata": {},
   "outputs": [],
   "source": [
    "df_Comb['LE'].loc[df_Comb['LE']>0].plot()"
   ]
  },
  {
   "cell_type": "code",
   "execution_count": null,
   "id": "49b478e5-1bbe-4d0b-aa3d-f846638637e4",
   "metadata": {},
   "outputs": [],
   "source": [
    "df_Comb['GPP_f'].plot()"
   ]
  },
  {
   "cell_type": "code",
   "execution_count": null,
   "id": "aabae393-45bc-4b74-85ef-15f4872265b1",
   "metadata": {},
   "outputs": [],
   "source": [
    "df_Comb['GPP_f'].loc[df_Comb['GPP_f']>0].plot()"
   ]
  },
  {
   "cell_type": "code",
   "execution_count": null,
   "id": "f5c5e988-514b-4fbf-bc3f-db086f9bf8af",
   "metadata": {},
   "outputs": [],
   "source": [
    "df_Comb['GPP_f'].loc[(df_Comb['GPP_f']>0)&(df_Comb['GPP_f']<200)].plot()"
   ]
  },
  {
   "cell_type": "code",
   "execution_count": null,
   "id": "6146bd35-cd23-4be2-9a30-7331118df20e",
   "metadata": {},
   "outputs": [],
   "source": []
  }
 ],
 "metadata": {
  "kernelspec": {
   "display_name": "Python 3 (ipykernel)",
   "language": "python",
   "name": "python3"
  },
  "language_info": {
   "codemirror_mode": {
    "name": "ipython",
    "version": 3
   },
   "file_extension": ".py",
   "mimetype": "text/x-python",
   "name": "python",
   "nbconvert_exporter": "python",
   "pygments_lexer": "ipython3",
   "version": "3.11.5"
  }
 },
 "nbformat": 4,
 "nbformat_minor": 5
}
