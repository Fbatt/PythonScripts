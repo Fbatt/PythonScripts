{
 "cells": [
  {
   "cell_type": "code",
   "execution_count": null,
   "id": "5326f30b-cac6-4b3a-9cef-faddd796450d",
   "metadata": {},
   "outputs": [],
   "source": [
    "import os,sys\n",
    "datapath   = \"..\\\\\"\n",
    "print('datapath is set to %s'%datapath)\n",
    "import numpy as np\n",
    "import pandas as pd\n",
    "import matplotlib.pyplot as plt\n",
    "from datetime import datetime, timedelta\n",
    "sys.path.insert(0, os.path.join(datapath,'PythonScripts'))\n",
    "from Loobos_Toolbox import Read_Loobos_meteo"
   ]
  },
  {
   "cell_type": "code",
   "execution_count": null,
   "id": "79834c9a-6bc1-4cf5-9a74-1ec46a64cffa",
   "metadata": {},
   "outputs": [],
   "source": [
    "#set the years. for testing purposes, just do 2000-2001\n",
    "years      = range(1997,2021) "
   ]
  },
  {
   "cell_type": "markdown",
   "id": "a2e9a50f-3c8a-4d4a-a87b-582b1c124506",
   "metadata": {},
   "source": [
    "### Read files"
   ]
  },
  {
   "cell_type": "code",
   "execution_count": null,
   "id": "1b5369fa-2ddf-4398-a6fc-29178ca353ef",
   "metadata": {},
   "outputs": [],
   "source": [
    "# Read files\n",
    "df_meteo        = Read_Loobos_meteo      (years,datapath)"
   ]
  },
  {
   "cell_type": "markdown",
   "id": "52896ded-a5e4-4ef7-9663-7a05d3823c69",
   "metadata": {},
   "source": [
    "## Testing use of rolling average for LE"
   ]
  },
  {
   "cell_type": "code",
   "execution_count": null,
   "id": "e39cd80d-4700-4e16-9a80-d55fb1a2cfef",
   "metadata": {},
   "outputs": [],
   "source": [
    "#plotting df_Comb['LE']\n",
    "import matplotlib.ticker as ticker\n",
    "\n",
    "start='01-01-1997 00:00'\n",
    "end='31-01-2021 00:00'\n",
    "\n",
    "plt.rcParams[\"figure.figsize\"] = (20,6)\n",
    "fig, ax =plt.subplots()\n",
    "\n",
    "precip=df_meteo.loc[start:end,'P(mast)'].resample(\"M\").sum()\n",
    "ax.bar(precip.index,precip.values, color=\"b\",width=20)\n",
    "#ax.set_ylim(300,50)\n",
    "ax.set_title('Monthly Precipitation (mm)')\n",
    "ax.set_ylabel('Precipitation (mm)')\n",
    "#fig.suptitle('Grondwaterstand  1997-2020 put B32F0088')\n",
    "\n",
    "\n",
    "\n",
    "datetimeticks = [datetime(year,1,1) for year in range(1997,2022)]\n",
    "\n",
    "ax.xaxis.set_ticks(datetimeticks)\n",
    "\n",
    "fig.autofmt_xdate()\n",
    "\n",
    "\n",
    "plt.grid()\n",
    "plt.show()\n",
    "\n",
    "#df_meteo['P(mast)'].resample(\"M\").sum()"
   ]
  },
  {
   "cell_type": "code",
   "execution_count": null,
   "id": "60dccbca-21ae-4f18-a4bb-19d9d953e2f6",
   "metadata": {},
   "outputs": [],
   "source": [
    "#simple moving average (30 values)\n",
    "#for tutorial see https://www.geeksforgeeks.org/how-to-calculate-moving-average-in-a-pandas-dataframe/\n",
    "df_Comb['LE_SMA30']= df_Comb['LE'].rolling('3D').mean()"
   ]
  },
  {
   "cell_type": "code",
   "execution_count": null,
   "id": "d4b69be4-7be3-404f-a1f8-1a2a580ba81b",
   "metadata": {},
   "outputs": [],
   "source": [
    "df_meteo.loc[start:end,'P(mast)'].resample(\"M\").sum()"
   ]
  },
  {
   "cell_type": "code",
   "execution_count": null,
   "id": "f730d841-5d1a-41cf-bc65-d1fbcdf85bd6",
   "metadata": {},
   "outputs": [],
   "source": []
  }
 ],
 "metadata": {
  "kernelspec": {
   "display_name": "Python 3 (ipykernel)",
   "language": "python",
   "name": "python3"
  },
  "language_info": {
   "codemirror_mode": {
    "name": "ipython",
    "version": 3
   },
   "file_extension": ".py",
   "mimetype": "text/x-python",
   "name": "python",
   "nbconvert_exporter": "python",
   "pygments_lexer": "ipython3",
   "version": "3.11.5"
  }
 },
 "nbformat": 4,
 "nbformat_minor": 5
}
