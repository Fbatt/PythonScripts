{
 "cells": [
  {
   "cell_type": "markdown",
   "id": "a2978442-0a0a-42b2-ac0f-8e6b685580d8",
   "metadata": {},
   "source": [
    "# A-gs model and implementation (simulation CO2 and H2O flux)"
   ]
  },
  {
   "cell_type": "markdown",
   "id": "c5053646-e207-4e8c-a62e-2a7f70ad0887",
   "metadata": {},
   "source": [
    "## Initialize data and model"
   ]
  },
  {
   "cell_type": "markdown",
   "id": "467470b3-2427-4ada-b14f-9ff26922d8ec",
   "metadata": {},
   "source": [
    "### Setup and fetch data"
   ]
  },
  {
   "cell_type": "code",
   "execution_count": null,
   "id": "515abf18",
   "metadata": {},
   "outputs": [],
   "source": [
    "# Settings\n",
    "Username   = 'Beheerder'\n",
    "years      = range(2001,2021)    #(1997,2021) # Set years to download"
   ]
  },
  {
   "cell_type": "code",
   "execution_count": null,
   "id": "fdb7f756",
   "metadata": {},
   "outputs": [],
   "source": [
    "import os\n",
    "datapath = os.path.join('../')\n",
    "#print('datapath is set to %s'%datapath)\n",
    "\n",
    "import numpy as np\n",
    "import pandas as pd\n",
    "import matplotlib.pyplot as plt\n",
    "#import plotly.express as px\n",
    "#import cufflinks as cf\n",
    "import matplotlib.dates as mdate\n",
    "import matplotlib.ticker as ticker\n",
    "from matplotlib import cm\n",
    "#from colorspacious import cspace_converter\n",
    "import scipy.stats as stats\n",
    "#cf.go_offline()\n",
    "#cf.set_config_file(offline=False, world_readable=True)\n",
    "\n",
    "from datetime import datetime, timedelta\n",
    "import sys\n",
    "sys.path.insert(0, os.path.join(datapath,'PythonScripts'))\n",
    "from Loobos_Toolbox import dateparse, dateparse_Gapfilled, Read_LoobosEddFinal, Read_LooStor, Read_LoodatGapfill, Read_Loobos_halfhourly, Read_Loobos_meteo, Read_Loobos_soil, Read_Loobos_profile\n",
    "from Ags_model import runAgs, calc_LE"
   ]
  },
  {
   "cell_type": "code",
   "execution_count": null,
   "id": "6ecd4fbe-bb75-4187-85d1-6728a7da3996",
   "metadata": {},
   "outputs": [],
   "source": [
    "import matplotlib.dates as mdates"
   ]
  },
  {
   "cell_type": "code",
   "execution_count": null,
   "id": "244e6ea2",
   "metadata": {},
   "outputs": [],
   "source": [
    "#these next two lines are to prevent re-loading the data. If you want to re-load data, instead comment them out\n",
    "if not 'progress' in globals(): progress = list()\n",
    "if not 'dataloaded' in progress:\n",
    "  # Read files\n",
    "    df_EC           = Read_LoobosEddFinal    (years,datapath)\n",
    "    df_Stor         = Read_LooStor           (years,datapath)\n",
    "    df_Comb         = Read_LoodatGapfill     (years,datapath)\n",
    "    df_NEE          = Read_Loobos_halfhourly (years,datapath)\n",
    "    df_meteo        = Read_Loobos_meteo      (years,datapath)\n",
    "    df_soil         = Read_Loobos_soil       (years,datapath) \n",
    "    df_profile      = Read_Loobos_profile    (years,datapath)\n",
    "    progress.append('dataloaded')"
   ]
  },
  {
   "cell_type": "code",
   "execution_count": null,
   "id": "ba7f5a4b-c59f-419e-9efa-bcd355814471",
   "metadata": {},
   "outputs": [],
   "source": [
    "from FilterData import Filter_wrap\n",
    "CO2,Locorr,VPD,Ustar,df_profile_filter,df_meteo_filter,df_Comb_filter,df_EC_filter=Filter_wrap(df_Comb,df_profile,df_meteo,df_EC,filterversion='default')"
   ]
  },
  {
   "cell_type": "code",
   "execution_count": null,
   "id": "366562b5-de3e-4575-95f6-f0450f51bc80",
   "metadata": {},
   "outputs": [],
   "source": [
    "#alternate filtering\n",
    "from FilterData import Filter_GPP_LE_NEE_VPD\n",
    "df_Comb_alt_filter = Filter_GPP_LE_NEE_VPD(df_Comb,fqc=None)"
   ]
  },
  {
   "cell_type": "code",
   "execution_count": null,
   "id": "6fae8ffc-59a1-4474-a75a-a73a24f87318",
   "metadata": {},
   "outputs": [],
   "source": [
    "#cell used for inspecting data\n",
    "#st='2008-01-01'\n",
    "#ed='2019-12-30'\n",
    "#df_meteo.loc[st:ed,'L(o)'].plot()\n",
    "#df_meteo.loc[st:ed,'L(o)corr'].plot()\n",
    "#df_meteo.loc[st:ed,'Te-L(o)'].plot()\n",
    "#df_profile.loc[st:ed,'CO2level1'].plot()\n",
    "#df_profile.loc[st:ed,'Pressure'].plot()\n",
    "#df_Comb.loc[st:ed,'VPD'].plot()\n",
    "#df_Comb.loc[st:ed,'Tair'].plot()\n",
    "#df_Comb.loc[st:ed,'GPP_fqc'].plot()\n",
    "#df_EC.loc[st:ed,'U-star'].plot()\n",
    "#df_EC.loc[st:ed,'Mea_Windsp'].plot()"
   ]
  },
  {
   "cell_type": "markdown",
   "id": "c1996767-09d3-441d-b711-cea73a750854",
   "metadata": {},
   "source": [
    "### Import rain data"
   ]
  },
  {
   "cell_type": "code",
   "execution_count": null,
   "id": "0b5590bc-8a73-43f1-b170-8a5f04608453",
   "metadata": {},
   "outputs": [],
   "source": [
    "#datapath = os.path.join('../KNMI_regen')\n",
    "#print(datapath)\n",
    "knmi_regen=pd.read_csv('../KNMI_regen/neerslaggeg_KOOTWIJK-RADIO_567.txt',sep=',',header=17)\n",
    "knmi_regen=knmi_regen.iloc[28000:] #remove dataset before ~november 2007\n",
    "#knmi_regen=knmi_regen.iloc[31000:] #remove dataset before ~november 2007\n",
    "knmi_regen['date']=pd.to_datetime(knmi_regen['YYYYMMDD'],yearfirst=True,format='%Y%m%d')\n",
    "knmi_regen.index=knmi_regen['date']\n",
    "knmi_regen=knmi_regen.rename(columns={\"   RD\": \"RD\", \"   SX\": \"SX\"}) #for some reason there's spaces in some of the column names, removing them.\n",
    "knmi_regen=knmi_regen.astype({\"RD\": np.intc})\n",
    "knmi_regen['RD'].plot() #Column RD is is rain daily sum, SX is code related to snow. If unnamed contains 4 spaces it's also a code for snow. STN is station ID.\n",
    "df_rain=knmi_regen.loc[:,['RD']].resample('3H').ffill()\n",
    "#df_rain"
   ]
  },
  {
   "cell_type": "markdown",
   "id": "05f70c05-2ef6-42e4-b1be-db94f4e8adb7",
   "metadata": {},
   "source": [
    "### Run A-gs model"
   ]
  },
  {
   "cell_type": "code",
   "execution_count": null,
   "id": "801ede28",
   "metadata": {},
   "outputs": [],
   "source": [
    "# Run A-gs model\n",
    "\n",
    "an_final,an_umol,rs, ra = runAgs(df_profile_filter,df_Comb_filter,df_meteo_filter,df_EC_filter,fstr=1.0)"
   ]
  },
  {
   "cell_type": "code",
   "execution_count": null,
   "id": "b88471dd-4b77-4e9c-bf7e-106c559ed508",
   "metadata": {},
   "outputs": [],
   "source": [
    "#GPP_sim=an_umol.resample(\"M\").mean()\n",
    "#GPP_sim.plot(label=\"fstr=1.0\",legend='yes',title=\"Monthly average GPP model output\",ylabel=\"umolm-2s-1\")\n",
    "#GPP_meas=df_Comb_filter['GPP_f'].resample(\"M\").mean()\n",
    "#GPP_meas.plot(c='black', linestyle='dashed',label='measured',legend='yes')"
   ]
  },
  {
   "cell_type": "code",
   "execution_count": null,
   "id": "89b8125f-d88e-4a15-a2fe-1ad0c7dda4a4",
   "metadata": {},
   "outputs": [],
   "source": [
    "#rs.resample(\"M\").mean().plot()"
   ]
  },
  {
   "cell_type": "markdown",
   "id": "cb0753ef-8f5b-4b55-83db-ad31419a0e53",
   "metadata": {},
   "source": [
    "## Calcuate ET"
   ]
  },
  {
   "cell_type": "markdown",
   "id": "ac78d717-ea63-477c-9c43-8a29262f3143",
   "metadata": {},
   "source": [
    "### Assemble dataframe 'df_ET' that will hold output and fill with inputs"
   ]
  },
  {
   "cell_type": "code",
   "execution_count": null,
   "id": "1065217e-ea3f-4cfc-97af-76ad200b8c08",
   "metadata": {},
   "outputs": [],
   "source": [
    "def init_ETframe(rs_series):\n",
    "    df_ET = pd.concat([df_meteo['L(o)'],df_meteo['Te-L(o)'],df_profile['Pressure'],df_Comb['VPD'],df_Comb['rH'],df_meteo['P(mast)']],axis=1,sort=False)\n",
    "    #convert Pressure from hPa to kPa \n",
    "    df_ET['p_kPa']=df_ET['Pressure']/10\n",
    "    df_ET['VPD_adj']=df_ET['VPD'].loc[df_ET['VPD']>0] #some outlier values for VPD are negative, remove from dataset\n",
    "    df_ET['VPD_adj']=df_ET['VPD_adj']/10  # VPD from df_Comb is in hPa, I need kPa, so hPa/10 = kPa\n",
    "    df_ET['rs']=rs_series.to_frame(name=\"rs\")\n",
    "    df_ET['ra']=ra.to_frame(name=\"ra\")\n",
    "    return df_ET"
   ]
  },
  {
   "cell_type": "code",
   "execution_count": null,
   "id": "7cf1ead7-7694-4619-8496-bd27e4ece452",
   "metadata": {},
   "outputs": [],
   "source": [
    "df_ET=init_ETframe(rs)"
   ]
  },
  {
   "cell_type": "code",
   "execution_count": null,
   "id": "77211664-888c-4840-ba39-a1dde1890967",
   "metadata": {},
   "outputs": [],
   "source": [
    "df_ET=calc_LE(df_ET)"
   ]
  },
  {
   "cell_type": "code",
   "execution_count": null,
   "id": "d036f7d7-8b44-4236-ae20-e0dc562809c1",
   "metadata": {},
   "outputs": [],
   "source": [
    "df_ET_meas=df_Comb_filter.copy()\n",
    "df_ET_meas=df_ET_meas.loc[df_ET_meas['LE']>=0]\n",
    "df_ET_meas=df_ET_meas.resample(\"M\").mean()\n",
    "#df_ET_meas['LE'].plot()"
   ]
  },
  {
   "cell_type": "code",
   "execution_count": null,
   "id": "f9ad2944-35f7-4b04-a752-826932787056",
   "metadata": {},
   "outputs": [],
   "source": [
    "#df_ET['ET_VPD'].resample('M').mean().plot(label=\"fstr=1.0\",legend='yes',title=\"Monthly average LE model output\",ylabel=\"Wm-2\")\n",
    "#df_ET_meas['LE'].resample('M').mean().plot(c='black', linestyle='dashed',label='measured',legend='yes')"
   ]
  },
  {
   "cell_type": "code",
   "execution_count": null,
   "id": "cf194f7b-9be7-494e-9ed2-6bfd232baf08",
   "metadata": {},
   "outputs": [],
   "source": [
    "# Add in precipitation last 3h and 24 hour values so it can be used for filtering\n",
    "df_ET['last3day_prec']=df_ET['P(mast)'].rolling('72H').sum()"
   ]
  },
  {
   "cell_type": "markdown",
   "id": "4ddc463c-0db0-4905-8e14-acc8f405d020",
   "metadata": {
    "jp-MarkdownHeadingCollapsed": true
   },
   "source": [
    "### graphical check data for outliers"
   ]
  },
  {
   "cell_type": "code",
   "execution_count": null,
   "id": "8b78b239-6b6c-4e39-832b-7ad1cd936b61",
   "metadata": {},
   "outputs": [],
   "source": [
    "df_Comb['LE'].plot()"
   ]
  },
  {
   "cell_type": "code",
   "execution_count": null,
   "id": "9bb806dd-b72a-4b01-8c75-cbc4bf0cc74e",
   "metadata": {},
   "outputs": [],
   "source": [
    "st=\"2017-06-01\" \n",
    "ed=\"2017-12-30\"\n",
    "#df_meteo['L(o)corr'].loc[df_meteo['L(o)corr']>0].plot()\n",
    "#df_meteo.loc[st:ed,'L(o)corr'].plot()\n",
    "df_meteo['L(o)corr'].plot()"
   ]
  },
  {
   "cell_type": "markdown",
   "id": "39eb7b8a-ba39-4a3f-9c85-895bac837881",
   "metadata": {},
   "source": [
    "## resampling procedures"
   ]
  },
  {
   "cell_type": "markdown",
   "id": "cc2233c0-6976-4dfd-bc5e-41fdd9cb240f",
   "metadata": {},
   "source": [
    "### step 1 assemble dataframe and chop up according to each week"
   ]
  },
  {
   "cell_type": "code",
   "execution_count": null,
   "id": "8a3720e5-1fcf-4b97-b67c-d61e4b66a7e8",
   "metadata": {},
   "outputs": [],
   "source": [
    "df_tmp30m=pd.DataFrame()\n",
    "df_tmp30m['ET']=df_ET['ET_VPD']\n",
    "df_tmp30m['P(mast)']=df_ET['P(mast)']\n",
    "df_tmp30m=df_tmp30m.dropna()\n",
    "\n",
    "df_LE=df_Comb['LE'].loc[df_Comb['LE']>=0]\n",
    "df_tmp30m=df_tmp30m.merge(df_LE, how='inner',left_index=True, right_index=True)\n",
    "\n",
    "#df_tmp30['ET/LE']=df_tmp30['ET']/df_tmp30['LE']\n",
    "#df_tmp30m['LE/ET']=df_tmp30m['LE']/df_tmp30m['ET'] #<- this is the one we want, observations/model. If obs/model = fstr, then model*fstr= model(obs/model) = obs\n",
    "\n",
    "df_tmp30m['P_3day']=df_tmp30m['P(mast)'].rolling('72H').sum()\n",
    "#df_tmp30m=df_tmp30m.loc[df_tmp30m['P_3day']==0]\n",
    "\n",
    "df_tmp3h=df_tmp30m.resample('3H').mean()#.between_time(\"09:00\", \"15:00\")\n",
    "df_tmp3h['P(mast)']=df_tmp30m['P(mast)'].resample('3H').sum() #overwrite the averaged pmast with sum pmast\n",
    "df_tmp3h['P_3day']=df_tmp3h['P(mast)'].rolling('72H').sum() #overwrite the correct P_3day\n",
    "\n",
    "#remove rainy days through knmi data\n",
    "df_tmp3h['RD']=df_rain['RD']\n",
    "df_tmp3h['RD']=df_tmp3h['RD']/10 #convert from tenths of mm to mm\n",
    "df_tmp3h=df_tmp3h.loc[df_tmp3h['RD']==0]\n",
    "\n",
    "#remove rainy days through Pmast\n",
    "df_rain3h_dailymax=df_tmp3h['P(mast)'].resample('1D').sum().resample('3H').ffill()\n",
    "df_rain3h_dailymax=df_rain3h_dailymax[:-1] #remove last entry because all 3h frames end on 21:00 not 00:00\n",
    "df_rain3h_dailymax=df_rain3h_dailymax.rename('P(mast)Dmax')\n",
    "df_tmp3h['P(mast)Dmax']=df_rain3h_dailymax\n",
    "df_tmp3h=df_tmp3h.loc[df_tmp3h['P(mast)Dmax']==0]\n",
    "\n",
    "#manual filter remove bad days\n",
    "listofdates =  ['2008-08-24',\n",
    "                '2010-05-11',\n",
    "                '2010-08-04',\n",
    "                '2012-06-13',\n",
    "                '2013-05-10',\n",
    "                '2013-05-19',\n",
    "                '2014-06-16',\n",
    "                '2017-04-22']\n",
    "\n",
    "#for date in listofdates:\n",
    "#    df_tmp3h.loc[date+' 00:00':date+' 21:00','ET'] = np.nan\n",
    "#    df_tmp3h.loc[date+' 00:00':date+' 21:00','LE'] = np.nan\n",
    "\n",
    "#remove hours outside of 9:00 and 15:00\n",
    "#df_tmp3h=df_tmp3h.between_time(\"09:00\", \"15:00\")\n",
    "\n",
    "#resample to daily\n",
    "df_tmp1d=df_tmp3h.resample('1D').mean()\n",
    "df_tmp1d['doy']=df_tmp1d.index.dayofyear\n",
    "df_tmp1d['P(mast)sum']=df_tmp3h['P(mast)'].resample('1D').sum()\n",
    "df_tmp1d['LE/ET']=df_tmp1d['LE']/df_tmp1d['ET']\n",
    "\n",
    "#resample to weekly (7 days)\n",
    "df_tmp7d=df_tmp3h.resample('7D').mean()\n",
    "df_tmp7d['LE/ET']=df_tmp7d['LE']/df_tmp7d['ET']"
   ]
  },
  {
   "cell_type": "markdown",
   "id": "cf30d096-f215-4b8c-b614-6bb7fa50e84f",
   "metadata": {},
   "source": [
    "## plots of rain bars and fstr dots"
   ]
  },
  {
   "cell_type": "code",
   "execution_count": null,
   "id": "dd7b317f-4ec7-4798-8a32-60a0a6509831",
   "metadata": {},
   "outputs": [],
   "source": [
    "plt.rcParams[\"figure.figsize\"] = (20,6)\n",
    "\n",
    "#st=\"2005-04-01\"\n",
    "#ed=\"2005-09-30\"\n",
    "\n",
    "def fstr_plot_wrapper(st,ed):\n",
    "\n",
    "    fig,ax = plt.subplots()\n",
    "    \n",
    "    b=df_ET.loc[st:ed,['P(mast)']].resample('1D').sum()\n",
    "    a=(knmi_regen.loc[st:ed,['RD']]/10)\n",
    "    ax.bar(b.index,b['P(mast)'],alpha=0.5, align='edge', label=\"Pmast data\")\n",
    "    ax.bar(a.index,a['RD'],alpha=0.5, align='edge', label=\"KNMI data\")\n",
    "    \n",
    "    df_tmp30m=pd.DataFrame()\n",
    "    df_tmp30m['ET']=df_ET['ET_VPD']\n",
    "    df_tmp30m['P(mast)']=df_ET['P(mast)']\n",
    "    df_tmp30m=df_tmp30m.dropna()\n",
    "    \n",
    "    df_LE=df_Comb['LE'].loc[df_Comb['LE']>=0]\n",
    "    df_tmp30m=df_tmp30m.merge(df_LE, how='inner',left_index=True, right_index=True)\n",
    "    c=df_tmp30m.loc[st:ed].resample('1D').sum()\n",
    "    c['LE/ET']=c['LE']/c['ET']\n",
    "    \n",
    "    ax.set_ylabel(\"precip\")\n",
    "    ax2 = ax.twinx()\n",
    "    ax2.set_ylim(0,5)\n",
    "    ax2.set_ylabel(\"fstr\")\n",
    "    #ax2.set_yscale('log')\n",
    "    \n",
    "    ax2.scatter(c.index,c['LE/ET'],c=np.where(c['LE/ET']<1,'b','r'))\n",
    "    \n",
    "    ax.legend()\n",
    "    ax.xaxis.set_minor_locator(mdates.DayLocator())\n",
    "\n",
    "for year in range(2001,2021):\n",
    "    st=str(year)+\"-04-01\"\n",
    "    ed=str(year)+\"-09-30\"\n",
    "    fstr_plot_wrapper(st,ed)"
   ]
  },
  {
   "cell_type": "markdown",
   "id": "c83f3ca9-03ce-4131-a374-6b61459f3e10",
   "metadata": {},
   "source": [
    "## end of plots of rain bars and fstr dots"
   ]
  },
  {
   "cell_type": "markdown",
   "id": "6c64f18a-8ea4-432c-9e9c-dfb6bf2b2fef",
   "metadata": {},
   "source": [
    "### visualize each year to see whats going wrong"
   ]
  },
  {
   "cell_type": "markdown",
   "id": "44c1b03f-1c31-4113-8a61-39f08db055cc",
   "metadata": {},
   "source": [
    "## plots of obs and model signal"
   ]
  },
  {
   "cell_type": "markdown",
   "id": "08597ef4-a641-4b19-a22f-fdf86f07a22d",
   "metadata": {},
   "source": [
    "### wrapper function def"
   ]
  },
  {
   "cell_type": "code",
   "execution_count": null,
   "id": "13cb57d8-9042-40e0-bb40-54484072ee43",
   "metadata": {},
   "outputs": [],
   "source": [
    "plt.rcParams[\"figure.figsize\"] = (20,6)\n",
    "st=\"2011-04-01\"\n",
    "ed=\"2011-09-30\"\n",
    "#df_tmp.loc[st:ed,'LE/ET'].plot()\n",
    "\n",
    "def signal_plot_wrapper(data,st,ed,gridarg=None,tick_frq='Day'):\n",
    "    fig,ax = plt.subplots()\n",
    "    fig.subplots_adjust(right=0.75)\n",
    "    \n",
    "    twin1 = ax.twinx()\n",
    "    twin2 = ax.twinx()\n",
    "    \n",
    "    # Offset the twin axis below the host\n",
    "    #fig.subplots_adjust(bottom=0.2)\n",
    "    twin2.spines[\"right\"].set_position((\"axes\", 1.05))\n",
    "    twin1.set_ylabel(\"Precip 3day (Pmast) [mm]\")\n",
    "    twin2.set_ylabel(\"Precip knmi [tenth of mm]\")\n",
    "\n",
    "    if '30m' in data:\n",
    "        ax.plot(df_tmp30m.loc[st:ed,'LE'],label=\"LE obs 30m freq\")\n",
    "        ax.plot(df_tmp30m.loc[st:ed,'ET'],label=\"LE model 30m freq\")\n",
    "    if '3h' in data:\n",
    "        ax.plot(df_tmp3h.loc[st:ed,'LE'],label=\"LE obs 3H mean\")\n",
    "        ax.plot(df_tmp3h.loc[st:ed,'ET'],label=\"LE model 3H mean\")\n",
    "        ax.scatter(df_tmp3h.loc[st:ed].index,df_tmp3h.loc[st:ed,'LE'],c='g')\n",
    "        ax.scatter(df_tmp3h.loc[st:ed].index,df_tmp3h.loc[st:ed,'ET'],c='r')\n",
    "    if '7d' in data:\n",
    "        ax.plot(df_tmp7d.loc[st:ed,'LE'],c='#1f77b4',linestyle='--',label=\"LE obs 7day mean\")\n",
    "        ax.plot(df_tmp7d.loc[st:ed,'ET'],c='orange',linestyle='--',label=\"LE model 7day mean\")\n",
    "\n",
    "    twin1.plot(df_ET.loc[st:ed,'P(mast)'],c='red',label=\"Pmast\")\n",
    "    twin1.plot(df_ET.loc[st:ed,'last3day_prec'],c='black',label=\"Pmast 72h\")\n",
    "    twin2.bar(knmi_regen.loc[st:ed].index,knmi_regen.loc[st:ed,'RD'],width=1, align='edge', color=\"blue\",alpha=0.5, label=\"KNMI Precip\")[0]\n",
    "    twin2.bar(df_tmp1d.loc[st:ed].index,df_tmp1d.loc[st:ed,'P(mast)sum'],width=1, align='edge', color=\"red\",alpha=0.5, label=\"Pmast Precip\")[0]\n",
    "    \n",
    "    if tick_frq=='Day':\n",
    "        ax.xaxis.set_minor_locator(mdates.DayLocator())\n",
    "    elif tick_frq=='Hour':\n",
    "        ax.xaxis.set_minor_locator(mdates.HourLocator())\n",
    "    \n",
    "    ax.set_ylabel('LE [Wm-2]')\n",
    "    \n",
    "    ax.legend(loc=(\"upper left\"))\n",
    "    fig.autofmt_xdate()\n",
    "    if gridarg==None:\n",
    "        ax.grid()\n",
    "    else:\n",
    "        ax.grid(which=gridarg)\n",
    "    #df_tmp30.loc[st:ed,'LE'].plot(label=\"LE obs 3H mean\",legend=\"y\",ylabel=\"Wm-2\",title=\"LEobs and LEsim 3H mean and 7day mean values, 00:00-23:30\")\n",
    "    #df_tmp30.loc[st:ed,'ET'].plot(label=\"LE model 3H mean\",legend=\"y\")\n",
    "    #df_tmp.loc[st:ed,'LE'].plot(label=\"LE obs 7day mean\",legend=\"y\",c='#1f77b4',style='--')\n",
    "    #df_tmp.loc[st:ed,'ET'].plot(label=\"LE model 7day mean\",legend=\"y\",c='orange',style='--')\n",
    "    #df_ET.loc[st:ed,'P(mast)'].plot()\n",
    "    plt.show()"
   ]
  },
  {
   "cell_type": "markdown",
   "id": "b437a4a2-986d-48c4-83e6-1b908e5fb43a",
   "metadata": {
    "jp-MarkdownHeadingCollapsed": true
   },
   "source": [
    "### all years 2001-2020 growseason (1 may - 1 october)"
   ]
  },
  {
   "cell_type": "code",
   "execution_count": null,
   "id": "12249005-d93e-4a3c-a9a4-8695c0dc1140",
   "metadata": {},
   "outputs": [],
   "source": [
    "for year in range(2001,2020):\n",
    "    st=str(year)+\"-04-01\"\n",
    "    ed=str(year)+\"-09-30\"\n",
    "    signal_plot_wrapper(['3h','7d'],st,ed)"
   ]
  },
  {
   "cell_type": "markdown",
   "id": "1a73652e-a430-446f-b32b-cebb3dbbb6a9",
   "metadata": {},
   "source": [
    "### zoom in on 2007"
   ]
  },
  {
   "cell_type": "code",
   "execution_count": null,
   "id": "a3bba1e7-3c9a-4551-a760-df0a94780fe0",
   "metadata": {},
   "outputs": [],
   "source": [
    "for year in range(2007,2008): #2007 has a peculiar dry spring\n",
    "    st=str(year)+\"-04-01\"\n",
    "    ed=str(year)+\"-09-30\"\n",
    "    signal_plot_wrapper(['3h','7d'],st,ed)"
   ]
  },
  {
   "cell_type": "code",
   "execution_count": null,
   "id": "322b3138-1545-476b-a55f-52ff2b1c65c4",
   "metadata": {},
   "outputs": [],
   "source": [
    "for year in range(2007,2008): #zoom in on only the spring\n",
    "    st=str(year)+\"-04-01\"\n",
    "    ed=str(year)+\"-05-09\"\n",
    "    signal_plot_wrapper(['30m','3h','7d'],st,ed)"
   ]
  },
  {
   "cell_type": "markdown",
   "id": "4054ede8-4751-450d-9211-f5594a13c420",
   "metadata": {},
   "source": [
    "### zoom in on 2018"
   ]
  },
  {
   "cell_type": "code",
   "execution_count": null,
   "id": "25656497-5033-454d-8206-c3d6eadc11bc",
   "metadata": {},
   "outputs": [],
   "source": [
    "for year in range(2018,2019): #2018 has a very dry summer\n",
    "    st=str(year)+\"-04-01\"\n",
    "    ed=str(year)+\"-09-30\"\n",
    "    signal_plot_wrapper(['3h','7d'],st,ed)"
   ]
  },
  {
   "cell_type": "code",
   "execution_count": null,
   "id": "3af2cd6e-cfff-491a-b04f-ba4d756fcd45",
   "metadata": {},
   "outputs": [],
   "source": [
    "for year in range(2018,2019): #zoom in on dry summer\n",
    "    st=str(year)+\"-06-21\"\n",
    "    ed=str(year)+\"-08-15\"\n",
    "    signal_plot_wrapper(['30m','3h','7d'],st,ed)"
   ]
  },
  {
   "cell_type": "code",
   "execution_count": null,
   "id": "c147f6db-44ed-45bb-8589-a5b821fb9b1f",
   "metadata": {},
   "outputs": [],
   "source": [
    "for year in range(2018,2019): #zoom in on june-july\n",
    "    st=str(year)+\"-06-23\"\n",
    "    ed=str(year)+\"-07-10\"\n",
    "    signal_plot_wrapper(['30m','3h','7d'],st,ed)"
   ]
  },
  {
   "cell_type": "code",
   "execution_count": null,
   "id": "73eddbe6-4fe6-499e-acdf-f7344066d39a",
   "metadata": {},
   "outputs": [],
   "source": [
    "for year in range(2018,2019): #zoom in on june-july\n",
    "    st=str(year)+\"-06-25\"\n",
    "    ed=str(year)+\"-06-29\"\n",
    "    signal_plot_wrapper(['30m','3h','7d'],st,ed,'both','Hour')"
   ]
  },
  {
   "cell_type": "code",
   "execution_count": null,
   "id": "94217b10-0dcc-4b4c-95d7-dfc5422eb7ca",
   "metadata": {},
   "outputs": [],
   "source": [
    "for year in range(2018,2019): #zoom in for 48H\n",
    "    st=str(year)+\"-06-26\"\n",
    "    ed=str(year)+\"-06-28\"\n",
    "    signal_plot_wrapper(['30m','3h','7d'],st,ed,'both','Hour')"
   ]
  },
  {
   "cell_type": "code",
   "execution_count": null,
   "id": "c9c5ce19-bfc9-46a9-9200-875ab30357e0",
   "metadata": {},
   "outputs": [],
   "source": [
    "df_test=df_tmp30m.copy()\n",
    "st=str(year)+\"-06-26\"\n",
    "ed=str(year)+\"-06-28\"\n",
    "df_test=df_test.loc[st:ed]\n",
    "print(df_test.head(30))\n",
    "df_test_3h=df_test.resample('3H').mean()\n",
    "print(df_test_3h)"
   ]
  },
  {
   "cell_type": "markdown",
   "id": "4ee78ae0-f5a6-414c-8f61-9f659147204d",
   "metadata": {},
   "source": [
    "## end of plots of obs and model signal"
   ]
  },
  {
   "cell_type": "markdown",
   "id": "5c02e066-be66-4df0-acd9-ae035abd0ba6",
   "metadata": {},
   "source": [
    "## plot obs-sim timeseries for heatwave years with visualization"
   ]
  },
  {
   "cell_type": "code",
   "execution_count": null,
   "id": "7dce0e31-e84e-4db2-be70-c38aff21703e",
   "metadata": {},
   "outputs": [],
   "source": [
    "heatwave=pd.read_csv('Heatwave_table.csv')\n",
    "heatwave.loc[:,'start']        = pd.to_datetime(heatwave['start'])\n",
    "heatwave.loc[:,'end(inc.)']    = pd.to_datetime(heatwave['end(inc.)'])\n",
    "heatwave.loc[:,'MaxTempDate']  = pd.to_datetime(heatwave['MaxTempDate'])\n",
    "heatwave"
   ]
  },
  {
   "cell_type": "code",
   "execution_count": null,
   "id": "f41db8f7-9e63-4e4d-b082-91b6e5d5dec2",
   "metadata": {},
   "outputs": [],
   "source": [
    "dates=heatwave.loc[:,['start','end(inc.)']]\n",
    "\n",
    "for index,row in dates.iterrows(): #zoom in for 48H\n",
    "    #print(row['start'])\n",
    "    #st=str(year)+\"-06-26\"\n",
    "    #ed=str(year)+\"-06-28\"\n",
    "    signal_plot_wrapper(['30m','3h','7d'],row['start'],row['end(inc.)'],'both','Hour')"
   ]
  },
  {
   "cell_type": "markdown",
   "id": "0086cb39-ab7e-4b1d-8275-ee96e9083963",
   "metadata": {},
   "source": [
    "## end of plot obs-sim timeseries for heatwave years with visualization"
   ]
  },
  {
   "cell_type": "markdown",
   "id": "8ada6c02-3080-4455-8d08-87f21eefb828",
   "metadata": {},
   "source": [
    "## special plots for heatwaves 2013 and 2015"
   ]
  },
  {
   "cell_type": "code",
   "execution_count": null,
   "id": "d4381de6-24a6-4fdb-85f0-4680b8ac39a7",
   "metadata": {},
   "outputs": [],
   "source": [
    "st='2013-07-03'\n",
    "ed='2013-07-27'\n",
    "signal_plot_wrapper(['30m','3h','7d'],st,ed,'both','Day')"
   ]
  },
  {
   "cell_type": "code",
   "execution_count": null,
   "id": "46de9724-6f00-47c6-a033-d25e678fe9fb",
   "metadata": {},
   "outputs": [],
   "source": [
    "st='2013-07-03'\n",
    "ed='2013-07-27'\n",
    "signal_plot_wrapper(['30m','3h','7d'],st,ed,'both','Day')"
   ]
  },
  {
   "cell_type": "code",
   "execution_count": null,
   "id": "8916506f-7020-4ab9-917e-6fb0cab14057",
   "metadata": {},
   "outputs": [],
   "source": [
    "st='2015-06-23'\n",
    "ed='2015-07-05'\n",
    "signal_plot_wrapper(['30m','3h','7d'],st,ed,'both','Day')"
   ]
  },
  {
   "cell_type": "markdown",
   "id": "3dc2b1a3-0909-4353-8090-cd3cb4e6ca31",
   "metadata": {},
   "source": [
    "## end of special plots for heatwaves 2013 and 2015"
   ]
  },
  {
   "cell_type": "markdown",
   "id": "cfa3a75b-ef45-4eaf-91ba-6729c97e7e14",
   "metadata": {},
   "source": [
    "## completed special plots for heatwaves 2013 and 2015"
   ]
  },
  {
   "cell_type": "markdown",
   "id": "02b5ff2c-e5b7-4bfb-bf7a-e0faad05eb49",
   "metadata": {},
   "source": [
    "### prepare data LE, H, Bowen for plotting"
   ]
  },
  {
   "cell_type": "code",
   "execution_count": null,
   "id": "a076c916-7a71-43f2-bfa5-10022bcd31e4",
   "metadata": {},
   "outputs": [],
   "source": [
    "#preparing the data\n",
    "st='2013-06-01'\n",
    "ed='2015-09-30'\n",
    "#f_Comb.loc[st:ed,'LE_f'].plot() #this data is with gapfill . Label 'LE' is without\n",
    "#df_NEE.loc[st:ed,'LE_f'].plot() #this is the same as the last line\n",
    "LE_plotting = df_Comb.loc[df_Comb['LE_fqc']<=2].loc[st:ed,'LE_f'] #outputs a series\n",
    "LE_plotting.where(LE_plotting>0,inplace=True) #filters that series so nonsensical negative evap is removed\n",
    "H_plotting = df_Comb.loc[df_Comb['H_fqc']<=2].loc[st:ed,'H_f'] #outputs a series\n",
    "H_plotting.where(H_plotting>0,inplace=True) #filters that series so nonsensical negative evap is removed\n",
    "Bowen_plotting = df_ET = pd.concat([LE_plotting, H_plotting],axis=1,sort=False)\n",
    "Bowen_plotting.dropna(inplace=True)\n",
    "Bowen_plotting['Bowen']=Bowen_plotting['H_f']/Bowen_plotting['LE_f']"
   ]
  },
  {
   "cell_type": "markdown",
   "id": "b45b29b3-23e3-47c2-867f-fe754b543cd3",
   "metadata": {},
   "source": [
    "### end of prepare data LE, H, Bowen for plotting"
   ]
  },
  {
   "cell_type": "markdown",
   "id": "452a90fb-e1d9-4f46-9e0a-400479cfdcc2",
   "metadata": {
    "jp-MarkdownHeadingCollapsed": true
   },
   "source": [
    "### investigating gap in data by selecting less certain quality flags, look at Bowen"
   ]
  },
  {
   "cell_type": "code",
   "execution_count": null,
   "id": "6a714dca-5812-4ee6-9611-804f79584237",
   "metadata": {},
   "outputs": [],
   "source": [
    "st='2013-07-03'\n",
    "ed='2013-07-27'\n",
    "LE_plotting.plot()"
   ]
  },
  {
   "cell_type": "code",
   "execution_count": null,
   "id": "895af035-4bea-4d32-a2b3-c3a1d39aad6c",
   "metadata": {},
   "outputs": [],
   "source": [
    "st='2013-07-03'\n",
    "ed='2013-07-27'\n",
    "H_plotting.plot()"
   ]
  },
  {
   "cell_type": "code",
   "execution_count": null,
   "id": "08257462-45ee-45e2-b127-e738bec162ee",
   "metadata": {},
   "outputs": [],
   "source": [
    "st='2013-07-03'\n",
    "ed='2013-07-27'\n",
    "Bowen_plotting.loc[st:ed,'Bowen'].plot()"
   ]
  },
  {
   "cell_type": "code",
   "execution_count": null,
   "id": "6b45f75c-e0be-42fd-a67a-60a8c49f47ad",
   "metadata": {},
   "outputs": [],
   "source": [
    "#Bowen ratio"
   ]
  },
  {
   "cell_type": "markdown",
   "id": "0cfd3a7f-c59a-4058-adec-3314643e6a62",
   "metadata": {},
   "source": [
    "### end of investigating gap in data"
   ]
  },
  {
   "cell_type": "markdown",
   "id": "c7e04334-afea-46c5-b2a5-cb35ccd6f5c2",
   "metadata": {},
   "source": [
    "#### Import SM, Precip"
   ]
  },
  {
   "cell_type": "code",
   "execution_count": null,
   "id": "063582ef-2325-4edc-b470-18810ce0cc0e",
   "metadata": {},
   "outputs": [],
   "source": [
    "#data sources\n",
    "#LE df_Comb, dont even need ot run filter\n",
    "#H df_Comb, see previous line\n",
    "#GPP (bonus, implement later) \n",
    "#SM from Soilmoisture.csv\n",
    "#Precip from knmi_rain_daily.csv\n",
    "\n",
    "#import soil moisture\n",
    "SM= pd.read_csv('Soil_moisture.csv')\n",
    "SM['datetime']=pd.to_datetime(SM['datetime'])\n",
    "SM.index=SM['datetime']\n",
    "SM.drop(columns='datetime',inplace=True)\n",
    "#SM has columns SM-003\tSM-020\tSM-050\tSM-100\t'SM_l1' (i.e. 0-50cm)\t'SM_l2' (i.e. 50-100)\n",
    "#and runs from 2005-04-11 00:00:00 2020-12-31 23:30:00 and freq 30 min\n",
    "\n",
    "#import precipication KNMI\n",
    "P_k = pd.read_csv('knmi_rain_daily.csv')\n",
    "P_k['date']=pd.to_datetime(P_k['date'])\n",
    "P_k.index=P_k.date\n",
    "P_k.drop(columns=['date','days_since_rain'],inplace=True) #remove date because it's duplicate, remove days_since_rain because it wont be used here\n",
    "#P_k has columns 'RD' (daily rain from 8pm to 8am next day) and range 2001-01-01 - 2020-12-31 , freq=daily\n",
    "\n",
    "#import sapflow\n",
    "Sapf_data=pd.read_csv('Sapflow.csv')\n",
    "Sapf_data['TIMESTAMP']=pd.to_datetime(Sapf_data['TIMESTAMP'])\n",
    "Sapf_data.index=Sapf_data['TIMESTAMP']\n",
    "Sapf_data.drop(columns='TIMESTAMP',inplace=True)\n",
    "#Sapf_data has columns Jt_1\tJt_2\tJt_3\tJt_4\tJt_5\tJt_6\tJt_mean (i.e. average of all 6)\n",
    "#and runs from 2012-01-01 00:30:00 - 2015-11-06 19:30:00, freq=30m"
   ]
  },
  {
   "cell_type": "markdown",
   "id": "04ab8119-fb4b-4d4f-8540-409ee7cceba9",
   "metadata": {},
   "source": [
    "### Define plot wrapper for visualizing LE, H, Bowen, Precip, sapflow, soilmost"
   ]
  },
  {
   "cell_type": "code",
   "execution_count": null,
   "id": "e16d39cd-dd3d-41c4-b9aa-4f20810960d9",
   "metadata": {},
   "outputs": [],
   "source": []
  },
  {
   "cell_type": "code",
   "execution_count": null,
   "id": "d74fa587-572e-472d-91e3-69c9454fb8b8",
   "metadata": {},
   "outputs": [],
   "source": [
    "# new plot wrapper\n",
    "\n",
    "plt.rcParams[\"figure.figsize\"] = (20,6)\n",
    "\n",
    "#data df formats and columns (for my convenience)\n",
    "\n",
    "#LE_f df_Comb, dont even need ot run filter but scrub negative values or set quality flag limit\n",
    "#H_f df_Comb, ``\n",
    "#Bowen (implement in the function)\n",
    "#GPP (bonus, implement later)\n",
    "#SM SM['SM_l1'] and SM['SM_l2']\n",
    "#Precip P_k['RD']\n",
    "#Sapflow Sapf_data['Jt_mean']\n",
    "\n",
    "\n",
    "def deep_uptake_plot_wrapper(LE,H,Bowen,SM_l1,SM_l2,Precip,Sapflow,st,ed,heatwave_st=None,heatwave_ed=None,gridarg=None):\n",
    "    fig,ax = plt.subplots(ncols=1,nrows=2,sharex=True)\n",
    "    #fig.subplots_adjust(right=0.75)\n",
    "\n",
    "    #index the input for the timewindow here instead of in the plot function\n",
    "    LE=LE.loc[st:ed]\n",
    "    H=H.loc[st:ed]\n",
    "    Bowen=Bowen.loc[st:ed]\n",
    "    SM_l1=SM_l1.loc[st:ed]\n",
    "    SM_l2=SM_l2.loc[st:ed]\n",
    "    Precip=Precip.loc[st:ed]\n",
    "    Sapflow=Sapflow.loc[st:ed]\n",
    "\n",
    "    #create additional y axes for plotting\n",
    "    #note: ax[0] is the default top y-axis, used for LE\n",
    "    twin1 = ax[0].twinx() #this one is for Bowen\n",
    "    #note: ax[1] is the default bottom y-axis, used for Precip\n",
    "    twin2 = ax[1].twinx() #this one is for SM\n",
    "    twin3 = ax[1].twinx() #this one is for Sapflow\n",
    "    \n",
    "    # Offset the twin axis below the host and label them\n",
    "    #fig.subplots_adjust(bottom=0.2)\n",
    "    ax[0].set_ylabel(\"LE [Wm-2]\")\n",
    "    #ax[0].set_ylim(-200,250)\n",
    "\n",
    "    twin1.set_ylabel(\"Bowen ratio [-]\")\n",
    "#    twin1.set_ylim(0,3)\n",
    "\n",
    "    ax[1].set_ylabel('Daily Precip [mm]')\n",
    "    \n",
    "    #twin2.spines[\"right\"].set_position((\"axes\", 1.05)) #does not need to be pushed right\n",
    "    twin2.set_ylabel(\"Soil moist [vol%]\")\n",
    "#    twin2.set_ylim(0,0.1)\n",
    "\n",
    "    twin3.spines[\"right\"].set_position((\"axes\", 1.05))\n",
    "    twin3.set_ylabel(\"Sapflow [cm s-1]\")\n",
    "#    twin3.set_ylim(0,1)\n",
    "\n",
    "    \n",
    "    ax[1].bar(Precip.index,Precip.loc[:,'RD'],width=1, align='edge', color=\"blue\",alpha=0.5, label=\"KNMI Precip\")[0]\n",
    "    \n",
    "    ax[0].plot(LE.resample('2H').mean(),c='blue',label=\"LE\")\n",
    "    twin1.plot(Bowen.resample('2H').mean(),c='red',label=\"Bowen\")\n",
    "    twin2.plot(SM_l1,c='magenta',label=\"Soil moisture upper (0-50cm)\")\n",
    "    twin2.plot(SM_l2,c='purple',label=\"Soil moisture lower (50-100cm)\")\n",
    "    twin3.plot(Sapflow,c='green',label=\"Sapflow (mean)\")        \n",
    "\n",
    "    if (heatwave_st!=None) & (heatwave_ed != None):\n",
    "        ax[0].fill_between(x=[heatwave_st,heatwave_ed],y1=0,y2=1, color='orange', alpha=0.3,transform=ax[0].get_xaxis_transform(),label='heatwave (KNMI)')\n",
    "        ax[1].fill_between(x=[heatwave_st,heatwave_ed],y1=0,y2=1, color='orange', alpha=0.3,transform=ax[1].get_xaxis_transform(),)\n",
    "\n",
    "#    ax[0].legend(loc=(\"upper left\"))\n",
    "#    ax[1].legend(loc=(\"upper left\"))\n",
    "    fig.legend(loc='upper center', bbox_to_anchor=(0.5, 1.05), ncol=2, fancybox=True, shadow=True) #from https://stackoverflow.com/questions/4700614/how-to-put-the-legend-outside-the-plot\n",
    "    fig.autofmt_xdate()\n",
    "    if gridarg==None:\n",
    "        ax[0].grid()\n",
    "        ax[1].grid()\n",
    "    else:\n",
    "        ax.grid(which=gridarg)\n",
    "\n",
    "    plt.show()"
   ]
  },
  {
   "cell_type": "markdown",
   "id": "17141332-1267-432b-9a1b-dfc2b0dcad11",
   "metadata": {
    "jp-MarkdownHeadingCollapsed": true
   },
   "source": [
    "### end of plot wrapper for visualizing LE, H, Bowen, Precip, sapflow, soilmost"
   ]
  },
  {
   "cell_type": "markdown",
   "id": "78847702-547f-410a-aaf4-9e80c5ee81da",
   "metadata": {},
   "source": [
    "# completed special plots for heatwaves 2013 and 2015"
   ]
  },
  {
   "cell_type": "code",
   "execution_count": null,
   "id": "3d15686f-346f-423f-81cf-33e7b0e605ca",
   "metadata": {},
   "outputs": [],
   "source": [
    "st='2013-07-03'\n",
    "ed='2013-07-27'\n",
    "deep_uptake_plot_wrapper(LE_plotting,H_plotting,Bowen_plotting['Bowen'],SM['SM_l1'],SM['SM_l2'],P_k,Sapf_data['Jt_mean'],\n",
    "                         st,ed,heatwave_st='2013-07-21',heatwave_ed='2013-07-27',gridarg=None)"
   ]
  },
  {
   "cell_type": "code",
   "execution_count": null,
   "id": "2bcd9877-7b34-4218-a78a-a62ca1e8f85c",
   "metadata": {},
   "outputs": [],
   "source": [
    "st='2015-06-23'\n",
    "ed='2015-07-05'\n",
    "deep_uptake_plot_wrapper(LE_plotting,H_plotting,Bowen_plotting['Bowen'],SM['SM_l1'],SM['SM_l2'],P_k,Sapf_data['Jt_mean'],\n",
    "                         st,ed,heatwave_st='2015-06-30',heatwave_ed='2015-07-05',gridarg=None)"
   ]
  },
  {
   "cell_type": "markdown",
   "id": "bc0c0ed3-4ef4-4129-835e-34b035a95ea6",
   "metadata": {
    "jp-MarkdownHeadingCollapsed": true
   },
   "source": [
    "## putting it together to derive fstr"
   ]
  },
  {
   "cell_type": "code",
   "execution_count": null,
   "id": "6fa68d28-fc8d-4d13-8ea6-73264580d3b7",
   "metadata": {},
   "outputs": [],
   "source": [
    "#plt.rcParams[\"figure.figsize\"] = plt.rcParamsDefault\n",
    "#plt.rcParams.update(plt.rcParamsDefault)\n",
    "\n",
    "#remove non-growthseason values\n",
    "#df_tmp1d=dftmp3h.resample('1D').mean()\n",
    "df_tmp7d=df_tmp7d.loc[(df_tmp7d.index.month>=4) & (df_tmp7d.index.month<=8)]\n",
    "\n",
    "df_tmp7d['doy']=df_tmp7d.index.dayofyear\n",
    "\n",
    "#df_tmp7d=df_tmp7d.loc[df_tmp7d['LE/ET']<=1.2]\n",
    "\n",
    "#df_tmp\n",
    "\n",
    "#df_tmp['ET/LE'].plot(ylim=(0,15))\n",
    "\n",
    "fig,ax = plt.subplots()\n",
    "ax.set_ylim(0,1.3)\n",
    "ax.set_ylabel('LEobs/LEsim')\n",
    "ax.set_xlabel('Day of Year')\n",
    "\n",
    "for year in ['2013','2014']:#['2009','2010','2011','2012','2013','2014','2015','2016','2017','2018']:\n",
    "    start=year+'-01-01 01:00'\n",
    "    end=year+'-12-23 23:00'\n",
    "    #df_tmp.loc[start:end,'ET/LE'].plot(x=df_tmp.loc[start:end,'weeknr'],ylim=(0,15))\n",
    "    ax.plot(df_tmp1d.loc[start:end,'doy'],df_tmp1d.loc[start:end,'LE/ET'], marker='^',label=year)\n",
    "fig.legend(loc=(0.8715,0.42))\n",
    "fig.suptitle('LEobs/LEsim for the 3hour timestep, then resample(\"7days\").mean()\\n for 09:00-15:00 and no rain in last 3 days ')\n",
    "ax.grid()"
   ]
  }
 ],
 "metadata": {
  "kernelspec": {
   "display_name": "Python 3 (ipykernel)",
   "language": "python",
   "name": "python3"
  },
  "language_info": {
   "codemirror_mode": {
    "name": "ipython",
    "version": 3
   },
   "file_extension": ".py",
   "mimetype": "text/x-python",
   "name": "python",
   "nbconvert_exporter": "python",
   "pygments_lexer": "ipython3",
   "version": "3.11.5"
  },
  "varInspector": {
   "cols": {
    "lenName": 16,
    "lenType": 16,
    "lenVar": 40
   },
   "kernels_config": {
    "python": {
     "delete_cmd_postfix": "",
     "delete_cmd_prefix": "del ",
     "library": "var_list.py",
     "varRefreshCmd": "print(var_dic_list())"
    },
    "r": {
     "delete_cmd_postfix": ") ",
     "delete_cmd_prefix": "rm(",
     "library": "var_list.r",
     "varRefreshCmd": "cat(var_dic_list()) "
    }
   },
   "oldHeight": 471.85,
   "position": {
    "height": "493.844px",
    "left": "1539.19px",
    "right": "20px",
    "top": "105px",
    "width": "344px"
   },
   "types_to_exclude": [
    "module",
    "function",
    "builtin_function_or_method",
    "instance",
    "_Feature"
   ],
   "varInspector_section_display": "block",
   "window_display": true
  }
 },
 "nbformat": 4,
 "nbformat_minor": 5
}
