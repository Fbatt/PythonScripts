{
 "cells": [
  {
   "cell_type": "markdown",
   "metadata": {},
   "source": [
    "# A. There are different ways to access the files:\n",
    "\n",
    "## 1.\tMap network drive\n",
    "You can map this new sharepoint site in a similar way as the old one:\n",
    "Do this only once:\n",
    "-\tLog in to https://wageningenur4.sharepoint.com/sites/LoobosTeamsite with InternetExplorer (the old one, this step does not work with other browsers)\n",
    "-\tGo to settings (gearbox top right) --> Internet Options --> Security tab --> and add https://wageningenur4.sharepoint.com to the list of trusted sites\n",
    "-\tGo to Windows Explorer --> Home (menu bar) --> Easy Access --> Map as Drive --> Select an unused drive letter (e.g. L:\\. At least >= D, as A,B,C are reserved for floppy disks and hard disks), copy in to https://wageningenur4.sharepoint.com/sites/LoobosTeamsite into ‘Folder’ and click Finish\n",
    "-\tThe Sharepoint should now be available via the drive letter you selected.\n",
    "\n",
    "Do this each time you want to use the drive letter:\n",
    "-\tLog in in to https://wageningenur4.sharepoint.com/sites/LoobosTeamsite with InternetExplorer (the old one, this step does not work with other browsers)\n",
    "-\tIn Windows Explorer, select the drive letter to connect again.\n",
    "\n",
    "## 2.\tShortcut via OneDrive\n",
    "-\tOpen https://wageningenur4.sharepoint.com/sites/LoobosTeamsite in any browser\n",
    "-\tSelect ‘Add shortcut to OneDrive’\n",
    "-\tIn your OneDrive (either via the browser or WindowsExplorer), the sharepoint is now accessible. In my case it was via C:\\Users\\molen050\\OneDrive – WageningenUR\\Documents.\n",
    "-\tYou can either use that path as the datapath or assign OneDrive a special drive letter:\n",
    "-\tHit the windows key and type ‘cmd’ to open a dos command window. Type: subst L: \"c:\\Users\\molen050\\OneDrive – WageningenUR\\Documents\\\"\n",
    "-\tThe Sharepoint will now be accessible via O:\\\n",
    "\n",
    "## 3.\tDownload the data to your own drive\n",
    "-\tSimple, reliable, but you will not get updates on the data.\n",
    "\n",
    "\n",
    "\n",
    "# B.\tReading the data in Python\n",
    "In the Folder DataShare/PythonScripts/ there are two files:\n",
    "- a python script Loobos_ReadData.py and \n",
    "- a Jupyter Notebook Loobos_ReadData.ipynb. \n",
    "They contain the same set of commands as an example of how to read the data and make a figure using the python package pandas.\n",
    "\n",
    "Let me know if you have remarks or questions.\n",
    "Michiel"
   ]
  },
  {
   "cell_type": "code",
   "execution_count": null,
   "metadata": {},
   "outputs": [],
   "source": [
    "# Settings\n",
    "Username   = 'molen050'\n",
    "years      = range(1997,2022)    #(1997,2021) # Set years to download"
   ]
  },
  {
   "cell_type": "code",
   "execution_count": null,
   "metadata": {},
   "outputs": [],
   "source": [
    "import os\n",
    "datapath   = os.path.join('C:\\\\','Users',Username, 'Onedrive - Wageningen University & Research','Documents - LoobosTeamsite','DataShare')\n",
    "print('datapath is set to %s'%datapath)"
   ]
  },
  {
   "cell_type": "code",
   "execution_count": null,
   "metadata": {},
   "outputs": [],
   "source": [
    "import numpy as np\n",
    "import pandas as pd\n",
    "import matplotlib.pyplot as plt\n",
    "from datetime import datetime, timedelta\n",
    "#import plotly.express as px\n",
    "#import cufflinks as cf\n",
    "#cf.go_offline()\n",
    "#cf.set_config_file(offline=False, world_readable=True)\n",
    "\n",
    "import sys\n",
    "sys.path.insert(0, os.path.join(datapath,'PythonScripts'))\n",
    "from Loobos_Toolbox import Read_LoobosEddFinal, Read_LooStor, Read_LoodatGapfill, Read_Loobos_halfhourly, Read_Loobos_meteo, Read_Loobos_soil, Read_Loobos_profile"
   ]
  },
  {
   "cell_type": "code",
   "execution_count": null,
   "metadata": {},
   "outputs": [],
   "source": [
    "# Read files\n",
    "df_EC           = Read_LoobosEddFinal    (years,datapath)\n",
    "df_Stor         = Read_LooStor           (years,datapath)\n",
    "df_Comb         = Read_LoodatGapfill     (years,datapath)\n",
    "df_NEE          = Read_Loobos_halfhourly (years,datapath)\n",
    "df_meteo        = Read_Loobos_meteo      (years,datapath)\n",
    "df_soil         = Read_Loobos_soil       (years,datapath)\n",
    "df_profile      = Read_Loobos_profile    (years,datapath)\n"
   ]
  },
  {
   "cell_type": "code",
   "execution_count": null,
   "metadata": {},
   "outputs": [],
   "source": []
  },
  {
   "cell_type": "markdown",
   "metadata": {},
   "source": [
    "## Below here are a few examples of how to combine/select dataframes and to plot."
   ]
  },
  {
   "cell_type": "code",
   "execution_count": null,
   "metadata": {},
   "outputs": [],
   "source": [
    "df_meteo['P(mast)'].sum()"
   ]
  },
  {
   "cell_type": "code",
   "execution_count": null,
   "metadata": {},
   "outputs": [],
   "source": [
    "# Plot CO2 fluxes from different files on top of each other\n",
    "#f1 = plt.figure(1)\n",
    "#ax = f1.add_subplot(111)\n",
    "df_plot            = pd.concat([df_EC['Flx_Lo-CO2'],df_Stor['TotalCO2flux'],df_Comb['NEE_orig']],axis=1,sort=False)\n",
    "df_plot.columns = ['EC','Storage','Combined']\n",
    "f1 = df_plot.iplot(asFigure=True, layout=dict(yaxis=dict(title='NEE (umol/m2/s) '), xaxis=dict(title='time')), width=2)\n",
    "\n",
    "f1.show()\n"
   ]
  },
  {
   "cell_type": "code",
   "execution_count": null,
   "metadata": {},
   "outputs": [],
   "source": [
    "# plot soil temperature\n",
    "df_plot = df_soil[['ST-003','ST-020','ST-050','ST-100']]\n",
    "f2 = df_plot.iplot(asFigure=True,layout=dict(yaxis=dict(title='Tsoil (oC) '), xaxis=dict(title='time')), width=2)\n",
    "f2.show()"
   ]
  },
  {
   "cell_type": "code",
   "execution_count": null,
   "metadata": {},
   "outputs": [],
   "source": [
    "# plot soil moisture\n",
    "porosity = 0.35\n",
    "df_plot = df_soil[['SM-003','SM-020','SM-050','SM-100']]/porosity\n",
    "f3 = df_plot.iplot(asFigure=True,layout=dict(yaxis=dict(title='SMC (m3/m3) '), xaxis=dict(title='time')), width=2)\n",
    "f3.show()"
   ]
  },
  {
   "cell_type": "code",
   "execution_count": null,
   "metadata": {},
   "outputs": [],
   "source": [
    "# plot NEE as a function of Hour\n",
    "f = plt.figure(1)\n",
    "ax = f.add_subplot(111)\n",
    "ax.plot(df_Comb.index.hour,df_Comb['NEE_f'],'x')\n"
   ]
  },
  {
   "cell_type": "code",
   "execution_count": null,
   "metadata": {},
   "outputs": [],
   "source": [
    "# plot mean diurnal cycle of NEE\n",
    "df_Comb.groupby(df_Comb['Hour'])['NEE'].mean().iplot(asFigure=True,layout=dict(yaxis=dict(title='NEE (umol/m2/s) '), xaxis=dict(title='time')), width=2)\n"
   ]
  },
  {
   "cell_type": "code",
   "execution_count": null,
   "metadata": {},
   "outputs": [],
   "source": [
    "# Plot GPP gapfilled\n",
    "#print(df_NEE.keys())\n",
    "#print(df_Comb.keys())\n",
    "\n",
    "\n",
    "#QA/QC\n",
    "\n",
    "# = np.nan\n",
    "#I = ((df_Comb['GPP_f'] > -50) & (df_Comb < -9998)) # -9999 is label for missing value\n",
    "#df_Comb[I] = np.nan\n",
    "\n",
    "\n",
    "df_NEE['GPP_f'].iplot(asFigure=True,layout=dict(yaxis=dict(title='GPP (umol/m2/s) '), xaxis=dict(title='time')), width=2)\n",
    "#df_Comb['Reco'].iplot(asFigure=True,layout=dict(yaxis=dict(title='GPP (umol/m2/s) '), xaxis=dict(title='time')), width=2)\n"
   ]
  },
  {
   "cell_type": "markdown",
   "metadata": {},
   "source": [
    "## Convert pandas dataframe to numpy array"
   ]
  },
  {
   "cell_type": "code",
   "execution_count": null,
   "metadata": {},
   "outputs": [],
   "source": []
  },
  {
   "cell_type": "code",
   "execution_count": null,
   "metadata": {},
   "outputs": [],
   "source": [
    "np_NEE = np.asarray(df_NEE)\n",
    "t = np.asarray(df_NEE.index.hour + df_NEE.index.minute/60.)\n",
    "\n",
    "# Plot data as numpy array using matplotlib.pyplot (as plt)\n",
    "NEE = np_NEE[:,0]  # Column order remains the same.\n",
    "NEE[(NEE < -100) | (NEE > 50)] = np.nan # remove outliers\n",
    "\n",
    "\n",
    "f = plt.figure(1)\n",
    "ax = f.add_subplot(111)\n",
    "ax.plot(t,NEE,'.') \n",
    "ax.set_xlabel('time')\n",
    "ax.set_ylabel('NEE (umol/m2/s)')"
   ]
  },
  {
   "cell_type": "code",
   "execution_count": null,
   "metadata": {},
   "outputs": [],
   "source": []
  },
  {
   "cell_type": "code",
   "execution_count": null,
   "metadata": {},
   "outputs": [],
   "source": []
  },
  {
   "cell_type": "code",
   "execution_count": null,
   "metadata": {},
   "outputs": [],
   "source": [
    "f = plt.figure(10)\n",
    "ax = f.add_subplot(111)\n",
    "ax.plot(df_soil['ST-003'],df_soil['SM-003'],'.')\n",
    "plt.show()"
   ]
  },
  {
   "cell_type": "code",
   "execution_count": null,
   "metadata": {},
   "outputs": [],
   "source": []
  },
  {
   "cell_type": "markdown",
   "metadata": {},
   "source": [
    "# Make a contour plot of Reco as a function of Tsoil and somo."
   ]
  },
  {
   "cell_type": "code",
   "execution_count": null,
   "metadata": {},
   "outputs": [],
   "source": [
    "# Make a contour plot of Reco as a function of Tsoil and somo.\n",
    "df_tmp = pd.merge(df_NEE['Reco_f'],df_soil['ST-003'],right_index=True,left_index=True)\n",
    "df_tmp = pd.merge(df_tmp, df_soil['SM-003'],right_index=True,left_index=True)\n",
    "df_tmp.columns = ['Reco_f','ST-003','SM-003']\n",
    "dT   = 0.50\n",
    "dS   = 0.02\n",
    "Tbin = np.arange(0.0,25.0,dT)\n",
    "Sbin = np.arange(0.0,0.30,dS)\n",
    "nT   = Tbin.shape[0]\n",
    "nS   = Sbin.shape[0]\n",
    "Reco_matrix = np.zeros((nS,nT))\n",
    "for iT in range(nT):\n",
    "    for iS in range (nS):\n",
    "        I = np.where((df_tmp['ST-003']>Tbin[iT]-dT/2.) & (df_tmp['ST-003']<=Tbin[iT]+dT/2.) & \n",
    "                     (df_tmp['SM-003']>Sbin[iS]-dS/2.) & (df_tmp['SM-003']<=Sbin[iS]+dS/2.) &\n",
    "                     (df_tmp['Reco_f'] != np.nan))\n",
    "        Reco_matrix[iS,iT] = df_tmp['Reco_f'].iloc[I].mean()\n",
    "\n",
    "f = plt.figure(1)\n",
    "ax = f.add_subplot(111)\n",
    "h = ax.contourf(Tbin,Sbin,Reco_matrix)\n",
    "cb = plt.colorbar(h)\n",
    "plt.show()\n"
   ]
  },
  {
   "cell_type": "code",
   "execution_count": null,
   "metadata": {},
   "outputs": [],
   "source": []
  },
  {
   "cell_type": "code",
   "execution_count": null,
   "metadata": {},
   "outputs": [],
   "source": [
    "for iy in years:\n",
    "    print(iy,df_NEE[df_NEE.index.year==iy].shape,df_soil[df_soil.index.year==iy].shape)"
   ]
  },
  {
   "cell_type": "code",
   "execution_count": null,
   "metadata": {},
   "outputs": [],
   "source": [
    "df_tmp = pd.merge(df_NEE['Reco_f'],df_soil['ST-003'],right_index=True,left_index=True)\n",
    "df_tmp = pd.merge(df_tmp, df_soil['SM-003'],right_index=True,left_index=True)\n",
    "df_tmp.columns = ['Reco_f','ST-003','SM-003']\n",
    "print(df_tmp.shape)"
   ]
  },
  {
   "cell_type": "code",
   "execution_count": null,
   "metadata": {},
   "outputs": [],
   "source": []
  },
  {
   "cell_type": "code",
   "execution_count": null,
   "metadata": {},
   "outputs": [],
   "source": []
  },
  {
   "cell_type": "code",
   "execution_count": null,
   "metadata": {},
   "outputs": [],
   "source": []
  },
  {
   "cell_type": "code",
   "execution_count": null,
   "metadata": {},
   "outputs": [],
   "source": [
    "#Example of save to csv (not recommended)\n",
    "df_1 = df_Comb[['LE_f','Tair','VPD']]\n",
    "df_2 = df_soil [['SM-Lit','SM-003','SM-020','SM-050','SM-100']]\n",
    "timeIndex       = pd.DatetimeIndex(np.arange(np.datetime64('%4d-01-01 00:00:00'%years[0]),np.datetime64('%4d-12-31 23:59:59'%years[-1]),np.timedelta64(30,'m')).astype(np.datetime64))\n",
    "df_1 = df_1.reindex(timeIndex)\n",
    "df_2 = df_2.reindex(timeIndex)\n",
    "df_Femke = df_1.join(df_2)\n",
    "df_Femke.to_csv('LoobosData_1997-2021_forFemke.csv')"
   ]
  },
  {
   "cell_type": "code",
   "execution_count": null,
   "metadata": {},
   "outputs": [],
   "source": [
    "#Example of save to csv (not recommended)\n",
    "#Temp, vpd, soil moisture, precipitation, PAR, cloud cover, boundary layer height, CO2 mole fraction, H2O mole fraction\n",
    "\n",
    "df_1 = df_Comb [['Tair','VPD','Rg_f']]\n",
    "df_2 = df_EC   [['Mea_Lo-CO2','Mea_Lo-H2O']]\n",
    "df_3 = df_meteo[['PAR','P(mast)']]\n",
    "df_4 = df_soil [['SM-Lit','SM-003','SM-020','SM-050','SM-100','ST-Lit','ST-003','ST-020','ST-050','ST-100']]\n",
    "timeIndex       = pd.DatetimeIndex(np.arange(np.datetime64('%4d-01-01 00:00:00'%years[0]),np.datetime64('%4d-12-31 23:59:59'%years[-1]),np.timedelta64(30,'m')).astype(np.datetime64))\n",
    "df_1 = df_1.reindex(timeIndex)\n",
    "df_2 = df_2.reindex(timeIndex)\n",
    "df_3 = df_3.reindex(timeIndex)\n",
    "df_4 = df_4.reindex(timeIndex)\n",
    "\n",
    "\n",
    "df_Getachew   = df_1.join(df_2).join(df_3).join(df_4) #pd.concat([df_Getachew_1,df_Getachew_2])\n",
    "#print(df_Getachew_1)\n",
    "#print(df_3)\n",
    "#print('Concat:')\n",
    "#print(df_Getachew)\n",
    "df_Getachew.to_csv('LoobosData_2020-2021_forGetachew.csv')"
   ]
  },
  {
   "cell_type": "code",
   "execution_count": null,
   "metadata": {},
   "outputs": [],
   "source": [
    "# @Lena\n",
    "df_Comb.keys()"
   ]
  },
  {
   "cell_type": "code",
   "execution_count": null,
   "metadata": {},
   "outputs": [],
   "source": [
    "I = (df_Comb['NEE'] < -59)\n",
    "df_Comb.loc[I,'NEE'] = np.nan\n",
    "\n",
    "f = plt.figure(1)\n",
    "f.clf()\n",
    "ax = f.add_subplot(111)\n",
    "ax.plot(df_Comb.index,df_Comb['NEE'],'g')\n",
    "ax.set_ylim([-60,40])\n"
   ]
  },
  {
   "cell_type": "code",
   "execution_count": null,
   "metadata": {},
   "outputs": [],
   "source": [
    "f = plt.figure(2)\n",
    "f.clf()\n",
    "ax = f.add_subplot(111)\n",
    "\n",
    "\n",
    "ny = len(years)\n",
    "for iy in range(ny):\n",
    "    year = years[iy]\n",
    "    I = ((df_Comb.index > pd.to_datetime('%4d-%02d-%02d'%(year-1,12,31))) & (df_Comb.index <= pd.to_datetime('%4d-%02d-%02d'%(year  ,12,31))))\n",
    "    ax.plot(df_Comb.index[I].dayofyear,df_Comb.loc[I,'NEE'].cumsum()*60*30*1e-6*12)\n",
    "ax.set_ylabel('NEE (gC/m2/yr)')\n",
    "ax.set_xlabel('day-of-year')"
   ]
  },
  {
   "cell_type": "code",
   "execution_count": null,
   "metadata": {},
   "outputs": [],
   "source": [
    "df_Comb.index[0]\n"
   ]
  },
  {
   "cell_type": "code",
   "execution_count": null,
   "metadata": {},
   "outputs": [],
   "source": [
    "pd.to_datetime('%4d-%02d-%02d'%(year-1,12,31))"
   ]
  },
  {
   "cell_type": "code",
   "execution_count": null,
   "metadata": {},
   "outputs": [],
   "source": [
    "pd.to_datetime('%4d-%02d-%02d'%(year-1,12,31))"
   ]
  },
  {
   "cell_type": "code",
   "execution_count": null,
   "metadata": {},
   "outputs": [],
   "source": []
  }
 ],
 "metadata": {
  "kernelspec": {
   "display_name": "Python 3 (ipykernel)",
   "language": "python",
   "name": "python3"
  },
  "language_info": {
   "codemirror_mode": {
    "name": "ipython",
    "version": 3
   },
   "file_extension": ".py",
   "mimetype": "text/x-python",
   "name": "python",
   "nbconvert_exporter": "python",
   "pygments_lexer": "ipython3",
   "version": "3.11.2"
  }
 },
 "nbformat": 4,
 "nbformat_minor": 4
}
