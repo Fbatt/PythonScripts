{
 "cells": [
  {
   "cell_type": "code",
   "execution_count": null,
   "id": "9d33c340-8178-4315-900d-8c6bf8e4dbf6",
   "metadata": {},
   "outputs": [],
   "source": [
    "#attempt to read and use sapflow data for tree water uptake signal"
   ]
  },
  {
   "cell_type": "code",
   "execution_count": null,
   "id": "3a2eff41-19d7-44bb-89eb-440a55b58eb5",
   "metadata": {},
   "outputs": [],
   "source": [
    "import os\n",
    "datapath   = os.path.join('../')\n",
    "print('datapath is set to %s'%datapath)\n",
    "\n",
    "import numpy as np\n",
    "import pandas as pd\n",
    "import matplotlib.pyplot as plt\n",
    "#import plotly.express as px\n",
    "#import cufflinks as cf\n",
    "import matplotlib.dates as mdate\n",
    "import matplotlib.ticker as ticker\n",
    "from matplotlib import cm\n",
    "#from colorspacious import cspace_converter\n",
    "import scipy.stats as stats\n",
    "#cf.go_offline()\n",
    "# cf.set_config_file(offline=False, world_readable=True)\n",
    "\n",
    "from datetime import datetime, timedelta\n",
    "import sys\n",
    "sys.path.insert(0, os.path.join(datapath,'PythonScripts'))"
   ]
  },
  {
   "cell_type": "markdown",
   "id": "fd007dd7-1376-4e4e-8b92-bdd6a1ddd8b5",
   "metadata": {},
   "source": [
    "### end of import and preprocessing"
   ]
  },
  {
   "cell_type": "code",
   "execution_count": null,
   "id": "a37d977e-4a3d-4af5-9b9c-156655b348c2",
   "metadata": {},
   "outputs": [],
   "source": [
    "#quick import and crop of the data\n",
    "#note that this crop removes data after 6-nov-2015 and removes some information in the headers.\n",
    "#relevant info is units:'cm3 s-1' for all columns. Variablename: Jt (sapflow?) timestamp format: YYYY/MM/DD H:MM (every 30 mins)\n",
    "#it also crops away the rightmost columns that have 'plant code' info in them, but they might just be empty)\n",
    "#and a note about 'continue to environmental_hd sheet (?)\n",
    "#info about the data iself: sometimes after nov 15 the datalogger is only on for a few hours at a time, so I crop all that out.\n",
    "\n",
    "Sapf_data = pd.read_csv('../Sapflow/NLD_LOO_sapflow_data_1.csv',header=4,low_memory=False)\n",
    "Sapf_data = Sapf_data.iloc[:67477,:7]\n",
    "#data.dropna(axis='index',thresh=6,inplace=True) #this deletes rows where there are 6 NaN values (empty row but filled TIMESTAMP)\n",
    "Sapf_data.rename(columns={'NLD_LOO__Psy_Jt_1':'Jt_1',\n",
    "            'NLD_LOO__Psy_Jt_2':'Jt_2',\n",
    "            'NLD_LOO__Psy_Jt_3':'Jt_3',\n",
    "            'NLD_LOO__Psy_Jt_4':'Jt_4',\n",
    "            'NLD_LOO__Psy_Jt_5':'Jt_5',\n",
    "            'NLD_LOO__Psy_Jt_6':'Jt_6'}, inplace=True) #rename cols to something shorter\n",
    "Sapf_data"
   ]
  },
  {
   "cell_type": "code",
   "execution_count": null,
   "id": "02d50fa6-08f9-4075-8847-f33c36283023",
   "metadata": {},
   "outputs": [],
   "source": [
    "#the default setting of pd.to_datetime isnt working. let's check if all the timestamps are in the same format.\n",
    "#using this handy snippet. using the with keyword means the values go back to their defaults once it's done running\n",
    "#with pd.option_context('display.max_rows', 70000 , 'display.max_columns', 2):  # more options can be specified also\n",
    "#    print(Sapf_data['TIMESTAMP'])"
   ]
  },
  {
   "cell_type": "code",
   "execution_count": null,
   "id": "ba835eb7-c7a7-4338-8c31-dbc4a8ed0fc0",
   "metadata": {},
   "outputs": [],
   "source": [
    "Sapf_data['TIMESTAMP']=pd.to_datetime(Sapf_data['TIMESTAMP'],format='%d-%m-%y %H:%M') #even though in the dataset the hours are not zero-padded, %H will understand it.\n",
    "Sapf_data.index=Sapf_data['TIMESTAMP']\n",
    "Sapf_data.drop(columns='TIMESTAMP',inplace=True)\n",
    "Sapf_data"
   ]
  },
  {
   "cell_type": "markdown",
   "id": "4788aafc-cf47-4b2e-9732-98687eece261",
   "metadata": {},
   "source": [
    "### end of import and preprocessing"
   ]
  },
  {
   "cell_type": "markdown",
   "id": "8817bcb1-2926-47c7-815a-73ebad03e443",
   "metadata": {},
   "source": [
    "### quick plot visualization of dataset"
   ]
  },
  {
   "cell_type": "code",
   "execution_count": null,
   "id": "d194adb8-d95c-4184-9984-cc4df3d24152",
   "metadata": {},
   "outputs": [],
   "source": [
    "Sapf_data[['Jt_1','Jt_2','Jt_3','Jt_4','Jt_5','Jt_6']].plot(figsize=(20,5))"
   ]
  },
  {
   "cell_type": "markdown",
   "id": "2a8a6678-c10b-4770-be5e-8167b4f0fa70",
   "metadata": {},
   "source": [
    "### end of quick plot visualization of dataset"
   ]
  },
  {
   "cell_type": "markdown",
   "id": "20403c67-f8cf-4437-a10d-20216ac7083e",
   "metadata": {},
   "source": [
    "## Parametrization of sapflow data into one variable"
   ]
  },
  {
   "cell_type": "code",
   "execution_count": null,
   "id": "43775f08-9834-4c12-bf96-bb149fb72afe",
   "metadata": {},
   "outputs": [],
   "source": [
    "#for now we simply use the mean as a placeholder\n",
    "Sapf_data['Jt_mean']=Sapf_data.mean(axis='columns')"
   ]
  },
  {
   "cell_type": "markdown",
   "id": "5d10a6e9-d120-4f67-b1f9-fab07dbbd2e0",
   "metadata": {
    "jp-MarkdownHeadingCollapsed": true
   },
   "source": [
    "### visual inspection of data"
   ]
  },
  {
   "cell_type": "code",
   "execution_count": null,
   "id": "89c6b226-8288-4ab6-8663-4e3710b9e0fd",
   "metadata": {},
   "outputs": [],
   "source": [
    "Sapf_data['Jt_mean'].plot(figsize=(20,5))"
   ]
  },
  {
   "cell_type": "code",
   "execution_count": null,
   "id": "9baeb43b-9267-485e-a955-98725f4daec3",
   "metadata": {},
   "outputs": [],
   "source": [
    "st='2012-07-01'\n",
    "ed='2012-07-5'\n",
    "Sapf_data.loc[st:ed].plot(figsize=(20,5))"
   ]
  },
  {
   "cell_type": "markdown",
   "id": "d9c9d693-ac43-45db-88cd-292edcf28944",
   "metadata": {},
   "source": [
    "### end of visual inspection of data"
   ]
  },
  {
   "cell_type": "markdown",
   "id": "6bc031ec-a0d2-44f0-b30e-aabec8b1b4be",
   "metadata": {},
   "source": [
    "## Write output to csv"
   ]
  },
  {
   "cell_type": "code",
   "execution_count": null,
   "id": "147370ac-ceb3-4de6-9274-458a20318ebb",
   "metadata": {},
   "outputs": [],
   "source": [
    "Sapf_data.to_csv('Sapflow.csv')"
   ]
  },
  {
   "cell_type": "code",
   "execution_count": null,
   "id": "f2e0e84b-12ce-49ac-b286-149a0ca3be44",
   "metadata": {},
   "outputs": [],
   "source": []
  }
 ],
 "metadata": {
  "kernelspec": {
   "display_name": "Python 3 (ipykernel)",
   "language": "python",
   "name": "python3"
  },
  "language_info": {
   "codemirror_mode": {
    "name": "ipython",
    "version": 3
   },
   "file_extension": ".py",
   "mimetype": "text/x-python",
   "name": "python",
   "nbconvert_exporter": "python",
   "pygments_lexer": "ipython3",
   "version": "3.11.5"
  }
 },
 "nbformat": 4,
 "nbformat_minor": 5
}
