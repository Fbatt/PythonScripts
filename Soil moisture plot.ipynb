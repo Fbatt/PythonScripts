{
 "cells": [
  {
   "cell_type": "code",
   "execution_count": null,
   "id": "70e6d595-ceff-486b-a28b-95a0a2091a97",
   "metadata": {},
   "outputs": [],
   "source": [
    "# Soil moisture plots over time"
   ]
  },
  {
   "cell_type": "code",
   "execution_count": null,
   "id": "09434369-7851-465e-a7d0-ae9de1df7f52",
   "metadata": {},
   "outputs": [],
   "source": [
    "# Settings\n",
    "Username   = 'Beheerder'\n",
    "years      = range(2001,2021)    #(1997,2021) # Set years to download"
   ]
  },
  {
   "cell_type": "code",
   "execution_count": null,
   "id": "ed1e335a-ee32-41c9-8b45-1c4bf342092e",
   "metadata": {},
   "outputs": [],
   "source": [
    "import os\n",
    "datapath = os.path.join('../')\n",
    "#print('datapath is set to %s'%datapath)\n",
    "\n",
    "import numpy as np\n",
    "import pandas as pd\n",
    "import matplotlib.pyplot as plt\n",
    "#import plotly.express as px\n",
    "#import cufflinks as cf\n",
    "import matplotlib.dates as mdate\n",
    "import matplotlib.ticker as ticker\n",
    "from matplotlib import cm\n",
    "#from colorspacious import cspace_converter\n",
    "import seaborn as sns\n",
    "import scipy.stats as stats\n",
    "#cf.go_offline()\n",
    "#cf.set_config_file(offline=False, world_readable=True)\n",
    "\n",
    "from datetime import datetime, timedelta\n",
    "import sys\n",
    "sys.path.insert(0, os.path.join(datapath,'PythonScripts'))\n",
    "from Loobos_Toolbox import dateparse, dateparse_Gapfilled, Read_LoobosEddFinal, Read_LooStor, Read_LoodatGapfill, Read_Loobos_halfhourly, Read_Loobos_meteo, Read_Loobos_soil, Read_Loobos_profile\n",
    "import matplotlib.dates as mdates"
   ]
  },
  {
   "cell_type": "code",
   "execution_count": null,
   "id": "ab0f8cb0-e4d2-49cf-a9ce-d367c4c4f805",
   "metadata": {},
   "outputs": [],
   "source": [
    "#these next two lines are to prevent re-loading the data. If you want to re-load data, instead comment them out\n",
    "if not 'progress' in globals(): progress = list()\n",
    "if not 'dataloaded' in progress:\n",
    "  # Read files\n",
    "    df_soil         = Read_Loobos_soil       (years,datapath) \n",
    "    progress.append('dataloaded')"
   ]
  },
  {
   "cell_type": "code",
   "execution_count": null,
   "id": "8d1b71c5-f700-4e6e-9dd1-9c1f72ac8b98",
   "metadata": {},
   "outputs": [],
   "source": [
    "#the soil dataset is comprised of two parts.\n",
    "#before 2005, soil moisture is measured using a different sensor but data is missing (only codes 202 and 204 have data)\n",
    "#after 2005, soil moisture is measured using SM-sensor\n",
    "df_soil.columns"
   ]
  },
  {
   "cell_type": "code",
   "execution_count": null,
   "id": "dadfc0a5-0aa0-4a38-a752-b85ab0d481bb",
   "metadata": {},
   "outputs": [],
   "source": [
    "SM_data=df_soil.loc['2005-04-11':,['SM-003','SM-020','SM-050','SM-100']] #measured data for SM starts on 11-04-2005 at around 14:00\n",
    "SM_data"
   ]
  },
  {
   "cell_type": "markdown",
   "id": "c3ebadc1-922e-4cea-a54f-7e38dfd2abd3",
   "metadata": {
    "jp-MarkdownHeadingCollapsed": true
   },
   "source": [
    "#### EC series EC202 and EC204"
   ]
  },
  {
   "cell_type": "code",
   "execution_count": null,
   "id": "135c4c0b-fb16-40ff-a5b9-687a3dc54646",
   "metadata": {},
   "outputs": [],
   "source": [
    "#all EC series empty besides 202 and 204\n",
    "df_soil['EC202'].dropna().plot()\n",
    "df_soil['EC204'].dropna().plot()"
   ]
  },
  {
   "cell_type": "markdown",
   "id": "7132b4e5-7ba3-48c2-a1c9-77bbde5a0fef",
   "metadata": {
    "jp-MarkdownHeadingCollapsed": true
   },
   "source": [
    "#### Eps_co series "
   ]
  },
  {
   "cell_type": "code",
   "execution_count": null,
   "id": "b72adf52-0e9a-4b90-a0c3-c24e6f868836",
   "metadata": {},
   "outputs": [],
   "source": [
    "# All Eps#co series empty besides 202 and 204\n",
    "#df_soil['Eps201co'].dropna().plot()\n",
    "df_soil['Eps202co'].dropna().plot()\n",
    "#df_soil['Eps203co'].dropna().plot()\n",
    "df_soil['Eps204co'].dropna().plot()\n",
    "#df_soil['Eps205co'].dropna().plot()\n",
    "#df_soil['Eps206co'].dropna().plot()\n",
    "#df_soil['Eps207co'].dropna().plot()\n",
    "#df_soil['Eps208co'].dropna().plot()\n",
    "#df_soil['Eps209co'].dropna().plot()"
   ]
  },
  {
   "cell_type": "markdown",
   "id": "b1f85bd4-e9d1-4334-8a1f-7355e0b1e8ab",
   "metadata": {},
   "source": [
    "### end of EC and Eps_co series plots"
   ]
  },
  {
   "cell_type": "markdown",
   "id": "72fe9ef0-30c0-48a6-bafb-d026bdb02d99",
   "metadata": {},
   "source": [
    "# Construct soil moisture layers"
   ]
  },
  {
   "cell_type": "code",
   "execution_count": null,
   "id": "3f4bbb78-fe41-4985-a96a-2fe648cdc2d9",
   "metadata": {},
   "outputs": [],
   "source": [
    "# based on a method in a paper, they separate soil moist into 2 layers:\n",
    "# 0-50 and 50-100 (littoral excluded). They do this because they want to plot C3 grass and pinus sylvestris.\n",
    "# in theory, we could do 1 big soil layer, as we do not plot GPP for grass (unlike the paper)\n",
    "# however, the influence of the GPP contribution from understory vegetation on observations should be there\n",
    "# and given that grasses and black cherry both only should root to 50cm, these are useful depths to distinguish."
   ]
  },
  {
   "cell_type": "code",
   "execution_count": null,
   "id": "e43ee6ac-b5a2-4619-af89-d21454a2e5b4",
   "metadata": {},
   "outputs": [],
   "source": [
    "SM_data['SM_l1']=SM_data.loc[:,['SM-003','SM-020','SM-050']].mean(axis='columns')\n",
    "SM_data['SM_l2']=SM_data.loc[:,['SM-050','SM-100']].mean(axis='columns')\n",
    "SM_data\n",
    "#.loc['2005-01-02':'2005-01-14','SM-003'].plot()"
   ]
  },
  {
   "cell_type": "code",
   "execution_count": null,
   "id": "e3f63d3d-6469-4d1f-84b7-c5d4dcc5b0e3",
   "metadata": {},
   "outputs": [],
   "source": [
    "SM_data['SM_l1'].plot()\n",
    "SM_data['SM_l2'].plot()"
   ]
  },
  {
   "cell_type": "code",
   "execution_count": null,
   "id": "d1506a37-ebab-4965-89de-9ef1fddbd467",
   "metadata": {},
   "outputs": [],
   "source": [
    "fig,ax= plt.subplots()\n",
    "ax.hist(SM_data['SM_l1'],bins=12)\n",
    "ax.set_xlabel('vol soil moisture content (%)')\n",
    "ax.set_xlabel('count')\n",
    "plt.show()"
   ]
  },
  {
   "cell_type": "code",
   "execution_count": null,
   "id": "e15d0c10-2ee8-4814-952e-929983cb91af",
   "metadata": {},
   "outputs": [],
   "source": [
    "fig, ax = plt.subplots()\n",
    "sns.histplot(data=SM_data, x=\"SM_l1\",ax=ax)\n",
    "ax.set_xlim(0,0.1)\n",
    "plt.show()"
   ]
  },
  {
   "cell_type": "code",
   "execution_count": null,
   "id": "5a1bfde0-5c36-4388-9fef-cafa4a328d48",
   "metadata": {},
   "outputs": [],
   "source": [
    "SM_data"
   ]
  },
  {
   "cell_type": "code",
   "execution_count": null,
   "id": "dc35b18e-bab5-4ac9-a743-07896d8379c4",
   "metadata": {},
   "outputs": [],
   "source": [
    "#print min, max of each layer\n",
    "print('003',min(SM_data['SM-003'].dropna()),' ',max(SM_data['SM-003'].dropna()))\n",
    "print('020',min(SM_data['SM-020'].dropna()),' ',max(SM_data['SM-020'].dropna()))\n",
    "print('050',min(SM_data['SM-050'].dropna()),' ',max(SM_data['SM-050'].dropna()))\n",
    "print('100',min(SM_data['SM-100'].dropna()),' ',max(SM_data['SM-100'].dropna()))\n",
    "print('sm1',min(SM_data['SM_l1'].dropna()),' ',max(SM_data['SM_l1'].dropna()))\n",
    "print('sm2',min(SM_data['SM_l2'].dropna()),' ',max(SM_data['SM_l2'].dropna()))"
   ]
  },
  {
   "cell_type": "markdown",
   "id": "2960030f-8952-4544-811e-ea7fb7ffee1e",
   "metadata": {},
   "source": [
    "## export data to csv"
   ]
  },
  {
   "cell_type": "code",
   "execution_count": null,
   "id": "1f8a5791-0ac2-41e4-a6ea-423d8021e2f0",
   "metadata": {},
   "outputs": [],
   "source": [
    "SM_data.index.name = 'datetime'\n",
    "SM_data.to_csv('Soil_moisture.csv')"
   ]
  },
  {
   "cell_type": "markdown",
   "id": "e30c53c3-3078-4325-ada3-b6c315c10dee",
   "metadata": {},
   "source": [
    "## end of export data"
   ]
  },
  {
   "cell_type": "markdown",
   "id": "9d2f2033-98fa-435b-b882-f7be72d11e2f",
   "metadata": {},
   "source": [
    "## behavior of soil moist during heatwaves"
   ]
  },
  {
   "cell_type": "code",
   "execution_count": null,
   "id": "ffb674dd-8374-493f-b05c-b7874686a589",
   "metadata": {},
   "outputs": [],
   "source": [
    "#def the plotter wrapper\n",
    "plt.rcParams[\"figure.figsize\"] = (20,6)\n",
    "\n",
    "def SM_plot_wrapper(data,st,ed,tick_frq='Day'):\n",
    "    fig,ax = plt.subplots()\n",
    "    \n",
    "\n",
    "    if tick_frq=='Day':\n",
    "        ax.xaxis.set_minor_locator(mdates.DayLocator())\n",
    "    elif tick_frq=='Hour':\n",
    "        ax.xaxis.set_minor_locator(mdates.HourLocator())\n",
    "\n",
    "\n",
    "    ax.plot(data.loc[st:ed,'SM_l1'],label='SM_layer1(0-50cm)')\n",
    "    ax.plot(data.loc[st:ed,'SM_l2'],label='SM_layer2(50-100cm)')\n",
    "    \n",
    "    ax.set_ylabel('soil moist')\n",
    "    \n",
    "    ax.legend(loc=(\"upper left\"))\n",
    "    fig.autofmt_xdate()\n",
    "\n",
    "    plt.show()"
   ]
  },
  {
   "cell_type": "code",
   "execution_count": null,
   "id": "940e41f7-9737-4cc2-aa71-7209aea66892",
   "metadata": {},
   "outputs": [],
   "source": [
    "#import the heatwave data\n",
    "heatwave=pd.read_csv('Heatwave_table.csv')\n",
    "heatwave.loc[:,'start']        = pd.to_datetime(heatwave['start'])\n",
    "heatwave.loc[:,'end(inc.)']    = pd.to_datetime(heatwave['end(inc.)'])\n",
    "heatwave.loc[:,'MaxTempDate']  = pd.to_datetime(heatwave['MaxTempDate'])\n",
    "heatwave.index=heatwave['start']\n",
    "heatwave"
   ]
  },
  {
   "cell_type": "code",
   "execution_count": null,
   "id": "0ab0d9b5-8264-48a1-8a83-dbb1600a5617",
   "metadata": {},
   "outputs": [],
   "source": [
    "dates=heatwave.loc['2005-04-11':'2019-08-28',['start','end(inc.)']]\n",
    "dates"
   ]
  },
  {
   "cell_type": "code",
   "execution_count": null,
   "id": "2f7b17d9-b9ad-4077-87c9-e97a7401342d",
   "metadata": {},
   "outputs": [],
   "source": [
    "#plot heatwaves\n",
    "#print(test)\n",
    "for index,row in dates.iterrows():\n",
    "    SM_plot_wrapper(SM_data,row['start'],row['end(inc.)'],'Hour') #args: data, st,ed,[tick_frq='Day' or 'Hour']"
   ]
  },
  {
   "cell_type": "markdown",
   "id": "3c318d54-6634-4200-80c6-61f12e154ca9",
   "metadata": {},
   "source": [
    "## end of behavior soil moist during heatwaves"
   ]
  },
  {
   "cell_type": "code",
   "execution_count": null,
   "id": "2d8ae71b-a484-402f-b248-38faa7eeb94d",
   "metadata": {},
   "outputs": [],
   "source": []
  }
 ],
 "metadata": {
  "kernelspec": {
   "display_name": "Python 3 (ipykernel)",
   "language": "python",
   "name": "python3"
  },
  "language_info": {
   "codemirror_mode": {
    "name": "ipython",
    "version": 3
   },
   "file_extension": ".py",
   "mimetype": "text/x-python",
   "name": "python",
   "nbconvert_exporter": "python",
   "pygments_lexer": "ipython3",
   "version": "3.11.5"
  }
 },
 "nbformat": 4,
 "nbformat_minor": 5
}
