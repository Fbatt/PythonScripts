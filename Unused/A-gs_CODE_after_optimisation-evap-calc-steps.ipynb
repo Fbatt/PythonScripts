{
 "cells": [
  {
   "cell_type": "markdown",
   "id": "a2978442-0a0a-42b2-ac0f-8e6b685580d8",
   "metadata": {},
   "source": [
    "# A-gs model and implementation (simulation CO2 and H2O flux)"
   ]
  },
  {
   "cell_type": "markdown",
   "id": "c5053646-e207-4e8c-a62e-2a7f70ad0887",
   "metadata": {},
   "source": [
    "## Initialize data and model"
   ]
  },
  {
   "cell_type": "markdown",
   "id": "467470b3-2427-4ada-b14f-9ff26922d8ec",
   "metadata": {},
   "source": [
    "### Setup and fetch data"
   ]
  },
  {
   "cell_type": "code",
   "execution_count": null,
   "id": "515abf18",
   "metadata": {},
   "outputs": [],
   "source": [
    "# Settings\n",
    "Username   = 'Beheerder'\n",
    "years      = range(2017,2021)    #(1997,2021) # Set years to download"
   ]
  },
  {
   "cell_type": "code",
   "execution_count": null,
   "id": "fdb7f756",
   "metadata": {},
   "outputs": [],
   "source": [
    "import os\n",
    "datapath   = os.path.join('../')\n",
    "print('datapath is set to %s'%datapath)\n",
    "\n",
    "# !pip install numpy\n",
    "# !pip install pandas\n",
    "# !pip install matplotlib\n",
    "# !pip install plotly \n",
    "# !pip install cufflinks\n",
    "#!pip install colorspacious\n",
    "#!pip install seaborn\n",
    "\n",
    "import numpy as np\n",
    "import pandas as pd\n",
    "import matplotlib.pyplot as plt\n",
    "#import plotly.express as px\n",
    "#import cufflinks as cf\n",
    "import matplotlib.dates as mdate\n",
    "import matplotlib.ticker as ticker\n",
    "from matplotlib import cm\n",
    "#from colorspacious import cspace_converter\n",
    "import scipy.stats as stats\n",
    "#cf.go_offline()\n",
    "# cf.set_config_file(offline=False, world_readable=True)\n",
    "\n",
    "from datetime import datetime, timedelta\n",
    "import sys\n",
    "sys.path.insert(0, os.path.join(datapath,'PythonScripts'))\n",
    "from Loobos_Toolbox import dateparse, dateparse_Gapfilled, Read_LoobosEddFinal, Read_LooStor, Read_LoodatGapfill, Read_Loobos_halfhourly, Read_Loobos_meteo, Read_Loobos_soil, Read_Loobos_profile\n",
    "\n",
    "from Ags_model import runAgs"
   ]
  },
  {
   "cell_type": "code",
   "execution_count": null,
   "id": "244e6ea2",
   "metadata": {},
   "outputs": [],
   "source": [
    "#these next two lines are to prevent re-loading the data. If you want to re-load data, instead comment them out\n",
    "if not 'progress' in globals(): progress = list()\n",
    "if not 'dataloaded' in progress:\n",
    "  # Read files\n",
    "    df_EC           = Read_LoobosEddFinal    (years,datapath)\n",
    "    df_Stor         = Read_LooStor           (years,datapath)\n",
    "    df_Comb         = Read_LoodatGapfill     (years,datapath)\n",
    "    df_NEE          = Read_Loobos_halfhourly (years,datapath)\n",
    "    df_meteo        = Read_Loobos_meteo      (years,datapath)\n",
    "    df_soil         = Read_Loobos_soil       (years,datapath) \n",
    "    df_profile      = Read_Loobos_profile    (years,datapath)\n",
    "    progress.append('dataloaded')"
   ]
  },
  {
   "cell_type": "code",
   "execution_count": null,
   "id": "3e66087c",
   "metadata": {},
   "outputs": [],
   "source": [
    "# Make filter for GPP orginial data and not gabfilled\n",
    "I = ((df_Comb['GPP_fqc']==0)&(df_meteo['PAR']>0))\n",
    "\n",
    "# Filter for CO2 data\n",
    "t = df_profile.index                                          \n",
    "time = (t < np.datetime64('2013-05-08')) | (t > np.datetime64('2013-06-01'))\n",
    "CO2 = (df_profile['CO2level1'] > 300)\n",
    "\n",
    "#General filter\n",
    "I = ((df_Comb['GPP_fqc']==0)&(df_meteo['PAR']>0))\n",
    "\n",
    "df_meteo_CO2 = df_meteo[time][CO2]\n",
    "df_meteo_filter = df_meteo_CO2[I]\n",
    "# print(df_meteo_CO2_filter['PAR'])\n",
    "\n",
    "df_Comb_CO2 = df_Comb[time][CO2]\n",
    "df_Comb_filter = df_Comb_CO2[I]\n",
    "# print(df_Comb_CO2_filter['GPP_f'])\n",
    "\n",
    "df_profile_CO2 = df_profile[time][CO2]\n",
    "df_profile_filter = df_profile_CO2[I]\n",
    "# print(df_profile_CO2_filter['CO2level1'])\n",
    "\n",
    "df_EC_CO2 = df_EC[time][CO2]\n",
    "df_EC_filter = df_EC_CO2[I]"
   ]
  },
  {
   "cell_type": "markdown",
   "id": "c1996767-09d3-441d-b711-cea73a750854",
   "metadata": {},
   "source": [
    "### Run A-gs model"
   ]
  },
  {
   "cell_type": "markdown",
   "id": "cb0753ef-8f5b-4b55-83db-ad31419a0e53",
   "metadata": {},
   "source": [
    "## Calcuate ET"
   ]
  },
  {
   "cell_type": "markdown",
   "id": "ac78d717-ea63-477c-9c43-8a29262f3143",
   "metadata": {},
   "source": [
    "### Assemble dataframe 'df_ET' that will hold output and fill with inputs"
   ]
  },
  {
   "cell_type": "code",
   "execution_count": null,
   "id": "1065217e-ea3f-4cfc-97af-76ad200b8c08",
   "metadata": {},
   "outputs": [],
   "source": [
    "df_ET = pd.concat([df_meteo['L(o)'],df_meteo['Te-L(o)'],df_profile['Pressure'],df_Comb['VPD'],df_Comb['rH'],df_meteo['P(mast)']],axis=1,sort=False)\n",
    "#convert Pressure from hPa to kPa \n",
    "df_ET['p_kPa']=df_ET['Pressure']/10\n",
    "df_ET['VPD_adj']=df_ET['VPD'].loc[df_ET['VPD']>0] #some outlier values for VPD are negative, remove from dataset\n",
    "df_ET['VPD_adj']=df_ET['VPD_adj']/10  # VPD from df_Comb is in hPa, I need kPa, so hPa/10 = kPa"
   ]
  },
  {
   "cell_type": "markdown",
   "id": "a7f94f14-69d7-4d8a-a720-5531d86ec058",
   "metadata": {},
   "source": [
    "### step 1) leaf temperature 'T_sfc'"
   ]
  },
  {
   "cell_type": "code",
   "execution_count": null,
   "id": "8a2083b5-cc4a-4c1d-8da6-c6d16c338ee5",
   "metadata": {},
   "outputs": [],
   "source": [
    "#correcting outgoing Longwave: the sensor measures values between -20 and 10, but that it because the blackbody emission from the sensor itself (dependent on the temp of the sensor) is not taken into account.\n",
    "#thus we must take the output of the sensor and add the emitted longwave radiation of the sensor itself.\n",
    "#R_L(out)_corrected = R_L(out)_measured + R_L(out)_sensor, where R_L(out)_sensor = sigma*T(sensor)^4\n",
    "\n",
    "#constants:\n",
    "sigma = 5.67e-8 # W/m2/K4, Stefan-boltzmann constant\n",
    "epsilon = 1/0.98\n",
    "df_ET['L(o)_sensor'] = sigma*((df_ET['Te-L(o)']+273)**4)    #where Te-L(o) is in C\n",
    "df_ET['L(o)_corr'] = df_ET['L(o)'] + df_ET['L(o)_sensor'] # where L(o)_corr is corrected Longwave out (corrected for sensor's own temp)\n",
    "#df_ET['L(o)_corr'].plot() # varies from 300 to 500 Wm-2\n",
    "\n",
    "#Formula for leaf temp is: R_L(out)_corrected = epsilon * sigma * T_sfc^4 (where epsilon = 0.98-1.00, sigma = 5.67e-8 W/m2/K4, T_sfc in K)\n",
    "#rearrange formula to:\n",
    "df_ET['T_sfc'] = (df_ET['L(o)_corr'] / (epsilon*sigma)) ** (1/4)  # T_sfc output in K)\n",
    "df_ET['T_sfc_C'] = df_ET['T_sfc']-273\n",
    "#check output:\n",
    "df_ET['T_sfc_C'].plot(title=\"Leaf surface temp 'T_sfc_C' in Celcius\")"
   ]
  },
  {
   "cell_type": "markdown",
   "id": "afd48e79-4f83-4918-88fd-31dc73f4063f",
   "metadata": {},
   "source": [
    "### step 2) saturated vapor pressure 'e_sat'"
   ]
  },
  {
   "cell_type": "markdown",
   "id": "9e002423-dc98-467a-8548-74cad7fa518d",
   "metadata": {},
   "source": [
    "#### calculating e_sat assuming T_sfc is in Kelvin"
   ]
  },
  {
   "cell_type": "code",
   "execution_count": null,
   "id": "2f589699-a1cf-4e45-80bb-c9023990611a",
   "metadata": {},
   "outputs": [],
   "source": [
    "#calculating e_sat from T_sfc_C, note that T_sfc_C ranges from -150 C to -250 C (suspicious)\n",
    "#constants:\n",
    "e_sat_0 = 0.6107 # e_sat_0 = 0.6107 kPa or 610.7 Pa\n",
    "a = 7.5\n",
    "b = 237.3 # oC (geen typo)\n",
    "df_ET['e_sat'] = e_sat_0 * 10**(a*df_ET['T_sfc_C'] / (b+df_ET['T_sfc_C'])) #  T_sfc_C in oC\n",
    "\n",
    "#formal clausius-Clapeyron (aka August-Roche-Magnus) from wikipedia: e_sat = e_sat_0 * 10^( 17.6*Temp / 243+ Temp)  where e_sat is in hPa and Temp is in K\n",
    "\n",
    "p1=df_ET['e_sat'].plot(title=\"saturated vapor pressure 'e_sat' in kPa\")\n",
    "#p1.axhline(y=100,c='r')\n",
    "#p1.axhline(y=0.40,c='r')"
   ]
  },
  {
   "cell_type": "markdown",
   "id": "dde10abf-a388-477d-8a42-ab3d08dedf40",
   "metadata": {},
   "source": [
    "#### wikipedia formula"
   ]
  },
  {
   "cell_type": "code",
   "execution_count": null,
   "id": "45ae3173-9802-42c0-86c9-502207493cf2",
   "metadata": {},
   "outputs": [],
   "source": [
    "#USING WIKIPEDIA FORMULA INSTEAD OF ONE GIVEN BY MICHIEL\n",
    "#calculating e_sat from T_sfc, note that T_sfc ranges from 0 K to (suspicious)\n",
    "#constants:\n",
    "#e_sat_0 = 0.6107 # e_sat_0 = 0.6107 kPa or 610.7 Pa\n",
    "#a = 17.6\n",
    "#b = 243 # oC (geen typo)\n",
    "#df_ET['e_sat_wiki'] = e_sat_0 * 10**(a*df_ET['T_sfc'] / (b+df_ET['T_sfc'])) #  T_sfc in K\n",
    "\n",
    "#formal clausius-Clapeyron (aka August-Roche-Magnus) from wikipedia: e_sat = e_sat_0 * 10^( 17.6*Temp / 243+ Temp)  where e_sat is in hPa and Temp is in K\n",
    "\n",
    "#p1=df_ET['e_sat_wiki'].plot(title=\"saturated vapor pressure 'e_sat' in hPa (using Wikipedia formula) \")\n",
    "#p1.axhline(y=100,c='r')\n",
    "#p1.axhline(y=0.40,c='r')"
   ]
  },
  {
   "cell_type": "markdown",
   "id": "97bd594a-9f80-4f40-8c1a-dfe307e39a96",
   "metadata": {},
   "source": [
    "### step 3) ET from VPD and Esat"
   ]
  },
  {
   "cell_type": "code",
   "execution_count": null,
   "id": "f2bf62e3-a391-44fc-b576-114f005082f2",
   "metadata": {},
   "outputs": [],
   "source": [
    "#VPD(in Pa) = e_sat - e_act\n",
    "#VPD(in kg/kg) = q_sat - q_act\n",
    "\n",
    "Rd = 287 # J/kg K\n",
    "Rv = 462 # J/kg K\n",
    "# e = vapour pressure # in Pa of kPa\n",
    "# p = air pressure # in Pa of kPa\n",
    "\n",
    "#Je kunt specific humidity q in kg/kg berekenen uit vapour pressure e via:\n",
    "#q = Rd/Rv * e/p\n",
    "\n",
    "#q_sat = Rd/Rv * e_sat/p\n",
    "df_ET['q_sat'] = Rd/Rv * df_ET['e_sat']/df_ET['p_kPa']\n",
    "\n",
    "#method 1 of calculating e_act: through VPD from dataset\n",
    "#note: this is giving negative values so I'm removing it for now.\n",
    "#VPD = e_sat - e_act -> e_act = e_sat - VPD\n",
    "df_ET['e_act_fromVPD'] = df_ET['e_sat'] - df_ET['VPD_adj']\n",
    "\n",
    "#q_act = Rd/Rv * e_act/p\n",
    "df_ET['q_act_fromVPD'] = Rd/Rv * df_ET['e_act_fromVPD']/df_ET['p_kPa'] #adding this to check\n",
    "\n",
    "#final step, subtract to get VPD for specific humidity\n",
    "#VPD_q = q_sat-q_act\n",
    "df_ET['VPDq_fromVPD']=df_ET['q_sat'] - df_ET['q_act_fromVPD'] #adding this to check if there's a substantial difference\n",
    "\n",
    "#method 2 of calculating e_act: through Rel Humidity from dataset\n",
    "# RH = e_act/e_sat *100 -> e_act = RH * e_sat /100\n",
    "df_ET['e_act_fromRH'] = (df_ET['rH']/100)*df_ET['e_sat']\n",
    "\n",
    "#q_act = Rd/Rv * e_act/p\n",
    "df_ET['q_act_fromRH'] = Rd/Rv * df_ET['e_act_fromRH']/df_ET['p_kPa']\n",
    "\n",
    "#final step, subtract to get VPD for specific humidity\n",
    "#VPD_q = q_sat-q_act\n",
    "df_ET['VPDq_fromRH']=df_ET['q_sat'] - df_ET['q_act_fromRH']\n",
    "\n",
    "#df_ET['VPDq_fromVPD'].plot(title='VPD (calculated from VPD) in kg(vapor)/kg(air)')\n",
    "df_ET['VPDq_fromRH'].plot(title='VPD (caldulated from RH) in kg(vapor)/kg(air)')"
   ]
  },
  {
   "cell_type": "code",
   "execution_count": null,
   "id": "7aefabae-3fc8-403c-b5b1-512bebb858e5",
   "metadata": {},
   "outputs": [],
   "source": [
    "#plot the differences between the methods\n",
    "#df_ET['e_act_diff']=df_ET['e_act_fromVPD']-df_ET['e_act_fromRH']\n",
    "#df_ET['e_act_diff'].plot()\n",
    "#df_ET['e_sat'].plot()"
   ]
  },
  {
   "cell_type": "markdown",
   "id": "d4f907e1-0e0b-4fc6-9b2f-1831559e4197",
   "metadata": {},
   "source": [
    "### step 4) ET in Wm-2 from VPD"
   ]
  },
  {
   "cell_type": "code",
   "execution_count": null,
   "id": "e13421fc-ce43-451f-a688-ea72d941b33c",
   "metadata": {},
   "outputs": [],
   "source": [
    "#final step\n",
    "#ET = rho * Lv * VPD/rs\n",
    "#rho = 1.2 (approx value given by Michiel), Lv = 2260 kJ/kg (from google) Note: update to more accurate values when I can\n",
    "\n",
    "df_ET['ET'] = 1.2 * 2260000 * (df_ET['VPDq_fromRH']/rs)\n",
    "df_ET['ET_VPD'] = 1.2 * 2260000 * (df_ET['VPDq_fromVPD']/rs)\n",
    "df_ET['ET_VPD2'] = 1.2 * 2260000 * (df_ET['VPDq_fromVPD']/(rs+ra))"
   ]
  },
  {
   "cell_type": "markdown",
   "id": "73ae9be1-8d01-49b8-9084-ec4dc5aa3254",
   "metadata": {},
   "source": [
    "## End of Calculating ET section"
   ]
  },
  {
   "cell_type": "markdown",
   "id": "380f89cf-1c76-41d9-8d80-531591d2d441",
   "metadata": {},
   "source": [
    "## Visualize results"
   ]
  },
  {
   "cell_type": "markdown",
   "id": "f1a3b611-32d2-4ac9-8147-4c0cf4329857",
   "metadata": {},
   "source": [
    "### yearly overviews of CO2 and H2O fluxes"
   ]
  },
  {
   "cell_type": "markdown",
   "id": "54d23972-4dec-4feb-bda3-861319a71907",
   "metadata": {},
   "source": [
    "#### Water (ET and LE) yearly overview"
   ]
  },
  {
   "cell_type": "code",
   "execution_count": null,
   "id": "260e1ebf-1425-4dd9-af46-771974b6b6bf",
   "metadata": {},
   "outputs": [],
   "source": [
    "#simulated ET\n",
    "#2017\n",
    "fig, ax = plt.subplots()\n",
    "ET_plotting_2017 = df_ET['ET_VPD2'].loc['2017-04-01':'2017-09-30'].between_time(\"11:00\", \"18:00\")\n",
    "ax.plot(ET_plotting_2017)\n",
    "ax.set_ylabel('ET [W/m2]')\n",
    "plt.suptitle('simulated ET in Wm-2 for 2017 growth season, between 11:00 and 18:00')\n",
    "plt.grid()\n",
    "fig.autofmt_xdate()\n",
    "plt.show()\n",
    "#2018\n",
    "fig, ax = plt.subplots()\n",
    "ET_plotting_2018 = df_ET['ET_VPD2'].loc['2018-04-01':'2018-09-30'].between_time(\"11:00\", \"18:00\")\n",
    "ax.plot(ET_plotting_2018)\n",
    "ax.set_ylabel('ET [W/m2]')\n",
    "plt.suptitle('simulated ET in Wm-2 for 2018 growth season, between 11:00 and 18:00')\n",
    "plt.grid()\n",
    "fig.autofmt_xdate()\n",
    "plt.show()"
   ]
  },
  {
   "cell_type": "code",
   "execution_count": null,
   "id": "12c70db0-1714-43a5-957d-fae4afb24e1a",
   "metadata": {},
   "outputs": [],
   "source": [
    "#measured LE\n",
    "#2017\n",
    "fig, ax = plt.subplots()\n",
    "LE_plotting_2017 = df_Comb['LE'].loc[df_Comb['LE']>0].loc['2017-04-01':'2017-09-30'].between_time(\"11:00\", \"18:00\")\n",
    "ax.plot(LE_plotting_2017)\n",
    "ax.set_ylabel('ET [W/m2]')\n",
    "plt.suptitle('measured LE in Wm-2 for 2017 growth season, between 11:00 and 18:00')\n",
    "plt.grid()\n",
    "fig.autofmt_xdate()\n",
    "plt.show()\n",
    "#2018\n",
    "fig, ax = plt.subplots()\n",
    "LE_plotting_2018 = df_Comb['LE'].loc[df_Comb['LE']>0].loc['2018-04-01':'2018-09-30'].between_time(\"11:00\", \"18:00\")\n",
    "ax.plot(LE_plotting_2018)\n",
    "ax.set_ylabel('ET [W/m2]')\n",
    "plt.suptitle('measured LE in Wm-2 for 2018 growth season, between 11:00 and 18:00')\n",
    "plt.grid()\n",
    "fig.autofmt_xdate()\n",
    "plt.show()\n",
    "#difference 2017\n",
    "fig,ax = plt.subplots()\n",
    "ax.plot(ET_plotting_2017)\n",
    "ax.plot(LE_plotting_2017,c='r')\n",
    "fig.legend(['simulated','measured'])\n",
    "plt.show()\n",
    "#difference 2017\n",
    "fig,ax = plt.subplots()\n",
    "ax.plot(ET_plotting_2018)\n",
    "ax.plot(LE_plotting_2018,c='r')\n",
    "fig.legend(['simulated','measured'])\n",
    "plt.show()"
   ]
  },
  {
   "cell_type": "markdown",
   "id": "697c2d7e-9f46-40f6-95f7-4486106b3d82",
   "metadata": {},
   "source": [
    "#### Carbon (An and GPP) yearly overview"
   ]
  },
  {
   "cell_type": "code",
   "execution_count": null,
   "id": "46f23930-1a7f-4537-8abb-2b443eeef9c0",
   "metadata": {},
   "outputs": [],
   "source": [
    "#simulated An\n",
    "#2017\n",
    "fig, ax = plt.subplots()\n",
    "an_plotting_2017 = an_umol.loc[an_umol>0].loc['2017-04-01 00:00':'2017-10-01 00:00'].between_time(\"11:00\", \"18:00\")\n",
    "ax.plot(an_plotting_2017)\n",
    "ax.set_ylabel('Assimilation [umol/m2/s]')\n",
    "plt.suptitle('A-gs simulated Assimilation rate for 2017 growth season, between 11:00 and 18:00')\n",
    "plt.grid()\n",
    "fig.autofmt_xdate()\n",
    "plt.show()\n",
    "#2018\n",
    "fig, ax = plt.subplots()\n",
    "an_plotting_2018 = an_umol.loc[an_umol>0].loc['2018-04-01 00:00':'2018-10-01 00:00'].between_time(\"11:00\", \"18:00\")\n",
    "ax.plot(an_plotting_2018)\n",
    "ax.set_ylabel('Assimilation [umol/m2/s]')\n",
    "plt.suptitle('A-gs simulated Assimilation rate for 2018 growth season, between 11:00 and 18:00')\n",
    "plt.grid()\n",
    "fig.autofmt_xdate()\n",
    "plt.show()"
   ]
  },
  {
   "cell_type": "code",
   "execution_count": null,
   "id": "c52182cd-e99d-40f9-9182-d936006b9ee8",
   "metadata": {},
   "outputs": [],
   "source": [
    "#measured GPP\n",
    "#2017\n",
    "fig, ax = plt.subplots()\n",
    "GPP_plotting_2017 = df_Comb['GPP_f'].loc['2017-04-05 00:00':'2017-10-01 00:00'].between_time(\"11:00\", \"18:00\")\n",
    "ax.plot(GPP_plotting_2017)\n",
    "ax.set_ylabel('GPP [umol/m2/s]')\n",
    "plt.suptitle('Measured GPP for 2017 growth season, between 11:00 and 18:00')\n",
    "plt.grid()\n",
    "fig.autofmt_xdate()\n",
    "plt.show()\n",
    "#2018\n",
    "fig, ax = plt.subplots()\n",
    "GPP_plotting_2018 = df_Comb['GPP_f'].loc['2018-04-05 00:00':'2018-10-01 00:00'].between_time(\"11:00\", \"18:00\")\n",
    "ax.plot(GPP_plotting_2018)\n",
    "ax.set_ylabel('GPP [umol/m2/s]')\n",
    "plt.suptitle('Measured GPP for 2018 growth season, between 11:00 and 18:00')\n",
    "plt.grid()\n",
    "fig.autofmt_xdate()\n",
    "plt.show()"
   ]
  },
  {
   "cell_type": "markdown",
   "id": "c31d73df-65eb-4a2c-9140-7249b9a9b9ca",
   "metadata": {},
   "source": [
    "### Day-scale comparison measured and simulated GPP"
   ]
  },
  {
   "cell_type": "code",
   "execution_count": null,
   "id": "7ea4932c-fde5-4f10-b7a4-f2293d268eaf",
   "metadata": {},
   "outputs": [],
   "source": [
    "#for the CO2 flux, presumably in mol/area/time, we take it from .....\n",
    "#this can be split up in a respiration and assimilation flux. For assimilation we take it using night time representative values over time\n",
    "#An_final is in mg/m2/s, therefor use an_umol\n",
    "#2017\n",
    "fig, ax = plt.subplots()\n",
    "an_plotting_apr2017 = an_umol.loc[an_umol>0].loc['2017-04-14 00:00':'2017-04-16 00:00']#.between_time(\"11:00\", \"18:00\")\n",
    "ax.plot(an_plotting_apr2017)\n",
    "ax.set_ylabel('Assimilation [umol/m2/s]')\n",
    "fig.autofmt_xdate()\n",
    "fig.suptitle('A-gs simulated assimilation (GPP) for 14-16 april 2017')\n",
    "plt.grid()\n",
    "plt.show()\n",
    "\n",
    "fig, ax = plt.subplots()\n",
    "gpp_plotting_apr2017=df_Comb['GPP_f'].loc['2017-04-14 00:00':'2017-04-16 00:00']\n",
    "ax.plot(gpp_plotting_apr2017)\n",
    "ax.set_ylabel('GPP [umol/m2/s]')\n",
    "#fig.autofmt_xdate()\n",
    "fig.suptitle('EC-measured GPP_f for 14-16 april 2017')\n",
    "plt.grid()\n",
    "plt.show()\n",
    "\n",
    "fig, ax = plt.subplots()\n",
    "ax.plot(gpp_plotting_apr2017-an_plotting_apr2017)\n",
    "ax.set_ylabel('GPP [umol/m2/s]')\n",
    "#fig.autofmt_xdate()\n",
    "fig.suptitle('EC-measured GPP_f minus A-gs simulated An for 14-16 april 2017')\n",
    "plt.grid()\n",
    "plt.show()\n"
   ]
  },
  {
   "cell_type": "code",
   "execution_count": null,
   "id": "1bf377e4-dac7-4df4-9ea2-26aeb911215b",
   "metadata": {},
   "outputs": [],
   "source": [
    "#2017\n",
    "fig, ax = plt.subplots()\n",
    "an_plotting_apr2017 = df_ET['ET'].loc['2018-08-01 00:00':'2018-08-03 00:00']\n",
    "ax.plot(an_plotting_apr2017)\n",
    "ax.set_ylabel('LE [W/m2]')\n",
    "fig.autofmt_xdate()\n",
    "fig.suptitle('Simulated ET for 1-2 august 2018')\n",
    "plt.grid()\n",
    "plt.show()\n",
    "\n",
    "fig, ax = plt.subplots()\n",
    "gpp_plotting_apr2017=df_Comb['LE'].loc[df_Comb['LE']>0].loc['2018-08-01':'2018-08-02']#.between_time(\"11:00\", \"18:00\")\n",
    "ax.plot(gpp_plotting_apr2017)\n",
    "ax.set_ylabel('measured LE [W/m2]')\n",
    "#fig.autofmt_xdate()\n",
    "fig.suptitle('EC-measured LE for 1-2 august 2018')\n",
    "plt.grid()\n",
    "plt.show()\n",
    "\n",
    "fig, ax = plt.subplots()\n",
    "ax.plot(gpp_plotting_apr2017-an_plotting_apr2017)\n",
    "ax.set_ylabel('LE [umol/m2/s]')\n",
    "#fig.autofmt_xdate()\n",
    "fig.suptitle('EC-measured LE minus A-gs simulated ET for 1-2 august 2018')\n",
    "plt.grid()\n",
    "plt.show()"
   ]
  },
  {
   "cell_type": "markdown",
   "id": "84353ce3-5656-49e3-8778-02b86ae33943",
   "metadata": {},
   "source": [
    "## Troubleshooting ET LE"
   ]
  },
  {
   "cell_type": "code",
   "execution_count": null,
   "id": "82f0c2a7-be4d-4d43-a896-d1dc7bd3c5be",
   "metadata": {},
   "outputs": [],
   "source": [
    "#2017\n",
    "start,end = '2017-05-01','2017-05-30'\n",
    "\n",
    "fig, ax = plt.subplots()\n",
    "simRH_plotting = df_ET['ET'].loc[start:end]\n",
    "measured_plotting = df_Comb['LE'].loc[df_Comb['LE']>0].loc[start:end]#.between_time(\"11:00\", \"18:00\")\n",
    "ax.plot(measured_plotting)\n",
    "ax.set_ylabel('LE [W/m2]')\n",
    "fig.autofmt_xdate()\n",
    "fig.suptitle('from RH')\n",
    "plt.grid()\n",
    "plt.show()\n",
    "\n",
    "fig, ax = plt.subplots()\n",
    "simVPD_plotting = df_ET['ET_VPD'].loc[start:end]\n",
    "measured_plotting=df_Comb['LE'].loc[df_Comb['LE']>0].loc[start:end]#.between_time(\"11:00\", \"18:00\")\n",
    "ax.plot(measured_plotting)\n",
    "ax.plot(simVPD_plotting,c='red') #for troubleshoot\n",
    "ax.set_ylabel('LE [W/m2]')\n",
    "fig.autofmt_xdate()\n",
    "fig.suptitle('from VPD')\n",
    "plt.grid()\n",
    "fig.legend(['measured','simulated'])\n",
    "plt.show()\n",
    "\n",
    "fig, ax = plt.subplots()\n",
    "ax.plot(simVPD_plotting-measured_plotting)\n",
    "ax.set_ylabel('LE [umol/m2/s]')\n",
    "fig.autofmt_xdate()\n",
    "fig.suptitle('EC-measured LE minus A-gs simulated ET')\n",
    "plt.grid()\n",
    "plt.show()"
   ]
  },
  {
   "cell_type": "code",
   "execution_count": null,
   "id": "9aeaab71-6290-4464-bc2d-685fa0897ad2",
   "metadata": {},
   "outputs": [],
   "source": [
    "df_ET['L(o)'].loc[start:end].plot()"
   ]
  }
 ],
 "metadata": {
  "kernelspec": {
   "display_name": "Python 3 (ipykernel)",
   "language": "python",
   "name": "python3"
  },
  "language_info": {
   "codemirror_mode": {
    "name": "ipython",
    "version": 3
   },
   "file_extension": ".py",
   "mimetype": "text/x-python",
   "name": "python",
   "nbconvert_exporter": "python",
   "pygments_lexer": "ipython3",
   "version": "3.11.5"
  },
  "varInspector": {
   "cols": {
    "lenName": 16,
    "lenType": 16,
    "lenVar": 40
   },
   "kernels_config": {
    "python": {
     "delete_cmd_postfix": "",
     "delete_cmd_prefix": "del ",
     "library": "var_list.py",
     "varRefreshCmd": "print(var_dic_list())"
    },
    "r": {
     "delete_cmd_postfix": ") ",
     "delete_cmd_prefix": "rm(",
     "library": "var_list.r",
     "varRefreshCmd": "cat(var_dic_list()) "
    }
   },
   "oldHeight": 471.85,
   "position": {
    "height": "493.844px",
    "left": "1539.19px",
    "right": "20px",
    "top": "105px",
    "width": "344px"
   },
   "types_to_exclude": [
    "module",
    "function",
    "builtin_function_or_method",
    "instance",
    "_Feature"
   ],
   "varInspector_section_display": "block",
   "window_display": true
  }
 },
 "nbformat": 4,
 "nbformat_minor": 5
}
