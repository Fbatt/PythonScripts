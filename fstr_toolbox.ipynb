{
 "cells": [
  {
   "cell_type": "code",
   "execution_count": null,
   "id": "1fb03a01-5997-41d0-8d4b-fbbc81f1c655",
   "metadata": {},
   "outputs": [],
   "source": [
    "# Settings\n",
    "Username   = 'Beheerder'\n",
    "years      = range(2001,2021)    #(1997,2021) # Set years to download"
   ]
  },
  {
   "cell_type": "code",
   "execution_count": null,
   "id": "dda0585c-6c68-4f2d-a81f-cbed8e51da81",
   "metadata": {},
   "outputs": [],
   "source": [
    "import os\n",
    "datapath = os.path.join('../')\n",
    "#print('datapath is set to %s'%datapath)\n",
    "\n",
    "import numpy as np\n",
    "import pandas as pd\n",
    "import matplotlib.pyplot as plt\n",
    "#import plotly.express as px\n",
    "#import cufflinks as cf\n",
    "import matplotlib.dates as mdate\n",
    "import matplotlib.ticker as ticker\n",
    "from matplotlib import cm\n",
    "#from colorspacious import cspace_converter\n",
    "import scipy.stats as stats\n",
    "#cf.go_offline()\n",
    "#cf.set_config_file(offline=False, world_readable=True)\n",
    "\n",
    "from datetime import datetime, timedelta\n",
    "import matplotlib.dates as mdates\n",
    "import sys\n",
    "sys.path.insert(0, os.path.join(datapath,'PythonScripts'))\n",
    "from Loobos_Toolbox import dateparse, dateparse_Gapfilled, Read_LoobosEddFinal, Read_LooStor, Read_LoodatGapfill, Read_Loobos_halfhourly, Read_Loobos_meteo, Read_Loobos_soil, Read_Loobos_profile\n",
    "from Ags_model import runAgs, calc_LE"
   ]
  },
  {
   "cell_type": "code",
   "execution_count": null,
   "id": "a4fc1084-e5cf-4a04-84e3-ec5bd6231c70",
   "metadata": {},
   "outputs": [],
   "source": [
    "#these next two lines are to prevent re-loading the data. If you want to re-load data, instead comment them out\n",
    "if not 'progress' in globals(): progress = list()\n",
    "if not 'dataloaded' in progress:\n",
    "  # Read files\n",
    "    df_EC           = Read_LoobosEddFinal    (years,datapath)\n",
    "    df_Stor         = Read_LooStor           (years,datapath)\n",
    "    df_Comb         = Read_LoodatGapfill     (years,datapath)\n",
    "    df_NEE          = Read_Loobos_halfhourly (years,datapath)\n",
    "    df_meteo        = Read_Loobos_meteo      (years,datapath)\n",
    "    df_soil         = Read_Loobos_soil       (years,datapath) \n",
    "    df_profile      = Read_Loobos_profile    (years,datapath)\n",
    "    progress.append('dataloaded')"
   ]
  },
  {
   "cell_type": "code",
   "execution_count": null,
   "id": "c8d6535a-3238-4459-a0df-137c8673e133",
   "metadata": {},
   "outputs": [],
   "source": [
    "from FilterData import Filter_wrap\n",
    "CO2,Locorr,VPD,Ustar,df_profile_filter,df_meteo_filter,df_Comb_filter,df_EC_filter=Filter_wrap(df_Comb,df_profile,df_meteo,df_EC,filterversion='default')\n",
    "#NOTE: df_Stor is NOT FILTERED"
   ]
  },
  {
   "cell_type": "code",
   "execution_count": null,
   "id": "f9053d47-fad7-40d6-8cd0-f51fa80f5c57",
   "metadata": {},
   "outputs": [],
   "source": [
    "from FilterData import Filter_GPP_LE_NEE_VPD \n",
    "df_Comb_filter2 = Filter_GPP_LE_NEE_VPD(df_Comb,fqc=None)"
   ]
  },
  {
   "cell_type": "code",
   "execution_count": null,
   "id": "2c4235ca-8659-4bce-8307-d05d66e08d1d",
   "metadata": {},
   "outputs": [],
   "source": [
    "# Run A-gs model\n",
    "#TODO: DEFINITIVELY REPLACE OLD FILTER WITH NP.WHERE FILTER, I TEMP HOTFIXED IT HERE:\n",
    "an_final,an_umol,rs, ra = runAgs(df_profile_filter,df_Comb_filter2,df_meteo_filter,df_EC_filter,fstr=1.0)"
   ]
  },
  {
   "cell_type": "code",
   "execution_count": null,
   "id": "6de0da70-3867-42b5-9989-5361f895ba9e",
   "metadata": {},
   "outputs": [],
   "source": [
    "#TODO: UPDATE THIS FUNCTION EVERYWHERE TO ACTUALLY USE FILTERED VALUES!!!!\n",
    "def init_ETframe(rs_series):\n",
    "    df_ET = pd.concat([df_meteo_filter['L(o)'],df_meteo_filter['Te-L(o)'],df_profile_filter['Pressure'],df_Comb_filter2['VPD'],df_Comb_filter2['rH'],df_meteo_filter['P(mast)']],axis=1,sort=False)\n",
    "    #convert Pressure from hPa to kPa \n",
    "    df_ET['p_kPa']=df_ET['Pressure']/10\n",
    "    df_ET['VPD_adj']=df_ET['VPD'].loc[df_ET['VPD']>0] #some outlier values for VPD are negative, remove from dataset\n",
    "    df_ET['VPD_adj']=df_ET['VPD_adj']/10  # VPD from df_Comb is in hPa, I need kPa, so hPa/10 = kPa\n",
    "    df_ET['rs']=rs_series.to_frame(name=\"rs\")\n",
    "    df_ET['ra']=ra.to_frame(name=\"ra\")\n",
    "    return df_ET"
   ]
  },
  {
   "cell_type": "code",
   "execution_count": null,
   "id": "9104c426-629b-4a33-8c75-11a1c53df4da",
   "metadata": {},
   "outputs": [],
   "source": [
    "df_ET=init_ETframe(rs)"
   ]
  },
  {
   "cell_type": "code",
   "execution_count": null,
   "id": "f7e2a80c-974b-45ca-9b7e-1dabff4c105e",
   "metadata": {},
   "outputs": [],
   "source": [
    "df_ET=calc_LE(df_ET)"
   ]
  },
  {
   "cell_type": "code",
   "execution_count": null,
   "id": "7637a402-51ea-4fc2-8ea3-5b5de6941d97",
   "metadata": {},
   "outputs": [],
   "source": [
    "#\n",
    "df_ET['ET']"
   ]
  },
  {
   "cell_type": "code",
   "execution_count": null,
   "id": "0b3a47ad-3ea7-4dd9-ad76-d5e85f201986",
   "metadata": {},
   "outputs": [],
   "source": [
    "#import precipication KNMI\n",
    "P_k = pd.read_csv('knmi_rain_daily.csv')\n",
    "P_k['date']=pd.to_datetime(P_k['date'])\n",
    "P_k.index=P_k.date\n",
    "P_k.drop(columns=['date','days_since_rain'],inplace=True) #remove date because it's duplicate, remove days_since_rain because it wont be used here\n",
    "#P_k has columns 'RD' (daily rain from 8pm to 8am next day) and range 2001-01-01 - 2020-12-31 , freq=daily\n",
    "P_k_30m=P_k.resample('30min').ffill()"
   ]
  },
  {
   "cell_type": "markdown",
   "id": "7004e65a-bdfd-4844-8d79-17ad1ddec4af",
   "metadata": {},
   "source": [
    "# calc fstr"
   ]
  },
  {
   "cell_type": "code",
   "execution_count": null,
   "id": "df854399-3f06-45c9-8a28-31e5638d369e",
   "metadata": {},
   "outputs": [],
   "source": [
    "df_tmp30m['Obs_LE'].where(df_tmp30m['Obs_LE']<0)"
   ]
  },
  {
   "cell_type": "code",
   "execution_count": null,
   "id": "18e6332b-ff6d-43a7-b32c-760260994831",
   "metadata": {},
   "outputs": [],
   "source": [
    "#assemble\n",
    "df_tmp30m=pd.concat([df_Comb_filter2['LE'],df_ET['ET_VPD'],df_ET['P(mast)'],P_k_30m],axis=1)\n",
    "###df_tmp30m['P(mast)']=df_ET['P(mast)']\n",
    "###df_tmp30m=df_tmp30m.dropna()\n",
    "#df_tmp30m=df_tmp30m.loc[df_tmp30m['RD']==0]\n",
    "\n",
    "df_tmp30m.where(df_tmp30m.loc[:,'RD']==0,inplace=True) # remember to use the 30m rain or it will force a re-sample to daily instead of 30m\n",
    "df_tmp30m.where(df_tmp30m.loc[:,'LE']>0,inplace=True) # cant have negative observed LE\n",
    "df_tmp30m.where(df_tmp30m.loc[:,'ET_VPD']>0,inplace=True) # cant have negative simulated LE\n",
    "\n",
    "df_tmp30m.dropna(axis='index',how='all',inplace=True)\n",
    "df_tmp30m.rename(columns={'LE':'Obs_LE','ET_VPD':'Sim_LE','P(mast)':'P(mast)','RD':'P_dailysum'},inplace=True)\n",
    "df_tmp30m['fstr']=df_tmp30m['Obs_LE']/df_tmp30m['Sim_LE']\n",
    "df_tmp30m"
   ]
  },
  {
   "cell_type": "code",
   "execution_count": null,
   "id": "aababf52-cb4d-4751-8fc4-049f087e9627",
   "metadata": {},
   "outputs": [],
   "source": [
    "#clamp values so it can't be over 1.\n",
    "df_tmp30m_clamp=df_tmp30m.copy()\n",
    "df_tmp30m_clamp.loc[:,'fstr']=df_tmp30m.where(df_tmp30m.loc[:,'fstr']>1,1)"
   ]
  },
  {
   "cell_type": "code",
   "execution_count": null,
   "id": "5289b36b-1daf-4aef-a3e4-e68fbee54cd4",
   "metadata": {},
   "outputs": [],
   "source": [
    "st='2001-08-17'\n",
    "ed='2002-09-30'\n",
    "df_tmp30m_clamp.loc[st:ed,['fstr']].plot()"
   ]
  },
  {
   "cell_type": "markdown",
   "id": "574880a9-ebdd-4bdf-b5e4-0681427f5298",
   "metadata": {},
   "source": [
    "### create the 3h, 1D and 7D averages, for day, and for max"
   ]
  },
  {
   "cell_type": "markdown",
   "id": "7ab20c0a-eb2a-4dae-9133-b197e1d3b4b4",
   "metadata": {},
   "source": [
    "### resample to 3h, 1d, 7d"
   ]
  },
  {
   "cell_type": "code",
   "execution_count": null,
   "id": "1a893404-0cf6-4528-ae53-42ae01f513ce",
   "metadata": {},
   "outputs": [],
   "source": [
    "# we used to calculate P_3day from Pmast but that has been removed\n",
    "\n",
    "#from 30m values to 3h averages\n",
    "df_tmp3h_fst     =df_tmp30m.loc[:,['Obs_LE','Sim_LE','fstr']].resample('3H').mean()\n",
    "df_tmp3h_P       =df_tmp30m.loc[:,['P_dailysum','P(mast)']].resample('3H').max() #NOTE! the 30m knmi rain values are ffill of the daily! so we pass max just to select one\n",
    "#the above line is a hotfix and breaks the Pmast values! Pmast needs to be summed, P_dailysum needs to have first() or max() applied to it.\n",
    "df_tmp3h         =pd.concat([df_tmp3h_fst,df_tmp3h_P],axis=1)\n",
    "df_tmp3h['P_3day']=df_tmp3h['P_dailysum'].rolling('72H').sum() #overwrite the correct P_3day\n",
    "\n",
    "df_tmp3h_fst_day =df_tmp30m.loc[:,['Obs_LE','Sim_LE','fstr']].between_time(\"08:00\", \"18:00\").resample('3H').mean()\n",
    "df_tmp3h_P_day   =df_tmp30m.loc[:,['P_dailysum','P(mast)']].between_time(\"08:00\", \"18:00\").resample('3H').max()\n",
    "df_tmp3h_day     =pd.concat([df_tmp3h_fst_day,df_tmp3h_P_day],axis=1)\n",
    "\n",
    "#df 3hour mean (c = clamped fstr to max 1.0)\n",
    "df_tmp3hc_fst     =df_tmp30m_clamp.loc[:,['Obs_LE','Sim_LE','fstr']].between_time(\"08:00\", \"18:00\").resample('3H').mean()\n",
    "df_tmp3hc_P       =df_tmp30m_clamp.loc[:,['P_dailysum','P(mast)']].between_time(\"08:00\", \"18:00\").resample('3H').max()\n",
    "df_tmp3hc         =pd.concat([df_tmp3h_fst,df_tmp3h_P],axis=1)\n",
    "\n",
    "df_tmp3hc_fst_day     =df_tmp30m_clamp.loc[:,['Obs_LE','Sim_LE','fstr']].resample('3H').mean()\n",
    "df_tmp3hc_P_day       =df_tmp30m_clamp.loc[:,['P_dailysum','P(mast)']].resample('3H').max()\n",
    "df_tmp3hc         =pd.concat([df_tmp3hc_fst_day,df_tmp3hc_P_day],axis=1)\n",
    "\n",
    "#rainy days are already removed using knmi data\n",
    "#dont need this anymore:\n",
    "##remove rainy days through Pmast\n",
    "##df_rain3h_dailymax=df_tmp3h['P(mast)'].resample('1D').sum().resample('3H').ffill()\n",
    "##df_rain3h_dailymax=df_rain3h_dailymax[:-1] #remove last entry because all 3h frames end on 21:00 not 00:00\n",
    "##df_rain3h_dailymax=df_rain3h_dailymax.rename('P(mast)Dmax')\n",
    "##df_tmp3h['P(mast)Dmax']=df_rain3h_dailymax\n",
    "##df_tmp3h=df_tmp3h.loc[df_tmp3h['P(mast)Dmax']==0]"
   ]
  },
  {
   "cell_type": "code",
   "execution_count": null,
   "id": "5ab8f9ab-45e0-4f50-8e51-c9d6d850fa6d",
   "metadata": {},
   "outputs": [],
   "source": [
    "#resample to daily\n",
    "df_tmp1d_fst     =df_tmp30m.loc[:,['Obs_LE','Sim_LE','fstr']].resample('D').mean()\n",
    "df_tmp1d         =pd.concat([df_tmp1d_fst,P_k['RD']],axis=1)  #note! the 30m precip values are ffill from the daily, so just sub the daily values back in\n",
    "df_tmp1d.rename(columns={'RD':'P_dailysum'},inplace=True)\n",
    "#df_tmp30m.loc[:,['P_dailysum']\n",
    "df_tmp1d['doy']  =df_tmp1d.index.dayofyear\n",
    "\n",
    "df_tmp1d_fst_day     =df_tmp30m.loc[:,['Obs_LE','Sim_LE','fstr']].between_time(\"08:00\", \"18:00\").resample('D').mean()\n",
    "df_tmp1d_day         =pd.concat([df_tmp1d_fst_day,P_k['RD']],axis=1)\n",
    "df_tmp1d_day.rename(columns={'RD':'P_dailysum'},inplace=True)\n",
    "df_tmp1d_day['doy']  =df_tmp1d_day.index.dayofyear\n",
    "\n",
    "\n",
    "#clamped\n",
    "df_tmp1dc_fst     =df_tmp30m_clamp.loc[:,['Obs_LE','Sim_LE','fstr']].resample('D').mean()\n",
    "df_tmp1dc         =pd.concat([df_tmp1dc_fst,P_k['RD']],axis=1)\n",
    "df_tmp1dc.rename(columns={'RD':'P_dailysum'},inplace=True)\n",
    "df_tmp1dc['doy']  =df_tmp1dc.index.dayofyear\n",
    "\n",
    "df_tmp1dc_fst_day     =df_tmp30m_clamp.loc[:,['Obs_LE','Sim_LE','fstr']].between_time(\"08:00\", \"18:00\").resample('D').mean()\n",
    "df_tmp1dc_day         =pd.concat([df_tmp1dc_fst_day,P_k['RD']],axis=1)\n",
    "df_tmp1dc_day.rename(columns={'RD':'P_dailysum'},inplace=True)\n",
    "df_tmp1dc_day['doy']  =df_tmp1dc_day.index.dayofyear\n",
    "\n",
    "#special case: daily max\n",
    "\n",
    "df_tmp1dcm_fst     =df_tmp30m_clamp.loc[:,['Obs_LE','Sim_LE','fstr']].resample('D').max()\n",
    "df_tmp1dcm         =pd.concat([df_tmp1dcm_fst,P_k['RD']],axis=1)\n",
    "df_tmp1dcm.rename(columns={'RD':'P_dailysum'},inplace=True)\n",
    "df_tmp1dcm['doy']  =df_tmp1dc.index.dayofyear"
   ]
  },
  {
   "cell_type": "code",
   "execution_count": null,
   "id": "74e10dc4-96e1-49bd-be55-bb194b015454",
   "metadata": {},
   "outputs": [],
   "source": [
    "#resample to weekly (7 days)\n",
    "\n",
    "df_tmp7d_fst     =df_tmp30m.loc[:,['Obs_LE','Sim_LE','fstr']].resample('7D').mean()\n",
    "df_tmp7d_P       =df_tmp1d.loc[:,['P_dailysum']].resample('7D').sum() #NOTE! for precip time we're summing the daily values, not 30m\n",
    "df_tmp7d         =pd.concat([df_tmp7d_fst,df_tmp7d_P],axis=1)\n",
    "#df_tmp7d['doy']  =df_tmp7d.index.dayofyear\n",
    "\n",
    "df_tmp7d_fst_day     =df_tmp30m.loc[:,['Obs_LE','Sim_LE','fstr']].between_time(\"08:00\", \"18:00\").resample('7D').mean()\n",
    "df_tmp7d_P_day       =df_tmp1d.loc[:,['P_dailysum']].between_time(\"08:00\", \"18:00\").resample('7D').sum()\n",
    "df_tmp7d_day         =pd.concat([df_tmp7d_fst_day,df_tmp7d_P],axis=1)\n",
    "#df_tmp7d_day['doy']  =df_tmp7d_day.index.dayofyear\n",
    "\n",
    "\n",
    "#clamped\n",
    "df_tmp7dc_fst     =df_tmp30m_clamp.loc[:,['Obs_LE','Sim_LE','fstr']].resample('7D').mean()\n",
    "df_tmp7dc_P       =df_tmp30m_clamp.loc[:,['P_dailysum']].resample('7D').sum()\n",
    "df_tmp7dc         =pd.concat([df_tmp7d_fst,df_tmp7d_P],axis=1)\n",
    "#df_tmp7dc['doy']  =df_tmp7dc.index.dayofyear\n",
    "\n",
    "df_tmp7dc_fst_day     =df_tmp30m_clamp.loc[:,['Obs_LE','Sim_LE','fstr']].between_time(\"08:00\", \"18:00\").resample('7D').mean()\n",
    "df_tmp7dc_P_day       =df_tmp30m_clamp.loc[:,['P_dailysum']].between_time(\"08:00\", \"18:00\").resample('7D').sum()\n",
    "df_tmp7dc_day         =pd.concat([df_tmp7d_fst_day,df_tmp7d_P],axis=1)\n",
    "#df_tmp7dc_day['doy']  =df_tmp7dc_day.index.dayofyear\n",
    "\n"
   ]
  },
  {
   "cell_type": "markdown",
   "id": "94ff406a-ee7b-4b63-81c9-8f56694c36ab",
   "metadata": {},
   "source": [
    "### check values"
   ]
  },
  {
   "cell_type": "code",
   "execution_count": null,
   "id": "13a1ea18-32c1-4c7d-8dc6-8a695b9d7608",
   "metadata": {},
   "outputs": [],
   "source": []
  },
  {
   "cell_type": "code",
   "execution_count": null,
   "id": "b9c53cfe-b6ec-48d0-84ff-81484dfebff6",
   "metadata": {},
   "outputs": [],
   "source": [
    "st='2004-01-17'\n",
    "ed='2006-12-30'\n",
    "df_tmp1dcm.loc[st:ed,'fstr'].plot()"
   ]
  },
  {
   "cell_type": "code",
   "execution_count": null,
   "id": "69ea22c1-439e-4a87-a7ef-edd196321aa1",
   "metadata": {},
   "outputs": [],
   "source": [
    "st='2004-01-17'\n",
    "ed='2006-12-30'\n",
    "df_tmp1dc.loc[st:ed,'fstr'].plot()"
   ]
  },
  {
   "cell_type": "markdown",
   "id": "dd4631d4-577a-4e70-a9ad-716bac8a1277",
   "metadata": {},
   "source": [
    "### end of check values"
   ]
  },
  {
   "cell_type": "markdown",
   "id": "461e31fe-22c5-4740-b5e8-cb83662b6913",
   "metadata": {},
   "source": [
    "# Export to csv"
   ]
  },
  {
   "cell_type": "code",
   "execution_count": null,
   "id": "773aa1ad-4699-49e4-a702-c7fabac42d48",
   "metadata": {},
   "outputs": [],
   "source": [
    "# put export to csv here\n",
    "df_tmp1d.to_csv('./fstrOutput/NoRain/fstr_1d.csv')\n",
    "df_tmp1d_day.to_csv('./fstrOutput/NoRain/fstrMax_1d_day.csv')\n",
    "\n",
    "df_tmp1dc.to_csv('./fstrOutput/NoRain/fstr_1d_clamped.csv')\n",
    "df_tmp1dc_day.to_csv('./fstrOutput/NoRain/fstr_1d_clamped_day.csv')\n",
    "\n",
    "df_tmp1dcm.to_csv('./fstrOutput/NoRain/fstrMax_1d_clamped_day.csv')"
   ]
  },
  {
   "cell_type": "markdown",
   "id": "7ca326ca-014c-4ef2-a6aa-4915d5490c03",
   "metadata": {},
   "source": [
    "# Toolbox and experiments with fstr"
   ]
  },
  {
   "cell_type": "code",
   "execution_count": null,
   "id": "e6837bda-f642-4c21-895c-88a6d173f932",
   "metadata": {},
   "outputs": [],
   "source": [
    "## fstr max\n"
   ]
  },
  {
   "cell_type": "code",
   "execution_count": null,
   "id": "9654bd0c-61b7-4540-8afe-99e3c5a8adff",
   "metadata": {},
   "outputs": [],
   "source": [
    "plt.rcParams[\"figure.figsize\"] = (20,6)\n",
    "\n",
    "#st=\"2005-04-01\"\n",
    "#ed=\"2005-09-30\"\n",
    "\n",
    "def fstr_plot_wrapper(st,ed):\n",
    "\n",
    "    fig,ax = plt.subplots()\n",
    "    \n",
    "    b=df_ET.loc[st:ed,['P(mast)']].resample('1D').sum()\n",
    "    a=(knmi_regen.loc[st:ed,['RD']]/10)\n",
    "    ax.bar(b.index,b['P(mast)'],alpha=0.5, align='edge', label=\"Pmast data\")\n",
    "    ax.bar(a.index,a['RD'],alpha=0.5, align='edge', label=\"KNMI data\")\n",
    "    \n",
    "    df_tmp30m=pd.DataFrame()\n",
    "    df_tmp30m['ET']=df_ET['ET_VPD']\n",
    "    df_tmp30m['P(mast)']=df_ET['P(mast)']\n",
    "    df_tmp30m=df_tmp30m.dropna()\n",
    "    \n",
    "    df_LE=df_Comb['LE'].loc[df_Comb['LE']>=0]\n",
    "    df_tmp30m=df_tmp30m.merge(df_LE, how='inner',left_index=True, right_index=True)\n",
    "    c=df_tmp30m.loc[st:ed].resample('1D').sum()\n",
    "    c['LE/ET']=c['LE']/c['ET']\n",
    "    \n",
    "    ax.set_ylabel(\"precip\")\n",
    "    ax2 = ax.twinx()\n",
    "    ax2.set_ylim(0,5)\n",
    "    ax2.set_ylabel(\"fstr\")\n",
    "    #ax2.set_yscale('log')\n",
    "    \n",
    "    ax2.scatter(c.index,c['LE/ET'],c=np.where(c['LE/ET']<1,'b','r'))\n",
    "    \n",
    "    ax.legend()\n",
    "    ax.xaxis.set_minor_locator(mdates.DayLocator())\n",
    "\n",
    "for year in range(2001,2021):\n",
    "    st=str(year)+\"-01-01\"\n",
    "    ed=str(year)+\"-12-30\"\n",
    "    fstr_plot_wrapper(st,ed)"
   ]
  },
  {
   "cell_type": "code",
   "execution_count": null,
   "id": "85ac302e-b022-454b-87ee-51b4a4043389",
   "metadata": {},
   "outputs": [],
   "source": [
    "plt.rcParams[\"figure.figsize\"] = (20,6)\n",
    "st=\"2011-04-01\"\n",
    "ed=\"2011-09-30\"\n",
    "#df_tmp.loc[st:ed,'LE/ET'].plot()\n",
    "\n",
    "def signal_plot_wrapper(data,st,ed,gridarg=None,tick_frq='Day'):\n",
    "    fig,ax = plt.subplots()\n",
    "    fig.subplots_adjust(right=0.75)\n",
    "    \n",
    "    twin1 = ax.twinx()\n",
    "    twin2 = ax.twinx()\n",
    "    \n",
    "    # Offset the twin axis below the host\n",
    "    #fig.subplots_adjust(bottom=0.2)\n",
    "    twin2.spines[\"right\"].set_position((\"axes\", 1.05))\n",
    "    twin1.set_ylabel(\"Precip 3day (Pmast) [mm]\")\n",
    "    twin2.set_ylabel(\"Precip knmi [tenth of mm]\")\n",
    "\n",
    "    if '30m' in data:\n",
    "        ax.plot(df_tmp30m.loc[st:ed,'LE'],label=\"LE obs 30m freq\")\n",
    "        ax.plot(df_tmp30m.loc[st:ed,'ET'],label=\"LE model 30m freq\")\n",
    "    if '3h' in data:\n",
    "        ax.plot(df_tmp3h.loc[st:ed,'LE'],label=\"LE obs 3H mean\")\n",
    "        ax.plot(df_tmp3h.loc[st:ed,'ET'],label=\"LE model 3H mean\")\n",
    "        ax.scatter(df_tmp3h.loc[st:ed].index,df_tmp3h.loc[st:ed,'LE'],c='g')\n",
    "        ax.scatter(df_tmp3h.loc[st:ed].index,df_tmp3h.loc[st:ed,'ET'],c='r')\n",
    "    if '7d' in data:\n",
    "        ax.plot(df_tmp7d.loc[st:ed,'LE'],c='#1f77b4',linestyle='--',label=\"LE obs 7day mean\")\n",
    "        ax.plot(df_tmp7d.loc[st:ed,'ET'],c='orange',linestyle='--',label=\"LE model 7day mean\")\n",
    "\n",
    "    twin1.plot(df_ET.loc[st:ed,'P(mast)'],c='red',label=\"Pmast\")\n",
    "    twin1.plot(df_ET.loc[st:ed,'last3day_prec'],c='black',label=\"Pmast 72h\")\n",
    "    twin2.bar(knmi_regen.loc[st:ed].index,knmi_regen.loc[st:ed,'RD'],width=1, align='edge', color=\"blue\",alpha=0.5, label=\"KNMI Precip\")[0]\n",
    "    twin2.bar(df_tmp1d.loc[st:ed].index,df_tmp1d.loc[st:ed,'P(mast)sum'],width=1, align='edge', color=\"red\",alpha=0.5, label=\"Pmast Precip\")[0]\n",
    "    \n",
    "    if tick_frq=='Day':\n",
    "        ax.xaxis.set_minor_locator(mdates.DayLocator())\n",
    "    elif tick_frq=='Hour':\n",
    "        ax.xaxis.set_minor_locator(mdates.HourLocator())\n",
    "    \n",
    "    ax.set_ylabel('LE [Wm-2]')\n",
    "    \n",
    "    ax.legend(loc=(\"upper left\"))\n",
    "    fig.autofmt_xdate()\n",
    "    if gridarg==None:\n",
    "        ax.grid()\n",
    "    else:\n",
    "        ax.grid(which=gridarg)\n",
    "    #df_tmp30.loc[st:ed,'LE'].plot(label=\"LE obs 3H mean\",legend=\"y\",ylabel=\"Wm-2\",title=\"LEobs and LEsim 3H mean and 7day mean values, 00:00-23:30\")\n",
    "    #df_tmp30.loc[st:ed,'ET'].plot(label=\"LE model 3H mean\",legend=\"y\")\n",
    "    #df_tmp.loc[st:ed,'LE'].plot(label=\"LE obs 7day mean\",legend=\"y\",c='#1f77b4',style='--')\n",
    "    #df_tmp.loc[st:ed,'ET'].plot(label=\"LE model 7day mean\",legend=\"y\",c='orange',style='--')\n",
    "    #df_ET.loc[st:ed,'P(mast)'].plot()\n",
    "    plt.show()"
   ]
  },
  {
   "cell_type": "code",
   "execution_count": null,
   "id": "9db065b7-7327-4253-8e2e-6b8c5410390c",
   "metadata": {},
   "outputs": [],
   "source": [
    "plt.rcParams[\"figure.figsize\"] = (20,6)\n",
    "st=\"2011-04-01\"\n",
    "ed=\"2011-09-30\"\n",
    "#df_tmp.loc[st:ed,'LE/ET'].plot()\n",
    "\n",
    "def signal_plot_wrapper_max(data,st,ed,gridarg=None,tick_frq='Day'):\n",
    "    fig,ax = plt.subplots()\n",
    "    fig.subplots_adjust(right=0.75)\n",
    "    \n",
    "    twin1 = ax.twinx()\n",
    "    twin2 = ax.twinx()\n",
    "    \n",
    "    # Offset the twin axis below the host\n",
    "    #fig.subplots_adjust(bottom=0.2)\n",
    "    twin2.spines[\"right\"].set_position((\"axes\", 1.05))\n",
    "    twin1.set_ylabel(\"Precip 3day (Pmast) [mm]\")\n",
    "    twin2.set_ylabel(\"Precip knmi [tenth of mm]\")\n",
    "\n",
    "    data_max = data.resample('D').apply()\n",
    "\n",
    "    if '30m' in data:\n",
    "        ax.plot(df_tmp30m.loc[st:ed,'LE'],label=\"LE obs 30m freq\")\n",
    "        ax.plot(df_tmp30m.loc[st:ed,'ET'],label=\"LE model 30m freq\")\n",
    "    if '3h' in data:\n",
    "        ax.plot(df_tmp3h.loc[st:ed,'LE'],label=\"LE obs 3H mean\")\n",
    "        ax.plot(df_tmp3h.loc[st:ed,'ET'],label=\"LE model 3H mean\")\n",
    "        ax.scatter(df_tmp3h.loc[st:ed].index,df_tmp3h.loc[st:ed,'LE'],c='g')\n",
    "        ax.scatter(df_tmp3h.loc[st:ed].index,df_tmp3h.loc[st:ed,'ET'],c='r')\n",
    "    if '7d' in data:\n",
    "        ax.plot(df_tmp7d.loc[st:ed,'LE'],c='#1f77b4',linestyle='--',label=\"LE obs 7day mean\")\n",
    "        ax.plot(df_tmp7d.loc[st:ed,'ET'],c='orange',linestyle='--',label=\"LE model 7day mean\")\n",
    "\n",
    "    twin1.plot(df_ET.loc[st:ed,'P(mast)'],c='red',label=\"Pmast\")\n",
    "    twin1.plot(df_ET.loc[st:ed,'last3day_prec'],c='black',label=\"Pmast 72h\")\n",
    "    twin2.bar(knmi_regen.loc[st:ed].index,knmi_regen.loc[st:ed,'RD'],width=1, align='edge', color=\"blue\",alpha=0.5, label=\"KNMI Precip\")[0]\n",
    "    twin2.bar(df_tmp1d.loc[st:ed].index,df_tmp1d.loc[st:ed,'P(mast)sum'],width=1, align='edge', color=\"red\",alpha=0.5, label=\"Pmast Precip\")[0]\n",
    "    \n",
    "    if tick_frq=='Day':\n",
    "        ax.xaxis.set_minor_locator(mdates.DayLocator())\n",
    "    elif tick_frq=='Hour':\n",
    "        ax.xaxis.set_minor_locator(mdates.HourLocator())\n",
    "    \n",
    "    ax.set_ylabel('LE [Wm-2]')\n",
    "    \n",
    "    ax.legend(loc=(\"upper left\"))\n",
    "    fig.autofmt_xdate()\n",
    "    if gridarg==None:\n",
    "        ax.grid()\n",
    "    else:\n",
    "        ax.grid(which=gridarg)\n",
    "    #df_tmp30.loc[st:ed,'LE'].plot(label=\"LE obs 3H mean\",legend=\"y\",ylabel=\"Wm-2\",title=\"LEobs and LEsim 3H mean and 7day mean values, 00:00-23:30\")\n",
    "    #df_tmp30.loc[st:ed,'ET'].plot(label=\"LE model 3H mean\",legend=\"y\")\n",
    "    #df_tmp.loc[st:ed,'LE'].plot(label=\"LE obs 7day mean\",legend=\"y\",c='#1f77b4',style='--')\n",
    "    #df_tmp.loc[st:ed,'ET'].plot(label=\"LE model 7day mean\",legend=\"y\",c='orange',style='--')\n",
    "    #df_ET.loc[st:ed,'P(mast)'].plot()\n",
    "    plt.show()"
   ]
  },
  {
   "cell_type": "code",
   "execution_count": null,
   "id": "6eb49bcb-5e74-4d0f-95fc-89aecddced05",
   "metadata": {},
   "outputs": [],
   "source": [
    "for year in range(2002,2003): #zoom in on only the spring\n",
    "    st=str(year)+\"-02-01\"\n",
    "    ed=str(year)+\"-02-07\"\n",
    "    signal_plot_wrapper(['30m','3h','7d'],st,ed)"
   ]
  },
  {
   "cell_type": "code",
   "execution_count": null,
   "id": "80d9609c-def3-4c7a-b1a0-4ca75f4ffe31",
   "metadata": {},
   "outputs": [],
   "source": [
    "test_data=df_Comb.loc['2002-01-01':'2002-01-7','LE']\n",
    "test_data.loc['']"
   ]
  },
  {
   "cell_type": "code",
   "execution_count": null,
   "id": "3cfe17b0-eb9d-465b-b33b-c69f92b4e924",
   "metadata": {},
   "outputs": [],
   "source": [
    "\n",
    "data_max = data.resample('D').max()\n",
    "data_max"
   ]
  }
 ],
 "metadata": {
  "kernelspec": {
   "display_name": "Python 3 (ipykernel)",
   "language": "python",
   "name": "python3"
  },
  "language_info": {
   "codemirror_mode": {
    "name": "ipython",
    "version": 3
   },
   "file_extension": ".py",
   "mimetype": "text/x-python",
   "name": "python",
   "nbconvert_exporter": "python",
   "pygments_lexer": "ipython3",
   "version": "3.11.5"
  }
 },
 "nbformat": 4,
 "nbformat_minor": 5
}
