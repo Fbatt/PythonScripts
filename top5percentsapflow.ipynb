{
 "cells": [
  {
   "cell_type": "markdown",
   "id": "c55d4677-3d6d-47d2-af28-085715b20d36",
   "metadata": {},
   "source": [
    "# Sapflow - drought analysis"
   ]
  },
  {
   "cell_type": "markdown",
   "id": "c2907cf8-0a30-47fa-aae3-ba7874629fef",
   "metadata": {},
   "source": [
    "## Aim of this notebook is to look at when is tree doing its best, and during those times what is soil moist, precip, GWS"
   ]
  },
  {
   "cell_type": "code",
   "execution_count": null,
   "id": "0811b5f5-b30c-47d2-b626-2f76adcf9a89",
   "metadata": {},
   "outputs": [],
   "source": [
    "### "
   ]
  },
  {
   "cell_type": "code",
   "execution_count": null,
   "id": "73ffb5dd-4159-4409-b53f-3fde80eb8bf7",
   "metadata": {},
   "outputs": [],
   "source": [
    "# Settings\n",
    "Username   = 'Beheerder'\n",
    "years      = range(2013,2016)    #(1997,2021) # Set years to download"
   ]
  },
  {
   "cell_type": "code",
   "execution_count": null,
   "id": "ad73bb93-e21d-4f1f-9d01-1d4a9fe48102",
   "metadata": {},
   "outputs": [],
   "source": [
    "import os\n",
    "datapath = os.path.join('../')\n",
    "#print('datapath is set to %s'%datapath)\n",
    "\n",
    "import numpy as np\n",
    "import pandas as pd\n",
    "import matplotlib.pyplot as plt\n",
    "#import plotly.express as px\n",
    "#import cufflinks as cf\n",
    "import matplotlib.dates as mdate\n",
    "import matplotlib.ticker as ticker\n",
    "from matplotlib import cm\n",
    "import matplotlib.dates as mdates\n",
    "#from colorspacious import cspace_converter\n",
    "import scipy.stats as stats\n",
    "import seaborn as sns\n",
    "#cf.go_offline()\n",
    "#cf.set_config_file(offline=False, world_readable=True)\n",
    "\n",
    "from datetime import datetime, timedelta\n",
    "import sys\n",
    "sys.path.insert(0, os.path.join(datapath,'PythonScripts'))\n",
    "from Loobos_Toolbox import dateparse, dateparse_Gapfilled, Read_LoobosEddFinal, Read_LooStor, Read_LoodatGapfill, Read_Loobos_halfhourly, Read_Loobos_meteo, Read_Loobos_soil, Read_Loobos_profile\n",
    "from Ags_model import runAgs, calc_LE"
   ]
  },
  {
   "cell_type": "markdown",
   "id": "5b4ce1ca-0a87-4d13-8ebf-ebdf627425e2",
   "metadata": {},
   "source": [
    "### import data"
   ]
  },
  {
   "cell_type": "markdown",
   "id": "2589b561-863c-49d8-8fe3-0fe6eb80c1ca",
   "metadata": {},
   "source": [
    "#### sapflow import"
   ]
  },
  {
   "cell_type": "code",
   "execution_count": null,
   "id": "5c2685b8-cbf4-4b37-ba1d-57eee69cdfa5",
   "metadata": {},
   "outputs": [],
   "source": [
    "Sapf_data = pd.read_csv('Sapflow.csv')\n",
    "Sapf_data.loc[:,'TIMESTAMP'] = pd.to_datetime(Sapf_data.loc[:,'TIMESTAMP'])\n",
    "Sapf_data.index=Sapf_data['TIMESTAMP']\n",
    "Sapf_data.drop(columns='TIMESTAMP',inplace=True)\n",
    "Sapf_data"
   ]
  },
  {
   "cell_type": "markdown",
   "id": "a9096ab3-ac06-4e5c-941d-0572fa81857c",
   "metadata": {},
   "source": [
    "#### soil moisture import"
   ]
  },
  {
   "cell_type": "code",
   "execution_count": null,
   "id": "024bcb91-39f0-4763-b8f8-747cd8af99bb",
   "metadata": {},
   "outputs": [],
   "source": [
    "SM = pd.read_csv('Soil_moisture.csv')\n",
    "SM.loc[:,'datetime'] = pd.to_datetime(SM.loc[:,'datetime'])\n",
    "SM.index=SM['datetime']\n",
    "SM.drop(columns='datetime',inplace=True)\n",
    "SM"
   ]
  },
  {
   "cell_type": "markdown",
   "id": "691831c6-d337-4980-9844-fdd3781bbcff",
   "metadata": {},
   "source": [
    "#### Groundwater import"
   ]
  },
  {
   "cell_type": "code",
   "execution_count": null,
   "id": "8886e2f9-576f-469b-90cc-18c0e12e315e",
   "metadata": {},
   "outputs": [],
   "source": [
    "GWS = pd.read_csv('GWS_daily.csv')\n",
    "GWS.loc[:,'datetime'] = pd.to_datetime(GWS.loc[:,'datetime'])\n",
    "GWS.index=GWS['datetime']\n",
    "GWS.drop(columns='datetime',inplace=True)\n",
    "GWS"
   ]
  },
  {
   "cell_type": "markdown",
   "id": "44e0fae3-2eeb-4def-8293-c290ca0016e5",
   "metadata": {},
   "source": [
    "#### dendrometer import"
   ]
  },
  {
   "cell_type": "markdown",
   "id": "540988f9-3750-44d0-aac1-600e682a1986",
   "metadata": {},
   "source": [
    "#### LE, GPP import, calc WUE"
   ]
  },
  {
   "cell_type": "code",
   "execution_count": null,
   "id": "1b85688a-4108-4b5b-b862-413b1eaa5ab5",
   "metadata": {},
   "outputs": [],
   "source": [
    "#these next two lines are to prevent re-loading the data. If you want to re-load data, instead comment them out\n",
    "if not 'progress' in globals(): progress = list()\n",
    "if not 'dataloaded' in progress:\n",
    "  # Read files\n",
    "    df_Comb         = Read_LoodatGapfill     (years,datapath)\n",
    "    progress.append('dataloaded')"
   ]
  },
  {
   "cell_type": "code",
   "execution_count": null,
   "id": "e293f195-be3c-48e3-b9b8-eb070addd003",
   "metadata": {},
   "outputs": [],
   "source": [
    "#from FilterData import Filter_wrap\n",
    "#CO2,Locorr,VPD,Ustar,df_profile_filter,df_meteo_filter,df_Comb_filter,df_EC_filter=Filter_wrap(df_Comb,df_profile,df_meteo,df_EC,filterversion='default')"
   ]
  },
  {
   "cell_type": "code",
   "execution_count": null,
   "id": "48f0e638-235f-409a-ae99-c7f9a72509aa",
   "metadata": {},
   "outputs": [],
   "source": [
    "#alternate filtering\n",
    "from FilterData import Filter_GPP_LE_NEE_VPD\n",
    "df_Comb_alt_filter = Filter_GPP_LE_NEE_VPD(df_Comb,fqc=None)\n",
    "df_Comb_alt_filter.columns"
   ]
  },
  {
   "cell_type": "code",
   "execution_count": null,
   "id": "d12800b6-f199-49f4-bee6-818c96b12902",
   "metadata": {},
   "outputs": [],
   "source": [
    "df_Comb=df_Comb_alt_filter.loc[:,['GPP_f','LE','LE_f','H','H_f','VPD']]\n",
    "df_Comb['WUE']=df_Comb['GPP_f']/df_Comb['LE']"
   ]
  },
  {
   "cell_type": "code",
   "execution_count": null,
   "id": "3d805f95-52a9-443a-804d-70cec7c64868",
   "metadata": {},
   "outputs": [],
   "source": [
    "df_Comb"
   ]
  },
  {
   "cell_type": "code",
   "execution_count": null,
   "id": "d1423f43-cd7a-462a-8049-e012cf502b31",
   "metadata": {},
   "outputs": [],
   "source": [
    "#df_Comb\n",
    "st='2014-11-20 23:00'\n",
    "ed='2014-11-21 02:00'\n",
    "df_Comb.loc[st:ed,'WUE'].plot()\n",
    "df_Comb.loc[st:ed,'LE'].plot()\n",
    "df_Comb.loc[st:ed,'GPP_f'].plot()\n",
    "print('GPP: ',df_Comb.loc[st:ed,'GPP_f'])\n",
    "print('LE: ',df_Comb.loc[st:ed,'LE'])\n"
   ]
  },
  {
   "cell_type": "code",
   "execution_count": null,
   "id": "530dbbfd-5e50-44db-b5e7-487f118338ee",
   "metadata": {},
   "outputs": [],
   "source": [
    "#import seaborn as sns\n",
    "\n",
    "#ax = sns.histplot(data= df_Comb['WUE'])\n",
    "#ax = df_Comb['WUE'].hist(bins=100)\n",
    "#ax.set_xlim(-500,500)"
   ]
  },
  {
   "cell_type": "code",
   "execution_count": null,
   "id": "63533e1a-5053-4d69-a389-76e399104735",
   "metadata": {},
   "outputs": [],
   "source": [
    "ax = df_Comb['WUE'].plot()\n",
    "ax.set_ylim(-50,50)"
   ]
  },
  {
   "cell_type": "markdown",
   "id": "5e8db01e-01da-4c0f-a404-e54eca132d28",
   "metadata": {},
   "source": [
    "### end of import data"
   ]
  },
  {
   "cell_type": "markdown",
   "id": "9f20ea39-8336-4d08-972c-16887b271130",
   "metadata": {},
   "source": [
    "### WUE calculation"
   ]
  },
  {
   "cell_type": "code",
   "execution_count": null,
   "id": "a0b7c2a9-aa18-4a5d-86d8-1184bc482d91",
   "metadata": {},
   "outputs": [],
   "source": [
    "# 1: select days for which we have all LE and GPP for daytime (8am to 8pm)\n",
    "count_LE = df_Comb.loc[:,'LE'].between_time('09:00','18:00').resample('D').count()\n",
    "amount_LE=count_LE.loc[count_LE==19].count()\n",
    "print('amount of days that have 19 entries for 09:00-18:00 - ',amount_LE)\n",
    "any_count_LE = df_Comb.loc[:,'LE'].resample('D').count()\n",
    "any_amount_LE=any_count_LE.loc[any_count_LE!=0].count()\n",
    "print('amount of days that have any amount of entries for 00:00-23:30 - ',any_amount_LE)"
   ]
  },
  {
   "cell_type": "code",
   "execution_count": null,
   "id": "a17fdd3d-fe1f-4c84-ba38-63f98579eb42",
   "metadata": {},
   "outputs": [],
   "source": [
    "# 1: same for LE_f(gapfilled)\n",
    "count_LE_f = df_Comb.loc[:,'LE_f'].between_time('09:00','18:00').resample('D').count()\n",
    "amount_LE_f=count_LE_f.loc[count_LE_f==19].count()\n",
    "print('amount of days that have 19 entries for 09:00-18:00 - ',amount_LE)\n",
    "any_count_LE_f = df_Comb.loc[:,'LE_f'].resample('D').count()\n",
    "any_amount_LE_f=any_count_LE_f.loc[any_count_LE_f!=0].count()\n",
    "print('amount of days that have any amount of entries for 00:00-23:30 - ',any_amount_LE)"
   ]
  },
  {
   "cell_type": "code",
   "execution_count": null,
   "id": "d014c4a3-402b-42a8-8206-5ffd2f135351",
   "metadata": {},
   "outputs": [],
   "source": [
    "# 1: select days for which we have all LE and GPP for daytime (8am to 8pm)\n",
    "count_GPP = df_Comb.loc[:,'GPP_f'].between_time('09:00','18:00').resample('D').count()\n",
    "amount_GPP=count_GPP.loc[count_GPP==19].count()\n",
    "print('amount of days that have 19 entries for 09:00-18:00 - ',amount_GPP)\n",
    "any_count_GPP = df_Comb.loc[:,'GPP_f'].resample('D').count()\n",
    "any_amount_GPP=any_count_GPP.loc[any_count_GPP!=0].count()\n",
    "print('amount of days that have any amount of entries for 00:00-23:30 - ',any_amount_GPP)"
   ]
  },
  {
   "cell_type": "code",
   "execution_count": null,
   "id": "e9b2a5f2-3ef5-49b7-9c2b-ef7b3debda3a",
   "metadata": {},
   "outputs": [],
   "source": [
    "df_Comb_GPPLE=df_Comb.loc[:,['GPP_f','LE']].where((count_LE_f==19)&(count_GPP==19))\n",
    "df_Comb_GPPLE['GPP_sum']= df_Comb_GPPLE['GPP_f'].resample('D').sum()\n",
    "df_Comb_GPPLE['GPP_sum'].where(df_Comb_GPPLE['GPP_sum']!=0.0,np.nan,inplace=True)\n",
    "df_Comb_GPPLE['LE_sum']= df_Comb_GPPLE['LE'].resample('D').sum()\n",
    "df_Comb_GPPLE.loc[:,'LE_sum'].where(df_Comb_GPPLE['LE_sum']!=0.0,np.nan,inplace=True)\n",
    "\n",
    "df_Comb_GPPLE.dropna(how='any',inplace=True)\n",
    "df_Comb_GPPLE.loc[:,'GPP_sum'].where(df_Comb_GPPLE['GPP_sum']==0,np.NaN)\n",
    "df_Comb_GPPLE['WUE']= df_Comb_GPPLE['GPP_sum']/df_Comb_GPPLE['LE_sum']\n",
    "\n",
    "df_Comb_GPPLE.loc[:,'WUE'].plot()"
   ]
  },
  {
   "cell_type": "code",
   "execution_count": null,
   "id": "9cd4203c-9978-4a03-8f1d-01bd8749de09",
   "metadata": {},
   "outputs": [],
   "source": [
    "(df_Comb_GPPLE['GPP_sum']==0)&(df_Comb_GPPLE['LE_sum']==0)"
   ]
  },
  {
   "cell_type": "code",
   "execution_count": null,
   "id": "e0342fde-91ee-494f-a7ad-94c597bfd855",
   "metadata": {},
   "outputs": [],
   "source": [
    "count_LE.plot()"
   ]
  },
  {
   "cell_type": "code",
   "execution_count": null,
   "id": "798294f5-6409-4001-a054-4e0d8c479b3a",
   "metadata": {},
   "outputs": [],
   "source": [
    "#store data for heatmap\n",
    "#fun little sideproject [WIP]\n",
    "#df_Comb['entries_LE'] = df_Comb.loc[:,'LE'].between_time('09:00','18:00').resample('D').count()\n",
    "#df_Comb['entries_GPP'] = df_Comb.loc[:,'LE'].between_time('09:00','18:00').resample('D').count()\n",
    "df_Comb['flag_amount_LE'] = 0\n",
    "df_Comb['flag_amount_GPP'] = 0\n",
    "df_Comb['flag_amount_both'] = 0\n",
    "df_Comb['flag_amount_LE'] = df_Comb.loc[:,'LE'].between_time('09:00','18:00').resample('D').count().where(count_LE==19,1)\n",
    "df_Comb['flag_amount_GPP'] = df_Comb.loc[:,'GPP'].between_time('09:00','18:00').resample('D').count().where(count_GPP==19,1)\n",
    "df_Comb['flag_amount_both'] = w"
   ]
  },
  {
   "cell_type": "code",
   "execution_count": null,
   "id": "590f2eef-ced7-44fc-810d-1cd472cd520e",
   "metadata": {},
   "outputs": [],
   "source": [
    "# 2: integrate over the day GPP and LE\n",
    "# 3: wue = GP/ET\n"
   ]
  },
  {
   "cell_type": "code",
   "execution_count": null,
   "id": "4b68ec55-a6cc-4c48-a0ac-b5e5b4ba680d",
   "metadata": {},
   "outputs": [],
   "source": [
    "# lets make a heatmap\n",
    "sns.heatmap()"
   ]
  },
  {
   "cell_type": "markdown",
   "id": "59cd0318-3b66-4e19-b74e-144ab1b9e516",
   "metadata": {},
   "source": [
    "### sapflow: top5%"
   ]
  },
  {
   "cell_type": "code",
   "execution_count": null,
   "id": "a1432701-f17e-4bb2-8157-d1f49b451325",
   "metadata": {},
   "outputs": [],
   "source": [
    "Sapf_data['Jt_mean'].plot.hist()"
   ]
  },
  {
   "cell_type": "code",
   "execution_count": null,
   "id": "f5eaa1ff-70bc-4744-922a-c9a3f7919d74",
   "metadata": {},
   "outputs": [],
   "source": [
    "sap_95quan=Sapf_data['Jt_mean'].quantile(q=0.95) #top 5% quantile is above....\n",
    "print(sap_95quan)"
   ]
  },
  {
   "cell_type": "code",
   "execution_count": null,
   "id": "747571ec-38ff-43e7-976d-fb06cab5c712",
   "metadata": {},
   "outputs": [],
   "source": [
    "Sapf_top5=Sapf_data.loc[:,['Jt_mean']].loc[Sapf_data['Jt_mean']>=sap_95quan]\n",
    "Sapf_top5"
   ]
  },
  {
   "cell_type": "code",
   "execution_count": null,
   "id": "6c33218d-502d-484e-a564-24d0da3eed52",
   "metadata": {},
   "outputs": [],
   "source": [
    "Sapf_top5.plot()"
   ]
  },
  {
   "cell_type": "code",
   "execution_count": null,
   "id": "a6378f3b-1caf-4b40-879b-40449259ff18",
   "metadata": {},
   "outputs": [],
   "source": [
    "Sapf_top5.boxplot()"
   ]
  },
  {
   "cell_type": "code",
   "execution_count": null,
   "id": "7a314630-2cc1-4320-a13a-c2611cdce73d",
   "metadata": {},
   "outputs": [],
   "source": []
  }
 ],
 "metadata": {
  "kernelspec": {
   "display_name": "Python 3 (ipykernel)",
   "language": "python",
   "name": "python3"
  },
  "language_info": {
   "codemirror_mode": {
    "name": "ipython",
    "version": 3
   },
   "file_extension": ".py",
   "mimetype": "text/x-python",
   "name": "python",
   "nbconvert_exporter": "python",
   "pygments_lexer": "ipython3",
   "version": "3.11.5"
  }
 },
 "nbformat": 4,
 "nbformat_minor": 5
}
